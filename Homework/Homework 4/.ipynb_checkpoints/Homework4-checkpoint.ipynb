{
 "cells": [
  {
   "cell_type": "markdown",
   "id": "controlling-jones",
   "metadata": {},
   "source": [
    "## Homework 4: Linear models"
   ]
  },
  {
   "cell_type": "markdown",
   "id": "bizarre-glasgow",
   "metadata": {},
   "source": [
    "In this homework you will get more practice in combining data from different sources and in fitting a linear regression model in order to understand the relationship betweem various properties of words and the speed with which people can recognize them.\n",
    "\n",
    "We will be using the files `ldt_trials.csv` and `word_properties.csv` in the `data` folder. These files contain lexical decision reaction times for each participant and each word (`ldt_trials.csv`) and information about various word properties such as word length, word frequency, concreteness and emotional valence (`word_properties.csv`). These data were obtained from the English Lexicon Project: https://elexicon.wustl.edu/index.html\n",
    "\n",
    "Your main goal for this homework is to understand how reaction times to recognize a word vary as a function of each of these word properties."
   ]
  },
  {
   "cell_type": "markdown",
   "id": "former-entity",
   "metadata": {},
   "source": [
    "#### Part 1: Loading and organizing the data\n",
    "\n",
    "Since the reaction times and the word properties are stored in different files, you will have to load them separately, then combine them before analyzing the data. The `ldt_trials.csv` file is in tidy format and each row contains RTs in response to a particular word for a particular participants. The `word_properties.csv` file contains one row per word listing its various properties in columns.\n",
    "\n",
    "First, load the two datasets. Use the `str`, `heads` and `summary` commands for each dataset in order to understand how they are structured:"
   ]
  },
  {
   "cell_type": "code",
   "execution_count": 21,
   "id": "prompt-package",
   "metadata": {
    "scrolled": false
   },
   "outputs": [
    {
     "data": {
      "text/html": [
       "<table class=\"dataframe\">\n",
       "<caption>A data.frame: 6 × 8</caption>\n",
       "<thead>\n",
       "\t<tr><th></th><th scope=col>Sub_ID</th><th scope=col>Trial</th><th scope=col>Type</th><th scope=col>D_Accuracy</th><th scope=col>D_RT</th><th scope=col>D_word</th><th scope=col>Outlier</th><th scope=col>D_Zscore</th></tr>\n",
       "\t<tr><th></th><th scope=col>&lt;int&gt;</th><th scope=col>&lt;int&gt;</th><th scope=col>&lt;int&gt;</th><th scope=col>&lt;int&gt;</th><th scope=col>&lt;int&gt;</th><th scope=col>&lt;chr&gt;</th><th scope=col>&lt;int&gt;</th><th scope=col>&lt;dbl&gt;</th></tr>\n",
       "</thead>\n",
       "<tbody>\n",
       "\t<tr><th scope=row>1</th><td>85</td><td>83</td><td>0</td><td>1</td><td> 796</td><td>pisect      </td><td>0</td><td> 0.053086</td></tr>\n",
       "\t<tr><th scope=row>2</th><td>85</td><td>84</td><td>1</td><td>1</td><td>1056</td><td>hindquarters</td><td>0</td><td> 0.973239</td></tr>\n",
       "\t<tr><th scope=row>3</th><td>85</td><td>85</td><td>1</td><td>1</td><td> 541</td><td>healthy     </td><td>0</td><td>-0.849372</td></tr>\n",
       "\t<tr><th scope=row>4</th><td>85</td><td>86</td><td>1</td><td>1</td><td>1215</td><td>loony       </td><td>0</td><td> 1.535949</td></tr>\n",
       "\t<tr><th scope=row>5</th><td>85</td><td>87</td><td>1</td><td>1</td><td> 587</td><td>seahorse    </td><td>0</td><td>-0.686576</td></tr>\n",
       "\t<tr><th scope=row>6</th><td>85</td><td>88</td><td>1</td><td>0</td><td>1072</td><td>abysmal     </td><td>0</td><td> 1.029864</td></tr>\n",
       "</tbody>\n",
       "</table>\n"
      ],
      "text/latex": [
       "A data.frame: 6 × 8\n",
       "\\begin{tabular}{r|llllllll}\n",
       "  & Sub\\_ID & Trial & Type & D\\_Accuracy & D\\_RT & D\\_word & Outlier & D\\_Zscore\\\\\n",
       "  & <int> & <int> & <int> & <int> & <int> & <chr> & <int> & <dbl>\\\\\n",
       "\\hline\n",
       "\t1 & 85 & 83 & 0 & 1 &  796 & pisect       & 0 &  0.053086\\\\\n",
       "\t2 & 85 & 84 & 1 & 1 & 1056 & hindquarters & 0 &  0.973239\\\\\n",
       "\t3 & 85 & 85 & 1 & 1 &  541 & healthy      & 0 & -0.849372\\\\\n",
       "\t4 & 85 & 86 & 1 & 1 & 1215 & loony        & 0 &  1.535949\\\\\n",
       "\t5 & 85 & 87 & 1 & 1 &  587 & seahorse     & 0 & -0.686576\\\\\n",
       "\t6 & 85 & 88 & 1 & 0 & 1072 & abysmal      & 0 &  1.029864\\\\\n",
       "\\end{tabular}\n"
      ],
      "text/markdown": [
       "\n",
       "A data.frame: 6 × 8\n",
       "\n",
       "| <!--/--> | Sub_ID &lt;int&gt; | Trial &lt;int&gt; | Type &lt;int&gt; | D_Accuracy &lt;int&gt; | D_RT &lt;int&gt; | D_word &lt;chr&gt; | Outlier &lt;int&gt; | D_Zscore &lt;dbl&gt; |\n",
       "|---|---|---|---|---|---|---|---|---|\n",
       "| 1 | 85 | 83 | 0 | 1 |  796 | pisect       | 0 |  0.053086 |\n",
       "| 2 | 85 | 84 | 1 | 1 | 1056 | hindquarters | 0 |  0.973239 |\n",
       "| 3 | 85 | 85 | 1 | 1 |  541 | healthy      | 0 | -0.849372 |\n",
       "| 4 | 85 | 86 | 1 | 1 | 1215 | loony        | 0 |  1.535949 |\n",
       "| 5 | 85 | 87 | 1 | 1 |  587 | seahorse     | 0 | -0.686576 |\n",
       "| 6 | 85 | 88 | 1 | 0 | 1072 | abysmal      | 0 |  1.029864 |\n",
       "\n"
      ],
      "text/plain": [
       "  Sub_ID Trial Type D_Accuracy D_RT D_word       Outlier D_Zscore \n",
       "1 85     83    0    1           796 pisect       0        0.053086\n",
       "2 85     84    1    1          1056 hindquarters 0        0.973239\n",
       "3 85     85    1    1           541 healthy      0       -0.849372\n",
       "4 85     86    1    1          1215 loony        0        1.535949\n",
       "5 85     87    1    1           587 seahorse     0       -0.686576\n",
       "6 85     88    1    0          1072 abysmal      0        1.029864"
      ]
     },
     "metadata": {},
     "output_type": "display_data"
    },
    {
     "name": "stdout",
     "output_type": "stream",
     "text": [
      "'data.frame':\t333970 obs. of  8 variables:\n",
      " $ Sub_ID    : int  85 85 85 85 85 85 85 85 85 85 ...\n",
      " $ Trial     : int  83 84 85 86 87 88 89 90 91 92 ...\n",
      " $ Type      : int  0 1 1 1 1 1 1 0 0 0 ...\n",
      " $ D_Accuracy: int  1 1 1 1 1 0 1 1 1 0 ...\n",
      " $ D_RT      : int  796 1056 541 1215 587 1072 677 1109 2014 1361 ...\n",
      " $ D_word    : chr  \"pisect\" \"hindquarters\" \"healthy\" \"loony\" ...\n",
      " $ Outlier   : int  0 0 0 0 0 0 0 0 1 0 ...\n",
      " $ D_Zscore  : num  0.0531 0.9732 -0.8494 1.5359 -0.6866 ...\n"
     ]
    },
    {
     "data": {
      "text/plain": [
       "     Sub_ID           Trial           Type       D_Accuracy      \n",
       " Min.   :  1.00   Min.   :   1   Min.   :0.0   Min.   :  0.0000  \n",
       " 1st Qu.: 26.00   1st Qu.: 844   1st Qu.:0.0   1st Qu.:  1.0000  \n",
       " Median : 51.00   Median :1687   Median :0.5   Median :  1.0000  \n",
       " Mean   : 50.91   Mean   :1687   Mean   :0.5   Mean   :  0.8688  \n",
       " 3rd Qu.: 76.00   3rd Qu.:2531   3rd Qu.:1.0   3rd Qu.:  1.0000  \n",
       " Max.   :100.00   Max.   :3374   Max.   :1.0   Max.   :120.0000  \n",
       "      D_RT           D_word             Outlier           D_Zscore      \n",
       " Min.   :   1.0   Length:333970      Min.   :0.00000   Min.   :-4.0400  \n",
       " 1st Qu.: 619.0   Class :character   1st Qu.:0.00000   1st Qu.:-0.5500  \n",
       " Median : 771.0   Mode  :character   Median :0.00000   Median :-0.0793  \n",
       " Mean   : 907.5                      Mean   :0.03758   Mean   : 0.2139  \n",
       " 3rd Qu.:1045.0                      3rd Qu.:0.00000   3rd Qu.: 0.6632  \n",
       " Max.   :4000.0                      Max.   :1.00000   Max.   :19.1251  "
      ]
     },
     "metadata": {},
     "output_type": "display_data"
    },
    {
     "data": {
      "text/html": [
       "<table class=\"dataframe\">\n",
       "<caption>A data.frame: 6 × 5</caption>\n",
       "<thead>\n",
       "\t<tr><th></th><th scope=col>Word</th><th scope=col>Length</th><th scope=col>SUBTLWF</th><th scope=col>Concreteness_Rating</th><th scope=col>Emotional_Valence</th></tr>\n",
       "\t<tr><th></th><th scope=col>&lt;chr&gt;</th><th scope=col>&lt;int&gt;</th><th scope=col>&lt;dbl&gt;</th><th scope=col>&lt;dbl&gt;</th><th scope=col>&lt;dbl&gt;</th></tr>\n",
       "</thead>\n",
       "<tbody>\n",
       "\t<tr><th scope=row>1</th><td>abandon  </td><td>7</td><td> 8.10</td><td>2.54</td><td>2.84</td></tr>\n",
       "\t<tr><th scope=row>2</th><td>abdomen  </td><td>7</td><td> 3.35</td><td>4.70</td><td>5.43</td></tr>\n",
       "\t<tr><th scope=row>3</th><td>abdominal</td><td>9</td><td> 3.41</td><td>4.28</td><td>4.48</td></tr>\n",
       "\t<tr><th scope=row>4</th><td>abduction</td><td>9</td><td> 3.63</td><td>3.07</td><td>2.05</td></tr>\n",
       "\t<tr><th scope=row>5</th><td>abide    </td><td>5</td><td> 2.71</td><td>1.68</td><td>5.52</td></tr>\n",
       "\t<tr><th scope=row>6</th><td>ability  </td><td>7</td><td>19.22</td><td>1.81</td><td>7.00</td></tr>\n",
       "</tbody>\n",
       "</table>\n"
      ],
      "text/latex": [
       "A data.frame: 6 × 5\n",
       "\\begin{tabular}{r|lllll}\n",
       "  & Word & Length & SUBTLWF & Concreteness\\_Rating & Emotional\\_Valence\\\\\n",
       "  & <chr> & <int> & <dbl> & <dbl> & <dbl>\\\\\n",
       "\\hline\n",
       "\t1 & abandon   & 7 &  8.10 & 2.54 & 2.84\\\\\n",
       "\t2 & abdomen   & 7 &  3.35 & 4.70 & 5.43\\\\\n",
       "\t3 & abdominal & 9 &  3.41 & 4.28 & 4.48\\\\\n",
       "\t4 & abduction & 9 &  3.63 & 3.07 & 2.05\\\\\n",
       "\t5 & abide     & 5 &  2.71 & 1.68 & 5.52\\\\\n",
       "\t6 & ability   & 7 & 19.22 & 1.81 & 7.00\\\\\n",
       "\\end{tabular}\n"
      ],
      "text/markdown": [
       "\n",
       "A data.frame: 6 × 5\n",
       "\n",
       "| <!--/--> | Word &lt;chr&gt; | Length &lt;int&gt; | SUBTLWF &lt;dbl&gt; | Concreteness_Rating &lt;dbl&gt; | Emotional_Valence &lt;dbl&gt; |\n",
       "|---|---|---|---|---|---|\n",
       "| 1 | abandon   | 7 |  8.10 | 2.54 | 2.84 |\n",
       "| 2 | abdomen   | 7 |  3.35 | 4.70 | 5.43 |\n",
       "| 3 | abdominal | 9 |  3.41 | 4.28 | 4.48 |\n",
       "| 4 | abduction | 9 |  3.63 | 3.07 | 2.05 |\n",
       "| 5 | abide     | 5 |  2.71 | 1.68 | 5.52 |\n",
       "| 6 | ability   | 7 | 19.22 | 1.81 | 7.00 |\n",
       "\n"
      ],
      "text/plain": [
       "  Word      Length SUBTLWF Concreteness_Rating Emotional_Valence\n",
       "1 abandon   7       8.10   2.54                2.84             \n",
       "2 abdomen   7       3.35   4.70                5.43             \n",
       "3 abdominal 9       3.41   4.28                4.48             \n",
       "4 abduction 9       3.63   3.07                2.05             \n",
       "5 abide     5       2.71   1.68                5.52             \n",
       "6 ability   7      19.22   1.81                7.00             "
      ]
     },
     "metadata": {},
     "output_type": "display_data"
    },
    {
     "name": "stdout",
     "output_type": "stream",
     "text": [
      "'data.frame':\t8710 obs. of  5 variables:\n",
      " $ Word               : chr  \"abandon\" \"abdomen\" \"abdominal\" \"abduction\" ...\n",
      " $ Length             : int  7 7 9 9 5 7 4 8 5 8 ...\n",
      " $ SUBTLWF            : num  8.1 3.35 3.41 3.63 2.71 ...\n",
      " $ Concreteness_Rating: num  2.54 4.7 4.28 3.07 1.68 1.81 2.38 2.14 2.83 3.41 ...\n",
      " $ Emotional_Valence  : num  2.84 5.43 4.48 2.05 5.52 7 6.64 3.53 3.1 2.58 ...\n"
     ]
    },
    {
     "data": {
      "text/plain": [
       "     Word               Length          SUBTLWF        Concreteness_Rating\n",
       " Length:8710        Min.   : 2.000   Min.   :   1.00   Min.   :1.120      \n",
       " Class :character   1st Qu.: 5.000   1st Qu.:   1.76   1st Qu.:2.410      \n",
       " Mode  :character   Median : 7.000   Median :   3.86   Median :3.400      \n",
       "                    Mean   : 6.854   Mean   :  32.05   Mean   :3.384      \n",
       "                    3rd Qu.: 8.000   3rd Qu.:  12.10   3rd Qu.:4.380      \n",
       "                    Max.   :14.000   Max.   :6161.41   Max.   :5.000      \n",
       " Emotional_Valence\n",
       " Min.   :1.300    \n",
       " 1st Qu.:4.370    \n",
       " Median :5.320    \n",
       " Mean   :5.165    \n",
       " 3rd Qu.:6.100    \n",
       " Max.   :8.530    "
      ]
     },
     "metadata": {},
     "output_type": "display_data"
    }
   ],
   "source": [
    "library(tidyverse)\n",
    "\n",
    "ldt <-read.csv('data/ldt_trials.csv')\n",
    "\n",
    "word <- read.csv('data/word_properties.csv')\n",
    "\n",
    "head(ldt)\n",
    "str(ldt)\n",
    "summary(ldt)\n",
    "\n",
    "head(word)\n",
    "str(word)\n",
    "summary(word)\n",
    "\n",
    "\n"
   ]
  },
  {
   "cell_type": "markdown",
   "id": "alpha-transcript",
   "metadata": {},
   "source": [
    "We now want to merge the two datasets such that we have the properties of each word listed in every row of the `ldt_trial.csv`. Use the `left_join()` command from the `tidyverse` package to join the two datasets. You have to specify which column you are mergin by. In this case, the columns `Word` in the `word_properties` dataset and the column `D_word` in the `ldt_trials` dataset should be used for the merging (hint: read the documentation of the `left_join()` function to understand how the `by=c()` argument works). Join the two datasets by the respective columns and save the output in a new variable:"
   ]
  },
  {
   "cell_type": "code",
   "execution_count": 23,
   "id": "incredible-testimony",
   "metadata": {
    "scrolled": true
   },
   "outputs": [
    {
     "data": {
      "text/html": [
       "<table class=\"dataframe\">\n",
       "<caption>A data.frame: 6 × 12</caption>\n",
       "<thead>\n",
       "\t<tr><th></th><th scope=col>Sub_ID</th><th scope=col>Trial</th><th scope=col>Type</th><th scope=col>D_Accuracy</th><th scope=col>D_RT</th><th scope=col>D_word</th><th scope=col>Outlier</th><th scope=col>D_Zscore</th><th scope=col>Length</th><th scope=col>SUBTLWF</th><th scope=col>Concreteness_Rating</th><th scope=col>Emotional_Valence</th></tr>\n",
       "\t<tr><th></th><th scope=col>&lt;int&gt;</th><th scope=col>&lt;int&gt;</th><th scope=col>&lt;int&gt;</th><th scope=col>&lt;int&gt;</th><th scope=col>&lt;int&gt;</th><th scope=col>&lt;chr&gt;</th><th scope=col>&lt;int&gt;</th><th scope=col>&lt;dbl&gt;</th><th scope=col>&lt;int&gt;</th><th scope=col>&lt;dbl&gt;</th><th scope=col>&lt;dbl&gt;</th><th scope=col>&lt;dbl&gt;</th></tr>\n",
       "</thead>\n",
       "<tbody>\n",
       "\t<tr><th scope=row>1</th><td>85</td><td>83</td><td>0</td><td>1</td><td> 796</td><td>pisect      </td><td>0</td><td> 0.053086</td><td>NA</td><td>   NA</td><td>  NA</td><td>  NA</td></tr>\n",
       "\t<tr><th scope=row>2</th><td>85</td><td>84</td><td>1</td><td>1</td><td>1056</td><td>hindquarters</td><td>0</td><td> 0.973239</td><td>NA</td><td>   NA</td><td>  NA</td><td>  NA</td></tr>\n",
       "\t<tr><th scope=row>3</th><td>85</td><td>85</td><td>1</td><td>1</td><td> 541</td><td>healthy     </td><td>0</td><td>-0.849372</td><td> 7</td><td>24.75</td><td>3.31</td><td>7.76</td></tr>\n",
       "\t<tr><th scope=row>4</th><td>85</td><td>86</td><td>1</td><td>1</td><td>1215</td><td>loony       </td><td>0</td><td> 1.535949</td><td> 5</td><td> 2.41</td><td>2.15</td><td>4.48</td></tr>\n",
       "\t<tr><th scope=row>5</th><td>85</td><td>87</td><td>1</td><td>1</td><td> 587</td><td>seahorse    </td><td>0</td><td>-0.686576</td><td>NA</td><td>   NA</td><td>  NA</td><td>  NA</td></tr>\n",
       "\t<tr><th scope=row>6</th><td>85</td><td>88</td><td>1</td><td>0</td><td>1072</td><td>abysmal     </td><td>0</td><td> 1.029864</td><td>NA</td><td>   NA</td><td>  NA</td><td>  NA</td></tr>\n",
       "</tbody>\n",
       "</table>\n"
      ],
      "text/latex": [
       "A data.frame: 6 × 12\n",
       "\\begin{tabular}{r|llllllllllll}\n",
       "  & Sub\\_ID & Trial & Type & D\\_Accuracy & D\\_RT & D\\_word & Outlier & D\\_Zscore & Length & SUBTLWF & Concreteness\\_Rating & Emotional\\_Valence\\\\\n",
       "  & <int> & <int> & <int> & <int> & <int> & <chr> & <int> & <dbl> & <int> & <dbl> & <dbl> & <dbl>\\\\\n",
       "\\hline\n",
       "\t1 & 85 & 83 & 0 & 1 &  796 & pisect       & 0 &  0.053086 & NA &    NA &   NA &   NA\\\\\n",
       "\t2 & 85 & 84 & 1 & 1 & 1056 & hindquarters & 0 &  0.973239 & NA &    NA &   NA &   NA\\\\\n",
       "\t3 & 85 & 85 & 1 & 1 &  541 & healthy      & 0 & -0.849372 &  7 & 24.75 & 3.31 & 7.76\\\\\n",
       "\t4 & 85 & 86 & 1 & 1 & 1215 & loony        & 0 &  1.535949 &  5 &  2.41 & 2.15 & 4.48\\\\\n",
       "\t5 & 85 & 87 & 1 & 1 &  587 & seahorse     & 0 & -0.686576 & NA &    NA &   NA &   NA\\\\\n",
       "\t6 & 85 & 88 & 1 & 0 & 1072 & abysmal      & 0 &  1.029864 & NA &    NA &   NA &   NA\\\\\n",
       "\\end{tabular}\n"
      ],
      "text/markdown": [
       "\n",
       "A data.frame: 6 × 12\n",
       "\n",
       "| <!--/--> | Sub_ID &lt;int&gt; | Trial &lt;int&gt; | Type &lt;int&gt; | D_Accuracy &lt;int&gt; | D_RT &lt;int&gt; | D_word &lt;chr&gt; | Outlier &lt;int&gt; | D_Zscore &lt;dbl&gt; | Length &lt;int&gt; | SUBTLWF &lt;dbl&gt; | Concreteness_Rating &lt;dbl&gt; | Emotional_Valence &lt;dbl&gt; |\n",
       "|---|---|---|---|---|---|---|---|---|---|---|---|---|\n",
       "| 1 | 85 | 83 | 0 | 1 |  796 | pisect       | 0 |  0.053086 | NA |    NA |   NA |   NA |\n",
       "| 2 | 85 | 84 | 1 | 1 | 1056 | hindquarters | 0 |  0.973239 | NA |    NA |   NA |   NA |\n",
       "| 3 | 85 | 85 | 1 | 1 |  541 | healthy      | 0 | -0.849372 |  7 | 24.75 | 3.31 | 7.76 |\n",
       "| 4 | 85 | 86 | 1 | 1 | 1215 | loony        | 0 |  1.535949 |  5 |  2.41 | 2.15 | 4.48 |\n",
       "| 5 | 85 | 87 | 1 | 1 |  587 | seahorse     | 0 | -0.686576 | NA |    NA |   NA |   NA |\n",
       "| 6 | 85 | 88 | 1 | 0 | 1072 | abysmal      | 0 |  1.029864 | NA |    NA |   NA |   NA |\n",
       "\n"
      ],
      "text/plain": [
       "  Sub_ID Trial Type D_Accuracy D_RT D_word       Outlier D_Zscore  Length\n",
       "1 85     83    0    1           796 pisect       0        0.053086 NA    \n",
       "2 85     84    1    1          1056 hindquarters 0        0.973239 NA    \n",
       "3 85     85    1    1           541 healthy      0       -0.849372  7    \n",
       "4 85     86    1    1          1215 loony        0        1.535949  5    \n",
       "5 85     87    1    1           587 seahorse     0       -0.686576 NA    \n",
       "6 85     88    1    0          1072 abysmal      0        1.029864 NA    \n",
       "  SUBTLWF Concreteness_Rating Emotional_Valence\n",
       "1    NA     NA                  NA             \n",
       "2    NA     NA                  NA             \n",
       "3 24.75   3.31                7.76             \n",
       "4  2.41   2.15                4.48             \n",
       "5    NA     NA                  NA             \n",
       "6    NA     NA                  NA             "
      ]
     },
     "metadata": {},
     "output_type": "display_data"
    }
   ],
   "source": [
    "joined_data <- left_join(ldt, word, by = c(\"D_word\" = \"Word\"))\n",
    "\n",
    "head(joined_data)"
   ]
  },
  {
   "cell_type": "markdown",
   "id": "approximate-meeting",
   "metadata": {},
   "source": [
    "You will notice that we do not have word characteristics for every word that the participants were tested (e.g., there are many NA values in the Length, Concreteness, etc, columns of the new merged dataset. Filter the new dataset and save it to a new variable so that the new dataset only has rows for which word characteristics are present (hint: you can use the `!is.na(column_name)` argument in the filter command to remove all rows in which `column_name` has NA values:"
   ]
  },
  {
   "cell_type": "code",
   "execution_count": 34,
   "id": "incredible-appearance",
   "metadata": {
    "scrolled": false
   },
   "outputs": [],
   "source": [
    "joined_data_filtered <- na.omit(joined_data)"
   ]
  },
  {
   "cell_type": "markdown",
   "id": "collective-campus",
   "metadata": {},
   "source": [
    "After these operations the final dataset should have 35978 rows. Use the `nrow()` command to confirm this. Use the `heads()` command to take a look at the dataset:"
   ]
  },
  {
   "cell_type": "code",
   "execution_count": 38,
   "id": "adaptive-uzbekistan",
   "metadata": {},
   "outputs": [
    {
     "data": {
      "text/html": [
       "<table class=\"dataframe\">\n",
       "<caption>A data.frame: 6 × 12</caption>\n",
       "<thead>\n",
       "\t<tr><th></th><th scope=col>Sub_ID</th><th scope=col>Trial</th><th scope=col>Type</th><th scope=col>D_Accuracy</th><th scope=col>D_RT</th><th scope=col>D_word</th><th scope=col>Outlier</th><th scope=col>D_Zscore</th><th scope=col>Length</th><th scope=col>SUBTLWF</th><th scope=col>Concreteness_Rating</th><th scope=col>Emotional_Valence</th></tr>\n",
       "\t<tr><th></th><th scope=col>&lt;int&gt;</th><th scope=col>&lt;int&gt;</th><th scope=col>&lt;int&gt;</th><th scope=col>&lt;int&gt;</th><th scope=col>&lt;int&gt;</th><th scope=col>&lt;chr&gt;</th><th scope=col>&lt;int&gt;</th><th scope=col>&lt;dbl&gt;</th><th scope=col>&lt;int&gt;</th><th scope=col>&lt;dbl&gt;</th><th scope=col>&lt;dbl&gt;</th><th scope=col>&lt;dbl&gt;</th></tr>\n",
       "</thead>\n",
       "<tbody>\n",
       "\t<tr><th scope=row>3</th><td>85</td><td> 85</td><td>1</td><td>1</td><td> 541</td><td>healthy </td><td>0</td><td>-0.849372</td><td>7</td><td>24.75</td><td>3.31</td><td>7.76</td></tr>\n",
       "\t<tr><th scope=row>4</th><td>85</td><td> 86</td><td>1</td><td>1</td><td>1215</td><td>loony   </td><td>0</td><td> 1.535949</td><td>5</td><td> 2.41</td><td>2.15</td><td>4.48</td></tr>\n",
       "\t<tr><th scope=row>7</th><td>85</td><td> 89</td><td>1</td><td>1</td><td> 677</td><td>cart    </td><td>0</td><td>-0.368061</td><td>4</td><td> 9.04</td><td>4.89</td><td>5.37</td></tr>\n",
       "\t<tr><th scope=row>18</th><td>85</td><td>100</td><td>1</td><td>1</td><td> 659</td><td>blunt   </td><td>0</td><td>-0.431764</td><td>5</td><td> 4.90</td><td>3.07</td><td>4.65</td></tr>\n",
       "\t<tr><th scope=row>19</th><td>85</td><td>101</td><td>1</td><td>1</td><td> 532</td><td>thousand</td><td>0</td><td>-0.881224</td><td>8</td><td>69.29</td><td>3.08</td><td>6.44</td></tr>\n",
       "\t<tr><th scope=row>29</th><td>85</td><td>111</td><td>1</td><td>1</td><td> 597</td><td>lyrics  </td><td>0</td><td>-0.651186</td><td>6</td><td> 5.08</td><td>3.86</td><td>6.42</td></tr>\n",
       "</tbody>\n",
       "</table>\n"
      ],
      "text/latex": [
       "A data.frame: 6 × 12\n",
       "\\begin{tabular}{r|llllllllllll}\n",
       "  & Sub\\_ID & Trial & Type & D\\_Accuracy & D\\_RT & D\\_word & Outlier & D\\_Zscore & Length & SUBTLWF & Concreteness\\_Rating & Emotional\\_Valence\\\\\n",
       "  & <int> & <int> & <int> & <int> & <int> & <chr> & <int> & <dbl> & <int> & <dbl> & <dbl> & <dbl>\\\\\n",
       "\\hline\n",
       "\t3 & 85 &  85 & 1 & 1 &  541 & healthy  & 0 & -0.849372 & 7 & 24.75 & 3.31 & 7.76\\\\\n",
       "\t4 & 85 &  86 & 1 & 1 & 1215 & loony    & 0 &  1.535949 & 5 &  2.41 & 2.15 & 4.48\\\\\n",
       "\t7 & 85 &  89 & 1 & 1 &  677 & cart     & 0 & -0.368061 & 4 &  9.04 & 4.89 & 5.37\\\\\n",
       "\t18 & 85 & 100 & 1 & 1 &  659 & blunt    & 0 & -0.431764 & 5 &  4.90 & 3.07 & 4.65\\\\\n",
       "\t19 & 85 & 101 & 1 & 1 &  532 & thousand & 0 & -0.881224 & 8 & 69.29 & 3.08 & 6.44\\\\\n",
       "\t29 & 85 & 111 & 1 & 1 &  597 & lyrics   & 0 & -0.651186 & 6 &  5.08 & 3.86 & 6.42\\\\\n",
       "\\end{tabular}\n"
      ],
      "text/markdown": [
       "\n",
       "A data.frame: 6 × 12\n",
       "\n",
       "| <!--/--> | Sub_ID &lt;int&gt; | Trial &lt;int&gt; | Type &lt;int&gt; | D_Accuracy &lt;int&gt; | D_RT &lt;int&gt; | D_word &lt;chr&gt; | Outlier &lt;int&gt; | D_Zscore &lt;dbl&gt; | Length &lt;int&gt; | SUBTLWF &lt;dbl&gt; | Concreteness_Rating &lt;dbl&gt; | Emotional_Valence &lt;dbl&gt; |\n",
       "|---|---|---|---|---|---|---|---|---|---|---|---|---|\n",
       "| 3 | 85 |  85 | 1 | 1 |  541 | healthy  | 0 | -0.849372 | 7 | 24.75 | 3.31 | 7.76 |\n",
       "| 4 | 85 |  86 | 1 | 1 | 1215 | loony    | 0 |  1.535949 | 5 |  2.41 | 2.15 | 4.48 |\n",
       "| 7 | 85 |  89 | 1 | 1 |  677 | cart     | 0 | -0.368061 | 4 |  9.04 | 4.89 | 5.37 |\n",
       "| 18 | 85 | 100 | 1 | 1 |  659 | blunt    | 0 | -0.431764 | 5 |  4.90 | 3.07 | 4.65 |\n",
       "| 19 | 85 | 101 | 1 | 1 |  532 | thousand | 0 | -0.881224 | 8 | 69.29 | 3.08 | 6.44 |\n",
       "| 29 | 85 | 111 | 1 | 1 |  597 | lyrics   | 0 | -0.651186 | 6 |  5.08 | 3.86 | 6.42 |\n",
       "\n"
      ],
      "text/plain": [
       "   Sub_ID Trial Type D_Accuracy D_RT D_word   Outlier D_Zscore  Length SUBTLWF\n",
       "3  85      85   1    1           541 healthy  0       -0.849372 7      24.75  \n",
       "4  85      86   1    1          1215 loony    0        1.535949 5       2.41  \n",
       "7  85      89   1    1           677 cart     0       -0.368061 4       9.04  \n",
       "18 85     100   1    1           659 blunt    0       -0.431764 5       4.90  \n",
       "19 85     101   1    1           532 thousand 0       -0.881224 8      69.29  \n",
       "29 85     111   1    1           597 lyrics   0       -0.651186 6       5.08  \n",
       "   Concreteness_Rating Emotional_Valence\n",
       "3  3.31                7.76             \n",
       "4  2.15                4.48             \n",
       "7  4.89                5.37             \n",
       "18 3.07                4.65             \n",
       "19 3.08                6.44             \n",
       "29 3.86                6.42             "
      ]
     },
     "metadata": {},
     "output_type": "display_data"
    },
    {
     "name": "stdout",
     "output_type": "stream",
     "text": [
      "'data.frame':\t35978 obs. of  12 variables:\n",
      " $ Sub_ID             : int  85 85 85 85 85 85 85 85 85 85 ...\n",
      " $ Trial              : int  85 86 89 100 101 111 119 121 124 126 ...\n",
      " $ Type               : int  1 1 1 1 1 1 1 1 1 1 ...\n",
      " $ D_Accuracy         : int  1 1 1 1 1 1 1 1 1 1 ...\n",
      " $ D_RT               : int  541 1215 677 659 532 597 611 886 483 473 ...\n",
      " $ D_word             : chr  \"healthy\" \"loony\" \"cart\" \"blunt\" ...\n",
      " $ Outlier            : int  0 0 0 0 0 0 0 0 0 0 ...\n",
      " $ D_Zscore           : num  -0.849 1.536 -0.368 -0.432 -0.881 ...\n",
      " $ Length             : int  7 5 4 5 8 6 7 7 5 5 ...\n",
      " $ SUBTLWF            : num  24.75 2.41 9.04 4.9 69.29 ...\n",
      " $ Concreteness_Rating: num  3.31 2.15 4.89 3.07 3.08 3.86 4.48 4.93 4.67 2.41 ...\n",
      " $ Emotional_Valence  : num  7.76 4.48 5.37 4.65 6.44 6.42 4.65 6.21 6 6.39 ...\n",
      " - attr(*, \"na.action\")= 'omit' Named int [1:297992] 1 2 5 6 8 9 10 11 12 13 ...\n",
      "  ..- attr(*, \"names\")= chr [1:297992] \"1\" \"2\" \"5\" \"6\" ...\n"
     ]
    },
    {
     "data": {
      "text/html": [
       "35978"
      ],
      "text/latex": [
       "35978"
      ],
      "text/markdown": [
       "35978"
      ],
      "text/plain": [
       "[1] 35978"
      ]
     },
     "metadata": {},
     "output_type": "display_data"
    }
   ],
   "source": [
    "head(joined_data_filtered)\n",
    "str(joined_data_filtered)\n",
    "nrow(joined_data_filtered)"
   ]
  },
  {
   "cell_type": "markdown",
   "id": "contrary-pearl",
   "metadata": {},
   "source": [
    "The column `Sub_ID` contains the ID number for the different participants. How many participants are there in this experiment? (hint: you can combine the `unique()` and `length()` commands to answer this question):"
   ]
  },
  {
   "cell_type": "code",
   "execution_count": 41,
   "id": "pointed-syndicate",
   "metadata": {},
   "outputs": [
    {
     "data": {
      "text/html": [
       "<style>\n",
       ".dl-inline {width: auto; margin:0; padding: 0}\n",
       ".dl-inline>dt, .dl-inline>dd {float: none; width: auto; display: inline-block}\n",
       ".dl-inline>dt::after {content: \":\\0020\"; padding-right: .5ex}\n",
       ".dl-inline>dt:not(:first-of-type) {padding-left: .5ex}\n",
       "</style><dl class=dl-inline><dt>Sub_ID</dt><dd>99</dd><dt>Trial</dt><dd>3374</dd><dt>Type</dt><dd>1</dd><dt>D_Accuracy</dt><dd>6</dd><dt>D_RT</dt><dd>2236</dd><dt>D_word</dt><dd>8710</dd><dt>Outlier</dt><dd>2</dd><dt>D_Zscore</dt><dd>26476</dd><dt>Length</dt><dd>13</dd><dt>SUBTLWF</dt><dd>2175</dd><dt>Concreteness_Rating</dt><dd>351</dd><dt>Emotional_Valence</dt><dd>590</dd></dl>\n"
      ],
      "text/latex": [
       "\\begin{description*}\n",
       "\\item[Sub\\textbackslash{}\\_ID] 99\n",
       "\\item[Trial] 3374\n",
       "\\item[Type] 1\n",
       "\\item[D\\textbackslash{}\\_Accuracy] 6\n",
       "\\item[D\\textbackslash{}\\_RT] 2236\n",
       "\\item[D\\textbackslash{}\\_word] 8710\n",
       "\\item[Outlier] 2\n",
       "\\item[D\\textbackslash{}\\_Zscore] 26476\n",
       "\\item[Length] 13\n",
       "\\item[SUBTLWF] 2175\n",
       "\\item[Concreteness\\textbackslash{}\\_Rating] 351\n",
       "\\item[Emotional\\textbackslash{}\\_Valence] 590\n",
       "\\end{description*}\n"
      ],
      "text/markdown": [
       "Sub_ID\n",
       ":   99Trial\n",
       ":   3374Type\n",
       ":   1D_Accuracy\n",
       ":   6D_RT\n",
       ":   2236D_word\n",
       ":   8710Outlier\n",
       ":   2D_Zscore\n",
       ":   26476Length\n",
       ":   13SUBTLWF\n",
       ":   2175Concreteness_Rating\n",
       ":   351Emotional_Valence\n",
       ":   590\n",
       "\n"
      ],
      "text/plain": [
       "             Sub_ID               Trial                Type          D_Accuracy \n",
       "                 99                3374                   1                   6 \n",
       "               D_RT              D_word             Outlier            D_Zscore \n",
       "               2236                8710                   2               26476 \n",
       "             Length             SUBTLWF Concreteness_Rating   Emotional_Valence \n",
       "                 13                2175                 351                 590 "
      ]
     },
     "metadata": {},
     "output_type": "display_data"
    }
   ],
   "source": [
    "sapply(joined_data_filtered, function(x) length(unique(x)))\n",
    "       \n",
    "#There are 99 participants"
   ]
  },
  {
   "cell_type": "markdown",
   "id": "hungry-sperm",
   "metadata": {},
   "source": [
    "On average, how many observations are there for each participant? Calculate the mean and standard deviation of the number of observations per participant using the `group_by()` and `summarize()` commands:"
   ]
  },
  {
   "cell_type": "code",
   "execution_count": 69,
   "id": "connected-sarah",
   "metadata": {
    "scrolled": true
   },
   "outputs": [
    {
     "data": {
      "text/html": [
       "<table class=\"dataframe\">\n",
       "<caption>A tibble: 6 × 2</caption>\n",
       "<thead>\n",
       "\t<tr><th scope=col>Sub_ID</th><th scope=col>observations</th></tr>\n",
       "\t<tr><th scope=col>&lt;int&gt;</th><th scope=col>&lt;int&gt;</th></tr>\n",
       "</thead>\n",
       "<tbody>\n",
       "\t<tr><td>1</td><td>360</td></tr>\n",
       "\t<tr><td>2</td><td>352</td></tr>\n",
       "\t<tr><td>3</td><td>374</td></tr>\n",
       "\t<tr><td>4</td><td>392</td></tr>\n",
       "\t<tr><td>5</td><td>347</td></tr>\n",
       "\t<tr><td>6</td><td>381</td></tr>\n",
       "</tbody>\n",
       "</table>\n"
      ],
      "text/latex": [
       "A tibble: 6 × 2\n",
       "\\begin{tabular}{ll}\n",
       " Sub\\_ID & observations\\\\\n",
       " <int> & <int>\\\\\n",
       "\\hline\n",
       "\t 1 & 360\\\\\n",
       "\t 2 & 352\\\\\n",
       "\t 3 & 374\\\\\n",
       "\t 4 & 392\\\\\n",
       "\t 5 & 347\\\\\n",
       "\t 6 & 381\\\\\n",
       "\\end{tabular}\n"
      ],
      "text/markdown": [
       "\n",
       "A tibble: 6 × 2\n",
       "\n",
       "| Sub_ID &lt;int&gt; | observations &lt;int&gt; |\n",
       "|---|---|\n",
       "| 1 | 360 |\n",
       "| 2 | 352 |\n",
       "| 3 | 374 |\n",
       "| 4 | 392 |\n",
       "| 5 | 347 |\n",
       "| 6 | 381 |\n",
       "\n"
      ],
      "text/plain": [
       "  Sub_ID observations\n",
       "1 1      360         \n",
       "2 2      352         \n",
       "3 3      374         \n",
       "4 4      392         \n",
       "5 5      347         \n",
       "6 6      381         "
      ]
     },
     "metadata": {},
     "output_type": "display_data"
    },
    {
     "data": {
      "text/html": [
       "363.414141414141"
      ],
      "text/latex": [
       "363.414141414141"
      ],
      "text/markdown": [
       "363.414141414141"
      ],
      "text/plain": [
       "[1] 363.4141"
      ]
     },
     "metadata": {},
     "output_type": "display_data"
    }
   ],
   "source": [
    "mean_observations <- joined_data_filtered %>%\n",
    "   group_by(Sub_ID) %>%\n",
    "   summarise(observations = n())\n",
    "\n",
    "head(mean_observations)\n",
    "\n",
    "mean(mean_observations$observations)"
   ]
  },
  {
   "cell_type": "markdown",
   "id": "human-glass",
   "metadata": {},
   "source": [
    "#### Part 2: Visualize and understand the data"
   ]
  },
  {
   "cell_type": "markdown",
   "id": "satellite-communist",
   "metadata": {},
   "source": [
    "For each of the word properties (Length, SUBTLWF, Concreteness_Rating, Emotional_Valence), plot a scatterplot how the lexical decision reaction times (`D_RT`) changes. Fit a smooth line through the plot with the `geom_smooth()` command in the `ggplot` (hint: use the `stat_summary()` command of the ggplot call to summarise the y axis for each x axis point. hint2: for SUBTLWF, which is word frequency, first round the variable to remove the decimal point values -  e.g., `ggplot(newdf, aes(round(SUBTLWF), D_RT))`); for concretness and emotional valence, try plotting before and after rounding the x axis. For SUBTWLF, plot the data after transforming it to a logarithm."
   ]
  },
  {
   "cell_type": "code",
   "execution_count": 180,
   "id": "expected-uncertainty",
   "metadata": {
    "scrolled": true
   },
   "outputs": [
    {
     "name": "stderr",
     "output_type": "stream",
     "text": [
      "`geom_smooth()` using method = 'gam' and formula 'y ~ s(x, bs = \"cs\")'\n",
      "\n",
      "Warning message:\n",
      "\"Removed 13 rows containing missing values (geom_segment).\"\n",
      "`geom_smooth()` using method = 'gam' and formula 'y ~ s(x, bs = \"cs\")'\n",
      "\n",
      "Warning message:\n",
      "\"Removed 374 rows containing missing values (geom_segment).\"\n"
     ]
    },
    {
     "data": {
      "image/png": "[encoded data removed]",
      "text/plain": [
       "plot without title"
      ]
     },
     "metadata": {
      "image/png": {
       "height": 420,
       "width": 420
      }
     },
     "output_type": "display_data"
    },
    {
     "name": "stderr",
     "output_type": "stream",
     "text": [
      "`geom_smooth()` using method = 'gam' and formula 'y ~ s(x, bs = \"cs\")'\n",
      "\n",
      "Warning message:\n",
      "\"Removed 2175 rows containing missing values (geom_segment).\"\n"
     ]
    },
    {
     "data": {
      "image/png": "[encoded data removed]",
      "text/plain": [
       "plot without title"
      ]
     },
     "metadata": {
      "image/png": {
       "height": 420,
       "width": 420
      }
     },
     "output_type": "display_data"
    },
    {
     "name": "stderr",
     "output_type": "stream",
     "text": [
      "`geom_smooth()` using method = 'gam' and formula 'y ~ s(x, bs = \"cs\")'\n",
      "\n",
      "Warning message:\n",
      "\"Removed 351 rows containing missing values (geom_segment).\"\n"
     ]
    },
    {
     "data": {
      "image/png": "[encoded data removed]",
      "text/plain": [
       "plot without title"
      ]
     },
     "metadata": {
      "image/png": {
       "height": 420,
       "width": 420
      }
     },
     "output_type": "display_data"
    },
    {
     "name": "stderr",
     "output_type": "stream",
     "text": [
      "`geom_smooth()` using method = 'gam' and formula 'y ~ s(x, bs = \"cs\")'\n",
      "\n",
      "Warning message:\n",
      "\"Computation failed in `stat_smooth()`:\n",
      "x has insufficient unique values to support 10 knots: reduce k.\"\n",
      "Warning message:\n",
      "\"Removed 5 rows containing missing values (geom_segment).\"\n"
     ]
    },
    {
     "data": {
      "image/png": "[encoded data removed]",
      "text/plain": [
       "plot without title"
      ]
     },
     "metadata": {
      "image/png": {
       "height": 420,
       "width": 420
      }
     },
     "output_type": "display_data"
    },
    {
     "name": "stderr",
     "output_type": "stream",
     "text": [
      "`geom_smooth()` using method = 'gam' and formula 'y ~ s(x, bs = \"cs\")'\n",
      "\n",
      "Warning message:\n",
      "\"Removed 590 rows containing missing values (geom_segment).\"\n"
     ]
    },
    {
     "data": {
      "image/png": "[encoded data removed]",
      "text/plain": [
       "plot without title"
      ]
     },
     "metadata": {
      "image/png": {
       "height": 420,
       "width": 420
      }
     },
     "output_type": "display_data"
    },
    {
     "name": "stderr",
     "output_type": "stream",
     "text": [
      "`geom_smooth()` using method = 'gam' and formula 'y ~ s(x, bs = \"cs\")'\n",
      "\n",
      "Warning message:\n",
      "\"Computation failed in `stat_smooth()`:\n",
      "x has insufficient unique values to support 10 knots: reduce k.\"\n",
      "Warning message:\n",
      "\"Removed 9 rows containing missing values (geom_segment).\"\n"
     ]
    },
    {
     "data": {
      "image/png": "[encoded data removed]",
      "text/plain": [
       "plot without title"
      ]
     },
     "metadata": {
      "image/png": {
       "height": 420,
       "width": 420
      }
     },
     "output_type": "display_data"
    },
    {
     "data": {
      "image/png": "[encoded data removed]",
      "text/plain": [
       "plot without title"
      ]
     },
     "metadata": {
      "image/png": {
       "height": 420,
       "width": 420
      }
     },
     "output_type": "display_data"
    }
   ],
   "source": [
    "#Length\n",
    "joined_data_filtered %>%\n",
    "    ggplot(aes(Length, D_RT)) + stat_summary(fun = mean) + geom_smooth()\n",
    "\n",
    "\n",
    "#SUBTLWF\n",
    "joined_data_filtered %>%\n",
    "    ggplot(aes(round(SUBTLWF), D_RT)) + stat_summary(fun = mean) + geom_smooth()\n",
    "\n",
    "joined_data_filtered %>%\n",
    "    ggplot(aes(log(SUBTLWF), D_RT)) + stat_summary(fun = mean) + geom_smooth() \n",
    "\n",
    "\n",
    "#Concreteness_Rating\n",
    "joined_data_filtered %>%\n",
    "    ggplot(aes(Concreteness_Rating, D_RT)) + stat_summary(fun = mean) + geom_smooth()\n",
    "\n",
    "joined_data_filtered %>%\n",
    "    ggplot(aes(round(Concreteness_Rating), D_RT)) + stat_summary(fun = mean) + geom_smooth()\n",
    "\n",
    "\n",
    "#Emotional_Valence\n",
    "joined_data_filtered %>%\n",
    "    ggplot(aes(Emotional_Valence, D_RT)) + stat_summary(fun = mean) + geom_smooth()\n",
    "\n",
    "joined_data_filtered %>%\n",
    "    ggplot(aes(round(Emotional_Valence), D_RT)) + stat_summary(fun = mean) + geom_smooth()"
   ]
  },
  {
   "cell_type": "markdown",
   "id": "circular-wholesale",
   "metadata": {},
   "source": [
    "Based on the previous plots, for which of these predictions would a linear regression be a good model of reaction times? Why/why not?\n",
    "\n",
    "1. Length -> Yes. Linear regression might be a good model of reaction times. The data is distributed equally around a potential mean, which makes the useage of a linear regression possible\n",
    "2. SUBTLWF -> No. Even after the log transformation, the distribution is heteroscedastic and therefore violates the assumption of homoscedasticity of the linear regression. \n",
    "3. Concreteness_Rating -> Maybe/Yes. If the variable gets rounded, all the possible outliers that might make a linear regression impossible disappear. If you only consider the rounded data and/ or deal with the outliers, a linear regression model might be considered. \n",
    "4. Emotional_Valence -> No. There are far too many outliers and even the rounded values do not show a clear linear relation between the variables. "
   ]
  },
  {
   "cell_type": "markdown",
   "id": "interim-basement",
   "metadata": {},
   "source": [
    "To what degree are the 4 predictors correlated with each other?"
   ]
  },
  {
   "cell_type": "code",
   "execution_count": 130,
   "id": "centered-flash",
   "metadata": {},
   "outputs": [
    {
     "data": {
      "text/html": [
       "<table class=\"dataframe\">\n",
       "<caption>A matrix: 4 × 4 of type dbl</caption>\n",
       "<thead>\n",
       "\t<tr><th></th><th scope=col>Length</th><th scope=col>SUBTLWF</th><th scope=col>Concreteness_Rating</th><th scope=col>Emotional_Valence</th></tr>\n",
       "</thead>\n",
       "<tbody>\n",
       "\t<tr><th scope=row>Length</th><td> 1.00000000</td><td>-0.14505419</td><td>-0.31793980</td><td>-0.01753049</td></tr>\n",
       "\t<tr><th scope=row>SUBTLWF</th><td>-0.14505419</td><td> 1.00000000</td><td>-0.03162817</td><td> 0.07856745</td></tr>\n",
       "\t<tr><th scope=row>Concreteness_Rating</th><td>-0.31793980</td><td>-0.03162817</td><td> 1.00000000</td><td> 0.07556639</td></tr>\n",
       "\t<tr><th scope=row>Emotional_Valence</th><td>-0.01753049</td><td> 0.07856745</td><td> 0.07556639</td><td> 1.00000000</td></tr>\n",
       "</tbody>\n",
       "</table>\n"
      ],
      "text/latex": [
       "A matrix: 4 × 4 of type dbl\n",
       "\\begin{tabular}{r|llll}\n",
       "  & Length & SUBTLWF & Concreteness\\_Rating & Emotional\\_Valence\\\\\n",
       "\\hline\n",
       "\tLength &  1.00000000 & -0.14505419 & -0.31793980 & -0.01753049\\\\\n",
       "\tSUBTLWF & -0.14505419 &  1.00000000 & -0.03162817 &  0.07856745\\\\\n",
       "\tConcreteness\\_Rating & -0.31793980 & -0.03162817 &  1.00000000 &  0.07556639\\\\\n",
       "\tEmotional\\_Valence & -0.01753049 &  0.07856745 &  0.07556639 &  1.00000000\\\\\n",
       "\\end{tabular}\n"
      ],
      "text/markdown": [
       "\n",
       "A matrix: 4 × 4 of type dbl\n",
       "\n",
       "| <!--/--> | Length | SUBTLWF | Concreteness_Rating | Emotional_Valence |\n",
       "|---|---|---|---|---|\n",
       "| Length |  1.00000000 | -0.14505419 | -0.31793980 | -0.01753049 |\n",
       "| SUBTLWF | -0.14505419 |  1.00000000 | -0.03162817 |  0.07856745 |\n",
       "| Concreteness_Rating | -0.31793980 | -0.03162817 |  1.00000000 |  0.07556639 |\n",
       "| Emotional_Valence | -0.01753049 |  0.07856745 |  0.07556639 |  1.00000000 |\n",
       "\n"
      ],
      "text/plain": [
       "                    Length      SUBTLWF     Concreteness_Rating\n",
       "Length               1.00000000 -0.14505419 -0.31793980        \n",
       "SUBTLWF             -0.14505419  1.00000000 -0.03162817        \n",
       "Concreteness_Rating -0.31793980 -0.03162817  1.00000000        \n",
       "Emotional_Valence   -0.01753049  0.07856745  0.07556639        \n",
       "                    Emotional_Valence\n",
       "Length              -0.01753049      \n",
       "SUBTLWF              0.07856745      \n",
       "Concreteness_Rating  0.07556639      \n",
       "Emotional_Valence    1.00000000      "
      ]
     },
     "metadata": {},
     "output_type": "display_data"
    }
   ],
   "source": [
    "cor(joined_data_filtered[c(9, 10, 11, 12)])"
   ]
  },
  {
   "cell_type": "markdown",
   "id": "solved-external",
   "metadata": {},
   "source": [
    "#### Part 3: Fit a linear model\n",
    "\n",
    "Use the `lm` command to fit a linear regression to the `D_RT` variable using the four predictors. Assign the output to a new variable called `ml1`. Use the `summary(ml1)` command to display the output of the model:\n"
   ]
  },
  {
   "cell_type": "code",
   "execution_count": 137,
   "id": "modified-affair",
   "metadata": {},
   "outputs": [
    {
     "data": {
      "text/plain": [
       "\n",
       "Call:\n",
       "lm(formula = D_RT ~ Length + SUBTLWF + Concreteness_Rating + \n",
       "    Emotional_Valence, data = joined_data_filtered)\n",
       "\n",
       "Residuals:\n",
       "   Min     1Q Median     3Q    Max \n",
       "-853.4 -195.5  -93.9   74.2 3330.1 \n",
       "\n",
       "Coefficients:\n",
       "                      Estimate Std. Error t value Pr(>|t|)    \n",
       "(Intercept)         667.074558  12.426760  53.680  < 2e-16 ***\n",
       "Length               26.415737   0.892603  29.594  < 2e-16 ***\n",
       "SUBTLWF              -0.040145   0.009348  -4.295 1.75e-05 ***\n",
       "Concreteness_Rating  -6.209688   1.902962  -3.263   0.0011 ** \n",
       "Emotional_Valence   -15.062538   1.436979 -10.482  < 2e-16 ***\n",
       "---\n",
       "Signif. codes:  0 '***' 0.001 '**' 0.01 '*' 0.05 '.' 0.1 ' ' 1\n",
       "\n",
       "Residual standard error: 359.7 on 35973 degrees of freedom\n",
       "Multiple R-squared:  0.03429,\tAdjusted R-squared:  0.03418 \n",
       "F-statistic: 319.3 on 4 and 35973 DF,  p-value: < 2.2e-16\n"
      ]
     },
     "metadata": {},
     "output_type": "display_data"
    }
   ],
   "source": [
    "ml1 <- lm(D_RT~Length+SUBTLWF+Concreteness_Rating+Emotional_Valence, data = joined_data_filtered)\n",
    "\n",
    "summary(ml1)\n"
   ]
  },
  {
   "cell_type": "markdown",
   "id": "driving-incidence",
   "metadata": {},
   "source": [
    "What is the intercept value and the slope for the word length predictor? Explain what these values means:\n",
    "- intercept: 667.074558 -> represents the base value when x = 0 (starting value: intersection with y-axis)\n",
    "- slope: 26.415737 -> represents the value of the average rate of change when x =/= 0 (steepness of the regression)"
   ]
  },
  {
   "cell_type": "markdown",
   "id": "super-differential",
   "metadata": {},
   "source": [
    "What is the R-squared value? What does this mean?\n",
    "- R-square: 0.03429 -> the R-squared value is the measure of how well the model is fitting the actual data (always between 0 and 1). It shows how much variance can be explained by the predictor variables. "
   ]
  },
  {
   "cell_type": "markdown",
   "id": "entertaining-roman",
   "metadata": {},
   "source": [
    "As you noticed, the R-squared value is really low. This is because there is a lot of individual differences in how fast people react. These differences cannot be explained by word characteristics. One way to account for individual differences is to summarize the data over participants, and obtain the average RTs for each word. Let's do this and refit the model.\n",
    "\n",
    "First, use the `group_by` and `summarise` commands to calculate the average RT for each word. In order to keep the word characteristics, include those columns in the `group_by` call. E.g.: `group_by(D_word, Length, SUBTLWF, Concreteness_Rating, Emotional_Valence)`. Save the result to a new variable. Use the `heads` command to look at the data:"
   ]
  },
  {
   "cell_type": "code",
   "execution_count": 172,
   "id": "objective-champion",
   "metadata": {
    "scrolled": true
   },
   "outputs": [
    {
     "name": "stderr",
     "output_type": "stream",
     "text": [
      "`summarise()` has grouped output by 'D_word', 'Length', 'SUBTLWF', 'Concreteness_Rating'. You can override using the `.groups` argument.\n",
      "\n"
     ]
    },
    {
     "data": {
      "text/html": [
       "<table class=\"dataframe\">\n",
       "<caption>A grouped_df: 6 × 6</caption>\n",
       "<thead>\n",
       "\t<tr><th scope=col>D_word</th><th scope=col>Length</th><th scope=col>SUBTLWF</th><th scope=col>Concreteness_Rating</th><th scope=col>Emotional_Valence</th><th scope=col>mean_RT</th></tr>\n",
       "\t<tr><th scope=col>&lt;chr&gt;</th><th scope=col>&lt;int&gt;</th><th scope=col>&lt;dbl&gt;</th><th scope=col>&lt;dbl&gt;</th><th scope=col>&lt;dbl&gt;</th><th scope=col>&lt;dbl&gt;</th></tr>\n",
       "</thead>\n",
       "<tbody>\n",
       "\t<tr><td>abandon  </td><td>7</td><td> 8.10</td><td>2.54</td><td>2.84</td><td>1175.5000</td></tr>\n",
       "\t<tr><td>abdomen  </td><td>7</td><td> 3.35</td><td>4.70</td><td>5.43</td><td> 778.6667</td></tr>\n",
       "\t<tr><td>abdominal</td><td>9</td><td> 3.41</td><td>4.28</td><td>4.48</td><td> 833.4000</td></tr>\n",
       "\t<tr><td>abduction</td><td>9</td><td> 3.63</td><td>3.07</td><td>2.05</td><td> 708.0000</td></tr>\n",
       "\t<tr><td>abide    </td><td>5</td><td> 2.71</td><td>1.68</td><td>5.52</td><td> 602.2500</td></tr>\n",
       "\t<tr><td>ability  </td><td>7</td><td>19.22</td><td>1.81</td><td>7.00</td><td> 654.2500</td></tr>\n",
       "</tbody>\n",
       "</table>\n"
      ],
      "text/latex": [
       "A grouped\\_df: 6 × 6\n",
       "\\begin{tabular}{llllll}\n",
       " D\\_word & Length & SUBTLWF & Concreteness\\_Rating & Emotional\\_Valence & mean\\_RT\\\\\n",
       " <chr> & <int> & <dbl> & <dbl> & <dbl> & <dbl>\\\\\n",
       "\\hline\n",
       "\t abandon   & 7 &  8.10 & 2.54 & 2.84 & 1175.5000\\\\\n",
       "\t abdomen   & 7 &  3.35 & 4.70 & 5.43 &  778.6667\\\\\n",
       "\t abdominal & 9 &  3.41 & 4.28 & 4.48 &  833.4000\\\\\n",
       "\t abduction & 9 &  3.63 & 3.07 & 2.05 &  708.0000\\\\\n",
       "\t abide     & 5 &  2.71 & 1.68 & 5.52 &  602.2500\\\\\n",
       "\t ability   & 7 & 19.22 & 1.81 & 7.00 &  654.2500\\\\\n",
       "\\end{tabular}\n"
      ],
      "text/markdown": [
       "\n",
       "A grouped_df: 6 × 6\n",
       "\n",
       "| D_word &lt;chr&gt; | Length &lt;int&gt; | SUBTLWF &lt;dbl&gt; | Concreteness_Rating &lt;dbl&gt; | Emotional_Valence &lt;dbl&gt; | mean_RT &lt;dbl&gt; |\n",
       "|---|---|---|---|---|---|\n",
       "| abandon   | 7 |  8.10 | 2.54 | 2.84 | 1175.5000 |\n",
       "| abdomen   | 7 |  3.35 | 4.70 | 5.43 |  778.6667 |\n",
       "| abdominal | 9 |  3.41 | 4.28 | 4.48 |  833.4000 |\n",
       "| abduction | 9 |  3.63 | 3.07 | 2.05 |  708.0000 |\n",
       "| abide     | 5 |  2.71 | 1.68 | 5.52 |  602.2500 |\n",
       "| ability   | 7 | 19.22 | 1.81 | 7.00 |  654.2500 |\n",
       "\n"
      ],
      "text/plain": [
       "  D_word    Length SUBTLWF Concreteness_Rating Emotional_Valence mean_RT  \n",
       "1 abandon   7       8.10   2.54                2.84              1175.5000\n",
       "2 abdomen   7       3.35   4.70                5.43               778.6667\n",
       "3 abdominal 9       3.41   4.28                4.48               833.4000\n",
       "4 abduction 9       3.63   3.07                2.05               708.0000\n",
       "5 abide     5       2.71   1.68                5.52               602.2500\n",
       "6 ability   7      19.22   1.81                7.00               654.2500"
      ]
     },
     "metadata": {},
     "output_type": "display_data"
    }
   ],
   "source": [
    "grouped_RT <- joined_data_filtered %>%\n",
    "    group_by(D_word, Length, SUBTLWF, Concreteness_Rating, Emotional_Valence) %>%\n",
    "    summarise(mean_RT=mean(D_RT))\n",
    "\n",
    "head(grouped_RT)\n"
   ]
  },
  {
   "cell_type": "markdown",
   "id": "organic-retro",
   "metadata": {},
   "source": [
    "Now, fit the linear model again using the summarised data. Do the estimates of intercept and slope differ much from the previous model? How about the R-squared value? If so, why do you think that is the case?"
   ]
  },
  {
   "cell_type": "code",
   "execution_count": 166,
   "id": "seasonal-richardson",
   "metadata": {
    "scrolled": true
   },
   "outputs": [
    {
     "data": {
      "text/plain": [
       "\n",
       "Call:\n",
       "lm(formula = mean_RT ~ Length + SUBTLWF + Concreteness_Rating + \n",
       "    Emotional_Valence, data = grouped_RT)\n",
       "\n",
       "Residuals:\n",
       "    Min      1Q  Median      3Q     Max \n",
       "-459.92 -128.20  -42.25   78.34 1653.93 \n",
       "\n",
       "Coefficients:\n",
       "                     Estimate Std. Error t value Pr(>|t|)    \n",
       "(Intercept)         667.42698   13.40956  49.772  < 2e-16 ***\n",
       "Length               26.51743    0.96339  27.525  < 2e-16 ***\n",
       "SUBTLWF              -0.03931    0.01004  -3.915  9.1e-05 ***\n",
       "Concreteness_Rating  -6.32646    2.05367  -3.081  0.00207 ** \n",
       "Emotional_Valence   -15.06291    1.55261  -9.702  < 2e-16 ***\n",
       "---\n",
       "Signif. codes:  0 '***' 0.001 '**' 0.01 '*' 0.05 '.' 0.1 ' ' 1\n",
       "\n",
       "Residual standard error: 191.1 on 8705 degrees of freedom\n",
       "Multiple R-squared:  0.1124,\tAdjusted R-squared:  0.112 \n",
       "F-statistic: 275.5 on 4 and 8705 DF,  p-value: < 2.2e-16\n"
      ]
     },
     "metadata": {},
     "output_type": "display_data"
    }
   ],
   "source": [
    "ml2 <- lm(mean_RT~Length+SUBTLWF+Concreteness_Rating+Emotional_Valence, data = grouped_RT)\n",
    "\n",
    "summary(ml2)"
   ]
  },
  {
   "cell_type": "markdown",
   "id": "removed-comfort",
   "metadata": {},
   "source": [
    "- While the intercept and the slope only changed slightly, R-squared increased from 0.03429 to 0.1124. R-squared might increase since the overall range of the RT is decreased, and therefore the variance created is reduced. Less variance in the RT means the relationship is more linear and therefore the R-square increases. "
   ]
  },
  {
   "cell_type": "markdown",
   "id": "surface-cathedral",
   "metadata": {},
   "source": [
    "Finally, change the predictor for the SUBTLWF to be the log(SUBTLWF) value. Does the R-squared increase? Why/why not?"
   ]
  },
  {
   "cell_type": "code",
   "execution_count": 181,
   "id": "departmental-college",
   "metadata": {},
   "outputs": [
    {
     "data": {
      "text/plain": [
       "\n",
       "Call:\n",
       "lm(formula = mean_RT ~ Length + log(SUBTLWF) + Concreteness_Rating + \n",
       "    Emotional_Valence, data = grouped_RT)\n",
       "\n",
       "Residuals:\n",
       "    Min      1Q  Median      3Q     Max \n",
       "-424.41 -124.05  -38.05   75.66 1713.44 \n",
       "\n",
       "Coefficients:\n",
       "                    Estimate Std. Error t value Pr(>|t|)    \n",
       "(Intercept)         742.0081    13.5267  54.855  < 2e-16 ***\n",
       "Length               19.9617     0.9846  20.274  < 2e-16 ***\n",
       "log(SUBTLWF)        -32.5164     1.5086 -21.554  < 2e-16 ***\n",
       "Concreteness_Rating  -8.0244     1.9977  -4.017 5.95e-05 ***\n",
       "Emotional_Valence    -9.1901     1.5376  -5.977 2.36e-09 ***\n",
       "---\n",
       "Signif. codes:  0 '***' 0.001 '**' 0.01 '*' 0.05 '.' 0.1 ' ' 1\n",
       "\n",
       "Residual standard error: 186.4 on 8705 degrees of freedom\n",
       "Multiple R-squared:  0.1559,\tAdjusted R-squared:  0.1555 \n",
       "F-statistic: 401.8 on 4 and 8705 DF,  p-value: < 2.2e-16\n"
      ]
     },
     "metadata": {},
     "output_type": "display_data"
    }
   ],
   "source": [
    "ml3 <- lm(mean_RT~Length+log(SUBTLWF)+Concreteness_Rating+Emotional_Valence, data = grouped_RT)\n",
    "\n",
    "summary(ml3)"
   ]
  },
  {
   "cell_type": "markdown",
   "id": "neither-burton",
   "metadata": {},
   "source": [
    "- R-squared increased again from 0.1124 to 0.1559. The use of the log function improves the linear relationships of the predictors (as seen in the created scatterplots earlier) and therefore increases the R-squared. "
   ]
  },
  {
   "cell_type": "code",
   "execution_count": null,
   "id": "hollywood-marketing",
   "metadata": {},
   "outputs": [],
   "source": []
  }
 ],
 "metadata": {
  "kernelspec": {
   "display_name": "R",
   "language": "R",
   "name": "ir"
  },
  "language_info": {
   "codemirror_mode": "r",
   "file_extension": ".r",
   "mimetype": "text/x-r-source",
   "name": "R",
   "pygments_lexer": "r",
   "version": "4.0.2"
  }
 },
 "nbformat": 4,
 "nbformat_minor": 5
}
