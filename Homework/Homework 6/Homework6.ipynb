{
 "cells": [
  {
   "cell_type": "markdown",
   "id": "dietary-louis",
   "metadata": {},
   "source": [
    "## Homework 6\n"
   ]
  },
  {
   "cell_type": "code",
   "execution_count": null,
   "id": "fitting-investigator",
   "metadata": {},
   "outputs": [],
   "source": []
  },
  {
   "cell_type": "markdown",
   "id": "bridal-issue",
   "metadata": {},
   "source": [
    "#### Exercise 10 \n",
    "This question should be answered using the Weekly data set, which is part of the ISLR package. This data is similar in nature to the Smarket data from this chapter’s lab, except that it contains 1,089 weekly returns for 21 years, from the beginning of 1990 to the end of 2010.\n",
    "\n",
    "(a) Produce some numerical and graphical summaries of the Weekly data. Do there appear to be any patterns?"
   ]
  },
  {
   "cell_type": "code",
   "execution_count": 16,
   "id": "indirect-mongolia",
   "metadata": {
    "scrolled": true
   },
   "outputs": [
    {
     "name": "stderr",
     "output_type": "stream",
     "text": [
      "Warning message:\n",
      "\"package 'ISLR' is in use and will not be installed\"\n"
     ]
    },
    {
     "data": {
      "text/plain": [
       "      Year           Lag1               Lag2               Lag3         \n",
       " Min.   :1990   Min.   :-18.1950   Min.   :-18.1950   Min.   :-18.1950  \n",
       " 1st Qu.:1995   1st Qu.: -1.1540   1st Qu.: -1.1540   1st Qu.: -1.1580  \n",
       " Median :2000   Median :  0.2410   Median :  0.2410   Median :  0.2410  \n",
       " Mean   :2000   Mean   :  0.1506   Mean   :  0.1511   Mean   :  0.1472  \n",
       " 3rd Qu.:2005   3rd Qu.:  1.4050   3rd Qu.:  1.4090   3rd Qu.:  1.4090  \n",
       " Max.   :2010   Max.   : 12.0260   Max.   : 12.0260   Max.   : 12.0260  \n",
       "      Lag4               Lag5              Volume            Today         \n",
       " Min.   :-18.1950   Min.   :-18.1950   Min.   :0.08747   Min.   :-18.1950  \n",
       " 1st Qu.: -1.1580   1st Qu.: -1.1660   1st Qu.:0.33202   1st Qu.: -1.1540  \n",
       " Median :  0.2380   Median :  0.2340   Median :1.00268   Median :  0.2410  \n",
       " Mean   :  0.1458   Mean   :  0.1399   Mean   :1.57462   Mean   :  0.1499  \n",
       " 3rd Qu.:  1.4090   3rd Qu.:  1.4050   3rd Qu.:2.05373   3rd Qu.:  1.4050  \n",
       " Max.   : 12.0260   Max.   : 12.0260   Max.   :9.32821   Max.   : 12.0260  \n",
       " Direction \n",
       " Down:484  \n",
       " Up  :605  \n",
       "           \n",
       "           \n",
       "           \n",
       "           "
      ]
     },
     "metadata": {},
     "output_type": "display_data"
    }
   ],
   "source": [
    "install.packages('ISLR')\n",
    "library(tidyverse)\n",
    "library(ISLR)\n",
    "summary(Weekly)"
   ]
  },
  {
   "cell_type": "code",
   "execution_count": 20,
   "id": "golden-caution",
   "metadata": {
    "scrolled": true
   },
   "outputs": [
    {
     "data": {
      "text/html": [
       "<table class=\"dataframe\">\n",
       "<caption>A matrix: 8 × 8 of type dbl</caption>\n",
       "<thead>\n",
       "\t<tr><th></th><th scope=col>Year</th><th scope=col>Lag1</th><th scope=col>Lag2</th><th scope=col>Lag3</th><th scope=col>Lag4</th><th scope=col>Lag5</th><th scope=col>Volume</th><th scope=col>Today</th></tr>\n",
       "</thead>\n",
       "<tbody>\n",
       "\t<tr><th scope=row>Year</th><td> 1.00000000</td><td>-0.032289274</td><td>-0.03339001</td><td>-0.03000649</td><td>-0.031127923</td><td>-0.030519101</td><td> 0.84194162</td><td>-0.032459894</td></tr>\n",
       "\t<tr><th scope=row>Lag1</th><td>-0.03228927</td><td> 1.000000000</td><td>-0.07485305</td><td> 0.05863568</td><td>-0.071273876</td><td>-0.008183096</td><td>-0.06495131</td><td>-0.075031842</td></tr>\n",
       "\t<tr><th scope=row>Lag2</th><td>-0.03339001</td><td>-0.074853051</td><td> 1.00000000</td><td>-0.07572091</td><td> 0.058381535</td><td>-0.072499482</td><td>-0.08551314</td><td> 0.059166717</td></tr>\n",
       "\t<tr><th scope=row>Lag3</th><td>-0.03000649</td><td> 0.058635682</td><td>-0.07572091</td><td> 1.00000000</td><td>-0.075395865</td><td> 0.060657175</td><td>-0.06928771</td><td>-0.071243639</td></tr>\n",
       "\t<tr><th scope=row>Lag4</th><td>-0.03112792</td><td>-0.071273876</td><td> 0.05838153</td><td>-0.07539587</td><td> 1.000000000</td><td>-0.075675027</td><td>-0.06107462</td><td>-0.007825873</td></tr>\n",
       "\t<tr><th scope=row>Lag5</th><td>-0.03051910</td><td>-0.008183096</td><td>-0.07249948</td><td> 0.06065717</td><td>-0.075675027</td><td> 1.000000000</td><td>-0.05851741</td><td> 0.011012698</td></tr>\n",
       "\t<tr><th scope=row>Volume</th><td> 0.84194162</td><td>-0.064951313</td><td>-0.08551314</td><td>-0.06928771</td><td>-0.061074617</td><td>-0.058517414</td><td> 1.00000000</td><td>-0.033077783</td></tr>\n",
       "\t<tr><th scope=row>Today</th><td>-0.03245989</td><td>-0.075031842</td><td> 0.05916672</td><td>-0.07124364</td><td>-0.007825873</td><td> 0.011012698</td><td>-0.03307778</td><td> 1.000000000</td></tr>\n",
       "</tbody>\n",
       "</table>\n"
      ],
      "text/latex": [
       "A matrix: 8 × 8 of type dbl\n",
       "\\begin{tabular}{r|llllllll}\n",
       "  & Year & Lag1 & Lag2 & Lag3 & Lag4 & Lag5 & Volume & Today\\\\\n",
       "\\hline\n",
       "\tYear &  1.00000000 & -0.032289274 & -0.03339001 & -0.03000649 & -0.031127923 & -0.030519101 &  0.84194162 & -0.032459894\\\\\n",
       "\tLag1 & -0.03228927 &  1.000000000 & -0.07485305 &  0.05863568 & -0.071273876 & -0.008183096 & -0.06495131 & -0.075031842\\\\\n",
       "\tLag2 & -0.03339001 & -0.074853051 &  1.00000000 & -0.07572091 &  0.058381535 & -0.072499482 & -0.08551314 &  0.059166717\\\\\n",
       "\tLag3 & -0.03000649 &  0.058635682 & -0.07572091 &  1.00000000 & -0.075395865 &  0.060657175 & -0.06928771 & -0.071243639\\\\\n",
       "\tLag4 & -0.03112792 & -0.071273876 &  0.05838153 & -0.07539587 &  1.000000000 & -0.075675027 & -0.06107462 & -0.007825873\\\\\n",
       "\tLag5 & -0.03051910 & -0.008183096 & -0.07249948 &  0.06065717 & -0.075675027 &  1.000000000 & -0.05851741 &  0.011012698\\\\\n",
       "\tVolume &  0.84194162 & -0.064951313 & -0.08551314 & -0.06928771 & -0.061074617 & -0.058517414 &  1.00000000 & -0.033077783\\\\\n",
       "\tToday & -0.03245989 & -0.075031842 &  0.05916672 & -0.07124364 & -0.007825873 &  0.011012698 & -0.03307778 &  1.000000000\\\\\n",
       "\\end{tabular}\n"
      ],
      "text/markdown": [
       "\n",
       "A matrix: 8 × 8 of type dbl\n",
       "\n",
       "| <!--/--> | Year | Lag1 | Lag2 | Lag3 | Lag4 | Lag5 | Volume | Today |\n",
       "|---|---|---|---|---|---|---|---|---|\n",
       "| Year |  1.00000000 | -0.032289274 | -0.03339001 | -0.03000649 | -0.031127923 | -0.030519101 |  0.84194162 | -0.032459894 |\n",
       "| Lag1 | -0.03228927 |  1.000000000 | -0.07485305 |  0.05863568 | -0.071273876 | -0.008183096 | -0.06495131 | -0.075031842 |\n",
       "| Lag2 | -0.03339001 | -0.074853051 |  1.00000000 | -0.07572091 |  0.058381535 | -0.072499482 | -0.08551314 |  0.059166717 |\n",
       "| Lag3 | -0.03000649 |  0.058635682 | -0.07572091 |  1.00000000 | -0.075395865 |  0.060657175 | -0.06928771 | -0.071243639 |\n",
       "| Lag4 | -0.03112792 | -0.071273876 |  0.05838153 | -0.07539587 |  1.000000000 | -0.075675027 | -0.06107462 | -0.007825873 |\n",
       "| Lag5 | -0.03051910 | -0.008183096 | -0.07249948 |  0.06065717 | -0.075675027 |  1.000000000 | -0.05851741 |  0.011012698 |\n",
       "| Volume |  0.84194162 | -0.064951313 | -0.08551314 | -0.06928771 | -0.061074617 | -0.058517414 |  1.00000000 | -0.033077783 |\n",
       "| Today | -0.03245989 | -0.075031842 |  0.05916672 | -0.07124364 | -0.007825873 |  0.011012698 | -0.03307778 |  1.000000000 |\n",
       "\n"
      ],
      "text/plain": [
       "       Year        Lag1         Lag2        Lag3        Lag4        \n",
       "Year    1.00000000 -0.032289274 -0.03339001 -0.03000649 -0.031127923\n",
       "Lag1   -0.03228927  1.000000000 -0.07485305  0.05863568 -0.071273876\n",
       "Lag2   -0.03339001 -0.074853051  1.00000000 -0.07572091  0.058381535\n",
       "Lag3   -0.03000649  0.058635682 -0.07572091  1.00000000 -0.075395865\n",
       "Lag4   -0.03112792 -0.071273876  0.05838153 -0.07539587  1.000000000\n",
       "Lag5   -0.03051910 -0.008183096 -0.07249948  0.06065717 -0.075675027\n",
       "Volume  0.84194162 -0.064951313 -0.08551314 -0.06928771 -0.061074617\n",
       "Today  -0.03245989 -0.075031842  0.05916672 -0.07124364 -0.007825873\n",
       "       Lag5         Volume      Today       \n",
       "Year   -0.030519101  0.84194162 -0.032459894\n",
       "Lag1   -0.008183096 -0.06495131 -0.075031842\n",
       "Lag2   -0.072499482 -0.08551314  0.059166717\n",
       "Lag3    0.060657175 -0.06928771 -0.071243639\n",
       "Lag4   -0.075675027 -0.06107462 -0.007825873\n",
       "Lag5    1.000000000 -0.05851741  0.011012698\n",
       "Volume -0.058517414  1.00000000 -0.033077783\n",
       "Today   0.011012698 -0.03307778  1.000000000"
      ]
     },
     "metadata": {},
     "output_type": "display_data"
    }
   ],
   "source": [
    "cor(Weekly[,-9])"
   ]
  },
  {
   "cell_type": "markdown",
   "id": "forbidden-animal",
   "metadata": {},
   "source": [
    "- Volume seems to have a correlation with the Year. All the other correlations are close to 0. "
   ]
  },
  {
   "cell_type": "code",
   "execution_count": 53,
   "id": "blocked-portland",
   "metadata": {
    "scrolled": true
   },
   "outputs": [
    {
     "name": "stderr",
     "output_type": "stream",
     "text": [
      "The following objects are masked from Weekly (pos = 3):\n",
      "\n",
      "    Direction, Lag1, Lag2, Lag3, Lag4, Lag5, Today, Volume, Year\n",
      "\n",
      "\n",
      "The following objects are masked from Weekly (pos = 4):\n",
      "\n",
      "    Direction, Lag1, Lag2, Lag3, Lag4, Lag5, Today, Volume, Year\n",
      "\n",
      "\n"
     ]
    },
    {
     "data": {
      "image/png": "[encoded data removed]",
      "text/plain": [
       "plot without title"
      ]
     },
     "metadata": {
      "image/png": {
       "height": 420,
       "width": 420
      }
     },
     "output_type": "display_data"
    }
   ],
   "source": [
    "attach(Weekly)\n",
    "plot(Volume)"
   ]
  },
  {
   "cell_type": "markdown",
   "id": "perceived-advertiser",
   "metadata": {},
   "source": [
    "- Volume increases over time. "
   ]
  },
  {
   "cell_type": "markdown",
   "id": "plain-munich",
   "metadata": {},
   "source": [
    "(b) Use the full data set to perform a logistic regression with Direction as the response and the five lag variables plus Volume as predictors. Use the summary function to print the results. Do any of the predictors appear to be statistically significant? If so, which ones?"
   ]
  },
  {
   "cell_type": "code",
   "execution_count": 55,
   "id": "endless-beaver",
   "metadata": {},
   "outputs": [
    {
     "data": {
      "text/plain": [
       "\n",
       "Call:\n",
       "glm(formula = Direction ~ Lag1 + Lag2 + Lag3 + Lag4 + Lag5 + \n",
       "    Volume, family = binomial, data = Weekly)\n",
       "\n",
       "Deviance Residuals: \n",
       "    Min       1Q   Median       3Q      Max  \n",
       "-1.6949  -1.2565   0.9913   1.0849   1.4579  \n",
       "\n",
       "Coefficients:\n",
       "            Estimate Std. Error z value Pr(>|z|)   \n",
       "(Intercept)  0.26686    0.08593   3.106   0.0019 **\n",
       "Lag1        -0.04127    0.02641  -1.563   0.1181   \n",
       "Lag2         0.05844    0.02686   2.175   0.0296 * \n",
       "Lag3        -0.01606    0.02666  -0.602   0.5469   \n",
       "Lag4        -0.02779    0.02646  -1.050   0.2937   \n",
       "Lag5        -0.01447    0.02638  -0.549   0.5833   \n",
       "Volume      -0.02274    0.03690  -0.616   0.5377   \n",
       "---\n",
       "Signif. codes:  0 '***' 0.001 '**' 0.01 '*' 0.05 '.' 0.1 ' ' 1\n",
       "\n",
       "(Dispersion parameter for binomial family taken to be 1)\n",
       "\n",
       "    Null deviance: 1496.2  on 1088  degrees of freedom\n",
       "Residual deviance: 1486.4  on 1082  degrees of freedom\n",
       "AIC: 1500.4\n",
       "\n",
       "Number of Fisher Scoring iterations: 4\n"
      ]
     },
     "metadata": {},
     "output_type": "display_data"
    }
   ],
   "source": [
    "Weekly_lm <- glm(Direction ~ Lag1 + Lag2 + Lag3 + Lag4 + Lag5 + Volume, data = Weekly, family = binomial)\n",
    "\n",
    "summary(Weekly_lm)"
   ]
  },
  {
   "cell_type": "markdown",
   "id": "outdoor-avenue",
   "metadata": {},
   "source": [
    "- Lag2 seems to be significant (p value is 0.0296)"
   ]
  },
  {
   "cell_type": "markdown",
   "id": "continued-invitation",
   "metadata": {},
   "source": [
    "(c) Compute the confusion matrix and overall fraction of correct predictions. Explain what the confusion matrix is telling you about the types of mistakes made by logistic regression."
   ]
  },
  {
   "cell_type": "code",
   "execution_count": 58,
   "id": "foreign-pulse",
   "metadata": {},
   "outputs": [
    {
     "data": {
      "text/plain": [
       "        Direction\n",
       "pred.glm Down  Up\n",
       "    Down   54  48\n",
       "    Up    430 557"
      ]
     },
     "metadata": {},
     "output_type": "display_data"
    }
   ],
   "source": [
    "Matrix <- predict(Weekly_lm, type = \"response\")\n",
    "pred.glm <- rep(\"Down\", length(probs))\n",
    "pred.glm[Matrix > 0.5] <- \"Up\"\n",
    "table(pred.glm, Direction)"
   ]
  },
  {
   "cell_type": "markdown",
   "id": "powerful-highway",
   "metadata": {},
   "source": [
    "(d) Now fit the logistic regression model using a training data period from 1990 to 2008, with Lag2 as the only predictor. Compute the confusion matrix and the overall fraction of correct predictions for the held out data (that is, the data from 2009 and 2010)."
   ]
  },
  {
   "cell_type": "code",
   "execution_count": 63,
   "id": "seasonal-pakistan",
   "metadata": {},
   "outputs": [
    {
     "data": {
      "text/plain": [
       "\n",
       "Call:\n",
       "glm(formula = Direction ~ Lag2, family = binomial, data = Weekly, \n",
       "    subset = Weekly_2009)\n",
       "\n",
       "Deviance Residuals: \n",
       "   Min      1Q  Median      3Q     Max  \n",
       "-1.536  -1.264   1.021   1.091   1.368  \n",
       "\n",
       "Coefficients:\n",
       "            Estimate Std. Error z value Pr(>|z|)   \n",
       "(Intercept)  0.20326    0.06428   3.162  0.00157 **\n",
       "Lag2         0.05810    0.02870   2.024  0.04298 * \n",
       "---\n",
       "Signif. codes:  0 '***' 0.001 '**' 0.01 '*' 0.05 '.' 0.1 ' ' 1\n",
       "\n",
       "(Dispersion parameter for binomial family taken to be 1)\n",
       "\n",
       "    Null deviance: 1354.7  on 984  degrees of freedom\n",
       "Residual deviance: 1350.5  on 983  degrees of freedom\n",
       "AIC: 1354.5\n",
       "\n",
       "Number of Fisher Scoring iterations: 4\n"
      ]
     },
     "metadata": {},
     "output_type": "display_data"
    }
   ],
   "source": [
    "Weekly_2009 <- (Year < 2009)\n",
    "Weekly_timeframe <- Weekly[!Weekly_2009, ]\n",
    "Direction_training <- Direction[!Weekly_2009]\n",
    "Weekly_lm2 <- glm(Direction ~ Lag2, data = Weekly, family = binomial, subset = Weekly_2009)\n",
    "summary(Weekly_lm2)"
   ]
  },
  {
   "cell_type": "markdown",
   "id": "aboriginal-supervisor",
   "metadata": {},
   "source": [
    "(e) Repeat (d) using LDA."
   ]
  },
  {
   "cell_type": "code",
   "execution_count": 69,
   "id": "comfortable-purchase",
   "metadata": {},
   "outputs": [
    {
     "data": {
      "text/plain": [
       "Call:\n",
       "lda(Direction ~ Lag2, data = Weekly, subset = Weekly_2009)\n",
       "\n",
       "Prior probabilities of groups:\n",
       "     Down        Up \n",
       "0.4477157 0.5522843 \n",
       "\n",
       "Group means:\n",
       "            Lag2\n",
       "Down -0.03568254\n",
       "Up    0.26036581\n",
       "\n",
       "Coefficients of linear discriminants:\n",
       "           LD1\n",
       "Lag2 0.4414162"
      ]
     },
     "metadata": {},
     "output_type": "display_data"
    },
    {
     "data": {
      "text/plain": [
       "      Direction_training\n",
       "       Down Up\n",
       "  Down    9  5\n",
       "  Up     34 56"
      ]
     },
     "metadata": {},
     "output_type": "display_data"
    }
   ],
   "source": [
    "library(MASS)\n",
    "Weekly_lda <- lda(Direction ~ Lag2, data = Weekly, subset = Weekly_2009)\n",
    "Weekly_lda\n",
    "\n",
    "pred.lda <- predict(fit.lda, Weekly_timeframe)\n",
    "table(pred.lda$class, Direction_training)"
   ]
  },
  {
   "cell_type": "markdown",
   "id": "coordinate-penguin",
   "metadata": {},
   "source": [
    "- Test-error rate seems to be about 38%"
   ]
  },
  {
   "cell_type": "markdown",
   "id": "another-peter",
   "metadata": {},
   "source": [
    "(f) Repeat (d) using QDA."
   ]
  },
  {
   "cell_type": "code",
   "execution_count": 70,
   "id": "democratic-understanding",
   "metadata": {},
   "outputs": [
    {
     "data": {
      "text/plain": [
       "Call:\n",
       "qda(Direction ~ Lag2, data = Weekly, subset = Weekly_2009)\n",
       "\n",
       "Prior probabilities of groups:\n",
       "     Down        Up \n",
       "0.4477157 0.5522843 \n",
       "\n",
       "Group means:\n",
       "            Lag2\n",
       "Down -0.03568254\n",
       "Up    0.26036581"
      ]
     },
     "metadata": {},
     "output_type": "display_data"
    },
    {
     "data": {
      "text/plain": [
       "      Direction_training\n",
       "       Down Up\n",
       "  Down    0  0\n",
       "  Up     43 61"
      ]
     },
     "metadata": {},
     "output_type": "display_data"
    }
   ],
   "source": [
    "Weekly_qda <- qda(Direction ~ Lag2, data = Weekly, subset = Weekly_2009)\n",
    "Weekly_qda\n",
    "pred.qda <- predict(fit.qda, Weekly_timeframe)\n",
    "table(pred.qda$class, Direction_training)"
   ]
  },
  {
   "cell_type": "markdown",
   "id": "affecting-notion",
   "metadata": {},
   "source": [
    "- Test-error rate seems to be about 41%"
   ]
  },
  {
   "cell_type": "markdown",
   "id": "gorgeous-coordinator",
   "metadata": {},
   "source": [
    "\n",
    "(g) Repeat (d) using KNN with K = 1.\n"
   ]
  },
  {
   "cell_type": "code",
   "execution_count": 72,
   "id": "fluid-point",
   "metadata": {},
   "outputs": [
    {
     "data": {
      "text/plain": [
       "        Direction_training\n",
       "pred.knn Down Up\n",
       "    Down   21 30\n",
       "    Up     22 31"
      ]
     },
     "metadata": {},
     "output_type": "display_data"
    }
   ],
   "source": [
    "library(class)\n",
    "train.X <- as.matrix(Lag2[Weekly_2009])\n",
    "test.X <- as.matrix(Lag2[!Weekly_2009])\n",
    "train.Direction <- Direction[Weekly_2009]\n",
    "set.seed(1)\n",
    "pred.knn <- knn(train.X, test.X, train.Direction, k = 1)\n",
    "table(pred.knn, Direction_training)"
   ]
  },
  {
   "cell_type": "markdown",
   "id": "radio-glance",
   "metadata": {},
   "source": [
    "- The test-error rate seems to be about 50%"
   ]
  },
  {
   "cell_type": "markdown",
   "id": "consecutive-dakota",
   "metadata": {},
   "source": [
    "(h) Which of these methods appears to provide the best results on\n",
    "this data?"
   ]
  },
  {
   "cell_type": "markdown",
   "id": "framed-restoration",
   "metadata": {},
   "source": [
    "- LDA, it has the lowest test-error rate of all the methods. "
   ]
  },
  {
   "cell_type": "markdown",
   "id": "designing-computer",
   "metadata": {},
   "source": [
    "(i) Experiment with different combinations of predictors, includ- ing possible transformations and interactions, for each of the methods. Report the variables, method, and associated confu- sion matrix that appears to provide the best results on the held out data. Note that you should also experiment with values for K in the KNN classifier.\n"
   ]
  },
  {
   "cell_type": "markdown",
   "id": "decent-certification",
   "metadata": {},
   "source": [
    "- Sorry, I didn't fully understand what I had to do here. "
   ]
  },
  {
   "cell_type": "markdown",
   "id": "gorgeous-evaluation",
   "metadata": {},
   "source": [
    "#### Exercise 11 \n",
    "In this problem, you will develop a model to predict whether a given car gets high or low gas mileage based on the Auto data set.\n",
    "\n",
    "\n",
    "(a) Create a binary variable, mpg01, that contains a 1 if mpg contains a value above its median, and a 0 if mpg contains a value below its median. You can compute the median using the median() function. Note you may find it helpful to use the data.frame() function to create a single data set containing both mpg01 and the other Auto variables."
   ]
  },
  {
   "cell_type": "code",
   "execution_count": 74,
   "id": "alpha-passing",
   "metadata": {},
   "outputs": [
    {
     "name": "stderr",
     "output_type": "stream",
     "text": [
      "The following object is masked from package:ggplot2:\n",
      "\n",
      "    mpg\n",
      "\n",
      "\n"
     ]
    }
   ],
   "source": [
    "attach(Auto)\n",
    "mpg01 <- rep(0, length(mpg))\n",
    "mpg01[mpg > median(mpg)] <- 1\n",
    "Auto <- data.frame(Auto, mpg01)"
   ]
  },
  {
   "cell_type": "markdown",
   "id": "consolidated-mercy",
   "metadata": {},
   "source": [
    "(b) Explore the data graphically in order to investigate the associ- ation between mpg01 and the other features. Which of the other features seem most likely to be useful in predicting mpg01? Scat- terplots and boxplots may be useful tools to answer this ques- tion. Describe your findings."
   ]
  },
  {
   "cell_type": "code",
   "execution_count": 78,
   "id": "greatest-excerpt",
   "metadata": {},
   "outputs": [
    {
     "data": {
      "text/html": [
       "<table class=\"dataframe\">\n",
       "<caption>A matrix: 9 × 9 of type dbl</caption>\n",
       "<thead>\n",
       "\t<tr><th></th><th scope=col>mpg</th><th scope=col>cylinders</th><th scope=col>displacement</th><th scope=col>horsepower</th><th scope=col>weight</th><th scope=col>acceleration</th><th scope=col>year</th><th scope=col>origin</th><th scope=col>mpg01</th></tr>\n",
       "</thead>\n",
       "<tbody>\n",
       "\t<tr><th scope=row>mpg</th><td> 1.0000000</td><td>-0.7776175</td><td>-0.8051269</td><td>-0.7784268</td><td>-0.8322442</td><td> 0.4233285</td><td> 0.5805410</td><td> 0.5652088</td><td> 0.8369392</td></tr>\n",
       "\t<tr><th scope=row>cylinders</th><td>-0.7776175</td><td> 1.0000000</td><td> 0.9508233</td><td> 0.8429834</td><td> 0.8975273</td><td>-0.5046834</td><td>-0.3456474</td><td>-0.5689316</td><td>-0.7591939</td></tr>\n",
       "\t<tr><th scope=row>displacement</th><td>-0.8051269</td><td> 0.9508233</td><td> 1.0000000</td><td> 0.8972570</td><td> 0.9329944</td><td>-0.5438005</td><td>-0.3698552</td><td>-0.6145351</td><td>-0.7534766</td></tr>\n",
       "\t<tr><th scope=row>horsepower</th><td>-0.7784268</td><td> 0.8429834</td><td> 0.8972570</td><td> 1.0000000</td><td> 0.8645377</td><td>-0.6891955</td><td>-0.4163615</td><td>-0.4551715</td><td>-0.6670526</td></tr>\n",
       "\t<tr><th scope=row>weight</th><td>-0.8322442</td><td> 0.8975273</td><td> 0.9329944</td><td> 0.8645377</td><td> 1.0000000</td><td>-0.4168392</td><td>-0.3091199</td><td>-0.5850054</td><td>-0.7577566</td></tr>\n",
       "\t<tr><th scope=row>acceleration</th><td> 0.4233285</td><td>-0.5046834</td><td>-0.5438005</td><td>-0.6891955</td><td>-0.4168392</td><td> 1.0000000</td><td> 0.2903161</td><td> 0.2127458</td><td> 0.3468215</td></tr>\n",
       "\t<tr><th scope=row>year</th><td> 0.5805410</td><td>-0.3456474</td><td>-0.3698552</td><td>-0.4163615</td><td>-0.3091199</td><td> 0.2903161</td><td> 1.0000000</td><td> 0.1815277</td><td> 0.4299042</td></tr>\n",
       "\t<tr><th scope=row>origin</th><td> 0.5652088</td><td>-0.5689316</td><td>-0.6145351</td><td>-0.4551715</td><td>-0.5850054</td><td> 0.2127458</td><td> 0.1815277</td><td> 1.0000000</td><td> 0.5136984</td></tr>\n",
       "\t<tr><th scope=row>mpg01</th><td> 0.8369392</td><td>-0.7591939</td><td>-0.7534766</td><td>-0.6670526</td><td>-0.7577566</td><td> 0.3468215</td><td> 0.4299042</td><td> 0.5136984</td><td> 1.0000000</td></tr>\n",
       "</tbody>\n",
       "</table>\n"
      ],
      "text/latex": [
       "A matrix: 9 × 9 of type dbl\n",
       "\\begin{tabular}{r|lllllllll}\n",
       "  & mpg & cylinders & displacement & horsepower & weight & acceleration & year & origin & mpg01\\\\\n",
       "\\hline\n",
       "\tmpg &  1.0000000 & -0.7776175 & -0.8051269 & -0.7784268 & -0.8322442 &  0.4233285 &  0.5805410 &  0.5652088 &  0.8369392\\\\\n",
       "\tcylinders & -0.7776175 &  1.0000000 &  0.9508233 &  0.8429834 &  0.8975273 & -0.5046834 & -0.3456474 & -0.5689316 & -0.7591939\\\\\n",
       "\tdisplacement & -0.8051269 &  0.9508233 &  1.0000000 &  0.8972570 &  0.9329944 & -0.5438005 & -0.3698552 & -0.6145351 & -0.7534766\\\\\n",
       "\thorsepower & -0.7784268 &  0.8429834 &  0.8972570 &  1.0000000 &  0.8645377 & -0.6891955 & -0.4163615 & -0.4551715 & -0.6670526\\\\\n",
       "\tweight & -0.8322442 &  0.8975273 &  0.9329944 &  0.8645377 &  1.0000000 & -0.4168392 & -0.3091199 & -0.5850054 & -0.7577566\\\\\n",
       "\tacceleration &  0.4233285 & -0.5046834 & -0.5438005 & -0.6891955 & -0.4168392 &  1.0000000 &  0.2903161 &  0.2127458 &  0.3468215\\\\\n",
       "\tyear &  0.5805410 & -0.3456474 & -0.3698552 & -0.4163615 & -0.3091199 &  0.2903161 &  1.0000000 &  0.1815277 &  0.4299042\\\\\n",
       "\torigin &  0.5652088 & -0.5689316 & -0.6145351 & -0.4551715 & -0.5850054 &  0.2127458 &  0.1815277 &  1.0000000 &  0.5136984\\\\\n",
       "\tmpg01 &  0.8369392 & -0.7591939 & -0.7534766 & -0.6670526 & -0.7577566 &  0.3468215 &  0.4299042 &  0.5136984 &  1.0000000\\\\\n",
       "\\end{tabular}\n"
      ],
      "text/markdown": [
       "\n",
       "A matrix: 9 × 9 of type dbl\n",
       "\n",
       "| <!--/--> | mpg | cylinders | displacement | horsepower | weight | acceleration | year | origin | mpg01 |\n",
       "|---|---|---|---|---|---|---|---|---|---|\n",
       "| mpg |  1.0000000 | -0.7776175 | -0.8051269 | -0.7784268 | -0.8322442 |  0.4233285 |  0.5805410 |  0.5652088 |  0.8369392 |\n",
       "| cylinders | -0.7776175 |  1.0000000 |  0.9508233 |  0.8429834 |  0.8975273 | -0.5046834 | -0.3456474 | -0.5689316 | -0.7591939 |\n",
       "| displacement | -0.8051269 |  0.9508233 |  1.0000000 |  0.8972570 |  0.9329944 | -0.5438005 | -0.3698552 | -0.6145351 | -0.7534766 |\n",
       "| horsepower | -0.7784268 |  0.8429834 |  0.8972570 |  1.0000000 |  0.8645377 | -0.6891955 | -0.4163615 | -0.4551715 | -0.6670526 |\n",
       "| weight | -0.8322442 |  0.8975273 |  0.9329944 |  0.8645377 |  1.0000000 | -0.4168392 | -0.3091199 | -0.5850054 | -0.7577566 |\n",
       "| acceleration |  0.4233285 | -0.5046834 | -0.5438005 | -0.6891955 | -0.4168392 |  1.0000000 |  0.2903161 |  0.2127458 |  0.3468215 |\n",
       "| year |  0.5805410 | -0.3456474 | -0.3698552 | -0.4163615 | -0.3091199 |  0.2903161 |  1.0000000 |  0.1815277 |  0.4299042 |\n",
       "| origin |  0.5652088 | -0.5689316 | -0.6145351 | -0.4551715 | -0.5850054 |  0.2127458 |  0.1815277 |  1.0000000 |  0.5136984 |\n",
       "| mpg01 |  0.8369392 | -0.7591939 | -0.7534766 | -0.6670526 | -0.7577566 |  0.3468215 |  0.4299042 |  0.5136984 |  1.0000000 |\n",
       "\n"
      ],
      "text/plain": [
       "             mpg        cylinders  displacement horsepower weight    \n",
       "mpg           1.0000000 -0.7776175 -0.8051269   -0.7784268 -0.8322442\n",
       "cylinders    -0.7776175  1.0000000  0.9508233    0.8429834  0.8975273\n",
       "displacement -0.8051269  0.9508233  1.0000000    0.8972570  0.9329944\n",
       "horsepower   -0.7784268  0.8429834  0.8972570    1.0000000  0.8645377\n",
       "weight       -0.8322442  0.8975273  0.9329944    0.8645377  1.0000000\n",
       "acceleration  0.4233285 -0.5046834 -0.5438005   -0.6891955 -0.4168392\n",
       "year          0.5805410 -0.3456474 -0.3698552   -0.4163615 -0.3091199\n",
       "origin        0.5652088 -0.5689316 -0.6145351   -0.4551715 -0.5850054\n",
       "mpg01         0.8369392 -0.7591939 -0.7534766   -0.6670526 -0.7577566\n",
       "             acceleration year       origin     mpg01     \n",
       "mpg           0.4233285    0.5805410  0.5652088  0.8369392\n",
       "cylinders    -0.5046834   -0.3456474 -0.5689316 -0.7591939\n",
       "displacement -0.5438005   -0.3698552 -0.6145351 -0.7534766\n",
       "horsepower   -0.6891955   -0.4163615 -0.4551715 -0.6670526\n",
       "weight       -0.4168392   -0.3091199 -0.5850054 -0.7577566\n",
       "acceleration  1.0000000    0.2903161  0.2127458  0.3468215\n",
       "year          0.2903161    1.0000000  0.1815277  0.4299042\n",
       "origin        0.2127458    0.1815277  1.0000000  0.5136984\n",
       "mpg01         0.3468215    0.4299042  0.5136984  1.0000000"
      ]
     },
     "metadata": {},
     "output_type": "display_data"
    },
    {
     "data": {
      "text/html": [
       "<table class=\"dataframe\">\n",
       "<caption>A data.frame: 392 × 10</caption>\n",
       "<thead>\n",
       "\t<tr><th></th><th scope=col>mpg</th><th scope=col>cylinders</th><th scope=col>displacement</th><th scope=col>horsepower</th><th scope=col>weight</th><th scope=col>acceleration</th><th scope=col>year</th><th scope=col>origin</th><th scope=col>name</th><th scope=col>mpg01</th></tr>\n",
       "\t<tr><th></th><th scope=col>&lt;dbl&gt;</th><th scope=col>&lt;dbl&gt;</th><th scope=col>&lt;dbl&gt;</th><th scope=col>&lt;dbl&gt;</th><th scope=col>&lt;dbl&gt;</th><th scope=col>&lt;dbl&gt;</th><th scope=col>&lt;dbl&gt;</th><th scope=col>&lt;dbl&gt;</th><th scope=col>&lt;fct&gt;</th><th scope=col>&lt;dbl&gt;</th></tr>\n",
       "</thead>\n",
       "<tbody>\n",
       "\t<tr><th scope=row>1</th><td>18</td><td>8</td><td>307</td><td>130</td><td>3504</td><td>12.0</td><td>70</td><td>1</td><td>chevrolet chevelle malibu   </td><td>0</td></tr>\n",
       "\t<tr><th scope=row>2</th><td>15</td><td>8</td><td>350</td><td>165</td><td>3693</td><td>11.5</td><td>70</td><td>1</td><td>buick skylark 320           </td><td>0</td></tr>\n",
       "\t<tr><th scope=row>3</th><td>18</td><td>8</td><td>318</td><td>150</td><td>3436</td><td>11.0</td><td>70</td><td>1</td><td>plymouth satellite          </td><td>0</td></tr>\n",
       "\t<tr><th scope=row>4</th><td>16</td><td>8</td><td>304</td><td>150</td><td>3433</td><td>12.0</td><td>70</td><td>1</td><td>amc rebel sst               </td><td>0</td></tr>\n",
       "\t<tr><th scope=row>5</th><td>17</td><td>8</td><td>302</td><td>140</td><td>3449</td><td>10.5</td><td>70</td><td>1</td><td>ford torino                 </td><td>0</td></tr>\n",
       "\t<tr><th scope=row>6</th><td>15</td><td>8</td><td>429</td><td>198</td><td>4341</td><td>10.0</td><td>70</td><td>1</td><td>ford galaxie 500            </td><td>0</td></tr>\n",
       "\t<tr><th scope=row>7</th><td>14</td><td>8</td><td>454</td><td>220</td><td>4354</td><td> 9.0</td><td>70</td><td>1</td><td>chevrolet impala            </td><td>0</td></tr>\n",
       "\t<tr><th scope=row>8</th><td>14</td><td>8</td><td>440</td><td>215</td><td>4312</td><td> 8.5</td><td>70</td><td>1</td><td>plymouth fury iii           </td><td>0</td></tr>\n",
       "\t<tr><th scope=row>9</th><td>14</td><td>8</td><td>455</td><td>225</td><td>4425</td><td>10.0</td><td>70</td><td>1</td><td>pontiac catalina            </td><td>0</td></tr>\n",
       "\t<tr><th scope=row>10</th><td>15</td><td>8</td><td>390</td><td>190</td><td>3850</td><td> 8.5</td><td>70</td><td>1</td><td>amc ambassador dpl          </td><td>0</td></tr>\n",
       "\t<tr><th scope=row>11</th><td>15</td><td>8</td><td>383</td><td>170</td><td>3563</td><td>10.0</td><td>70</td><td>1</td><td>dodge challenger se         </td><td>0</td></tr>\n",
       "\t<tr><th scope=row>12</th><td>14</td><td>8</td><td>340</td><td>160</td><td>3609</td><td> 8.0</td><td>70</td><td>1</td><td>plymouth 'cuda 340          </td><td>0</td></tr>\n",
       "\t<tr><th scope=row>13</th><td>15</td><td>8</td><td>400</td><td>150</td><td>3761</td><td> 9.5</td><td>70</td><td>1</td><td>chevrolet monte carlo       </td><td>0</td></tr>\n",
       "\t<tr><th scope=row>14</th><td>14</td><td>8</td><td>455</td><td>225</td><td>3086</td><td>10.0</td><td>70</td><td>1</td><td>buick estate wagon (sw)     </td><td>0</td></tr>\n",
       "\t<tr><th scope=row>15</th><td>24</td><td>4</td><td>113</td><td> 95</td><td>2372</td><td>15.0</td><td>70</td><td>3</td><td>toyota corona mark ii       </td><td>1</td></tr>\n",
       "\t<tr><th scope=row>16</th><td>22</td><td>6</td><td>198</td><td> 95</td><td>2833</td><td>15.5</td><td>70</td><td>1</td><td>plymouth duster             </td><td>0</td></tr>\n",
       "\t<tr><th scope=row>17</th><td>18</td><td>6</td><td>199</td><td> 97</td><td>2774</td><td>15.5</td><td>70</td><td>1</td><td>amc hornet                  </td><td>0</td></tr>\n",
       "\t<tr><th scope=row>18</th><td>21</td><td>6</td><td>200</td><td> 85</td><td>2587</td><td>16.0</td><td>70</td><td>1</td><td>ford maverick               </td><td>0</td></tr>\n",
       "\t<tr><th scope=row>19</th><td>27</td><td>4</td><td> 97</td><td> 88</td><td>2130</td><td>14.5</td><td>70</td><td>3</td><td>datsun pl510                </td><td>1</td></tr>\n",
       "\t<tr><th scope=row>20</th><td>26</td><td>4</td><td> 97</td><td> 46</td><td>1835</td><td>20.5</td><td>70</td><td>2</td><td>volkswagen 1131 deluxe sedan</td><td>1</td></tr>\n",
       "\t<tr><th scope=row>21</th><td>25</td><td>4</td><td>110</td><td> 87</td><td>2672</td><td>17.5</td><td>70</td><td>2</td><td>peugeot 504                 </td><td>1</td></tr>\n",
       "\t<tr><th scope=row>22</th><td>24</td><td>4</td><td>107</td><td> 90</td><td>2430</td><td>14.5</td><td>70</td><td>2</td><td>audi 100 ls                 </td><td>1</td></tr>\n",
       "\t<tr><th scope=row>23</th><td>25</td><td>4</td><td>104</td><td> 95</td><td>2375</td><td>17.5</td><td>70</td><td>2</td><td>saab 99e                    </td><td>1</td></tr>\n",
       "\t<tr><th scope=row>24</th><td>26</td><td>4</td><td>121</td><td>113</td><td>2234</td><td>12.5</td><td>70</td><td>2</td><td>bmw 2002                    </td><td>1</td></tr>\n",
       "\t<tr><th scope=row>25</th><td>21</td><td>6</td><td>199</td><td> 90</td><td>2648</td><td>15.0</td><td>70</td><td>1</td><td>amc gremlin                 </td><td>0</td></tr>\n",
       "\t<tr><th scope=row>26</th><td>10</td><td>8</td><td>360</td><td>215</td><td>4615</td><td>14.0</td><td>70</td><td>1</td><td>ford f250                   </td><td>0</td></tr>\n",
       "\t<tr><th scope=row>27</th><td>10</td><td>8</td><td>307</td><td>200</td><td>4376</td><td>15.0</td><td>70</td><td>1</td><td>chevy c20                   </td><td>0</td></tr>\n",
       "\t<tr><th scope=row>28</th><td>11</td><td>8</td><td>318</td><td>210</td><td>4382</td><td>13.5</td><td>70</td><td>1</td><td>dodge d200                  </td><td>0</td></tr>\n",
       "\t<tr><th scope=row>29</th><td> 9</td><td>8</td><td>304</td><td>193</td><td>4732</td><td>18.5</td><td>70</td><td>1</td><td>hi 1200d                    </td><td>0</td></tr>\n",
       "\t<tr><th scope=row>30</th><td>27</td><td>4</td><td> 97</td><td> 88</td><td>2130</td><td>14.5</td><td>71</td><td>3</td><td>datsun pl510                </td><td>1</td></tr>\n",
       "\t<tr><th scope=row>...</th><td>...</td><td>...</td><td>...</td><td>...</td><td>...</td><td>...</td><td>...</td><td>...</td><td>...</td><td>...</td></tr>\n",
       "\t<tr><th scope=row>368</th><td>28</td><td>4</td><td>112</td><td> 88</td><td>2605</td><td>19.6</td><td>82</td><td>1</td><td>chevrolet cavalier               </td><td>1</td></tr>\n",
       "\t<tr><th scope=row>369</th><td>27</td><td>4</td><td>112</td><td> 88</td><td>2640</td><td>18.6</td><td>82</td><td>1</td><td>chevrolet cavalier wagon         </td><td>1</td></tr>\n",
       "\t<tr><th scope=row>370</th><td>34</td><td>4</td><td>112</td><td> 88</td><td>2395</td><td>18.0</td><td>82</td><td>1</td><td>chevrolet cavalier 2-door        </td><td>1</td></tr>\n",
       "\t<tr><th scope=row>371</th><td>31</td><td>4</td><td>112</td><td> 85</td><td>2575</td><td>16.2</td><td>82</td><td>1</td><td>pontiac j2000 se hatchback       </td><td>1</td></tr>\n",
       "\t<tr><th scope=row>372</th><td>29</td><td>4</td><td>135</td><td> 84</td><td>2525</td><td>16.0</td><td>82</td><td>1</td><td>dodge aries se                   </td><td>1</td></tr>\n",
       "\t<tr><th scope=row>373</th><td>27</td><td>4</td><td>151</td><td> 90</td><td>2735</td><td>18.0</td><td>82</td><td>1</td><td>pontiac phoenix                  </td><td>1</td></tr>\n",
       "\t<tr><th scope=row>374</th><td>24</td><td>4</td><td>140</td><td> 92</td><td>2865</td><td>16.4</td><td>82</td><td>1</td><td>ford fairmont futura             </td><td>1</td></tr>\n",
       "\t<tr><th scope=row>375</th><td>36</td><td>4</td><td>105</td><td> 74</td><td>1980</td><td>15.3</td><td>82</td><td>2</td><td>volkswagen rabbit l              </td><td>1</td></tr>\n",
       "\t<tr><th scope=row>376</th><td>37</td><td>4</td><td> 91</td><td> 68</td><td>2025</td><td>18.2</td><td>82</td><td>3</td><td>mazda glc custom l               </td><td>1</td></tr>\n",
       "\t<tr><th scope=row>377</th><td>31</td><td>4</td><td> 91</td><td> 68</td><td>1970</td><td>17.6</td><td>82</td><td>3</td><td>mazda glc custom                 </td><td>1</td></tr>\n",
       "\t<tr><th scope=row>378</th><td>38</td><td>4</td><td>105</td><td> 63</td><td>2125</td><td>14.7</td><td>82</td><td>1</td><td>plymouth horizon miser           </td><td>1</td></tr>\n",
       "\t<tr><th scope=row>379</th><td>36</td><td>4</td><td> 98</td><td> 70</td><td>2125</td><td>17.3</td><td>82</td><td>1</td><td>mercury lynx l                   </td><td>1</td></tr>\n",
       "\t<tr><th scope=row>380</th><td>36</td><td>4</td><td>120</td><td> 88</td><td>2160</td><td>14.5</td><td>82</td><td>3</td><td>nissan stanza xe                 </td><td>1</td></tr>\n",
       "\t<tr><th scope=row>381</th><td>36</td><td>4</td><td>107</td><td> 75</td><td>2205</td><td>14.5</td><td>82</td><td>3</td><td>honda accord                     </td><td>1</td></tr>\n",
       "\t<tr><th scope=row>382</th><td>34</td><td>4</td><td>108</td><td> 70</td><td>2245</td><td>16.9</td><td>82</td><td>3</td><td>toyota corolla                   </td><td>1</td></tr>\n",
       "\t<tr><th scope=row>383</th><td>38</td><td>4</td><td> 91</td><td> 67</td><td>1965</td><td>15.0</td><td>82</td><td>3</td><td>honda civic                      </td><td>1</td></tr>\n",
       "\t<tr><th scope=row>384</th><td>32</td><td>4</td><td> 91</td><td> 67</td><td>1965</td><td>15.7</td><td>82</td><td>3</td><td>honda civic (auto)               </td><td>1</td></tr>\n",
       "\t<tr><th scope=row>385</th><td>38</td><td>4</td><td> 91</td><td> 67</td><td>1995</td><td>16.2</td><td>82</td><td>3</td><td>datsun 310 gx                    </td><td>1</td></tr>\n",
       "\t<tr><th scope=row>386</th><td>25</td><td>6</td><td>181</td><td>110</td><td>2945</td><td>16.4</td><td>82</td><td>1</td><td>buick century limited            </td><td>1</td></tr>\n",
       "\t<tr><th scope=row>387</th><td>38</td><td>6</td><td>262</td><td> 85</td><td>3015</td><td>17.0</td><td>82</td><td>1</td><td>oldsmobile cutlass ciera (diesel)</td><td>1</td></tr>\n",
       "\t<tr><th scope=row>388</th><td>26</td><td>4</td><td>156</td><td> 92</td><td>2585</td><td>14.5</td><td>82</td><td>1</td><td>chrysler lebaron medallion       </td><td>1</td></tr>\n",
       "\t<tr><th scope=row>389</th><td>22</td><td>6</td><td>232</td><td>112</td><td>2835</td><td>14.7</td><td>82</td><td>1</td><td>ford granada l                   </td><td>0</td></tr>\n",
       "\t<tr><th scope=row>390</th><td>32</td><td>4</td><td>144</td><td> 96</td><td>2665</td><td>13.9</td><td>82</td><td>3</td><td>toyota celica gt                 </td><td>1</td></tr>\n",
       "\t<tr><th scope=row>391</th><td>36</td><td>4</td><td>135</td><td> 84</td><td>2370</td><td>13.0</td><td>82</td><td>1</td><td>dodge charger 2.2                </td><td>1</td></tr>\n",
       "\t<tr><th scope=row>392</th><td>27</td><td>4</td><td>151</td><td> 90</td><td>2950</td><td>17.3</td><td>82</td><td>1</td><td>chevrolet camaro                 </td><td>1</td></tr>\n",
       "\t<tr><th scope=row>393</th><td>27</td><td>4</td><td>140</td><td> 86</td><td>2790</td><td>15.6</td><td>82</td><td>1</td><td>ford mustang gl                  </td><td>1</td></tr>\n",
       "\t<tr><th scope=row>394</th><td>44</td><td>4</td><td> 97</td><td> 52</td><td>2130</td><td>24.6</td><td>82</td><td>2</td><td>vw pickup                        </td><td>1</td></tr>\n",
       "\t<tr><th scope=row>395</th><td>32</td><td>4</td><td>135</td><td> 84</td><td>2295</td><td>11.6</td><td>82</td><td>1</td><td>dodge rampage                    </td><td>1</td></tr>\n",
       "\t<tr><th scope=row>396</th><td>28</td><td>4</td><td>120</td><td> 79</td><td>2625</td><td>18.6</td><td>82</td><td>1</td><td>ford ranger                      </td><td>1</td></tr>\n",
       "\t<tr><th scope=row>397</th><td>31</td><td>4</td><td>119</td><td> 82</td><td>2720</td><td>19.4</td><td>82</td><td>1</td><td>chevy s-10                       </td><td>1</td></tr>\n",
       "</tbody>\n",
       "</table>\n"
      ],
      "text/latex": [
       "A data.frame: 392 × 10\n",
       "\\begin{tabular}{r|llllllllll}\n",
       "  & mpg & cylinders & displacement & horsepower & weight & acceleration & year & origin & name & mpg01\\\\\n",
       "  & <dbl> & <dbl> & <dbl> & <dbl> & <dbl> & <dbl> & <dbl> & <dbl> & <fct> & <dbl>\\\\\n",
       "\\hline\n",
       "\t1 & 18 & 8 & 307 & 130 & 3504 & 12.0 & 70 & 1 & chevrolet chevelle malibu    & 0\\\\\n",
       "\t2 & 15 & 8 & 350 & 165 & 3693 & 11.5 & 70 & 1 & buick skylark 320            & 0\\\\\n",
       "\t3 & 18 & 8 & 318 & 150 & 3436 & 11.0 & 70 & 1 & plymouth satellite           & 0\\\\\n",
       "\t4 & 16 & 8 & 304 & 150 & 3433 & 12.0 & 70 & 1 & amc rebel sst                & 0\\\\\n",
       "\t5 & 17 & 8 & 302 & 140 & 3449 & 10.5 & 70 & 1 & ford torino                  & 0\\\\\n",
       "\t6 & 15 & 8 & 429 & 198 & 4341 & 10.0 & 70 & 1 & ford galaxie 500             & 0\\\\\n",
       "\t7 & 14 & 8 & 454 & 220 & 4354 &  9.0 & 70 & 1 & chevrolet impala             & 0\\\\\n",
       "\t8 & 14 & 8 & 440 & 215 & 4312 &  8.5 & 70 & 1 & plymouth fury iii            & 0\\\\\n",
       "\t9 & 14 & 8 & 455 & 225 & 4425 & 10.0 & 70 & 1 & pontiac catalina             & 0\\\\\n",
       "\t10 & 15 & 8 & 390 & 190 & 3850 &  8.5 & 70 & 1 & amc ambassador dpl           & 0\\\\\n",
       "\t11 & 15 & 8 & 383 & 170 & 3563 & 10.0 & 70 & 1 & dodge challenger se          & 0\\\\\n",
       "\t12 & 14 & 8 & 340 & 160 & 3609 &  8.0 & 70 & 1 & plymouth 'cuda 340           & 0\\\\\n",
       "\t13 & 15 & 8 & 400 & 150 & 3761 &  9.5 & 70 & 1 & chevrolet monte carlo        & 0\\\\\n",
       "\t14 & 14 & 8 & 455 & 225 & 3086 & 10.0 & 70 & 1 & buick estate wagon (sw)      & 0\\\\\n",
       "\t15 & 24 & 4 & 113 &  95 & 2372 & 15.0 & 70 & 3 & toyota corona mark ii        & 1\\\\\n",
       "\t16 & 22 & 6 & 198 &  95 & 2833 & 15.5 & 70 & 1 & plymouth duster              & 0\\\\\n",
       "\t17 & 18 & 6 & 199 &  97 & 2774 & 15.5 & 70 & 1 & amc hornet                   & 0\\\\\n",
       "\t18 & 21 & 6 & 200 &  85 & 2587 & 16.0 & 70 & 1 & ford maverick                & 0\\\\\n",
       "\t19 & 27 & 4 &  97 &  88 & 2130 & 14.5 & 70 & 3 & datsun pl510                 & 1\\\\\n",
       "\t20 & 26 & 4 &  97 &  46 & 1835 & 20.5 & 70 & 2 & volkswagen 1131 deluxe sedan & 1\\\\\n",
       "\t21 & 25 & 4 & 110 &  87 & 2672 & 17.5 & 70 & 2 & peugeot 504                  & 1\\\\\n",
       "\t22 & 24 & 4 & 107 &  90 & 2430 & 14.5 & 70 & 2 & audi 100 ls                  & 1\\\\\n",
       "\t23 & 25 & 4 & 104 &  95 & 2375 & 17.5 & 70 & 2 & saab 99e                     & 1\\\\\n",
       "\t24 & 26 & 4 & 121 & 113 & 2234 & 12.5 & 70 & 2 & bmw 2002                     & 1\\\\\n",
       "\t25 & 21 & 6 & 199 &  90 & 2648 & 15.0 & 70 & 1 & amc gremlin                  & 0\\\\\n",
       "\t26 & 10 & 8 & 360 & 215 & 4615 & 14.0 & 70 & 1 & ford f250                    & 0\\\\\n",
       "\t27 & 10 & 8 & 307 & 200 & 4376 & 15.0 & 70 & 1 & chevy c20                    & 0\\\\\n",
       "\t28 & 11 & 8 & 318 & 210 & 4382 & 13.5 & 70 & 1 & dodge d200                   & 0\\\\\n",
       "\t29 &  9 & 8 & 304 & 193 & 4732 & 18.5 & 70 & 1 & hi 1200d                     & 0\\\\\n",
       "\t30 & 27 & 4 &  97 &  88 & 2130 & 14.5 & 71 & 3 & datsun pl510                 & 1\\\\\n",
       "\t... & ... & ... & ... & ... & ... & ... & ... & ... & ... & ...\\\\\n",
       "\t368 & 28 & 4 & 112 &  88 & 2605 & 19.6 & 82 & 1 & chevrolet cavalier                & 1\\\\\n",
       "\t369 & 27 & 4 & 112 &  88 & 2640 & 18.6 & 82 & 1 & chevrolet cavalier wagon          & 1\\\\\n",
       "\t370 & 34 & 4 & 112 &  88 & 2395 & 18.0 & 82 & 1 & chevrolet cavalier 2-door         & 1\\\\\n",
       "\t371 & 31 & 4 & 112 &  85 & 2575 & 16.2 & 82 & 1 & pontiac j2000 se hatchback        & 1\\\\\n",
       "\t372 & 29 & 4 & 135 &  84 & 2525 & 16.0 & 82 & 1 & dodge aries se                    & 1\\\\\n",
       "\t373 & 27 & 4 & 151 &  90 & 2735 & 18.0 & 82 & 1 & pontiac phoenix                   & 1\\\\\n",
       "\t374 & 24 & 4 & 140 &  92 & 2865 & 16.4 & 82 & 1 & ford fairmont futura              & 1\\\\\n",
       "\t375 & 36 & 4 & 105 &  74 & 1980 & 15.3 & 82 & 2 & volkswagen rabbit l               & 1\\\\\n",
       "\t376 & 37 & 4 &  91 &  68 & 2025 & 18.2 & 82 & 3 & mazda glc custom l                & 1\\\\\n",
       "\t377 & 31 & 4 &  91 &  68 & 1970 & 17.6 & 82 & 3 & mazda glc custom                  & 1\\\\\n",
       "\t378 & 38 & 4 & 105 &  63 & 2125 & 14.7 & 82 & 1 & plymouth horizon miser            & 1\\\\\n",
       "\t379 & 36 & 4 &  98 &  70 & 2125 & 17.3 & 82 & 1 & mercury lynx l                    & 1\\\\\n",
       "\t380 & 36 & 4 & 120 &  88 & 2160 & 14.5 & 82 & 3 & nissan stanza xe                  & 1\\\\\n",
       "\t381 & 36 & 4 & 107 &  75 & 2205 & 14.5 & 82 & 3 & honda accord                      & 1\\\\\n",
       "\t382 & 34 & 4 & 108 &  70 & 2245 & 16.9 & 82 & 3 & toyota corolla                    & 1\\\\\n",
       "\t383 & 38 & 4 &  91 &  67 & 1965 & 15.0 & 82 & 3 & honda civic                       & 1\\\\\n",
       "\t384 & 32 & 4 &  91 &  67 & 1965 & 15.7 & 82 & 3 & honda civic (auto)                & 1\\\\\n",
       "\t385 & 38 & 4 &  91 &  67 & 1995 & 16.2 & 82 & 3 & datsun 310 gx                     & 1\\\\\n",
       "\t386 & 25 & 6 & 181 & 110 & 2945 & 16.4 & 82 & 1 & buick century limited             & 1\\\\\n",
       "\t387 & 38 & 6 & 262 &  85 & 3015 & 17.0 & 82 & 1 & oldsmobile cutlass ciera (diesel) & 1\\\\\n",
       "\t388 & 26 & 4 & 156 &  92 & 2585 & 14.5 & 82 & 1 & chrysler lebaron medallion        & 1\\\\\n",
       "\t389 & 22 & 6 & 232 & 112 & 2835 & 14.7 & 82 & 1 & ford granada l                    & 0\\\\\n",
       "\t390 & 32 & 4 & 144 &  96 & 2665 & 13.9 & 82 & 3 & toyota celica gt                  & 1\\\\\n",
       "\t391 & 36 & 4 & 135 &  84 & 2370 & 13.0 & 82 & 1 & dodge charger 2.2                 & 1\\\\\n",
       "\t392 & 27 & 4 & 151 &  90 & 2950 & 17.3 & 82 & 1 & chevrolet camaro                  & 1\\\\\n",
       "\t393 & 27 & 4 & 140 &  86 & 2790 & 15.6 & 82 & 1 & ford mustang gl                   & 1\\\\\n",
       "\t394 & 44 & 4 &  97 &  52 & 2130 & 24.6 & 82 & 2 & vw pickup                         & 1\\\\\n",
       "\t395 & 32 & 4 & 135 &  84 & 2295 & 11.6 & 82 & 1 & dodge rampage                     & 1\\\\\n",
       "\t396 & 28 & 4 & 120 &  79 & 2625 & 18.6 & 82 & 1 & ford ranger                       & 1\\\\\n",
       "\t397 & 31 & 4 & 119 &  82 & 2720 & 19.4 & 82 & 1 & chevy s-10                        & 1\\\\\n",
       "\\end{tabular}\n"
      ],
      "text/markdown": [
       "\n",
       "A data.frame: 392 × 10\n",
       "\n",
       "| <!--/--> | mpg &lt;dbl&gt; | cylinders &lt;dbl&gt; | displacement &lt;dbl&gt; | horsepower &lt;dbl&gt; | weight &lt;dbl&gt; | acceleration &lt;dbl&gt; | year &lt;dbl&gt; | origin &lt;dbl&gt; | name &lt;fct&gt; | mpg01 &lt;dbl&gt; |\n",
       "|---|---|---|---|---|---|---|---|---|---|---|\n",
       "| 1 | 18 | 8 | 307 | 130 | 3504 | 12.0 | 70 | 1 | chevrolet chevelle malibu    | 0 |\n",
       "| 2 | 15 | 8 | 350 | 165 | 3693 | 11.5 | 70 | 1 | buick skylark 320            | 0 |\n",
       "| 3 | 18 | 8 | 318 | 150 | 3436 | 11.0 | 70 | 1 | plymouth satellite           | 0 |\n",
       "| 4 | 16 | 8 | 304 | 150 | 3433 | 12.0 | 70 | 1 | amc rebel sst                | 0 |\n",
       "| 5 | 17 | 8 | 302 | 140 | 3449 | 10.5 | 70 | 1 | ford torino                  | 0 |\n",
       "| 6 | 15 | 8 | 429 | 198 | 4341 | 10.0 | 70 | 1 | ford galaxie 500             | 0 |\n",
       "| 7 | 14 | 8 | 454 | 220 | 4354 |  9.0 | 70 | 1 | chevrolet impala             | 0 |\n",
       "| 8 | 14 | 8 | 440 | 215 | 4312 |  8.5 | 70 | 1 | plymouth fury iii            | 0 |\n",
       "| 9 | 14 | 8 | 455 | 225 | 4425 | 10.0 | 70 | 1 | pontiac catalina             | 0 |\n",
       "| 10 | 15 | 8 | 390 | 190 | 3850 |  8.5 | 70 | 1 | amc ambassador dpl           | 0 |\n",
       "| 11 | 15 | 8 | 383 | 170 | 3563 | 10.0 | 70 | 1 | dodge challenger se          | 0 |\n",
       "| 12 | 14 | 8 | 340 | 160 | 3609 |  8.0 | 70 | 1 | plymouth 'cuda 340           | 0 |\n",
       "| 13 | 15 | 8 | 400 | 150 | 3761 |  9.5 | 70 | 1 | chevrolet monte carlo        | 0 |\n",
       "| 14 | 14 | 8 | 455 | 225 | 3086 | 10.0 | 70 | 1 | buick estate wagon (sw)      | 0 |\n",
       "| 15 | 24 | 4 | 113 |  95 | 2372 | 15.0 | 70 | 3 | toyota corona mark ii        | 1 |\n",
       "| 16 | 22 | 6 | 198 |  95 | 2833 | 15.5 | 70 | 1 | plymouth duster              | 0 |\n",
       "| 17 | 18 | 6 | 199 |  97 | 2774 | 15.5 | 70 | 1 | amc hornet                   | 0 |\n",
       "| 18 | 21 | 6 | 200 |  85 | 2587 | 16.0 | 70 | 1 | ford maverick                | 0 |\n",
       "| 19 | 27 | 4 |  97 |  88 | 2130 | 14.5 | 70 | 3 | datsun pl510                 | 1 |\n",
       "| 20 | 26 | 4 |  97 |  46 | 1835 | 20.5 | 70 | 2 | volkswagen 1131 deluxe sedan | 1 |\n",
       "| 21 | 25 | 4 | 110 |  87 | 2672 | 17.5 | 70 | 2 | peugeot 504                  | 1 |\n",
       "| 22 | 24 | 4 | 107 |  90 | 2430 | 14.5 | 70 | 2 | audi 100 ls                  | 1 |\n",
       "| 23 | 25 | 4 | 104 |  95 | 2375 | 17.5 | 70 | 2 | saab 99e                     | 1 |\n",
       "| 24 | 26 | 4 | 121 | 113 | 2234 | 12.5 | 70 | 2 | bmw 2002                     | 1 |\n",
       "| 25 | 21 | 6 | 199 |  90 | 2648 | 15.0 | 70 | 1 | amc gremlin                  | 0 |\n",
       "| 26 | 10 | 8 | 360 | 215 | 4615 | 14.0 | 70 | 1 | ford f250                    | 0 |\n",
       "| 27 | 10 | 8 | 307 | 200 | 4376 | 15.0 | 70 | 1 | chevy c20                    | 0 |\n",
       "| 28 | 11 | 8 | 318 | 210 | 4382 | 13.5 | 70 | 1 | dodge d200                   | 0 |\n",
       "| 29 |  9 | 8 | 304 | 193 | 4732 | 18.5 | 70 | 1 | hi 1200d                     | 0 |\n",
       "| 30 | 27 | 4 |  97 |  88 | 2130 | 14.5 | 71 | 3 | datsun pl510                 | 1 |\n",
       "| ... | ... | ... | ... | ... | ... | ... | ... | ... | ... | ... |\n",
       "| 368 | 28 | 4 | 112 |  88 | 2605 | 19.6 | 82 | 1 | chevrolet cavalier                | 1 |\n",
       "| 369 | 27 | 4 | 112 |  88 | 2640 | 18.6 | 82 | 1 | chevrolet cavalier wagon          | 1 |\n",
       "| 370 | 34 | 4 | 112 |  88 | 2395 | 18.0 | 82 | 1 | chevrolet cavalier 2-door         | 1 |\n",
       "| 371 | 31 | 4 | 112 |  85 | 2575 | 16.2 | 82 | 1 | pontiac j2000 se hatchback        | 1 |\n",
       "| 372 | 29 | 4 | 135 |  84 | 2525 | 16.0 | 82 | 1 | dodge aries se                    | 1 |\n",
       "| 373 | 27 | 4 | 151 |  90 | 2735 | 18.0 | 82 | 1 | pontiac phoenix                   | 1 |\n",
       "| 374 | 24 | 4 | 140 |  92 | 2865 | 16.4 | 82 | 1 | ford fairmont futura              | 1 |\n",
       "| 375 | 36 | 4 | 105 |  74 | 1980 | 15.3 | 82 | 2 | volkswagen rabbit l               | 1 |\n",
       "| 376 | 37 | 4 |  91 |  68 | 2025 | 18.2 | 82 | 3 | mazda glc custom l                | 1 |\n",
       "| 377 | 31 | 4 |  91 |  68 | 1970 | 17.6 | 82 | 3 | mazda glc custom                  | 1 |\n",
       "| 378 | 38 | 4 | 105 |  63 | 2125 | 14.7 | 82 | 1 | plymouth horizon miser            | 1 |\n",
       "| 379 | 36 | 4 |  98 |  70 | 2125 | 17.3 | 82 | 1 | mercury lynx l                    | 1 |\n",
       "| 380 | 36 | 4 | 120 |  88 | 2160 | 14.5 | 82 | 3 | nissan stanza xe                  | 1 |\n",
       "| 381 | 36 | 4 | 107 |  75 | 2205 | 14.5 | 82 | 3 | honda accord                      | 1 |\n",
       "| 382 | 34 | 4 | 108 |  70 | 2245 | 16.9 | 82 | 3 | toyota corolla                    | 1 |\n",
       "| 383 | 38 | 4 |  91 |  67 | 1965 | 15.0 | 82 | 3 | honda civic                       | 1 |\n",
       "| 384 | 32 | 4 |  91 |  67 | 1965 | 15.7 | 82 | 3 | honda civic (auto)                | 1 |\n",
       "| 385 | 38 | 4 |  91 |  67 | 1995 | 16.2 | 82 | 3 | datsun 310 gx                     | 1 |\n",
       "| 386 | 25 | 6 | 181 | 110 | 2945 | 16.4 | 82 | 1 | buick century limited             | 1 |\n",
       "| 387 | 38 | 6 | 262 |  85 | 3015 | 17.0 | 82 | 1 | oldsmobile cutlass ciera (diesel) | 1 |\n",
       "| 388 | 26 | 4 | 156 |  92 | 2585 | 14.5 | 82 | 1 | chrysler lebaron medallion        | 1 |\n",
       "| 389 | 22 | 6 | 232 | 112 | 2835 | 14.7 | 82 | 1 | ford granada l                    | 0 |\n",
       "| 390 | 32 | 4 | 144 |  96 | 2665 | 13.9 | 82 | 3 | toyota celica gt                  | 1 |\n",
       "| 391 | 36 | 4 | 135 |  84 | 2370 | 13.0 | 82 | 1 | dodge charger 2.2                 | 1 |\n",
       "| 392 | 27 | 4 | 151 |  90 | 2950 | 17.3 | 82 | 1 | chevrolet camaro                  | 1 |\n",
       "| 393 | 27 | 4 | 140 |  86 | 2790 | 15.6 | 82 | 1 | ford mustang gl                   | 1 |\n",
       "| 394 | 44 | 4 |  97 |  52 | 2130 | 24.6 | 82 | 2 | vw pickup                         | 1 |\n",
       "| 395 | 32 | 4 | 135 |  84 | 2295 | 11.6 | 82 | 1 | dodge rampage                     | 1 |\n",
       "| 396 | 28 | 4 | 120 |  79 | 2625 | 18.6 | 82 | 1 | ford ranger                       | 1 |\n",
       "| 397 | 31 | 4 | 119 |  82 | 2720 | 19.4 | 82 | 1 | chevy s-10                        | 1 |\n",
       "\n"
      ],
      "text/plain": [
       "    mpg cylinders displacement horsepower weight acceleration year origin\n",
       "1   18  8         307          130        3504   12.0         70   1     \n",
       "2   15  8         350          165        3693   11.5         70   1     \n",
       "3   18  8         318          150        3436   11.0         70   1     \n",
       "4   16  8         304          150        3433   12.0         70   1     \n",
       "5   17  8         302          140        3449   10.5         70   1     \n",
       "6   15  8         429          198        4341   10.0         70   1     \n",
       "7   14  8         454          220        4354    9.0         70   1     \n",
       "8   14  8         440          215        4312    8.5         70   1     \n",
       "9   14  8         455          225        4425   10.0         70   1     \n",
       "10  15  8         390          190        3850    8.5         70   1     \n",
       "11  15  8         383          170        3563   10.0         70   1     \n",
       "12  14  8         340          160        3609    8.0         70   1     \n",
       "13  15  8         400          150        3761    9.5         70   1     \n",
       "14  14  8         455          225        3086   10.0         70   1     \n",
       "15  24  4         113           95        2372   15.0         70   3     \n",
       "16  22  6         198           95        2833   15.5         70   1     \n",
       "17  18  6         199           97        2774   15.5         70   1     \n",
       "18  21  6         200           85        2587   16.0         70   1     \n",
       "19  27  4          97           88        2130   14.5         70   3     \n",
       "20  26  4          97           46        1835   20.5         70   2     \n",
       "21  25  4         110           87        2672   17.5         70   2     \n",
       "22  24  4         107           90        2430   14.5         70   2     \n",
       "23  25  4         104           95        2375   17.5         70   2     \n",
       "24  26  4         121          113        2234   12.5         70   2     \n",
       "25  21  6         199           90        2648   15.0         70   1     \n",
       "26  10  8         360          215        4615   14.0         70   1     \n",
       "27  10  8         307          200        4376   15.0         70   1     \n",
       "28  11  8         318          210        4382   13.5         70   1     \n",
       "29   9  8         304          193        4732   18.5         70   1     \n",
       "30  27  4          97           88        2130   14.5         71   3     \n",
       "... ... ...       ...          ...        ...    ...          ...  ...   \n",
       "368 28  4         112           88        2605   19.6         82   1     \n",
       "369 27  4         112           88        2640   18.6         82   1     \n",
       "370 34  4         112           88        2395   18.0         82   1     \n",
       "371 31  4         112           85        2575   16.2         82   1     \n",
       "372 29  4         135           84        2525   16.0         82   1     \n",
       "373 27  4         151           90        2735   18.0         82   1     \n",
       "374 24  4         140           92        2865   16.4         82   1     \n",
       "375 36  4         105           74        1980   15.3         82   2     \n",
       "376 37  4          91           68        2025   18.2         82   3     \n",
       "377 31  4          91           68        1970   17.6         82   3     \n",
       "378 38  4         105           63        2125   14.7         82   1     \n",
       "379 36  4          98           70        2125   17.3         82   1     \n",
       "380 36  4         120           88        2160   14.5         82   3     \n",
       "381 36  4         107           75        2205   14.5         82   3     \n",
       "382 34  4         108           70        2245   16.9         82   3     \n",
       "383 38  4          91           67        1965   15.0         82   3     \n",
       "384 32  4          91           67        1965   15.7         82   3     \n",
       "385 38  4          91           67        1995   16.2         82   3     \n",
       "386 25  6         181          110        2945   16.4         82   1     \n",
       "387 38  6         262           85        3015   17.0         82   1     \n",
       "388 26  4         156           92        2585   14.5         82   1     \n",
       "389 22  6         232          112        2835   14.7         82   1     \n",
       "390 32  4         144           96        2665   13.9         82   3     \n",
       "391 36  4         135           84        2370   13.0         82   1     \n",
       "392 27  4         151           90        2950   17.3         82   1     \n",
       "393 27  4         140           86        2790   15.6         82   1     \n",
       "394 44  4          97           52        2130   24.6         82   2     \n",
       "395 32  4         135           84        2295   11.6         82   1     \n",
       "396 28  4         120           79        2625   18.6         82   1     \n",
       "397 31  4         119           82        2720   19.4         82   1     \n",
       "    name                              mpg01\n",
       "1   chevrolet chevelle malibu         0    \n",
       "2   buick skylark 320                 0    \n",
       "3   plymouth satellite                0    \n",
       "4   amc rebel sst                     0    \n",
       "5   ford torino                       0    \n",
       "6   ford galaxie 500                  0    \n",
       "7   chevrolet impala                  0    \n",
       "8   plymouth fury iii                 0    \n",
       "9   pontiac catalina                  0    \n",
       "10  amc ambassador dpl                0    \n",
       "11  dodge challenger se               0    \n",
       "12  plymouth 'cuda 340                0    \n",
       "13  chevrolet monte carlo             0    \n",
       "14  buick estate wagon (sw)           0    \n",
       "15  toyota corona mark ii             1    \n",
       "16  plymouth duster                   0    \n",
       "17  amc hornet                        0    \n",
       "18  ford maverick                     0    \n",
       "19  datsun pl510                      1    \n",
       "20  volkswagen 1131 deluxe sedan      1    \n",
       "21  peugeot 504                       1    \n",
       "22  audi 100 ls                       1    \n",
       "23  saab 99e                          1    \n",
       "24  bmw 2002                          1    \n",
       "25  amc gremlin                       0    \n",
       "26  ford f250                         0    \n",
       "27  chevy c20                         0    \n",
       "28  dodge d200                        0    \n",
       "29  hi 1200d                          0    \n",
       "30  datsun pl510                      1    \n",
       "... ...                               ...  \n",
       "368 chevrolet cavalier                1    \n",
       "369 chevrolet cavalier wagon          1    \n",
       "370 chevrolet cavalier 2-door         1    \n",
       "371 pontiac j2000 se hatchback        1    \n",
       "372 dodge aries se                    1    \n",
       "373 pontiac phoenix                   1    \n",
       "374 ford fairmont futura              1    \n",
       "375 volkswagen rabbit l               1    \n",
       "376 mazda glc custom l                1    \n",
       "377 mazda glc custom                  1    \n",
       "378 plymouth horizon miser            1    \n",
       "379 mercury lynx l                    1    \n",
       "380 nissan stanza xe                  1    \n",
       "381 honda accord                      1    \n",
       "382 toyota corolla                    1    \n",
       "383 honda civic                       1    \n",
       "384 honda civic (auto)                1    \n",
       "385 datsun 310 gx                     1    \n",
       "386 buick century limited             1    \n",
       "387 oldsmobile cutlass ciera (diesel) 1    \n",
       "388 chrysler lebaron medallion        1    \n",
       "389 ford granada l                    0    \n",
       "390 toyota celica gt                  1    \n",
       "391 dodge charger 2.2                 1    \n",
       "392 chevrolet camaro                  1    \n",
       "393 ford mustang gl                   1    \n",
       "394 vw pickup                         1    \n",
       "395 dodge rampage                     1    \n",
       "396 ford ranger                       1    \n",
       "397 chevy s-10                        1    "
      ]
     },
     "metadata": {},
     "output_type": "display_data"
    },
    {
     "data": {
      "image/png": "[encoded data removed]",
      "text/plain": [
       "plot without title"
      ]
     },
     "metadata": {
      "image/png": {
       "height": 420,
       "width": 420
      }
     },
     "output_type": "display_data"
    }
   ],
   "source": [
    "cor(Auto[, -9])\n",
    "Auto\n",
    "pairs(Auto)"
   ]
  },
  {
   "cell_type": "markdown",
   "id": "supreme-commonwealth",
   "metadata": {},
   "source": [
    "(c) Split the data into a training set and a test set."
   ]
  },
  {
   "cell_type": "code",
   "execution_count": 79,
   "id": "powerful-motion",
   "metadata": {},
   "outputs": [],
   "source": [
    "train <- (year %% 2 == 0)\n",
    "Auto.train <- Auto[train, ]\n",
    "Auto.test <- Auto[!train, ]\n",
    "mpg01.test <- mpg01[!train]"
   ]
  },
  {
   "cell_type": "markdown",
   "id": "alike-distributor",
   "metadata": {},
   "source": [
    "(d) Perform LDA on the training data in order to predict mpg01 using the variables that seemed most associated with mpg01 in (b). What is the test error of the model obtained?"
   ]
  },
  {
   "cell_type": "code",
   "execution_count": 89,
   "id": "continuing-taylor",
   "metadata": {},
   "outputs": [
    {
     "data": {
      "text/plain": [
       "Call:\n",
       "lda(mpg01 ~ cylinders + weight + displacement + horsepower, data = Auto, \n",
       "    subset = train)\n",
       "\n",
       "Prior probabilities of groups:\n",
       "        0         1 \n",
       "0.4571429 0.5428571 \n",
       "\n",
       "Group means:\n",
       "  cylinders   weight displacement horsepower\n",
       "0  6.812500 3604.823     271.7396  133.14583\n",
       "1  4.070175 2314.763     111.6623   77.92105\n",
       "\n",
       "Coefficients of linear discriminants:\n",
       "                       LD1\n",
       "cylinders    -0.6741402638\n",
       "weight       -0.0011465750\n",
       "displacement  0.0004481325\n",
       "horsepower    0.0059035377"
      ]
     },
     "metadata": {},
     "output_type": "display_data"
    },
    {
     "data": {
      "text/plain": [
       "   mpg01.test\n",
       "     0  1\n",
       "  0 86  9\n",
       "  1 14 73"
      ]
     },
     "metadata": {},
     "output_type": "display_data"
    },
    {
     "data": {
      "text/html": [
       "0.126373626373626"
      ],
      "text/latex": [
       "0.126373626373626"
      ],
      "text/markdown": [
       "0.126373626373626"
      ],
      "text/plain": [
       "[1] 0.1263736"
      ]
     },
     "metadata": {},
     "output_type": "display_data"
    }
   ],
   "source": [
    "fit.lda <- lda(mpg01 ~ cylinders + weight + displacement + horsepower, data = Auto, subset = train)\n",
    "fit.lda\n",
    "\n",
    "pred.lda <- predict(fit.lda, Auto.test)\n",
    "table(pred.lda$class, mpg01.test)\n",
    "\n",
    "mean(pred.lda$class != mpg01.test)"
   ]
  },
  {
   "cell_type": "markdown",
   "id": "ambient-stanford",
   "metadata": {},
   "source": [
    "- The test-error rate ist 12.6%."
   ]
  },
  {
   "cell_type": "markdown",
   "id": "affecting-northwest",
   "metadata": {},
   "source": [
    "(e) Perform QDA on the training data in order to predict mpg01 using the variables that seemed most associated with mpg01 in (b). What is the test error of the model obtained?"
   ]
  },
  {
   "cell_type": "code",
   "execution_count": 86,
   "id": "indirect-yahoo",
   "metadata": {},
   "outputs": [
    {
     "data": {
      "text/plain": [
       "Call:\n",
       "qda(mpg01 ~ cylinders + weight + displacement + horsepower, data = Auto, \n",
       "    subset = train)\n",
       "\n",
       "Prior probabilities of groups:\n",
       "        0         1 \n",
       "0.4571429 0.5428571 \n",
       "\n",
       "Group means:\n",
       "  cylinders   weight displacement horsepower\n",
       "0  6.812500 3604.823     271.7396  133.14583\n",
       "1  4.070175 2314.763     111.6623   77.92105"
      ]
     },
     "metadata": {},
     "output_type": "display_data"
    },
    {
     "data": {
      "text/plain": [
       "   mpg01.test\n",
       "     0  1\n",
       "  0 89 13\n",
       "  1 11 69"
      ]
     },
     "metadata": {},
     "output_type": "display_data"
    },
    {
     "data": {
      "text/html": [
       "0.131868131868132"
      ],
      "text/latex": [
       "0.131868131868132"
      ],
      "text/markdown": [
       "0.131868131868132"
      ],
      "text/plain": [
       "[1] 0.1318681"
      ]
     },
     "metadata": {},
     "output_type": "display_data"
    }
   ],
   "source": [
    "fit.qda <- qda(mpg01 ~ cylinders + weight + displacement + horsepower, data = Auto, subset = train)\n",
    "fit.qda\n",
    "\n",
    "pred.qda <- predict(fit.qda, Auto.test)\n",
    "table(pred.qda$class, mpg01.test)\n",
    "\n",
    "mean(pred.qda$class != mpg01.test)"
   ]
  },
  {
   "cell_type": "markdown",
   "id": "frequent-marketplace",
   "metadata": {},
   "source": [
    "- The test-error rate is 13.2%"
   ]
  },
  {
   "cell_type": "markdown",
   "id": "proved-boundary",
   "metadata": {},
   "source": [
    "(f) Perform logistic regression on the training data in order to pre- dict mpg01 using the variables that seemed most associated with mpg01 in (b). What is the test error of the model obtained?"
   ]
  },
  {
   "cell_type": "code",
   "execution_count": 87,
   "id": "sexual-victoria",
   "metadata": {},
   "outputs": [
    {
     "data": {
      "text/plain": [
       "\n",
       "Call:\n",
       "glm(formula = mpg01 ~ cylinders + weight + displacement + horsepower, \n",
       "    family = binomial, data = Auto, subset = train)\n",
       "\n",
       "Deviance Residuals: \n",
       "     Min        1Q    Median        3Q       Max  \n",
       "-2.48027  -0.03413   0.10583   0.29634   2.57584  \n",
       "\n",
       "Coefficients:\n",
       "              Estimate Std. Error z value Pr(>|z|)    \n",
       "(Intercept)  17.658730   3.409012   5.180 2.22e-07 ***\n",
       "cylinders    -1.028032   0.653607  -1.573   0.1158    \n",
       "weight       -0.002922   0.001137  -2.569   0.0102 *  \n",
       "displacement  0.002462   0.015030   0.164   0.8699    \n",
       "horsepower   -0.050611   0.025209  -2.008   0.0447 *  \n",
       "---\n",
       "Signif. codes:  0 '***' 0.001 '**' 0.01 '*' 0.05 '.' 0.1 ' ' 1\n",
       "\n",
       "(Dispersion parameter for binomial family taken to be 1)\n",
       "\n",
       "    Null deviance: 289.58  on 209  degrees of freedom\n",
       "Residual deviance:  83.24  on 205  degrees of freedom\n",
       "AIC: 93.24\n",
       "\n",
       "Number of Fisher Scoring iterations: 7\n"
      ]
     },
     "metadata": {},
     "output_type": "display_data"
    },
    {
     "data": {
      "text/plain": [
       "        mpg01.test\n",
       "pred.glm  0  1\n",
       "       0 89 11\n",
       "       1 11 71"
      ]
     },
     "metadata": {},
     "output_type": "display_data"
    },
    {
     "data": {
      "text/html": [
       "0.120879120879121"
      ],
      "text/latex": [
       "0.120879120879121"
      ],
      "text/markdown": [
       "0.120879120879121"
      ],
      "text/plain": [
       "[1] 0.1208791"
      ]
     },
     "metadata": {},
     "output_type": "display_data"
    }
   ],
   "source": [
    "fit.glm <- glm(mpg01 ~ cylinders + weight + displacement + horsepower, data = Auto, family = binomial, subset = train)\n",
    "summary(fit.glm)\n",
    "\n",
    "probs <- predict(fit.glm, Auto.test, type = \"response\")\n",
    "pred.glm <- rep(0, length(probs))\n",
    "pred.glm[probs > 0.5] <- 1\n",
    "table(pred.glm, mpg01.test)\n",
    "\n",
    "mean(pred.glm != mpg01.test)"
   ]
  },
  {
   "cell_type": "markdown",
   "id": "formed-blond",
   "metadata": {},
   "source": [
    "- The test-error rate is 12.1%"
   ]
  },
  {
   "cell_type": "markdown",
   "id": "ignored-vacuum",
   "metadata": {},
   "source": [
    "(g) Perform KNN on the training data, with several values of K, in order to predict mpg01. Use only the variables that seemed most associated with mpg01 in (b). What test errors do you obtain? Which value of K seems to perform the best on this data set?"
   ]
  },
  {
   "cell_type": "code",
   "execution_count": 88,
   "id": "south-impact",
   "metadata": {},
   "outputs": [
    {
     "data": {
      "text/plain": [
       "        mpg01.test\n",
       "pred.knn  0  1\n",
       "       0 83 11\n",
       "       1 17 71"
      ]
     },
     "metadata": {},
     "output_type": "display_data"
    },
    {
     "data": {
      "text/html": [
       "0.153846153846154"
      ],
      "text/latex": [
       "0.153846153846154"
      ],
      "text/markdown": [
       "0.153846153846154"
      ],
      "text/plain": [
       "[1] 0.1538462"
      ]
     },
     "metadata": {},
     "output_type": "display_data"
    },
    {
     "data": {
      "text/plain": [
       "        mpg01.test\n",
       "pred.knn  0  1\n",
       "       0 77  7\n",
       "       1 23 75"
      ]
     },
     "metadata": {},
     "output_type": "display_data"
    },
    {
     "data": {
      "text/html": [
       "0.164835164835165"
      ],
      "text/latex": [
       "0.164835164835165"
      ],
      "text/markdown": [
       "0.164835164835165"
      ],
      "text/plain": [
       "[1] 0.1648352"
      ]
     },
     "metadata": {},
     "output_type": "display_data"
    },
    {
     "data": {
      "text/plain": [
       "        mpg01.test\n",
       "pred.knn  0  1\n",
       "       0 81  7\n",
       "       1 19 75"
      ]
     },
     "metadata": {},
     "output_type": "display_data"
    },
    {
     "data": {
      "text/html": [
       "0.142857142857143"
      ],
      "text/latex": [
       "0.142857142857143"
      ],
      "text/markdown": [
       "0.142857142857143"
      ],
      "text/plain": [
       "[1] 0.1428571"
      ]
     },
     "metadata": {},
     "output_type": "display_data"
    }
   ],
   "source": [
    "train.X <- cbind(cylinders, weight, displacement, horsepower)[train, ]\n",
    "test.X <- cbind(cylinders, weight, displacement, horsepower)[!train, ]\n",
    "train.mpg01 <- mpg01[train]\n",
    "set.seed(1)\n",
    "pred.knn <- knn(train.X, test.X, train.mpg01, k = 1)\n",
    "table(pred.knn, mpg01.test)\n",
    "\n",
    "mean(pred.knn != mpg01.test)\n",
    "\n",
    "pred.knn <- knn(train.X, test.X, train.mpg01, k = 10)\n",
    "table(pred.knn, mpg01.test)\n",
    "\n",
    "mean(pred.knn != mpg01.test)\n",
    "\n",
    "pred.knn <- knn(train.X, test.X, train.mpg01, k = 100)\n",
    "table(pred.knn, mpg01.test)\n",
    "\n",
    "mean(pred.knn != mpg01.test)"
   ]
  },
  {
   "cell_type": "markdown",
   "id": "incredible-thinking",
   "metadata": {},
   "source": [
    "- The test-error rate is 15.4% for K =1 and 16.5% for K = 10 and 14.3% for K = 100. \n",
    "- A K value of 100 seems to perform the best. "
   ]
  },
  {
   "cell_type": "code",
   "execution_count": null,
   "id": "interior-startup",
   "metadata": {},
   "outputs": [],
   "source": []
  }
 ],
 "metadata": {
  "kernelspec": {
   "display_name": "R",
   "language": "R",
   "name": "ir"
  },
  "language_info": {
   "codemirror_mode": "r",
   "file_extension": ".r",
   "mimetype": "text/x-r-source",
   "name": "R",
   "pygments_lexer": "r",
   "version": "4.0.2"
  }
 },
 "nbformat": 4,
 "nbformat_minor": 5
}
