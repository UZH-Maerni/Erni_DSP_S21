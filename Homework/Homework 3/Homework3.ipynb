{
 "cells": [
  {
   "cell_type": "markdown",
   "id": "usual-people",
   "metadata": {},
   "source": [
    "## Homework 3: Data exploration and visualization\n",
    "\n",
    "\n",
    "> [VP] - on time. 21/22 points\n",
    "\n",
    "In this homework you will practice manipulating, exploring and visualizing data in order to answer questions about the data.\n",
    "\n",
    "Before you begin, download this notebook, and the files \"data/hw3_health_w.txt\" and \"data/hw3_health_m.txt\" to your computer and copy them to your own repository. As we discussed in the last class, the easiest way to do that is if you clone the class repository in a separate folder on your computer with the command:\n",
    "\n",
    "```git clone https://github.com/venpopov/DataSciencePsychUZH```\n",
    "\n",
    "If you have already cloned previously the class repository, you can update it on your computer with the new files by \"pulling\" information from github via the following command, which you need to run while your terminal is in your \"DataSciencePsychUZH\" folder:\n",
    "\n",
    "```git pull```\n",
    "\n"
   ]
  },
  {
   "cell_type": "markdown",
   "id": "recorded-split",
   "metadata": {},
   "source": [
    "### Loading and manipulating data\n",
    "\n",
    "The datasets `hw3_health_m.txt` and `hw3_health_w.txt` contain data for the average number of steps per day and the BMI index for a number of men and women, respectively.\n",
    "\n",
    "First, load the two datasets via the `read.table()` command. You need to specify that the first row of the files contains the variable names, by setting the `header = TRUE` argument in the `read.table()` command **(1 point)**:"
   ]
  },
  {
   "cell_type": "code",
   "execution_count": 8,
   "id": "reflected-matthew",
   "metadata": {
    "scrolled": true
   },
   "outputs": [
    {
     "data": {
      "text/html": [
       "<table class=\"dataframe\">\n",
       "<caption>A data.frame: 865 × 3</caption>\n",
       "<thead>\n",
       "\t<tr><th scope=col>ID</th><th scope=col>steps</th><th scope=col>bmi</th></tr>\n",
       "\t<tr><th scope=col>&lt;int&gt;</th><th scope=col>&lt;int&gt;</th><th scope=col>&lt;dbl&gt;</th></tr>\n",
       "</thead>\n",
       "<tbody>\n",
       "\t<tr><td> 1</td><td>15000</td><td>16.9</td></tr>\n",
       "\t<tr><td> 2</td><td>15000</td><td>16.9</td></tr>\n",
       "\t<tr><td> 6</td><td>14861</td><td>16.8</td></tr>\n",
       "\t<tr><td> 7</td><td>14861</td><td>16.8</td></tr>\n",
       "\t<tr><td> 8</td><td>14699</td><td>17.3</td></tr>\n",
       "\t<tr><td>10</td><td>14560</td><td>20.5</td></tr>\n",
       "\t<tr><td>11</td><td>14560</td><td>20.6</td></tr>\n",
       "\t<tr><td>13</td><td>14560</td><td>20.5</td></tr>\n",
       "\t<tr><td>17</td><td>14560</td><td>20.4</td></tr>\n",
       "\t<tr><td>18</td><td>14560</td><td>20.4</td></tr>\n",
       "\t<tr><td>19</td><td>14560</td><td>19.8</td></tr>\n",
       "\t<tr><td>20</td><td>14560</td><td>19.7</td></tr>\n",
       "\t<tr><td>22</td><td>14560</td><td>19.7</td></tr>\n",
       "\t<tr><td>24</td><td>14560</td><td>19.6</td></tr>\n",
       "\t<tr><td>25</td><td>14560</td><td>19.6</td></tr>\n",
       "\t<tr><td>27</td><td>14560</td><td>19.6</td></tr>\n",
       "\t<tr><td>29</td><td>14560</td><td>17.4</td></tr>\n",
       "\t<tr><td>30</td><td>14560</td><td>17.4</td></tr>\n",
       "\t<tr><td>32</td><td>14398</td><td>20.9</td></tr>\n",
       "\t<tr><td>37</td><td>14398</td><td>17.5</td></tr>\n",
       "\t<tr><td>40</td><td>14398</td><td>17.1</td></tr>\n",
       "\t<tr><td>42</td><td>14259</td><td>21.1</td></tr>\n",
       "\t<tr><td>43</td><td>14259</td><td>21.1</td></tr>\n",
       "\t<tr><td>46</td><td>14259</td><td>18.9</td></tr>\n",
       "\t<tr><td>47</td><td>14259</td><td>17.5</td></tr>\n",
       "\t<tr><td>49</td><td>14259</td><td>17.2</td></tr>\n",
       "\t<tr><td>50</td><td>14259</td><td>16.7</td></tr>\n",
       "\t<tr><td>51</td><td>14097</td><td>21.3</td></tr>\n",
       "\t<tr><td>52</td><td>14097</td><td>21.3</td></tr>\n",
       "\t<tr><td>54</td><td>14097</td><td>18.6</td></tr>\n",
       "\t<tr><td>...</td><td>...</td><td>...</td></tr>\n",
       "\t<tr><td>1641</td><td>1829</td><td>31.7</td></tr>\n",
       "\t<tr><td>1645</td><td>1829</td><td>28.6</td></tr>\n",
       "\t<tr><td>1647</td><td>1829</td><td>28.5</td></tr>\n",
       "\t<tr><td>1648</td><td>1829</td><td>28.6</td></tr>\n",
       "\t<tr><td>1650</td><td>1667</td><td>31.7</td></tr>\n",
       "\t<tr><td>1651</td><td>1667</td><td>28.9</td></tr>\n",
       "\t<tr><td>1655</td><td>1667</td><td>23.5</td></tr>\n",
       "\t<tr><td>1657</td><td>1667</td><td>23.5</td></tr>\n",
       "\t<tr><td>1658</td><td>1667</td><td>23.6</td></tr>\n",
       "\t<tr><td>1663</td><td>1528</td><td>23.6</td></tr>\n",
       "\t<tr><td>1664</td><td>1528</td><td>23.6</td></tr>\n",
       "\t<tr><td>1665</td><td>1366</td><td>31.1</td></tr>\n",
       "\t<tr><td>1673</td><td>1366</td><td>30.8</td></tr>\n",
       "\t<tr><td>1675</td><td>1366</td><td>30.9</td></tr>\n",
       "\t<tr><td>1678</td><td>1366</td><td>30.8</td></tr>\n",
       "\t<tr><td>1680</td><td>1366</td><td>30.8</td></tr>\n",
       "\t<tr><td>1685</td><td>1204</td><td>31.1</td></tr>\n",
       "\t<tr><td>1687</td><td>1204</td><td>31.1</td></tr>\n",
       "\t<tr><td>1688</td><td>1204</td><td>28.7</td></tr>\n",
       "\t<tr><td>1689</td><td>1204</td><td>28.7</td></tr>\n",
       "\t<tr><td>1693</td><td>1065</td><td>28.6</td></tr>\n",
       "\t<tr><td>1699</td><td> 903</td><td>30.2</td></tr>\n",
       "\t<tr><td>1705</td><td> 903</td><td>23.7</td></tr>\n",
       "\t<tr><td>1707</td><td> 764</td><td>30.4</td></tr>\n",
       "\t<tr><td>1708</td><td> 764</td><td>30.4</td></tr>\n",
       "\t<tr><td>1718</td><td> 602</td><td>30.7</td></tr>\n",
       "\t<tr><td>1735</td><td> 602</td><td>27.6</td></tr>\n",
       "\t<tr><td>1739</td><td> 602</td><td>24.2</td></tr>\n",
       "\t<tr><td>1747</td><td> 463</td><td>28.9</td></tr>\n",
       "\t<tr><td>1766</td><td> 301</td><td>24.8</td></tr>\n",
       "</tbody>\n",
       "</table>\n"
      ],
      "text/latex": [
       "A data.frame: 865 × 3\n",
       "\\begin{tabular}{lll}\n",
       " ID & steps & bmi\\\\\n",
       " <int> & <int> & <dbl>\\\\\n",
       "\\hline\n",
       "\t  1 & 15000 & 16.9\\\\\n",
       "\t  2 & 15000 & 16.9\\\\\n",
       "\t  6 & 14861 & 16.8\\\\\n",
       "\t  7 & 14861 & 16.8\\\\\n",
       "\t  8 & 14699 & 17.3\\\\\n",
       "\t 10 & 14560 & 20.5\\\\\n",
       "\t 11 & 14560 & 20.6\\\\\n",
       "\t 13 & 14560 & 20.5\\\\\n",
       "\t 17 & 14560 & 20.4\\\\\n",
       "\t 18 & 14560 & 20.4\\\\\n",
       "\t 19 & 14560 & 19.8\\\\\n",
       "\t 20 & 14560 & 19.7\\\\\n",
       "\t 22 & 14560 & 19.7\\\\\n",
       "\t 24 & 14560 & 19.6\\\\\n",
       "\t 25 & 14560 & 19.6\\\\\n",
       "\t 27 & 14560 & 19.6\\\\\n",
       "\t 29 & 14560 & 17.4\\\\\n",
       "\t 30 & 14560 & 17.4\\\\\n",
       "\t 32 & 14398 & 20.9\\\\\n",
       "\t 37 & 14398 & 17.5\\\\\n",
       "\t 40 & 14398 & 17.1\\\\\n",
       "\t 42 & 14259 & 21.1\\\\\n",
       "\t 43 & 14259 & 21.1\\\\\n",
       "\t 46 & 14259 & 18.9\\\\\n",
       "\t 47 & 14259 & 17.5\\\\\n",
       "\t 49 & 14259 & 17.2\\\\\n",
       "\t 50 & 14259 & 16.7\\\\\n",
       "\t 51 & 14097 & 21.3\\\\\n",
       "\t 52 & 14097 & 21.3\\\\\n",
       "\t 54 & 14097 & 18.6\\\\\n",
       "\t ... & ... & ...\\\\\n",
       "\t 1641 & 1829 & 31.7\\\\\n",
       "\t 1645 & 1829 & 28.6\\\\\n",
       "\t 1647 & 1829 & 28.5\\\\\n",
       "\t 1648 & 1829 & 28.6\\\\\n",
       "\t 1650 & 1667 & 31.7\\\\\n",
       "\t 1651 & 1667 & 28.9\\\\\n",
       "\t 1655 & 1667 & 23.5\\\\\n",
       "\t 1657 & 1667 & 23.5\\\\\n",
       "\t 1658 & 1667 & 23.6\\\\\n",
       "\t 1663 & 1528 & 23.6\\\\\n",
       "\t 1664 & 1528 & 23.6\\\\\n",
       "\t 1665 & 1366 & 31.1\\\\\n",
       "\t 1673 & 1366 & 30.8\\\\\n",
       "\t 1675 & 1366 & 30.9\\\\\n",
       "\t 1678 & 1366 & 30.8\\\\\n",
       "\t 1680 & 1366 & 30.8\\\\\n",
       "\t 1685 & 1204 & 31.1\\\\\n",
       "\t 1687 & 1204 & 31.1\\\\\n",
       "\t 1688 & 1204 & 28.7\\\\\n",
       "\t 1689 & 1204 & 28.7\\\\\n",
       "\t 1693 & 1065 & 28.6\\\\\n",
       "\t 1699 &  903 & 30.2\\\\\n",
       "\t 1705 &  903 & 23.7\\\\\n",
       "\t 1707 &  764 & 30.4\\\\\n",
       "\t 1708 &  764 & 30.4\\\\\n",
       "\t 1718 &  602 & 30.7\\\\\n",
       "\t 1735 &  602 & 27.6\\\\\n",
       "\t 1739 &  602 & 24.2\\\\\n",
       "\t 1747 &  463 & 28.9\\\\\n",
       "\t 1766 &  301 & 24.8\\\\\n",
       "\\end{tabular}\n"
      ],
      "text/markdown": [
       "\n",
       "A data.frame: 865 × 3\n",
       "\n",
       "| ID &lt;int&gt; | steps &lt;int&gt; | bmi &lt;dbl&gt; |\n",
       "|---|---|---|\n",
       "|  1 | 15000 | 16.9 |\n",
       "|  2 | 15000 | 16.9 |\n",
       "|  6 | 14861 | 16.8 |\n",
       "|  7 | 14861 | 16.8 |\n",
       "|  8 | 14699 | 17.3 |\n",
       "| 10 | 14560 | 20.5 |\n",
       "| 11 | 14560 | 20.6 |\n",
       "| 13 | 14560 | 20.5 |\n",
       "| 17 | 14560 | 20.4 |\n",
       "| 18 | 14560 | 20.4 |\n",
       "| 19 | 14560 | 19.8 |\n",
       "| 20 | 14560 | 19.7 |\n",
       "| 22 | 14560 | 19.7 |\n",
       "| 24 | 14560 | 19.6 |\n",
       "| 25 | 14560 | 19.6 |\n",
       "| 27 | 14560 | 19.6 |\n",
       "| 29 | 14560 | 17.4 |\n",
       "| 30 | 14560 | 17.4 |\n",
       "| 32 | 14398 | 20.9 |\n",
       "| 37 | 14398 | 17.5 |\n",
       "| 40 | 14398 | 17.1 |\n",
       "| 42 | 14259 | 21.1 |\n",
       "| 43 | 14259 | 21.1 |\n",
       "| 46 | 14259 | 18.9 |\n",
       "| 47 | 14259 | 17.5 |\n",
       "| 49 | 14259 | 17.2 |\n",
       "| 50 | 14259 | 16.7 |\n",
       "| 51 | 14097 | 21.3 |\n",
       "| 52 | 14097 | 21.3 |\n",
       "| 54 | 14097 | 18.6 |\n",
       "| ... | ... | ... |\n",
       "| 1641 | 1829 | 31.7 |\n",
       "| 1645 | 1829 | 28.6 |\n",
       "| 1647 | 1829 | 28.5 |\n",
       "| 1648 | 1829 | 28.6 |\n",
       "| 1650 | 1667 | 31.7 |\n",
       "| 1651 | 1667 | 28.9 |\n",
       "| 1655 | 1667 | 23.5 |\n",
       "| 1657 | 1667 | 23.5 |\n",
       "| 1658 | 1667 | 23.6 |\n",
       "| 1663 | 1528 | 23.6 |\n",
       "| 1664 | 1528 | 23.6 |\n",
       "| 1665 | 1366 | 31.1 |\n",
       "| 1673 | 1366 | 30.8 |\n",
       "| 1675 | 1366 | 30.9 |\n",
       "| 1678 | 1366 | 30.8 |\n",
       "| 1680 | 1366 | 30.8 |\n",
       "| 1685 | 1204 | 31.1 |\n",
       "| 1687 | 1204 | 31.1 |\n",
       "| 1688 | 1204 | 28.7 |\n",
       "| 1689 | 1204 | 28.7 |\n",
       "| 1693 | 1065 | 28.6 |\n",
       "| 1699 |  903 | 30.2 |\n",
       "| 1705 |  903 | 23.7 |\n",
       "| 1707 |  764 | 30.4 |\n",
       "| 1708 |  764 | 30.4 |\n",
       "| 1718 |  602 | 30.7 |\n",
       "| 1735 |  602 | 27.6 |\n",
       "| 1739 |  602 | 24.2 |\n",
       "| 1747 |  463 | 28.9 |\n",
       "| 1766 |  301 | 24.8 |\n",
       "\n"
      ],
      "text/plain": [
       "    ID   steps bmi \n",
       "1    1   15000 16.9\n",
       "2    2   15000 16.9\n",
       "3    6   14861 16.8\n",
       "4    7   14861 16.8\n",
       "5    8   14699 17.3\n",
       "6   10   14560 20.5\n",
       "7   11   14560 20.6\n",
       "8   13   14560 20.5\n",
       "9   17   14560 20.4\n",
       "10  18   14560 20.4\n",
       "11  19   14560 19.8\n",
       "12  20   14560 19.7\n",
       "13  22   14560 19.7\n",
       "14  24   14560 19.6\n",
       "15  25   14560 19.6\n",
       "16  27   14560 19.6\n",
       "17  29   14560 17.4\n",
       "18  30   14560 17.4\n",
       "19  32   14398 20.9\n",
       "20  37   14398 17.5\n",
       "21  40   14398 17.1\n",
       "22  42   14259 21.1\n",
       "23  43   14259 21.1\n",
       "24  46   14259 18.9\n",
       "25  47   14259 17.5\n",
       "26  49   14259 17.2\n",
       "27  50   14259 16.7\n",
       "28  51   14097 21.3\n",
       "29  52   14097 21.3\n",
       "30  54   14097 18.6\n",
       "... ...  ...   ... \n",
       "836 1641 1829  31.7\n",
       "837 1645 1829  28.6\n",
       "838 1647 1829  28.5\n",
       "839 1648 1829  28.6\n",
       "840 1650 1667  31.7\n",
       "841 1651 1667  28.9\n",
       "842 1655 1667  23.5\n",
       "843 1657 1667  23.5\n",
       "844 1658 1667  23.6\n",
       "845 1663 1528  23.6\n",
       "846 1664 1528  23.6\n",
       "847 1665 1366  31.1\n",
       "848 1673 1366  30.8\n",
       "849 1675 1366  30.9\n",
       "850 1678 1366  30.8\n",
       "851 1680 1366  30.8\n",
       "852 1685 1204  31.1\n",
       "853 1687 1204  31.1\n",
       "854 1688 1204  28.7\n",
       "855 1689 1204  28.7\n",
       "856 1693 1065  28.6\n",
       "857 1699  903  30.2\n",
       "858 1705  903  23.7\n",
       "859 1707  764  30.4\n",
       "860 1708  764  30.4\n",
       "861 1718  602  30.7\n",
       "862 1735  602  27.6\n",
       "863 1739  602  24.2\n",
       "864 1747  463  28.9\n",
       "865 1766  301  24.8"
      ]
     },
     "metadata": {},
     "output_type": "display_data"
    },
    {
     "data": {
      "text/html": [
       "<table class=\"dataframe\">\n",
       "<caption>A data.frame: 921 × 3</caption>\n",
       "<thead>\n",
       "\t<tr><th scope=col>ID</th><th scope=col>steps</th><th scope=col>bmi</th></tr>\n",
       "\t<tr><th scope=col>&lt;int&gt;</th><th scope=col>&lt;int&gt;</th><th scope=col>&lt;dbl&gt;</th></tr>\n",
       "</thead>\n",
       "<tbody>\n",
       "\t<tr><td> 3</td><td>15000</td><td>17.0</td></tr>\n",
       "\t<tr><td> 4</td><td>14861</td><td>17.2</td></tr>\n",
       "\t<tr><td> 5</td><td>14861</td><td>17.2</td></tr>\n",
       "\t<tr><td> 9</td><td>14699</td><td>16.8</td></tr>\n",
       "\t<tr><td>12</td><td>14560</td><td>20.4</td></tr>\n",
       "\t<tr><td>14</td><td>14560</td><td>20.5</td></tr>\n",
       "\t<tr><td>15</td><td>14560</td><td>20.5</td></tr>\n",
       "\t<tr><td>16</td><td>14560</td><td>20.5</td></tr>\n",
       "\t<tr><td>21</td><td>14560</td><td>19.7</td></tr>\n",
       "\t<tr><td>23</td><td>14560</td><td>19.6</td></tr>\n",
       "\t<tr><td>26</td><td>14560</td><td>19.7</td></tr>\n",
       "\t<tr><td>28</td><td>14560</td><td>19.7</td></tr>\n",
       "\t<tr><td>31</td><td>14560</td><td>16.7</td></tr>\n",
       "\t<tr><td>33</td><td>14398</td><td>20.9</td></tr>\n",
       "\t<tr><td>34</td><td>14398</td><td>19.2</td></tr>\n",
       "\t<tr><td>35</td><td>14398</td><td>19.1</td></tr>\n",
       "\t<tr><td>36</td><td>14398</td><td>19.2</td></tr>\n",
       "\t<tr><td>38</td><td>14398</td><td>17.0</td></tr>\n",
       "\t<tr><td>39</td><td>14398</td><td>17.0</td></tr>\n",
       "\t<tr><td>41</td><td>14398</td><td>16.7</td></tr>\n",
       "\t<tr><td>44</td><td>14259</td><td>18.9</td></tr>\n",
       "\t<tr><td>45</td><td>14259</td><td>18.9</td></tr>\n",
       "\t<tr><td>48</td><td>14259</td><td>17.2</td></tr>\n",
       "\t<tr><td>53</td><td>14097</td><td>21.3</td></tr>\n",
       "\t<tr><td>56</td><td>14097</td><td>17.6</td></tr>\n",
       "\t<tr><td>58</td><td>14097</td><td>17.3</td></tr>\n",
       "\t<tr><td>59</td><td>14097</td><td>16.7</td></tr>\n",
       "\t<tr><td>62</td><td>13958</td><td>18.5</td></tr>\n",
       "\t<tr><td>63</td><td>13958</td><td>18.4</td></tr>\n",
       "\t<tr><td>64</td><td>13958</td><td>17.6</td></tr>\n",
       "\t<tr><td>...</td><td>...</td><td>...</td></tr>\n",
       "\t<tr><td>1756</td><td>301</td><td>30.0</td></tr>\n",
       "\t<tr><td>1757</td><td>301</td><td>30.0</td></tr>\n",
       "\t<tr><td>1758</td><td>301</td><td>30.0</td></tr>\n",
       "\t<tr><td>1759</td><td>301</td><td>26.7</td></tr>\n",
       "\t<tr><td>1760</td><td>301</td><td>26.6</td></tr>\n",
       "\t<tr><td>1761</td><td>301</td><td>26.6</td></tr>\n",
       "\t<tr><td>1762</td><td>301</td><td>26.6</td></tr>\n",
       "\t<tr><td>1763</td><td>301</td><td>26.6</td></tr>\n",
       "\t<tr><td>1764</td><td>301</td><td>24.9</td></tr>\n",
       "\t<tr><td>1765</td><td>301</td><td>24.8</td></tr>\n",
       "\t<tr><td>1767</td><td>301</td><td>24.9</td></tr>\n",
       "\t<tr><td>1768</td><td>301</td><td>24.8</td></tr>\n",
       "\t<tr><td>1769</td><td>301</td><td>24.8</td></tr>\n",
       "\t<tr><td>1770</td><td>301</td><td>24.9</td></tr>\n",
       "\t<tr><td>1771</td><td>162</td><td>30.7</td></tr>\n",
       "\t<tr><td>1772</td><td>162</td><td>30.6</td></tr>\n",
       "\t<tr><td>1773</td><td>162</td><td>30.6</td></tr>\n",
       "\t<tr><td>1774</td><td>162</td><td>30.6</td></tr>\n",
       "\t<tr><td>1775</td><td>162</td><td>30.6</td></tr>\n",
       "\t<tr><td>1776</td><td>162</td><td>30.5</td></tr>\n",
       "\t<tr><td>1777</td><td>162</td><td>30.6</td></tr>\n",
       "\t<tr><td>1778</td><td>162</td><td>30.3</td></tr>\n",
       "\t<tr><td>1779</td><td>162</td><td>30.4</td></tr>\n",
       "\t<tr><td>1780</td><td>162</td><td>30.4</td></tr>\n",
       "\t<tr><td>1781</td><td>162</td><td>30.4</td></tr>\n",
       "\t<tr><td>1782</td><td>162</td><td>30.3</td></tr>\n",
       "\t<tr><td>1783</td><td>162</td><td>30.4</td></tr>\n",
       "\t<tr><td>1784</td><td>162</td><td>30.3</td></tr>\n",
       "\t<tr><td>1785</td><td>162</td><td>30.3</td></tr>\n",
       "\t<tr><td>1786</td><td>  0</td><td>15.0</td></tr>\n",
       "</tbody>\n",
       "</table>\n"
      ],
      "text/latex": [
       "A data.frame: 921 × 3\n",
       "\\begin{tabular}{lll}\n",
       " ID & steps & bmi\\\\\n",
       " <int> & <int> & <dbl>\\\\\n",
       "\\hline\n",
       "\t  3 & 15000 & 17.0\\\\\n",
       "\t  4 & 14861 & 17.2\\\\\n",
       "\t  5 & 14861 & 17.2\\\\\n",
       "\t  9 & 14699 & 16.8\\\\\n",
       "\t 12 & 14560 & 20.4\\\\\n",
       "\t 14 & 14560 & 20.5\\\\\n",
       "\t 15 & 14560 & 20.5\\\\\n",
       "\t 16 & 14560 & 20.5\\\\\n",
       "\t 21 & 14560 & 19.7\\\\\n",
       "\t 23 & 14560 & 19.6\\\\\n",
       "\t 26 & 14560 & 19.7\\\\\n",
       "\t 28 & 14560 & 19.7\\\\\n",
       "\t 31 & 14560 & 16.7\\\\\n",
       "\t 33 & 14398 & 20.9\\\\\n",
       "\t 34 & 14398 & 19.2\\\\\n",
       "\t 35 & 14398 & 19.1\\\\\n",
       "\t 36 & 14398 & 19.2\\\\\n",
       "\t 38 & 14398 & 17.0\\\\\n",
       "\t 39 & 14398 & 17.0\\\\\n",
       "\t 41 & 14398 & 16.7\\\\\n",
       "\t 44 & 14259 & 18.9\\\\\n",
       "\t 45 & 14259 & 18.9\\\\\n",
       "\t 48 & 14259 & 17.2\\\\\n",
       "\t 53 & 14097 & 21.3\\\\\n",
       "\t 56 & 14097 & 17.6\\\\\n",
       "\t 58 & 14097 & 17.3\\\\\n",
       "\t 59 & 14097 & 16.7\\\\\n",
       "\t 62 & 13958 & 18.5\\\\\n",
       "\t 63 & 13958 & 18.4\\\\\n",
       "\t 64 & 13958 & 17.6\\\\\n",
       "\t ... & ... & ...\\\\\n",
       "\t 1756 & 301 & 30.0\\\\\n",
       "\t 1757 & 301 & 30.0\\\\\n",
       "\t 1758 & 301 & 30.0\\\\\n",
       "\t 1759 & 301 & 26.7\\\\\n",
       "\t 1760 & 301 & 26.6\\\\\n",
       "\t 1761 & 301 & 26.6\\\\\n",
       "\t 1762 & 301 & 26.6\\\\\n",
       "\t 1763 & 301 & 26.6\\\\\n",
       "\t 1764 & 301 & 24.9\\\\\n",
       "\t 1765 & 301 & 24.8\\\\\n",
       "\t 1767 & 301 & 24.9\\\\\n",
       "\t 1768 & 301 & 24.8\\\\\n",
       "\t 1769 & 301 & 24.8\\\\\n",
       "\t 1770 & 301 & 24.9\\\\\n",
       "\t 1771 & 162 & 30.7\\\\\n",
       "\t 1772 & 162 & 30.6\\\\\n",
       "\t 1773 & 162 & 30.6\\\\\n",
       "\t 1774 & 162 & 30.6\\\\\n",
       "\t 1775 & 162 & 30.6\\\\\n",
       "\t 1776 & 162 & 30.5\\\\\n",
       "\t 1777 & 162 & 30.6\\\\\n",
       "\t 1778 & 162 & 30.3\\\\\n",
       "\t 1779 & 162 & 30.4\\\\\n",
       "\t 1780 & 162 & 30.4\\\\\n",
       "\t 1781 & 162 & 30.4\\\\\n",
       "\t 1782 & 162 & 30.3\\\\\n",
       "\t 1783 & 162 & 30.4\\\\\n",
       "\t 1784 & 162 & 30.3\\\\\n",
       "\t 1785 & 162 & 30.3\\\\\n",
       "\t 1786 &   0 & 15.0\\\\\n",
       "\\end{tabular}\n"
      ],
      "text/markdown": [
       "\n",
       "A data.frame: 921 × 3\n",
       "\n",
       "| ID &lt;int&gt; | steps &lt;int&gt; | bmi &lt;dbl&gt; |\n",
       "|---|---|---|\n",
       "|  3 | 15000 | 17.0 |\n",
       "|  4 | 14861 | 17.2 |\n",
       "|  5 | 14861 | 17.2 |\n",
       "|  9 | 14699 | 16.8 |\n",
       "| 12 | 14560 | 20.4 |\n",
       "| 14 | 14560 | 20.5 |\n",
       "| 15 | 14560 | 20.5 |\n",
       "| 16 | 14560 | 20.5 |\n",
       "| 21 | 14560 | 19.7 |\n",
       "| 23 | 14560 | 19.6 |\n",
       "| 26 | 14560 | 19.7 |\n",
       "| 28 | 14560 | 19.7 |\n",
       "| 31 | 14560 | 16.7 |\n",
       "| 33 | 14398 | 20.9 |\n",
       "| 34 | 14398 | 19.2 |\n",
       "| 35 | 14398 | 19.1 |\n",
       "| 36 | 14398 | 19.2 |\n",
       "| 38 | 14398 | 17.0 |\n",
       "| 39 | 14398 | 17.0 |\n",
       "| 41 | 14398 | 16.7 |\n",
       "| 44 | 14259 | 18.9 |\n",
       "| 45 | 14259 | 18.9 |\n",
       "| 48 | 14259 | 17.2 |\n",
       "| 53 | 14097 | 21.3 |\n",
       "| 56 | 14097 | 17.6 |\n",
       "| 58 | 14097 | 17.3 |\n",
       "| 59 | 14097 | 16.7 |\n",
       "| 62 | 13958 | 18.5 |\n",
       "| 63 | 13958 | 18.4 |\n",
       "| 64 | 13958 | 17.6 |\n",
       "| ... | ... | ... |\n",
       "| 1756 | 301 | 30.0 |\n",
       "| 1757 | 301 | 30.0 |\n",
       "| 1758 | 301 | 30.0 |\n",
       "| 1759 | 301 | 26.7 |\n",
       "| 1760 | 301 | 26.6 |\n",
       "| 1761 | 301 | 26.6 |\n",
       "| 1762 | 301 | 26.6 |\n",
       "| 1763 | 301 | 26.6 |\n",
       "| 1764 | 301 | 24.9 |\n",
       "| 1765 | 301 | 24.8 |\n",
       "| 1767 | 301 | 24.9 |\n",
       "| 1768 | 301 | 24.8 |\n",
       "| 1769 | 301 | 24.8 |\n",
       "| 1770 | 301 | 24.9 |\n",
       "| 1771 | 162 | 30.7 |\n",
       "| 1772 | 162 | 30.6 |\n",
       "| 1773 | 162 | 30.6 |\n",
       "| 1774 | 162 | 30.6 |\n",
       "| 1775 | 162 | 30.6 |\n",
       "| 1776 | 162 | 30.5 |\n",
       "| 1777 | 162 | 30.6 |\n",
       "| 1778 | 162 | 30.3 |\n",
       "| 1779 | 162 | 30.4 |\n",
       "| 1780 | 162 | 30.4 |\n",
       "| 1781 | 162 | 30.4 |\n",
       "| 1782 | 162 | 30.3 |\n",
       "| 1783 | 162 | 30.4 |\n",
       "| 1784 | 162 | 30.3 |\n",
       "| 1785 | 162 | 30.3 |\n",
       "| 1786 |   0 | 15.0 |\n",
       "\n"
      ],
      "text/plain": [
       "    ID   steps bmi \n",
       "1    3   15000 17.0\n",
       "2    4   14861 17.2\n",
       "3    5   14861 17.2\n",
       "4    9   14699 16.8\n",
       "5   12   14560 20.4\n",
       "6   14   14560 20.5\n",
       "7   15   14560 20.5\n",
       "8   16   14560 20.5\n",
       "9   21   14560 19.7\n",
       "10  23   14560 19.6\n",
       "11  26   14560 19.7\n",
       "12  28   14560 19.7\n",
       "13  31   14560 16.7\n",
       "14  33   14398 20.9\n",
       "15  34   14398 19.2\n",
       "16  35   14398 19.1\n",
       "17  36   14398 19.2\n",
       "18  38   14398 17.0\n",
       "19  39   14398 17.0\n",
       "20  41   14398 16.7\n",
       "21  44   14259 18.9\n",
       "22  45   14259 18.9\n",
       "23  48   14259 17.2\n",
       "24  53   14097 21.3\n",
       "25  56   14097 17.6\n",
       "26  58   14097 17.3\n",
       "27  59   14097 16.7\n",
       "28  62   13958 18.5\n",
       "29  63   13958 18.4\n",
       "30  64   13958 17.6\n",
       "... ...  ...   ... \n",
       "892 1756 301   30.0\n",
       "893 1757 301   30.0\n",
       "894 1758 301   30.0\n",
       "895 1759 301   26.7\n",
       "896 1760 301   26.6\n",
       "897 1761 301   26.6\n",
       "898 1762 301   26.6\n",
       "899 1763 301   26.6\n",
       "900 1764 301   24.9\n",
       "901 1765 301   24.8\n",
       "902 1767 301   24.9\n",
       "903 1768 301   24.8\n",
       "904 1769 301   24.8\n",
       "905 1770 301   24.9\n",
       "906 1771 162   30.7\n",
       "907 1772 162   30.6\n",
       "908 1773 162   30.6\n",
       "909 1774 162   30.6\n",
       "910 1775 162   30.6\n",
       "911 1776 162   30.5\n",
       "912 1777 162   30.6\n",
       "913 1778 162   30.3\n",
       "914 1779 162   30.4\n",
       "915 1780 162   30.4\n",
       "916 1781 162   30.4\n",
       "917 1782 162   30.3\n",
       "918 1783 162   30.4\n",
       "919 1784 162   30.3\n",
       "920 1785 162   30.3\n",
       "921 1786   0   15.0"
      ]
     },
     "metadata": {},
     "output_type": "display_data"
    }
   ],
   "source": [
    "library (tidyverse)\n",
    "\n",
    "table_m <- read.table('data/hw3_health_m.txt', header = TRUE)\n",
    "table_w <-read.table('data/hw3_health_w.txt', header = TRUE)\n",
    "\n",
    "table_m\n",
    "table_w\n"
   ]
  },
  {
   "cell_type": "markdown",
   "id": "perfect-wagon",
   "metadata": {},
   "source": [
    "Use the `str()` and `head()` commands to become familiar with the structure of the datasets **(1 point)**"
   ]
  },
  {
   "cell_type": "code",
   "execution_count": 15,
   "id": "modified-respondent",
   "metadata": {},
   "outputs": [
    {
     "name": "stdout",
     "output_type": "stream",
     "text": [
      "[1] \"table_m\"\n",
      "'data.frame':\t865 obs. of  3 variables:\n",
      " $ ID   : int  1 2 6 7 8 10 11 13 17 18 ...\n",
      " $ steps: int  15000 15000 14861 14861 14699 14560 14560 14560 14560 14560 ...\n",
      " $ bmi  : num  16.9 16.9 16.8 16.8 17.3 20.5 20.6 20.5 20.4 20.4 ...\n",
      "[1] \"table_w\"\n",
      "'data.frame':\t921 obs. of  3 variables:\n",
      " $ ID   : int  3 4 5 9 12 14 15 16 21 23 ...\n",
      " $ steps: int  15000 14861 14861 14699 14560 14560 14560 14560 14560 14560 ...\n",
      " $ bmi  : num  17 17.2 17.2 16.8 20.4 20.5 20.5 20.5 19.7 19.6 ...\n"
     ]
    },
    {
     "data": {
      "text/html": [
       "<table class=\"dataframe\">\n",
       "<caption>A data.frame: 6 × 3</caption>\n",
       "<thead>\n",
       "\t<tr><th></th><th scope=col>ID</th><th scope=col>steps</th><th scope=col>bmi</th></tr>\n",
       "\t<tr><th></th><th scope=col>&lt;int&gt;</th><th scope=col>&lt;int&gt;</th><th scope=col>&lt;dbl&gt;</th></tr>\n",
       "</thead>\n",
       "<tbody>\n",
       "\t<tr><th scope=row>1</th><td> 1</td><td>15000</td><td>16.9</td></tr>\n",
       "\t<tr><th scope=row>2</th><td> 2</td><td>15000</td><td>16.9</td></tr>\n",
       "\t<tr><th scope=row>3</th><td> 6</td><td>14861</td><td>16.8</td></tr>\n",
       "\t<tr><th scope=row>4</th><td> 7</td><td>14861</td><td>16.8</td></tr>\n",
       "\t<tr><th scope=row>5</th><td> 8</td><td>14699</td><td>17.3</td></tr>\n",
       "\t<tr><th scope=row>6</th><td>10</td><td>14560</td><td>20.5</td></tr>\n",
       "</tbody>\n",
       "</table>\n"
      ],
      "text/latex": [
       "A data.frame: 6 × 3\n",
       "\\begin{tabular}{r|lll}\n",
       "  & ID & steps & bmi\\\\\n",
       "  & <int> & <int> & <dbl>\\\\\n",
       "\\hline\n",
       "\t1 &  1 & 15000 & 16.9\\\\\n",
       "\t2 &  2 & 15000 & 16.9\\\\\n",
       "\t3 &  6 & 14861 & 16.8\\\\\n",
       "\t4 &  7 & 14861 & 16.8\\\\\n",
       "\t5 &  8 & 14699 & 17.3\\\\\n",
       "\t6 & 10 & 14560 & 20.5\\\\\n",
       "\\end{tabular}\n"
      ],
      "text/markdown": [
       "\n",
       "A data.frame: 6 × 3\n",
       "\n",
       "| <!--/--> | ID &lt;int&gt; | steps &lt;int&gt; | bmi &lt;dbl&gt; |\n",
       "|---|---|---|---|\n",
       "| 1 |  1 | 15000 | 16.9 |\n",
       "| 2 |  2 | 15000 | 16.9 |\n",
       "| 3 |  6 | 14861 | 16.8 |\n",
       "| 4 |  7 | 14861 | 16.8 |\n",
       "| 5 |  8 | 14699 | 17.3 |\n",
       "| 6 | 10 | 14560 | 20.5 |\n",
       "\n"
      ],
      "text/plain": [
       "  ID steps bmi \n",
       "1  1 15000 16.9\n",
       "2  2 15000 16.9\n",
       "3  6 14861 16.8\n",
       "4  7 14861 16.8\n",
       "5  8 14699 17.3\n",
       "6 10 14560 20.5"
      ]
     },
     "metadata": {},
     "output_type": "display_data"
    },
    {
     "data": {
      "text/html": [
       "<table class=\"dataframe\">\n",
       "<caption>A data.frame: 6 × 3</caption>\n",
       "<thead>\n",
       "\t<tr><th></th><th scope=col>ID</th><th scope=col>steps</th><th scope=col>bmi</th></tr>\n",
       "\t<tr><th></th><th scope=col>&lt;int&gt;</th><th scope=col>&lt;int&gt;</th><th scope=col>&lt;dbl&gt;</th></tr>\n",
       "</thead>\n",
       "<tbody>\n",
       "\t<tr><th scope=row>1</th><td> 3</td><td>15000</td><td>17.0</td></tr>\n",
       "\t<tr><th scope=row>2</th><td> 4</td><td>14861</td><td>17.2</td></tr>\n",
       "\t<tr><th scope=row>3</th><td> 5</td><td>14861</td><td>17.2</td></tr>\n",
       "\t<tr><th scope=row>4</th><td> 9</td><td>14699</td><td>16.8</td></tr>\n",
       "\t<tr><th scope=row>5</th><td>12</td><td>14560</td><td>20.4</td></tr>\n",
       "\t<tr><th scope=row>6</th><td>14</td><td>14560</td><td>20.5</td></tr>\n",
       "</tbody>\n",
       "</table>\n"
      ],
      "text/latex": [
       "A data.frame: 6 × 3\n",
       "\\begin{tabular}{r|lll}\n",
       "  & ID & steps & bmi\\\\\n",
       "  & <int> & <int> & <dbl>\\\\\n",
       "\\hline\n",
       "\t1 &  3 & 15000 & 17.0\\\\\n",
       "\t2 &  4 & 14861 & 17.2\\\\\n",
       "\t3 &  5 & 14861 & 17.2\\\\\n",
       "\t4 &  9 & 14699 & 16.8\\\\\n",
       "\t5 & 12 & 14560 & 20.4\\\\\n",
       "\t6 & 14 & 14560 & 20.5\\\\\n",
       "\\end{tabular}\n"
      ],
      "text/markdown": [
       "\n",
       "A data.frame: 6 × 3\n",
       "\n",
       "| <!--/--> | ID &lt;int&gt; | steps &lt;int&gt; | bmi &lt;dbl&gt; |\n",
       "|---|---|---|---|\n",
       "| 1 |  3 | 15000 | 17.0 |\n",
       "| 2 |  4 | 14861 | 17.2 |\n",
       "| 3 |  5 | 14861 | 17.2 |\n",
       "| 4 |  9 | 14699 | 16.8 |\n",
       "| 5 | 12 | 14560 | 20.4 |\n",
       "| 6 | 14 | 14560 | 20.5 |\n",
       "\n"
      ],
      "text/plain": [
       "  ID steps bmi \n",
       "1  3 15000 17.0\n",
       "2  4 14861 17.2\n",
       "3  5 14861 17.2\n",
       "4  9 14699 16.8\n",
       "5 12 14560 20.4\n",
       "6 14 14560 20.5"
      ]
     },
     "metadata": {},
     "output_type": "display_data"
    }
   ],
   "source": [
    "print(\"table_m\")\n",
    "str(table_m)\n",
    "print(\"table_w\")\n",
    "str(table_w)\n",
    "\n",
    "head(table_m)\n",
    "head(table_w)"
   ]
  },
  {
   "cell_type": "markdown",
   "id": "responsible-religious",
   "metadata": {},
   "source": [
    "Based on the output from the `str()` command, how many men and women is there data for? **(1 point)**\n",
    "- 865 men and 921 women\n"
   ]
  },
  {
   "cell_type": "markdown",
   "id": "killing-growing",
   "metadata": {},
   "source": [
    "Based on what you learned in the previous homework, are these datasets tidy? Please explain your answer. If necessary, write code in the field below to tidy up the datasets **(2 points)**\n",
    "- No the datasets are not tidy. Both datasets contain the same variables, they are only split by gender. Binding both datasets makes them tidy and easier to analyse."
   ]
  },
  {
   "cell_type": "code",
   "execution_count": 43,
   "id": "substantial-bosnia",
   "metadata": {
    "scrolled": true
   },
   "outputs": [
    {
     "data": {
      "text/html": [
       "<table class=\"dataframe\">\n",
       "<caption>A data.frame: 1786 × 4</caption>\n",
       "<thead>\n",
       "\t<tr><th scope=col>Gender</th><th scope=col>ID</th><th scope=col>steps</th><th scope=col>bmi</th></tr>\n",
       "\t<tr><th scope=col>&lt;chr&gt;</th><th scope=col>&lt;int&gt;</th><th scope=col>&lt;int&gt;</th><th scope=col>&lt;dbl&gt;</th></tr>\n",
       "</thead>\n",
       "<tbody>\n",
       "\t<tr><td>m</td><td> 1</td><td>15000</td><td>16.9</td></tr>\n",
       "\t<tr><td>m</td><td> 2</td><td>15000</td><td>16.9</td></tr>\n",
       "\t<tr><td>m</td><td> 6</td><td>14861</td><td>16.8</td></tr>\n",
       "\t<tr><td>m</td><td> 7</td><td>14861</td><td>16.8</td></tr>\n",
       "\t<tr><td>m</td><td> 8</td><td>14699</td><td>17.3</td></tr>\n",
       "\t<tr><td>m</td><td>10</td><td>14560</td><td>20.5</td></tr>\n",
       "\t<tr><td>m</td><td>11</td><td>14560</td><td>20.6</td></tr>\n",
       "\t<tr><td>m</td><td>13</td><td>14560</td><td>20.5</td></tr>\n",
       "\t<tr><td>m</td><td>17</td><td>14560</td><td>20.4</td></tr>\n",
       "\t<tr><td>m</td><td>18</td><td>14560</td><td>20.4</td></tr>\n",
       "\t<tr><td>m</td><td>19</td><td>14560</td><td>19.8</td></tr>\n",
       "\t<tr><td>m</td><td>20</td><td>14560</td><td>19.7</td></tr>\n",
       "\t<tr><td>m</td><td>22</td><td>14560</td><td>19.7</td></tr>\n",
       "\t<tr><td>m</td><td>24</td><td>14560</td><td>19.6</td></tr>\n",
       "\t<tr><td>m</td><td>25</td><td>14560</td><td>19.6</td></tr>\n",
       "\t<tr><td>m</td><td>27</td><td>14560</td><td>19.6</td></tr>\n",
       "\t<tr><td>m</td><td>29</td><td>14560</td><td>17.4</td></tr>\n",
       "\t<tr><td>m</td><td>30</td><td>14560</td><td>17.4</td></tr>\n",
       "\t<tr><td>m</td><td>32</td><td>14398</td><td>20.9</td></tr>\n",
       "\t<tr><td>m</td><td>37</td><td>14398</td><td>17.5</td></tr>\n",
       "\t<tr><td>m</td><td>40</td><td>14398</td><td>17.1</td></tr>\n",
       "\t<tr><td>m</td><td>42</td><td>14259</td><td>21.1</td></tr>\n",
       "\t<tr><td>m</td><td>43</td><td>14259</td><td>21.1</td></tr>\n",
       "\t<tr><td>m</td><td>46</td><td>14259</td><td>18.9</td></tr>\n",
       "\t<tr><td>m</td><td>47</td><td>14259</td><td>17.5</td></tr>\n",
       "\t<tr><td>m</td><td>49</td><td>14259</td><td>17.2</td></tr>\n",
       "\t<tr><td>m</td><td>50</td><td>14259</td><td>16.7</td></tr>\n",
       "\t<tr><td>m</td><td>51</td><td>14097</td><td>21.3</td></tr>\n",
       "\t<tr><td>m</td><td>52</td><td>14097</td><td>21.3</td></tr>\n",
       "\t<tr><td>m</td><td>54</td><td>14097</td><td>18.6</td></tr>\n",
       "\t<tr><td>...</td><td>...</td><td>...</td><td>...</td></tr>\n",
       "\t<tr><td>w</td><td>1756</td><td>301</td><td>30.0</td></tr>\n",
       "\t<tr><td>w</td><td>1757</td><td>301</td><td>30.0</td></tr>\n",
       "\t<tr><td>w</td><td>1758</td><td>301</td><td>30.0</td></tr>\n",
       "\t<tr><td>w</td><td>1759</td><td>301</td><td>26.7</td></tr>\n",
       "\t<tr><td>w</td><td>1760</td><td>301</td><td>26.6</td></tr>\n",
       "\t<tr><td>w</td><td>1761</td><td>301</td><td>26.6</td></tr>\n",
       "\t<tr><td>w</td><td>1762</td><td>301</td><td>26.6</td></tr>\n",
       "\t<tr><td>w</td><td>1763</td><td>301</td><td>26.6</td></tr>\n",
       "\t<tr><td>w</td><td>1764</td><td>301</td><td>24.9</td></tr>\n",
       "\t<tr><td>w</td><td>1765</td><td>301</td><td>24.8</td></tr>\n",
       "\t<tr><td>w</td><td>1767</td><td>301</td><td>24.9</td></tr>\n",
       "\t<tr><td>w</td><td>1768</td><td>301</td><td>24.8</td></tr>\n",
       "\t<tr><td>w</td><td>1769</td><td>301</td><td>24.8</td></tr>\n",
       "\t<tr><td>w</td><td>1770</td><td>301</td><td>24.9</td></tr>\n",
       "\t<tr><td>w</td><td>1771</td><td>162</td><td>30.7</td></tr>\n",
       "\t<tr><td>w</td><td>1772</td><td>162</td><td>30.6</td></tr>\n",
       "\t<tr><td>w</td><td>1773</td><td>162</td><td>30.6</td></tr>\n",
       "\t<tr><td>w</td><td>1774</td><td>162</td><td>30.6</td></tr>\n",
       "\t<tr><td>w</td><td>1775</td><td>162</td><td>30.6</td></tr>\n",
       "\t<tr><td>w</td><td>1776</td><td>162</td><td>30.5</td></tr>\n",
       "\t<tr><td>w</td><td>1777</td><td>162</td><td>30.6</td></tr>\n",
       "\t<tr><td>w</td><td>1778</td><td>162</td><td>30.3</td></tr>\n",
       "\t<tr><td>w</td><td>1779</td><td>162</td><td>30.4</td></tr>\n",
       "\t<tr><td>w</td><td>1780</td><td>162</td><td>30.4</td></tr>\n",
       "\t<tr><td>w</td><td>1781</td><td>162</td><td>30.4</td></tr>\n",
       "\t<tr><td>w</td><td>1782</td><td>162</td><td>30.3</td></tr>\n",
       "\t<tr><td>w</td><td>1783</td><td>162</td><td>30.4</td></tr>\n",
       "\t<tr><td>w</td><td>1784</td><td>162</td><td>30.3</td></tr>\n",
       "\t<tr><td>w</td><td>1785</td><td>162</td><td>30.3</td></tr>\n",
       "\t<tr><td>w</td><td>1786</td><td>  0</td><td>15.0</td></tr>\n",
       "</tbody>\n",
       "</table>\n"
      ],
      "text/latex": [
       "A data.frame: 1786 × 4\n",
       "\\begin{tabular}{llll}\n",
       " Gender & ID & steps & bmi\\\\\n",
       " <chr> & <int> & <int> & <dbl>\\\\\n",
       "\\hline\n",
       "\t m &  1 & 15000 & 16.9\\\\\n",
       "\t m &  2 & 15000 & 16.9\\\\\n",
       "\t m &  6 & 14861 & 16.8\\\\\n",
       "\t m &  7 & 14861 & 16.8\\\\\n",
       "\t m &  8 & 14699 & 17.3\\\\\n",
       "\t m & 10 & 14560 & 20.5\\\\\n",
       "\t m & 11 & 14560 & 20.6\\\\\n",
       "\t m & 13 & 14560 & 20.5\\\\\n",
       "\t m & 17 & 14560 & 20.4\\\\\n",
       "\t m & 18 & 14560 & 20.4\\\\\n",
       "\t m & 19 & 14560 & 19.8\\\\\n",
       "\t m & 20 & 14560 & 19.7\\\\\n",
       "\t m & 22 & 14560 & 19.7\\\\\n",
       "\t m & 24 & 14560 & 19.6\\\\\n",
       "\t m & 25 & 14560 & 19.6\\\\\n",
       "\t m & 27 & 14560 & 19.6\\\\\n",
       "\t m & 29 & 14560 & 17.4\\\\\n",
       "\t m & 30 & 14560 & 17.4\\\\\n",
       "\t m & 32 & 14398 & 20.9\\\\\n",
       "\t m & 37 & 14398 & 17.5\\\\\n",
       "\t m & 40 & 14398 & 17.1\\\\\n",
       "\t m & 42 & 14259 & 21.1\\\\\n",
       "\t m & 43 & 14259 & 21.1\\\\\n",
       "\t m & 46 & 14259 & 18.9\\\\\n",
       "\t m & 47 & 14259 & 17.5\\\\\n",
       "\t m & 49 & 14259 & 17.2\\\\\n",
       "\t m & 50 & 14259 & 16.7\\\\\n",
       "\t m & 51 & 14097 & 21.3\\\\\n",
       "\t m & 52 & 14097 & 21.3\\\\\n",
       "\t m & 54 & 14097 & 18.6\\\\\n",
       "\t ... & ... & ... & ...\\\\\n",
       "\t w & 1756 & 301 & 30.0\\\\\n",
       "\t w & 1757 & 301 & 30.0\\\\\n",
       "\t w & 1758 & 301 & 30.0\\\\\n",
       "\t w & 1759 & 301 & 26.7\\\\\n",
       "\t w & 1760 & 301 & 26.6\\\\\n",
       "\t w & 1761 & 301 & 26.6\\\\\n",
       "\t w & 1762 & 301 & 26.6\\\\\n",
       "\t w & 1763 & 301 & 26.6\\\\\n",
       "\t w & 1764 & 301 & 24.9\\\\\n",
       "\t w & 1765 & 301 & 24.8\\\\\n",
       "\t w & 1767 & 301 & 24.9\\\\\n",
       "\t w & 1768 & 301 & 24.8\\\\\n",
       "\t w & 1769 & 301 & 24.8\\\\\n",
       "\t w & 1770 & 301 & 24.9\\\\\n",
       "\t w & 1771 & 162 & 30.7\\\\\n",
       "\t w & 1772 & 162 & 30.6\\\\\n",
       "\t w & 1773 & 162 & 30.6\\\\\n",
       "\t w & 1774 & 162 & 30.6\\\\\n",
       "\t w & 1775 & 162 & 30.6\\\\\n",
       "\t w & 1776 & 162 & 30.5\\\\\n",
       "\t w & 1777 & 162 & 30.6\\\\\n",
       "\t w & 1778 & 162 & 30.3\\\\\n",
       "\t w & 1779 & 162 & 30.4\\\\\n",
       "\t w & 1780 & 162 & 30.4\\\\\n",
       "\t w & 1781 & 162 & 30.4\\\\\n",
       "\t w & 1782 & 162 & 30.3\\\\\n",
       "\t w & 1783 & 162 & 30.4\\\\\n",
       "\t w & 1784 & 162 & 30.3\\\\\n",
       "\t w & 1785 & 162 & 30.3\\\\\n",
       "\t w & 1786 &   0 & 15.0\\\\\n",
       "\\end{tabular}\n"
      ],
      "text/markdown": [
       "\n",
       "A data.frame: 1786 × 4\n",
       "\n",
       "| Gender &lt;chr&gt; | ID &lt;int&gt; | steps &lt;int&gt; | bmi &lt;dbl&gt; |\n",
       "|---|---|---|---|\n",
       "| m |  1 | 15000 | 16.9 |\n",
       "| m |  2 | 15000 | 16.9 |\n",
       "| m |  6 | 14861 | 16.8 |\n",
       "| m |  7 | 14861 | 16.8 |\n",
       "| m |  8 | 14699 | 17.3 |\n",
       "| m | 10 | 14560 | 20.5 |\n",
       "| m | 11 | 14560 | 20.6 |\n",
       "| m | 13 | 14560 | 20.5 |\n",
       "| m | 17 | 14560 | 20.4 |\n",
       "| m | 18 | 14560 | 20.4 |\n",
       "| m | 19 | 14560 | 19.8 |\n",
       "| m | 20 | 14560 | 19.7 |\n",
       "| m | 22 | 14560 | 19.7 |\n",
       "| m | 24 | 14560 | 19.6 |\n",
       "| m | 25 | 14560 | 19.6 |\n",
       "| m | 27 | 14560 | 19.6 |\n",
       "| m | 29 | 14560 | 17.4 |\n",
       "| m | 30 | 14560 | 17.4 |\n",
       "| m | 32 | 14398 | 20.9 |\n",
       "| m | 37 | 14398 | 17.5 |\n",
       "| m | 40 | 14398 | 17.1 |\n",
       "| m | 42 | 14259 | 21.1 |\n",
       "| m | 43 | 14259 | 21.1 |\n",
       "| m | 46 | 14259 | 18.9 |\n",
       "| m | 47 | 14259 | 17.5 |\n",
       "| m | 49 | 14259 | 17.2 |\n",
       "| m | 50 | 14259 | 16.7 |\n",
       "| m | 51 | 14097 | 21.3 |\n",
       "| m | 52 | 14097 | 21.3 |\n",
       "| m | 54 | 14097 | 18.6 |\n",
       "| ... | ... | ... | ... |\n",
       "| w | 1756 | 301 | 30.0 |\n",
       "| w | 1757 | 301 | 30.0 |\n",
       "| w | 1758 | 301 | 30.0 |\n",
       "| w | 1759 | 301 | 26.7 |\n",
       "| w | 1760 | 301 | 26.6 |\n",
       "| w | 1761 | 301 | 26.6 |\n",
       "| w | 1762 | 301 | 26.6 |\n",
       "| w | 1763 | 301 | 26.6 |\n",
       "| w | 1764 | 301 | 24.9 |\n",
       "| w | 1765 | 301 | 24.8 |\n",
       "| w | 1767 | 301 | 24.9 |\n",
       "| w | 1768 | 301 | 24.8 |\n",
       "| w | 1769 | 301 | 24.8 |\n",
       "| w | 1770 | 301 | 24.9 |\n",
       "| w | 1771 | 162 | 30.7 |\n",
       "| w | 1772 | 162 | 30.6 |\n",
       "| w | 1773 | 162 | 30.6 |\n",
       "| w | 1774 | 162 | 30.6 |\n",
       "| w | 1775 | 162 | 30.6 |\n",
       "| w | 1776 | 162 | 30.5 |\n",
       "| w | 1777 | 162 | 30.6 |\n",
       "| w | 1778 | 162 | 30.3 |\n",
       "| w | 1779 | 162 | 30.4 |\n",
       "| w | 1780 | 162 | 30.4 |\n",
       "| w | 1781 | 162 | 30.4 |\n",
       "| w | 1782 | 162 | 30.3 |\n",
       "| w | 1783 | 162 | 30.4 |\n",
       "| w | 1784 | 162 | 30.3 |\n",
       "| w | 1785 | 162 | 30.3 |\n",
       "| w | 1786 |   0 | 15.0 |\n",
       "\n"
      ],
      "text/plain": [
       "     Gender ID   steps bmi \n",
       "1    m       1   15000 16.9\n",
       "2    m       2   15000 16.9\n",
       "3    m       6   14861 16.8\n",
       "4    m       7   14861 16.8\n",
       "5    m       8   14699 17.3\n",
       "6    m      10   14560 20.5\n",
       "7    m      11   14560 20.6\n",
       "8    m      13   14560 20.5\n",
       "9    m      17   14560 20.4\n",
       "10   m      18   14560 20.4\n",
       "11   m      19   14560 19.8\n",
       "12   m      20   14560 19.7\n",
       "13   m      22   14560 19.7\n",
       "14   m      24   14560 19.6\n",
       "15   m      25   14560 19.6\n",
       "16   m      27   14560 19.6\n",
       "17   m      29   14560 17.4\n",
       "18   m      30   14560 17.4\n",
       "19   m      32   14398 20.9\n",
       "20   m      37   14398 17.5\n",
       "21   m      40   14398 17.1\n",
       "22   m      42   14259 21.1\n",
       "23   m      43   14259 21.1\n",
       "24   m      46   14259 18.9\n",
       "25   m      47   14259 17.5\n",
       "26   m      49   14259 17.2\n",
       "27   m      50   14259 16.7\n",
       "28   m      51   14097 21.3\n",
       "29   m      52   14097 21.3\n",
       "30   m      54   14097 18.6\n",
       "...  ...    ...  ...   ... \n",
       "1757 w      1756 301   30.0\n",
       "1758 w      1757 301   30.0\n",
       "1759 w      1758 301   30.0\n",
       "1760 w      1759 301   26.7\n",
       "1761 w      1760 301   26.6\n",
       "1762 w      1761 301   26.6\n",
       "1763 w      1762 301   26.6\n",
       "1764 w      1763 301   26.6\n",
       "1765 w      1764 301   24.9\n",
       "1766 w      1765 301   24.8\n",
       "1767 w      1767 301   24.9\n",
       "1768 w      1768 301   24.8\n",
       "1769 w      1769 301   24.8\n",
       "1770 w      1770 301   24.9\n",
       "1771 w      1771 162   30.7\n",
       "1772 w      1772 162   30.6\n",
       "1773 w      1773 162   30.6\n",
       "1774 w      1774 162   30.6\n",
       "1775 w      1775 162   30.6\n",
       "1776 w      1776 162   30.5\n",
       "1777 w      1777 162   30.6\n",
       "1778 w      1778 162   30.3\n",
       "1779 w      1779 162   30.4\n",
       "1780 w      1780 162   30.4\n",
       "1781 w      1781 162   30.4\n",
       "1782 w      1782 162   30.3\n",
       "1783 w      1783 162   30.4\n",
       "1784 w      1784 162   30.3\n",
       "1785 w      1785 162   30.3\n",
       "1786 w      1786   0   15.0"
      ]
     },
     "metadata": {},
     "output_type": "display_data"
    }
   ],
   "source": [
    "table_bind <- bind_rows(list(m=table_m, w=table_w), .id = 'Gender')\n",
    "\n",
    "table_bind"
   ]
  },
  {
   "cell_type": "markdown",
   "id": "south-bibliography",
   "metadata": {},
   "source": [
    "### Exploring the BMI variable\n",
    "\n",
    "Let's try to understand our data better. Use `ggplot()` to answer the following questions:\n",
    "\n",
    "How is the BMI distributed overall, regardless of gender? (hint: use either `geom_density()`; **2 points**) "
   ]
  },
  {
   "cell_type": "code",
   "execution_count": 30,
   "id": "dominant-bradley",
   "metadata": {},
   "outputs": [
    {
     "data": {
      "image/png": "[encoded data removed]",
      "text/plain": [
       "plot without title"
      ]
     },
     "metadata": {
      "image/png": {
       "height": 420,
       "width": 420
      }
     },
     "output_type": "display_data"
    }
   ],
   "source": [
    "table_bind %>%\n",
    "        ggplot(aes(bmi)) + \n",
    "        geom_density()"
   ]
  },
  {
   "cell_type": "markdown",
   "id": "spanish-evidence",
   "metadata": {},
   "source": [
    "How would you describe the distribution you found in the previous command?\n",
    "- Bimodal, asymetric distribution. "
   ]
  },
  {
   "cell_type": "markdown",
   "id": "resistant-electricity",
   "metadata": {},
   "source": [
    "Do men and women differ in their BMI? First, run a T test via the `t.test()` command to answer this question **(2 points)**"
   ]
  },
  {
   "cell_type": "code",
   "execution_count": 57,
   "id": "middle-islam",
   "metadata": {},
   "outputs": [
    {
     "data": {
      "text/plain": [
       "\n",
       "\tWelch Two Sample t-test\n",
       "\n",
       "data:  bmi by Gender\n",
       "t = -3.2353, df = 1768.3, p-value = 0.001238\n",
       "alternative hypothesis: true difference in means is not equal to 0\n",
       "95 percent confidence interval:\n",
       " -1.2043522 -0.2952488\n",
       "sample estimates:\n",
       "mean in group m mean in group w \n",
       "       24.90775        25.65755 \n"
      ]
     },
     "metadata": {},
     "output_type": "display_data"
    }
   ],
   "source": [
    "t.test(bmi~Gender, data=table_bind)"
   ]
  },
  {
   "cell_type": "markdown",
   "id": "covered-metadata",
   "metadata": {},
   "source": [
    "- Yes they differ. Men have an average bmi of 24.90775 and women have an average bmi of 25.6755"
   ]
  },
  {
   "cell_type": "markdown",
   "id": "premium-lesson",
   "metadata": {},
   "source": [
    "Can the results of your `t.test()` explain the shape of the distribution of BMI you found in the previous step? Add the `color=gender` argument in the `aes()` part of your previous `ggplot()` call to split the distribution by gender and answer this question **(3 points)**"
   ]
  },
  {
   "cell_type": "code",
   "execution_count": 65,
   "id": "sunset-sustainability",
   "metadata": {},
   "outputs": [
    {
     "data": {
      "image/png": "[encoded data removed]",
      "text/plain": [
       "plot without title"
      ]
     },
     "metadata": {
      "image/png": {
       "height": 420,
       "width": 420
      }
     },
     "output_type": "display_data"
    }
   ],
   "source": [
    "table_bind %>%\n",
    "        ggplot(aes(bmi, color=Gender)) + \n",
    "        geom_density()      "
   ]
  },
  {
   "cell_type": "markdown",
   "id": "dietary-kidney",
   "metadata": {},
   "source": [
    "- Yes it can explain the results. There are more men with a lower bmi (low peak at ~ 17.5) than women, and there seem to be more women with a higher bmi (high peak at ~28) than man. Therefore the avarage BMI for women is higher, since more women with a higher BMI are represented in the data set. \n",
    "\n",
    "> [VP] - but it still doesn't explain the bimodal distribution, as both men and women have a bimodal distribution (-1)"
   ]
  },
  {
   "cell_type": "markdown",
   "id": "billion-airplane",
   "metadata": {},
   "source": [
    "### Exploring the STEPS variable"
   ]
  },
  {
   "cell_type": "markdown",
   "id": "focal-assignment",
   "metadata": {},
   "source": [
    "Some errors were made when coding the steps variable. Plot a histogram of the `steps` variable. What is unusual about this data? **(2 points)**"
   ]
  },
  {
   "cell_type": "code",
   "execution_count": 69,
   "id": "amended-korea",
   "metadata": {},
   "outputs": [
    {
     "data": {
      "image/png": "[encoded data removed]",
      "text/plain": [
       "plot without title"
      ]
     },
     "metadata": {
      "image/png": {
       "height": 420,
       "width": 420
      }
     },
     "output_type": "display_data"
    }
   ],
   "source": [
    "table_bind %>%\n",
    "        ggplot(aes(steps)) + \n",
    "        geom_bar()"
   ]
  },
  {
   "cell_type": "markdown",
   "id": "overall-standing",
   "metadata": {},
   "source": [
    "- The histogram shows data that goes below 0 down to less than -5000. The reason seems to be a statistical outlier. "
   ]
  },
  {
   "cell_type": "markdown",
   "id": "outdoor-above",
   "metadata": {},
   "source": [
    "One data point needs to be removed from this dataset. Use the `filter()` command on the `steps` variable to remove the incorrect data point, and save the result to a new data frame **(2 points)**"
   ]
  },
  {
   "cell_type": "code",
   "execution_count": 91,
   "id": "beneficial-customs",
   "metadata": {},
   "outputs": [
    {
     "data": {
      "image/png": "[encoded data removed]",
      "text/plain": [
       "plot without title"
      ]
     },
     "metadata": {
      "image/png": {
       "height": 420,
       "width": 420
      }
     },
     "output_type": "display_data"
    }
   ],
   "source": [
    "table_bind_corr <- table_bind %>%\n",
    "                        filter(steps > 0)\n",
    "\n",
    "table_bind_corr %>%\n",
    "        ggplot(aes(steps)) + \n",
    "        geom_bar()                "
   ]
  },
  {
   "cell_type": "markdown",
   "id": "amber-registration",
   "metadata": {},
   "source": [
    "### The relationship between daily steps and BMI"
   ]
  },
  {
   "cell_type": "markdown",
   "id": "other-crest",
   "metadata": {},
   "source": [
    "Now that we understand how the individual variables are distributed, and that we have cleaned up the incorrectly coded data point, it's time to understand whether daily steps are related to BMI. \n",
    "\n",
    "Please use the `cor.test()` function to answer the following questions **(5 points)**\n",
    "- *Is there a statistically significant correlation between daily steps and BMI*\n",
    "- *Does the correlation between daily steps and BMI differ for men and women*"
   ]
  },
  {
   "cell_type": "code",
   "execution_count": 131,
   "id": "passive-luxury",
   "metadata": {
    "scrolled": true
   },
   "outputs": [
    {
     "name": "stdout",
     "output_type": "stream",
     "text": [
      "[1] \"cor_all\"\n"
     ]
    },
    {
     "data": {
      "text/plain": [
       "\n",
       "\tPearson's product-moment correlation\n",
       "\n",
       "data:  bmi and steps\n",
       "t = -12.551, df = 1782, p-value < 2.2e-16\n",
       "alternative hypothesis: true correlation is not equal to 0\n",
       "95 percent confidence interval:\n",
       " -0.3270726 -0.2417778\n",
       "sample estimates:\n",
       "       cor \n",
       "-0.2849893 \n"
      ]
     },
     "metadata": {},
     "output_type": "display_data"
    },
    {
     "name": "stdout",
     "output_type": "stream",
     "text": [
      "[1] \"cor_m\"\n"
     ]
    },
    {
     "data": {
      "text/plain": [
       "\n",
       "\tPearson's product-moment correlation\n",
       "\n",
       "data:  bmi and steps\n",
       "t = -6.9541, df = 863, p-value = 7.006e-12\n",
       "alternative hypothesis: true correlation is not equal to 0\n",
       "95 percent confidence interval:\n",
       " -0.2925195 -0.1662485\n",
       "sample estimates:\n",
       "       cor \n",
       "-0.2303534 \n"
      ]
     },
     "metadata": {},
     "output_type": "display_data"
    },
    {
     "name": "stdout",
     "output_type": "stream",
     "text": [
      "[1] \"cor_w\"\n"
     ]
    },
    {
     "data": {
      "text/plain": [
       "\n",
       "\tPearson's product-moment correlation\n",
       "\n",
       "data:  bmi and steps\n",
       "t = -10.181, df = 917, p-value < 2.2e-16\n",
       "alternative hypothesis: true correlation is not equal to 0\n",
       "95 percent confidence interval:\n",
       " -0.3756145 -0.2593635\n",
       "sample estimates:\n",
       "       cor \n",
       "-0.3186869 \n"
      ]
     },
     "metadata": {},
     "output_type": "display_data"
    }
   ],
   "source": [
    "print(\"cor_all\")\n",
    "cor.test(~bmi + steps, data = table_bind_corr)\n",
    "\n",
    "\n",
    "print(\"cor_m\")\n",
    "cor.test(~bmi + steps, data = table_bind_corr, subset=(Gender==\"m\"))\n",
    "print(\"cor_w\")\n",
    "cor.test(~bmi + steps, data = table_bind_corr, subset=(Gender==\"w\"))\n",
    "\n",
    "\n",
    "\n",
    "\n"
   ]
  },
  {
   "cell_type": "markdown",
   "id": "applied-acoustic",
   "metadata": {},
   "source": [
    "- Yes there is a significant negative correlation between the amount of daily steps and bmi (p < 2.2e-16; cor = -0.285)\n",
    "- Yes the correlation between daily steps and bmi differs for men and women. The correlation is stronger for women (cor = -0.319) then for men (cor=-0.23)."
   ]
  },
  {
   "cell_type": "markdown",
   "id": "attractive-sauce",
   "metadata": {},
   "source": [
    "Finally, in addition to running a statistical correlation test, what else can you do to better understand the relationship between daily steps and BMI? How would you described this relationship? **(3 points)** "
   ]
  },
  {
   "cell_type": "code",
   "execution_count": 147,
   "id": "running-toyota",
   "metadata": {},
   "outputs": [
    {
     "data": {
      "image/png": "[encoded data removed]",
      "text/plain": [
       "plot without title"
      ]
     },
     "metadata": {
      "image/png": {
       "height": 420,
       "width": 420
      }
     },
     "output_type": "display_data"
    }
   ],
   "source": [
    "table_bind_corr %>%\n",
    "        ggplot(aes(steps, bmi)) + \n",
    "        geom_point()   "
   ]
  },
  {
   "cell_type": "markdown",
   "id": "successful-sweden",
   "metadata": {},
   "source": [
    "- You can visualise the data to get a better understanding of it. In this case we seem to have generated a friendly Gorilla. The relationship between daily steps and bmi seems to be random (besides the created picture of course^^)."
   ]
  },
  {
   "cell_type": "code",
   "execution_count": null,
   "id": "integral-ethics",
   "metadata": {},
   "outputs": [],
   "source": []
  }
 ],
 "metadata": {
  "kernelspec": {
   "display_name": "R",
   "language": "R",
   "name": "ir"
  },
  "language_info": {
   "codemirror_mode": "r",
   "file_extension": ".r",
   "mimetype": "text/x-r-source",
   "name": "R",
   "pygments_lexer": "r",
   "version": "4.0.2"
  }
 },
 "nbformat": 4,
 "nbformat_minor": 5
}
