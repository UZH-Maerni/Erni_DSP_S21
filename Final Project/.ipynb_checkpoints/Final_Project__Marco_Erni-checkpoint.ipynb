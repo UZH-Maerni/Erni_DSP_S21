{
 "cells": [
  {
   "cell_type": "markdown",
   "id": "advisory-printing",
   "metadata": {},
   "source": [
    "# Final Project: Trending Youtube Video Statistics "
   ]
  },
  {
   "cell_type": "markdown",
   "id": "under-implement",
   "metadata": {},
   "source": [
    "Marco Erni"
   ]
  },
  {
   "attachments": {},
   "cell_type": "markdown",
   "id": "swedish-initial",
   "metadata": {},
   "source": [
    "## 1. Background\n",
    "\n",
    "Every action we take online using our electronic devices leaves a footprint that can be measured, saved and used for many different purposes. This evergrowing amount of structured and unstructured data is called \"big data\" (Buhl et al., 2013). This information can be used to predict our personal interests, political views, sexual orientation and many more individual characteristics, that can be used to influence our daily lifes (Klein et al., 2013). It shouldn't be suprsing, that a lot of the publicly available data is used for the personal gain of many bigger companies. The amount of data and the resulting profit of using is growing at an astonishingly high rate and is predicted to keep increasing (Figure 1) (Columbus, 2018). Considering the parallel growth of social media platforms and the increase of the data gained through it, many companies try to maximize their online presence through the targeted use of data analytics. Being able to predict how popular a post, video or ad will be, can play an essential role in the growth of a company (Jagongo & Kinyua, 2013). Youtube is still the most used online platform to upload videos and therefore provides a multitude of opportunities to analyze data to gain further insight about the behaviour of users (Geipel, 2018). This research project attempts to analyze different predictors regarding the use of Youtube videos and tries to find a way to understand, how certain videos achieve more views then others. \n",
    "\n",
    "#### Figure 1\n",
    "\n",
    "<img src=\"Big-Data-Market-Size-Revenue-Forecast-Worldwide-From-2011-To-2027-Final.jpg\" width=\"650\">"
   ]
  },
  {
   "attachments": {},
   "cell_type": "markdown",
   "id": "hungarian-store",
   "metadata": {},
   "source": [
    "## 2. Variables of Interest\n",
    "\n",
    "The chosen data consists of 9 different datasets that each represent a different language. They consist of the top trending videos over a period of multiple months. The variables that were chosen to analyze are: \n",
    "\n",
    "1. Views\n",
    "2. Comment count\n",
    "3. Trending date\n",
    "4. Language\n",
    "\n"
   ]
  },
  {
   "cell_type": "markdown",
   "id": "offshore-shift",
   "metadata": {},
   "source": [
    "## 3. Research Questions and Hypothesis\n",
    "- Does the amount of views stand in relation to the amount of comments and trending date of a video?\n",
    "- Does language have an influence on the amount of views in relation with the amount of comments and the trending date of a video?\n",
    "- Does the ability to comment have an influence on the amount of views in relation to the trending date?\n",
    "\n",
    "***\n",
    "- **H1**: The amount of views increases with an increase in the amount of comments over time. \n",
    "- **H2**: Language has a significant influence on the amount of views and it's relationship with the amount of comments over time. \n",
    "- **H3**: The ability to comment on a video correlates negatively with the amount of views over time. \n",
    "***"
   ]
  },
  {
   "cell_type": "markdown",
   "id": "velvet-justice",
   "metadata": {},
   "source": [
    "## 4. Data Cleaning"
   ]
  },
  {
   "cell_type": "code",
   "execution_count": 547,
   "id": "concerned-ontario",
   "metadata": {
    "scrolled": true
   },
   "outputs": [],
   "source": [
    "library(tidyverse)\n",
    "library(dplyr)\n",
    "library(stringi)\n",
    "library(readr)\n",
    "library(boot)\n",
    "library(lme4)\n",
    "library(ISLR)\n",
    "library(MASS)\n",
    "\n",
    "CA <- read.csv('dataset/CAvideos.csv')\n",
    "DE <- read.csv('dataset/DEvideos.csv')\n",
    "FR <- read.csv('dataset/FRvideos.csv')\n",
    "GB <- read.csv('dataset/GBvideos.csv')\n",
    "IN <- read.csv('dataset/INvideos.csv')\n",
    "JP <- read.csv('dataset/JPvideos.csv')\n",
    "MX <- read.csv('dataset/MXvideos.csv')\n",
    "RU <- read.csv('dataset/RUvideos.csv')\n",
    "US <- read.csv('dataset/USvideos.csv')\n",
    "\n",
    "\n"
   ]
  },
  {
   "cell_type": "markdown",
   "id": "unlikely-omega",
   "metadata": {},
   "source": [
    "- Used the library function to load needed assets. Saved each .csv file to a variable representing the language: \n",
    "\n",
    "1. CA = Canada\n",
    "2. DE = Germany\n",
    "3. FR = France\n",
    "4. GB = Great Britain\n",
    "5. IN = India\n",
    "6. JP = Japan\n",
    "7. MX = Mexico\n",
    "8. RU = Russia\n",
    "9. US = United States"
   ]
  },
  {
   "cell_type": "markdown",
   "id": "minor-monitoring",
   "metadata": {},
   "source": [
    "### 4.1 Adjusting Format of Columns"
   ]
  },
  {
   "cell_type": "code",
   "execution_count": 548,
   "id": "useful-patrick",
   "metadata": {
    "scrolled": true
   },
   "outputs": [
    {
     "data": {
      "text/html": [
       "<style>\n",
       ".dl-inline {width: auto; margin:0; padding: 0}\n",
       ".dl-inline>dt, .dl-inline>dd {float: none; width: auto; display: inline-block}\n",
       ".dl-inline>dt::after {content: \":\\0020\"; padding-right: .5ex}\n",
       ".dl-inline>dt:not(:first-of-type) {padding-left: .5ex}\n",
       "</style><dl class=dl-inline><dt>video_id</dt><dd>'character'</dd><dt>trending_date</dt><dd>'character'</dd><dt>title</dt><dd>'character'</dd><dt>channel_title</dt><dd>'character'</dd><dt>category_id</dt><dd>'integer'</dd><dt>publish_time</dt><dd>'character'</dd><dt>tags</dt><dd>'character'</dd><dt>views</dt><dd>'integer'</dd><dt>likes</dt><dd>'integer'</dd><dt>dislikes</dt><dd>'integer'</dd><dt>comment_count</dt><dd>'integer'</dd><dt>thumbnail_link</dt><dd>'character'</dd><dt>comments_disabled</dt><dd>'character'</dd><dt>ratings_disabled</dt><dd>'character'</dd><dt>video_error_or_removed</dt><dd>'character'</dd><dt>description</dt><dd>'character'</dd></dl>\n"
      ],
      "text/latex": [
       "\\begin{description*}\n",
       "\\item[video\\textbackslash{}\\_id] 'character'\n",
       "\\item[trending\\textbackslash{}\\_date] 'character'\n",
       "\\item[title] 'character'\n",
       "\\item[channel\\textbackslash{}\\_title] 'character'\n",
       "\\item[category\\textbackslash{}\\_id] 'integer'\n",
       "\\item[publish\\textbackslash{}\\_time] 'character'\n",
       "\\item[tags] 'character'\n",
       "\\item[views] 'integer'\n",
       "\\item[likes] 'integer'\n",
       "\\item[dislikes] 'integer'\n",
       "\\item[comment\\textbackslash{}\\_count] 'integer'\n",
       "\\item[thumbnail\\textbackslash{}\\_link] 'character'\n",
       "\\item[comments\\textbackslash{}\\_disabled] 'character'\n",
       "\\item[ratings\\textbackslash{}\\_disabled] 'character'\n",
       "\\item[video\\textbackslash{}\\_error\\textbackslash{}\\_or\\textbackslash{}\\_removed] 'character'\n",
       "\\item[description] 'character'\n",
       "\\end{description*}\n"
      ],
      "text/markdown": [
       "video_id\n",
       ":   'character'trending_date\n",
       ":   'character'title\n",
       ":   'character'channel_title\n",
       ":   'character'category_id\n",
       ":   'integer'publish_time\n",
       ":   'character'tags\n",
       ":   'character'views\n",
       ":   'integer'likes\n",
       ":   'integer'dislikes\n",
       ":   'integer'comment_count\n",
       ":   'integer'thumbnail_link\n",
       ":   'character'comments_disabled\n",
       ":   'character'ratings_disabled\n",
       ":   'character'video_error_or_removed\n",
       ":   'character'description\n",
       ":   'character'\n",
       "\n"
      ],
      "text/plain": [
       "              video_id          trending_date                  title \n",
       "           \"character\"            \"character\"            \"character\" \n",
       "         channel_title            category_id           publish_time \n",
       "           \"character\"              \"integer\"            \"character\" \n",
       "                  tags                  views                  likes \n",
       "           \"character\"              \"integer\"              \"integer\" \n",
       "              dislikes          comment_count         thumbnail_link \n",
       "             \"integer\"              \"integer\"            \"character\" \n",
       "     comments_disabled       ratings_disabled video_error_or_removed \n",
       "           \"character\"            \"character\"            \"character\" \n",
       "           description \n",
       "           \"character\" "
      ]
     },
     "metadata": {},
     "output_type": "display_data"
    },
    {
     "data": {
      "text/html": [
       "<style>\n",
       ".dl-inline {width: auto; margin:0; padding: 0}\n",
       ".dl-inline>dt, .dl-inline>dd {float: none; width: auto; display: inline-block}\n",
       ".dl-inline>dt::after {content: \":\\0020\"; padding-right: .5ex}\n",
       ".dl-inline>dt:not(:first-of-type) {padding-left: .5ex}\n",
       "</style><dl class=dl-inline><dt>video_id</dt><dd>'character'</dd><dt>trending_date</dt><dd>'character'</dd><dt>title</dt><dd>'character'</dd><dt>channel_title</dt><dd>'character'</dd><dt>category_id</dt><dd>'integer'</dd><dt>publish_time</dt><dd>'character'</dd><dt>tags</dt><dd>'character'</dd><dt>views</dt><dd>'integer'</dd><dt>likes</dt><dd>'integer'</dd><dt>dislikes</dt><dd>'integer'</dd><dt>comment_count</dt><dd>'integer'</dd><dt>thumbnail_link</dt><dd>'character'</dd><dt>comments_disabled</dt><dd>'character'</dd><dt>ratings_disabled</dt><dd>'character'</dd><dt>video_error_or_removed</dt><dd>'character'</dd><dt>description</dt><dd>'character'</dd></dl>\n"
      ],
      "text/latex": [
       "\\begin{description*}\n",
       "\\item[video\\textbackslash{}\\_id] 'character'\n",
       "\\item[trending\\textbackslash{}\\_date] 'character'\n",
       "\\item[title] 'character'\n",
       "\\item[channel\\textbackslash{}\\_title] 'character'\n",
       "\\item[category\\textbackslash{}\\_id] 'integer'\n",
       "\\item[publish\\textbackslash{}\\_time] 'character'\n",
       "\\item[tags] 'character'\n",
       "\\item[views] 'integer'\n",
       "\\item[likes] 'integer'\n",
       "\\item[dislikes] 'integer'\n",
       "\\item[comment\\textbackslash{}\\_count] 'integer'\n",
       "\\item[thumbnail\\textbackslash{}\\_link] 'character'\n",
       "\\item[comments\\textbackslash{}\\_disabled] 'character'\n",
       "\\item[ratings\\textbackslash{}\\_disabled] 'character'\n",
       "\\item[video\\textbackslash{}\\_error\\textbackslash{}\\_or\\textbackslash{}\\_removed] 'character'\n",
       "\\item[description] 'character'\n",
       "\\end{description*}\n"
      ],
      "text/markdown": [
       "video_id\n",
       ":   'character'trending_date\n",
       ":   'character'title\n",
       ":   'character'channel_title\n",
       ":   'character'category_id\n",
       ":   'integer'publish_time\n",
       ":   'character'tags\n",
       ":   'character'views\n",
       ":   'integer'likes\n",
       ":   'integer'dislikes\n",
       ":   'integer'comment_count\n",
       ":   'integer'thumbnail_link\n",
       ":   'character'comments_disabled\n",
       ":   'character'ratings_disabled\n",
       ":   'character'video_error_or_removed\n",
       ":   'character'description\n",
       ":   'character'\n",
       "\n"
      ],
      "text/plain": [
       "              video_id          trending_date                  title \n",
       "           \"character\"            \"character\"            \"character\" \n",
       "         channel_title            category_id           publish_time \n",
       "           \"character\"              \"integer\"            \"character\" \n",
       "                  tags                  views                  likes \n",
       "           \"character\"              \"integer\"              \"integer\" \n",
       "              dislikes          comment_count         thumbnail_link \n",
       "             \"integer\"              \"integer\"            \"character\" \n",
       "     comments_disabled       ratings_disabled video_error_or_removed \n",
       "           \"character\"            \"character\"            \"character\" \n",
       "           description \n",
       "           \"character\" "
      ]
     },
     "metadata": {},
     "output_type": "display_data"
    },
    {
     "data": {
      "text/html": [
       "<style>\n",
       ".dl-inline {width: auto; margin:0; padding: 0}\n",
       ".dl-inline>dt, .dl-inline>dd {float: none; width: auto; display: inline-block}\n",
       ".dl-inline>dt::after {content: \":\\0020\"; padding-right: .5ex}\n",
       ".dl-inline>dt:not(:first-of-type) {padding-left: .5ex}\n",
       "</style><dl class=dl-inline><dt>video_id</dt><dd>'character'</dd><dt>trending_date</dt><dd>'character'</dd><dt>title</dt><dd>'character'</dd><dt>channel_title</dt><dd>'character'</dd><dt>category_id</dt><dd>'integer'</dd><dt>publish_time</dt><dd>'character'</dd><dt>tags</dt><dd>'character'</dd><dt>views</dt><dd>'integer'</dd><dt>likes</dt><dd>'integer'</dd><dt>dislikes</dt><dd>'integer'</dd><dt>comment_count</dt><dd>'integer'</dd><dt>thumbnail_link</dt><dd>'character'</dd><dt>comments_disabled</dt><dd>'character'</dd><dt>ratings_disabled</dt><dd>'character'</dd><dt>video_error_or_removed</dt><dd>'character'</dd><dt>description</dt><dd>'character'</dd></dl>\n"
      ],
      "text/latex": [
       "\\begin{description*}\n",
       "\\item[video\\textbackslash{}\\_id] 'character'\n",
       "\\item[trending\\textbackslash{}\\_date] 'character'\n",
       "\\item[title] 'character'\n",
       "\\item[channel\\textbackslash{}\\_title] 'character'\n",
       "\\item[category\\textbackslash{}\\_id] 'integer'\n",
       "\\item[publish\\textbackslash{}\\_time] 'character'\n",
       "\\item[tags] 'character'\n",
       "\\item[views] 'integer'\n",
       "\\item[likes] 'integer'\n",
       "\\item[dislikes] 'integer'\n",
       "\\item[comment\\textbackslash{}\\_count] 'integer'\n",
       "\\item[thumbnail\\textbackslash{}\\_link] 'character'\n",
       "\\item[comments\\textbackslash{}\\_disabled] 'character'\n",
       "\\item[ratings\\textbackslash{}\\_disabled] 'character'\n",
       "\\item[video\\textbackslash{}\\_error\\textbackslash{}\\_or\\textbackslash{}\\_removed] 'character'\n",
       "\\item[description] 'character'\n",
       "\\end{description*}\n"
      ],
      "text/markdown": [
       "video_id\n",
       ":   'character'trending_date\n",
       ":   'character'title\n",
       ":   'character'channel_title\n",
       ":   'character'category_id\n",
       ":   'integer'publish_time\n",
       ":   'character'tags\n",
       ":   'character'views\n",
       ":   'integer'likes\n",
       ":   'integer'dislikes\n",
       ":   'integer'comment_count\n",
       ":   'integer'thumbnail_link\n",
       ":   'character'comments_disabled\n",
       ":   'character'ratings_disabled\n",
       ":   'character'video_error_or_removed\n",
       ":   'character'description\n",
       ":   'character'\n",
       "\n"
      ],
      "text/plain": [
       "              video_id          trending_date                  title \n",
       "           \"character\"            \"character\"            \"character\" \n",
       "         channel_title            category_id           publish_time \n",
       "           \"character\"              \"integer\"            \"character\" \n",
       "                  tags                  views                  likes \n",
       "           \"character\"              \"integer\"              \"integer\" \n",
       "              dislikes          comment_count         thumbnail_link \n",
       "             \"integer\"              \"integer\"            \"character\" \n",
       "     comments_disabled       ratings_disabled video_error_or_removed \n",
       "           \"character\"            \"character\"            \"character\" \n",
       "           description \n",
       "           \"character\" "
      ]
     },
     "metadata": {},
     "output_type": "display_data"
    },
    {
     "data": {
      "text/html": [
       "<style>\n",
       ".dl-inline {width: auto; margin:0; padding: 0}\n",
       ".dl-inline>dt, .dl-inline>dd {float: none; width: auto; display: inline-block}\n",
       ".dl-inline>dt::after {content: \":\\0020\"; padding-right: .5ex}\n",
       ".dl-inline>dt:not(:first-of-type) {padding-left: .5ex}\n",
       "</style><dl class=dl-inline><dt>video_id</dt><dd>'character'</dd><dt>trending_date</dt><dd>'character'</dd><dt>title</dt><dd>'character'</dd><dt>channel_title</dt><dd>'character'</dd><dt>category_id</dt><dd>'integer'</dd><dt>publish_time</dt><dd>'character'</dd><dt>tags</dt><dd>'character'</dd><dt>views</dt><dd>'integer'</dd><dt>likes</dt><dd>'integer'</dd><dt>dislikes</dt><dd>'integer'</dd><dt>comment_count</dt><dd>'integer'</dd><dt>thumbnail_link</dt><dd>'character'</dd><dt>comments_disabled</dt><dd>'character'</dd><dt>ratings_disabled</dt><dd>'character'</dd><dt>video_error_or_removed</dt><dd>'character'</dd><dt>description</dt><dd>'character'</dd></dl>\n"
      ],
      "text/latex": [
       "\\begin{description*}\n",
       "\\item[video\\textbackslash{}\\_id] 'character'\n",
       "\\item[trending\\textbackslash{}\\_date] 'character'\n",
       "\\item[title] 'character'\n",
       "\\item[channel\\textbackslash{}\\_title] 'character'\n",
       "\\item[category\\textbackslash{}\\_id] 'integer'\n",
       "\\item[publish\\textbackslash{}\\_time] 'character'\n",
       "\\item[tags] 'character'\n",
       "\\item[views] 'integer'\n",
       "\\item[likes] 'integer'\n",
       "\\item[dislikes] 'integer'\n",
       "\\item[comment\\textbackslash{}\\_count] 'integer'\n",
       "\\item[thumbnail\\textbackslash{}\\_link] 'character'\n",
       "\\item[comments\\textbackslash{}\\_disabled] 'character'\n",
       "\\item[ratings\\textbackslash{}\\_disabled] 'character'\n",
       "\\item[video\\textbackslash{}\\_error\\textbackslash{}\\_or\\textbackslash{}\\_removed] 'character'\n",
       "\\item[description] 'character'\n",
       "\\end{description*}\n"
      ],
      "text/markdown": [
       "video_id\n",
       ":   'character'trending_date\n",
       ":   'character'title\n",
       ":   'character'channel_title\n",
       ":   'character'category_id\n",
       ":   'integer'publish_time\n",
       ":   'character'tags\n",
       ":   'character'views\n",
       ":   'integer'likes\n",
       ":   'integer'dislikes\n",
       ":   'integer'comment_count\n",
       ":   'integer'thumbnail_link\n",
       ":   'character'comments_disabled\n",
       ":   'character'ratings_disabled\n",
       ":   'character'video_error_or_removed\n",
       ":   'character'description\n",
       ":   'character'\n",
       "\n"
      ],
      "text/plain": [
       "              video_id          trending_date                  title \n",
       "           \"character\"            \"character\"            \"character\" \n",
       "         channel_title            category_id           publish_time \n",
       "           \"character\"              \"integer\"            \"character\" \n",
       "                  tags                  views                  likes \n",
       "           \"character\"              \"integer\"              \"integer\" \n",
       "              dislikes          comment_count         thumbnail_link \n",
       "             \"integer\"              \"integer\"            \"character\" \n",
       "     comments_disabled       ratings_disabled video_error_or_removed \n",
       "           \"character\"            \"character\"            \"character\" \n",
       "           description \n",
       "           \"character\" "
      ]
     },
     "metadata": {},
     "output_type": "display_data"
    }
   ],
   "source": [
    "JP$comments_disabled <- as.character(JP$comments_disabled)\n",
    "JP$ratings_disabled <- as.character(JP$ratings_disabled)\n",
    "JP$video_error_or_removed <- as.character(JP$video_error_or_removed)\n",
    "sapply(JP, class)\n",
    "\n",
    "IN$comments_disabled <- as.character(IN$comments_disabled)\n",
    "IN$ratings_disabled <- as.character(IN$ratings_disabled)\n",
    "IN$video_error_or_removed <- as.character(IN$video_error_or_removed)\n",
    "sapply(IN, class)\n",
    "\n",
    "MX$comments_disabled <- as.character(MX$comments_disabled)\n",
    "MX$ratings_disabled <- as.character(MX$ratings_disabled)\n",
    "MX$video_error_or_removed <- as.character(MX$video_error_or_removed)\n",
    "sapply(MX, class)\n",
    "\n",
    "RU$comments_disabled <- as.character(RU$comments_disabled)\n",
    "RU$ratings_disabled <- as.character(RU$ratings_disabled)\n",
    "RU$video_error_or_removed <- as.character(RU$video_error_or_removed)\n",
    "sapply(RU, class)"
   ]
  },
  {
   "cell_type": "markdown",
   "id": "lightweight-warrior",
   "metadata": {},
   "source": [
    "- Multiple colums were formated in a different data format, which can be checked with the sapply() function. The colums have been adjusted to the character format using the as.character() function."
   ]
  },
  {
   "cell_type": "code",
   "execution_count": 549,
   "id": "exceptional-cambridge",
   "metadata": {
    "scrolled": true
   },
   "outputs": [
    {
     "data": {
      "text/html": [
       "<table class=\"dataframe\">\n",
       "<caption>A data.frame: 6 × 9</caption>\n",
       "<thead>\n",
       "\t<tr><th></th><th scope=col>Language</th><th scope=col>trending_date</th><th scope=col>views</th><th scope=col>likes</th><th scope=col>dislikes</th><th scope=col>comment_count</th><th scope=col>comments_disabled</th><th scope=col>ratings_disabled</th><th scope=col>video_error_or_removed</th></tr>\n",
       "\t<tr><th></th><th scope=col>&lt;chr&gt;</th><th scope=col>&lt;chr&gt;</th><th scope=col>&lt;int&gt;</th><th scope=col>&lt;int&gt;</th><th scope=col>&lt;int&gt;</th><th scope=col>&lt;int&gt;</th><th scope=col>&lt;chr&gt;</th><th scope=col>&lt;chr&gt;</th><th scope=col>&lt;chr&gt;</th></tr>\n",
       "</thead>\n",
       "<tbody>\n",
       "\t<tr><th scope=row>1</th><td>CA</td><td>17.14.11</td><td>17158579</td><td> 787425</td><td>43420</td><td>125882</td><td>False</td><td>False</td><td>False</td></tr>\n",
       "\t<tr><th scope=row>2</th><td>CA</td><td>17.14.11</td><td> 1014651</td><td> 127794</td><td> 1688</td><td> 13030</td><td>False</td><td>False</td><td>False</td></tr>\n",
       "\t<tr><th scope=row>3</th><td>CA</td><td>17.14.11</td><td> 3191434</td><td> 146035</td><td> 5339</td><td>  8181</td><td>False</td><td>False</td><td>False</td></tr>\n",
       "\t<tr><th scope=row>4</th><td>CA</td><td>17.14.11</td><td> 2095828</td><td> 132239</td><td> 1989</td><td> 17518</td><td>False</td><td>False</td><td>False</td></tr>\n",
       "\t<tr><th scope=row>5</th><td>CA</td><td>17.14.11</td><td>33523622</td><td>1634130</td><td>21082</td><td> 85067</td><td>False</td><td>False</td><td>False</td></tr>\n",
       "\t<tr><th scope=row>6</th><td>CA</td><td>17.14.11</td><td> 1309699</td><td> 103755</td><td> 4613</td><td> 12143</td><td>False</td><td>False</td><td>False</td></tr>\n",
       "</tbody>\n",
       "</table>\n"
      ],
      "text/latex": [
       "A data.frame: 6 × 9\n",
       "\\begin{tabular}{r|lllllllll}\n",
       "  & Language & trending\\_date & views & likes & dislikes & comment\\_count & comments\\_disabled & ratings\\_disabled & video\\_error\\_or\\_removed\\\\\n",
       "  & <chr> & <chr> & <int> & <int> & <int> & <int> & <chr> & <chr> & <chr>\\\\\n",
       "\\hline\n",
       "\t1 & CA & 17.14.11 & 17158579 &  787425 & 43420 & 125882 & False & False & False\\\\\n",
       "\t2 & CA & 17.14.11 &  1014651 &  127794 &  1688 &  13030 & False & False & False\\\\\n",
       "\t3 & CA & 17.14.11 &  3191434 &  146035 &  5339 &   8181 & False & False & False\\\\\n",
       "\t4 & CA & 17.14.11 &  2095828 &  132239 &  1989 &  17518 & False & False & False\\\\\n",
       "\t5 & CA & 17.14.11 & 33523622 & 1634130 & 21082 &  85067 & False & False & False\\\\\n",
       "\t6 & CA & 17.14.11 &  1309699 &  103755 &  4613 &  12143 & False & False & False\\\\\n",
       "\\end{tabular}\n"
      ],
      "text/markdown": [
       "\n",
       "A data.frame: 6 × 9\n",
       "\n",
       "| <!--/--> | Language &lt;chr&gt; | trending_date &lt;chr&gt; | views &lt;int&gt; | likes &lt;int&gt; | dislikes &lt;int&gt; | comment_count &lt;int&gt; | comments_disabled &lt;chr&gt; | ratings_disabled &lt;chr&gt; | video_error_or_removed &lt;chr&gt; |\n",
       "|---|---|---|---|---|---|---|---|---|---|\n",
       "| 1 | CA | 17.14.11 | 17158579 |  787425 | 43420 | 125882 | False | False | False |\n",
       "| 2 | CA | 17.14.11 |  1014651 |  127794 |  1688 |  13030 | False | False | False |\n",
       "| 3 | CA | 17.14.11 |  3191434 |  146035 |  5339 |   8181 | False | False | False |\n",
       "| 4 | CA | 17.14.11 |  2095828 |  132239 |  1989 |  17518 | False | False | False |\n",
       "| 5 | CA | 17.14.11 | 33523622 | 1634130 | 21082 |  85067 | False | False | False |\n",
       "| 6 | CA | 17.14.11 |  1309699 |  103755 |  4613 |  12143 | False | False | False |\n",
       "\n"
      ],
      "text/plain": [
       "  Language trending_date views    likes   dislikes comment_count\n",
       "1 CA       17.14.11      17158579  787425 43420    125882       \n",
       "2 CA       17.14.11       1014651  127794  1688     13030       \n",
       "3 CA       17.14.11       3191434  146035  5339      8181       \n",
       "4 CA       17.14.11       2095828  132239  1989     17518       \n",
       "5 CA       17.14.11      33523622 1634130 21082     85067       \n",
       "6 CA       17.14.11       1309699  103755  4613     12143       \n",
       "  comments_disabled ratings_disabled video_error_or_removed\n",
       "1 False             False            False                 \n",
       "2 False             False            False                 \n",
       "3 False             False            False                 \n",
       "4 False             False            False                 \n",
       "5 False             False            False                 \n",
       "6 False             False            False                 "
      ]
     },
     "metadata": {},
     "output_type": "display_data"
    }
   ],
   "source": [
    "Data1 <- bind_rows(list(CA=CA, DE=DE, FR=FR, GB=GB, US=US, JP=JP, IN=IN, MX=MX, RU=RU), .id = 'Language')\n",
    "\n",
    "Data2 <- na.omit(Data1)\n",
    "\n",
    "Data3 <- subset(Data2, select = -c(category_id, channel_title, title, video_id, tags, thumbnail_link, description, publish_time) )\n",
    " \n",
    "head(Data3)"
   ]
  },
  {
   "cell_type": "markdown",
   "id": "brown-thickness",
   "metadata": {},
   "source": [
    "- To clean and tidy the data, all data frames got combined into one, while removing any missing values. Colums that don't play a role in this statistical analysis have been removed. "
   ]
  },
  {
   "cell_type": "code",
   "execution_count": 550,
   "id": "posted-cutting",
   "metadata": {
    "scrolled": true
   },
   "outputs": [
    {
     "data": {
      "text/html": [
       "<table class=\"dataframe\">\n",
       "<caption>A data.frame: 341375 × 9</caption>\n",
       "<thead>\n",
       "\t<tr><th></th><th scope=col>Language</th><th scope=col>trending_date</th><th scope=col>views</th><th scope=col>likes</th><th scope=col>dislikes</th><th scope=col>comment_count</th><th scope=col>comments_disabled</th><th scope=col>ratings_disabled</th><th scope=col>video_error_or_removed</th></tr>\n",
       "\t<tr><th></th><th scope=col>&lt;chr&gt;</th><th scope=col>&lt;chr&gt;</th><th scope=col>&lt;int&gt;</th><th scope=col>&lt;int&gt;</th><th scope=col>&lt;int&gt;</th><th scope=col>&lt;int&gt;</th><th scope=col>&lt;chr&gt;</th><th scope=col>&lt;chr&gt;</th><th scope=col>&lt;chr&gt;</th></tr>\n",
       "</thead>\n",
       "<tbody>\n",
       "\t<tr><th scope=row>1</th><td>CA</td><td>17.14.11</td><td>17158579</td><td> 787425</td><td> 43420</td><td>125882</td><td>False</td><td>False</td><td>False</td></tr>\n",
       "\t<tr><th scope=row>2</th><td>CA</td><td>17.14.11</td><td> 1014651</td><td> 127794</td><td>  1688</td><td> 13030</td><td>False</td><td>False</td><td>False</td></tr>\n",
       "\t<tr><th scope=row>3</th><td>CA</td><td>17.14.11</td><td> 3191434</td><td> 146035</td><td>  5339</td><td>  8181</td><td>False</td><td>False</td><td>False</td></tr>\n",
       "\t<tr><th scope=row>4</th><td>CA</td><td>17.14.11</td><td> 2095828</td><td> 132239</td><td>  1989</td><td> 17518</td><td>False</td><td>False</td><td>False</td></tr>\n",
       "\t<tr><th scope=row>5</th><td>CA</td><td>17.14.11</td><td>33523622</td><td>1634130</td><td> 21082</td><td> 85067</td><td>False</td><td>False</td><td>False</td></tr>\n",
       "\t<tr><th scope=row>6</th><td>CA</td><td>17.14.11</td><td> 1309699</td><td> 103755</td><td>  4613</td><td> 12143</td><td>False</td><td>False</td><td>False</td></tr>\n",
       "\t<tr><th scope=row>7</th><td>CA</td><td>17.14.11</td><td> 2987945</td><td> 187464</td><td>  9850</td><td> 26629</td><td>False</td><td>False</td><td>False</td></tr>\n",
       "\t<tr><th scope=row>8</th><td>CA</td><td>17.14.11</td><td>  748374</td><td>  57534</td><td>  2967</td><td> 15959</td><td>False</td><td>False</td><td>False</td></tr>\n",
       "\t<tr><th scope=row>9</th><td>CA</td><td>17.14.11</td><td> 4477587</td><td> 292837</td><td>  4123</td><td> 36391</td><td>False</td><td>False</td><td>False</td></tr>\n",
       "\t<tr><th scope=row>10</th><td>CA</td><td>17.14.11</td><td>  505161</td><td>   4135</td><td>   976</td><td>  1484</td><td>False</td><td>False</td><td>False</td></tr>\n",
       "\t<tr><th scope=row>11</th><td>CA</td><td>17.14.11</td><td> 5068229</td><td> 263596</td><td>  8585</td><td> 28976</td><td>False</td><td>False</td><td>False</td></tr>\n",
       "\t<tr><th scope=row>12</th><td>CA</td><td>17.14.11</td><td> 3153224</td><td>  28451</td><td>  2285</td><td>  3312</td><td>False</td><td>False</td><td>False</td></tr>\n",
       "\t<tr><th scope=row>13</th><td>CA</td><td>17.14.11</td><td>  158815</td><td>    218</td><td>    30</td><td>   186</td><td>False</td><td>False</td><td>False</td></tr>\n",
       "\t<tr><th scope=row>14</th><td>CA</td><td>17.14.11</td><td> 5718766</td><td> 127477</td><td>  7134</td><td>  8063</td><td>False</td><td>False</td><td>False</td></tr>\n",
       "\t<tr><th scope=row>15</th><td>CA</td><td>17.14.11</td><td>  960747</td><td>  31810</td><td>   668</td><td>  5335</td><td>False</td><td>False</td><td>False</td></tr>\n",
       "\t<tr><th scope=row>16</th><td>CA</td><td>17.14.11</td><td> 1531218</td><td>  53961</td><td>  1697</td><td>  4277</td><td>False</td><td>False</td><td>False</td></tr>\n",
       "\t<tr><th scope=row>17</th><td>CA</td><td>17.14.11</td><td>  557883</td><td>  44558</td><td>   621</td><td>  9619</td><td>False</td><td>False</td><td>False</td></tr>\n",
       "\t<tr><th scope=row>18</th><td>CA</td><td>17.14.11</td><td> 1496225</td><td>  16116</td><td>   236</td><td>   605</td><td>False</td><td>False</td><td>False</td></tr>\n",
       "\t<tr><th scope=row>19</th><td>CA</td><td>17.14.11</td><td>  308568</td><td>  19541</td><td>    70</td><td>   495</td><td>False</td><td>False</td><td>False</td></tr>\n",
       "\t<tr><th scope=row>20</th><td>CA</td><td>17.14.11</td><td> 1096327</td><td>  33966</td><td>   798</td><td>   882</td><td>False</td><td>False</td><td>False</td></tr>\n",
       "\t<tr><th scope=row>21</th><td>CA</td><td>17.14.11</td><td>  817732</td><td>  23663</td><td>   778</td><td>  3432</td><td>False</td><td>False</td><td>False</td></tr>\n",
       "\t<tr><th scope=row>22</th><td>CA</td><td>17.14.11</td><td>  343168</td><td>  10172</td><td>   666</td><td>  2146</td><td>False</td><td>False</td><td>False</td></tr>\n",
       "\t<tr><th scope=row>23</th><td>CA</td><td>17.14.11</td><td> 3905245</td><td>  53072</td><td>  2437</td><td>  1979</td><td>False</td><td>False</td><td>False</td></tr>\n",
       "\t<tr><th scope=row>24</th><td>CA</td><td>17.14.11</td><td> 4204818</td><td> 187890</td><td>167908</td><td> 77348</td><td>False</td><td>False</td><td>False</td></tr>\n",
       "\t<tr><th scope=row>25</th><td>CA</td><td>17.14.11</td><td>  549374</td><td>  16832</td><td>   248</td><td>  3579</td><td>False</td><td>False</td><td>False</td></tr>\n",
       "\t<tr><th scope=row>26</th><td>CA</td><td>17.14.11</td><td>  348841</td><td>  27089</td><td>   162</td><td>  2099</td><td>False</td><td>False</td><td>False</td></tr>\n",
       "\t<tr><th scope=row>27</th><td>CA</td><td>17.14.11</td><td>  370827</td><td>  12150</td><td>   325</td><td>  2352</td><td>False</td><td>False</td><td>False</td></tr>\n",
       "\t<tr><th scope=row>28</th><td>CA</td><td>17.14.11</td><td>  653398</td><td>  27773</td><td>  2778</td><td>  3976</td><td>False</td><td>False</td><td>False</td></tr>\n",
       "\t<tr><th scope=row>29</th><td>CA</td><td>17.14.11</td><td>   92280</td><td>  11045</td><td>   182</td><td>  1412</td><td>False</td><td>False</td><td>False</td></tr>\n",
       "\t<tr><th scope=row>30</th><td>CA</td><td>17.14.11</td><td>  178447</td><td>   4339</td><td>    96</td><td>   876</td><td>False</td><td>False</td><td>False</td></tr>\n",
       "\t<tr><th scope=row>...</th><td>...</td><td>...</td><td>...</td><td>...</td><td>...</td><td>...</td><td>...</td><td>...</td><td>...</td></tr>\n",
       "\t<tr><th scope=row>341346</th><td>RU</td><td>18.14.06</td><td> 20151</td><td>  396</td><td> 21</td><td>  51</td><td>False</td><td>False</td><td>False</td></tr>\n",
       "\t<tr><th scope=row>341347</th><td>RU</td><td>18.14.06</td><td> 59781</td><td> 1221</td><td> 81</td><td>  34</td><td>False</td><td>False</td><td>False</td></tr>\n",
       "\t<tr><th scope=row>341348</th><td>RU</td><td>18.14.06</td><td>101061</td><td>10052</td><td>278</td><td> 965</td><td>False</td><td>False</td><td>False</td></tr>\n",
       "\t<tr><th scope=row>341349</th><td>RU</td><td>18.14.06</td><td> 64124</td><td> 3512</td><td>129</td><td> 568</td><td>False</td><td>False</td><td>False</td></tr>\n",
       "\t<tr><th scope=row>341350</th><td>RU</td><td>18.14.06</td><td> 17102</td><td> 1492</td><td> 13</td><td> 102</td><td>False</td><td>False</td><td>False</td></tr>\n",
       "\t<tr><th scope=row>341351</th><td>RU</td><td>18.14.06</td><td>121648</td><td> 2501</td><td> 59</td><td> 207</td><td>False</td><td>False</td><td>False</td></tr>\n",
       "\t<tr><th scope=row>341352</th><td>RU</td><td>18.14.06</td><td> 78982</td><td>  712</td><td>124</td><td>   0</td><td>True </td><td>False</td><td>False</td></tr>\n",
       "\t<tr><th scope=row>341353</th><td>RU</td><td>18.14.06</td><td> 45543</td><td>  532</td><td> 81</td><td> 159</td><td>False</td><td>False</td><td>False</td></tr>\n",
       "\t<tr><th scope=row>341354</th><td>RU</td><td>18.14.06</td><td> 59388</td><td> 5664</td><td>200</td><td>1076</td><td>False</td><td>False</td><td>False</td></tr>\n",
       "\t<tr><th scope=row>341355</th><td>RU</td><td>18.14.06</td><td> 50546</td><td> 2834</td><td> 45</td><td>  98</td><td>False</td><td>False</td><td>False</td></tr>\n",
       "\t<tr><th scope=row>341356</th><td>RU</td><td>18.14.06</td><td> 66023</td><td>10014</td><td>801</td><td>1525</td><td>False</td><td>False</td><td>False</td></tr>\n",
       "\t<tr><th scope=row>341357</th><td>RU</td><td>18.14.06</td><td> 30149</td><td> 2032</td><td> 33</td><td> 395</td><td>False</td><td>False</td><td>False</td></tr>\n",
       "\t<tr><th scope=row>341358</th><td>RU</td><td>18.14.06</td><td> 18529</td><td>  702</td><td> 78</td><td> 166</td><td>False</td><td>False</td><td>False</td></tr>\n",
       "\t<tr><th scope=row>341359</th><td>RU</td><td>18.14.06</td><td> 66082</td><td> 4980</td><td> 64</td><td> 621</td><td>False</td><td>False</td><td>False</td></tr>\n",
       "\t<tr><th scope=row>341360</th><td>RU</td><td>18.14.06</td><td> 17450</td><td>  192</td><td> 54</td><td>   0</td><td>True </td><td>False</td><td>False</td></tr>\n",
       "\t<tr><th scope=row>341361</th><td>RU</td><td>18.14.06</td><td> 38766</td><td> 1699</td><td> 83</td><td> 332</td><td>False</td><td>False</td><td>False</td></tr>\n",
       "\t<tr><th scope=row>341362</th><td>RU</td><td>18.14.06</td><td> 28158</td><td>  363</td><td> 50</td><td>  37</td><td>False</td><td>False</td><td>False</td></tr>\n",
       "\t<tr><th scope=row>341363</th><td>RU</td><td>18.14.06</td><td> 58916</td><td> 5279</td><td>680</td><td> 619</td><td>False</td><td>False</td><td>False</td></tr>\n",
       "\t<tr><th scope=row>341364</th><td>RU</td><td>18.14.06</td><td>241118</td><td> 2591</td><td>231</td><td> 588</td><td>False</td><td>False</td><td>False</td></tr>\n",
       "\t<tr><th scope=row>341365</th><td>RU</td><td>18.14.06</td><td> 47592</td><td> 9872</td><td> 48</td><td> 661</td><td>False</td><td>False</td><td>False</td></tr>\n",
       "\t<tr><th scope=row>341366</th><td>RU</td><td>18.14.06</td><td> 69336</td><td> 1923</td><td>195</td><td> 271</td><td>False</td><td>False</td><td>False</td></tr>\n",
       "\t<tr><th scope=row>341367</th><td>RU</td><td>18.14.06</td><td> 24303</td><td> 1729</td><td> 73</td><td>1157</td><td>False</td><td>False</td><td>False</td></tr>\n",
       "\t<tr><th scope=row>341368</th><td>RU</td><td>18.14.06</td><td>317655</td><td>13427</td><td>346</td><td>2205</td><td>False</td><td>False</td><td>False</td></tr>\n",
       "\t<tr><th scope=row>341369</th><td>RU</td><td>18.14.06</td><td> 30297</td><td> 2420</td><td> 80</td><td> 180</td><td>False</td><td>False</td><td>False</td></tr>\n",
       "\t<tr><th scope=row>341370</th><td>RU</td><td>18.14.06</td><td> 70654</td><td> 3806</td><td> 87</td><td> 230</td><td>False</td><td>False</td><td>False</td></tr>\n",
       "\t<tr><th scope=row>341371</th><td>RU</td><td>18.14.06</td><td>129488</td><td> 5893</td><td>164</td><td> 990</td><td>False</td><td>False</td><td>False</td></tr>\n",
       "\t<tr><th scope=row>341372</th><td>RU</td><td>18.14.06</td><td> 99163</td><td> 4659</td><td>337</td><td> 692</td><td>False</td><td>False</td><td>False</td></tr>\n",
       "\t<tr><th scope=row>341373</th><td>RU</td><td>18.14.06</td><td>449611</td><td>24808</td><td> 93</td><td> 974</td><td>False</td><td>False</td><td>False</td></tr>\n",
       "\t<tr><th scope=row>341374</th><td>RU</td><td>18.14.06</td><td> 14225</td><td>  793</td><td> 39</td><td> 209</td><td>False</td><td>False</td><td>False</td></tr>\n",
       "\t<tr><th scope=row>341375</th><td>RU</td><td>18.14.06</td><td> 52340</td><td> 7708</td><td>133</td><td>1819</td><td>False</td><td>False</td><td>False</td></tr>\n",
       "</tbody>\n",
       "</table>\n"
      ],
      "text/latex": [
       "A data.frame: 341375 × 9\n",
       "\\begin{tabular}{r|lllllllll}\n",
       "  & Language & trending\\_date & views & likes & dislikes & comment\\_count & comments\\_disabled & ratings\\_disabled & video\\_error\\_or\\_removed\\\\\n",
       "  & <chr> & <chr> & <int> & <int> & <int> & <int> & <chr> & <chr> & <chr>\\\\\n",
       "\\hline\n",
       "\t1 & CA & 17.14.11 & 17158579 &  787425 &  43420 & 125882 & False & False & False\\\\\n",
       "\t2 & CA & 17.14.11 &  1014651 &  127794 &   1688 &  13030 & False & False & False\\\\\n",
       "\t3 & CA & 17.14.11 &  3191434 &  146035 &   5339 &   8181 & False & False & False\\\\\n",
       "\t4 & CA & 17.14.11 &  2095828 &  132239 &   1989 &  17518 & False & False & False\\\\\n",
       "\t5 & CA & 17.14.11 & 33523622 & 1634130 &  21082 &  85067 & False & False & False\\\\\n",
       "\t6 & CA & 17.14.11 &  1309699 &  103755 &   4613 &  12143 & False & False & False\\\\\n",
       "\t7 & CA & 17.14.11 &  2987945 &  187464 &   9850 &  26629 & False & False & False\\\\\n",
       "\t8 & CA & 17.14.11 &   748374 &   57534 &   2967 &  15959 & False & False & False\\\\\n",
       "\t9 & CA & 17.14.11 &  4477587 &  292837 &   4123 &  36391 & False & False & False\\\\\n",
       "\t10 & CA & 17.14.11 &   505161 &    4135 &    976 &   1484 & False & False & False\\\\\n",
       "\t11 & CA & 17.14.11 &  5068229 &  263596 &   8585 &  28976 & False & False & False\\\\\n",
       "\t12 & CA & 17.14.11 &  3153224 &   28451 &   2285 &   3312 & False & False & False\\\\\n",
       "\t13 & CA & 17.14.11 &   158815 &     218 &     30 &    186 & False & False & False\\\\\n",
       "\t14 & CA & 17.14.11 &  5718766 &  127477 &   7134 &   8063 & False & False & False\\\\\n",
       "\t15 & CA & 17.14.11 &   960747 &   31810 &    668 &   5335 & False & False & False\\\\\n",
       "\t16 & CA & 17.14.11 &  1531218 &   53961 &   1697 &   4277 & False & False & False\\\\\n",
       "\t17 & CA & 17.14.11 &   557883 &   44558 &    621 &   9619 & False & False & False\\\\\n",
       "\t18 & CA & 17.14.11 &  1496225 &   16116 &    236 &    605 & False & False & False\\\\\n",
       "\t19 & CA & 17.14.11 &   308568 &   19541 &     70 &    495 & False & False & False\\\\\n",
       "\t20 & CA & 17.14.11 &  1096327 &   33966 &    798 &    882 & False & False & False\\\\\n",
       "\t21 & CA & 17.14.11 &   817732 &   23663 &    778 &   3432 & False & False & False\\\\\n",
       "\t22 & CA & 17.14.11 &   343168 &   10172 &    666 &   2146 & False & False & False\\\\\n",
       "\t23 & CA & 17.14.11 &  3905245 &   53072 &   2437 &   1979 & False & False & False\\\\\n",
       "\t24 & CA & 17.14.11 &  4204818 &  187890 & 167908 &  77348 & False & False & False\\\\\n",
       "\t25 & CA & 17.14.11 &   549374 &   16832 &    248 &   3579 & False & False & False\\\\\n",
       "\t26 & CA & 17.14.11 &   348841 &   27089 &    162 &   2099 & False & False & False\\\\\n",
       "\t27 & CA & 17.14.11 &   370827 &   12150 &    325 &   2352 & False & False & False\\\\\n",
       "\t28 & CA & 17.14.11 &   653398 &   27773 &   2778 &   3976 & False & False & False\\\\\n",
       "\t29 & CA & 17.14.11 &    92280 &   11045 &    182 &   1412 & False & False & False\\\\\n",
       "\t30 & CA & 17.14.11 &   178447 &    4339 &     96 &    876 & False & False & False\\\\\n",
       "\t... & ... & ... & ... & ... & ... & ... & ... & ... & ...\\\\\n",
       "\t341346 & RU & 18.14.06 &  20151 &   396 &  21 &   51 & False & False & False\\\\\n",
       "\t341347 & RU & 18.14.06 &  59781 &  1221 &  81 &   34 & False & False & False\\\\\n",
       "\t341348 & RU & 18.14.06 & 101061 & 10052 & 278 &  965 & False & False & False\\\\\n",
       "\t341349 & RU & 18.14.06 &  64124 &  3512 & 129 &  568 & False & False & False\\\\\n",
       "\t341350 & RU & 18.14.06 &  17102 &  1492 &  13 &  102 & False & False & False\\\\\n",
       "\t341351 & RU & 18.14.06 & 121648 &  2501 &  59 &  207 & False & False & False\\\\\n",
       "\t341352 & RU & 18.14.06 &  78982 &   712 & 124 &    0 & True  & False & False\\\\\n",
       "\t341353 & RU & 18.14.06 &  45543 &   532 &  81 &  159 & False & False & False\\\\\n",
       "\t341354 & RU & 18.14.06 &  59388 &  5664 & 200 & 1076 & False & False & False\\\\\n",
       "\t341355 & RU & 18.14.06 &  50546 &  2834 &  45 &   98 & False & False & False\\\\\n",
       "\t341356 & RU & 18.14.06 &  66023 & 10014 & 801 & 1525 & False & False & False\\\\\n",
       "\t341357 & RU & 18.14.06 &  30149 &  2032 &  33 &  395 & False & False & False\\\\\n",
       "\t341358 & RU & 18.14.06 &  18529 &   702 &  78 &  166 & False & False & False\\\\\n",
       "\t341359 & RU & 18.14.06 &  66082 &  4980 &  64 &  621 & False & False & False\\\\\n",
       "\t341360 & RU & 18.14.06 &  17450 &   192 &  54 &    0 & True  & False & False\\\\\n",
       "\t341361 & RU & 18.14.06 &  38766 &  1699 &  83 &  332 & False & False & False\\\\\n",
       "\t341362 & RU & 18.14.06 &  28158 &   363 &  50 &   37 & False & False & False\\\\\n",
       "\t341363 & RU & 18.14.06 &  58916 &  5279 & 680 &  619 & False & False & False\\\\\n",
       "\t341364 & RU & 18.14.06 & 241118 &  2591 & 231 &  588 & False & False & False\\\\\n",
       "\t341365 & RU & 18.14.06 &  47592 &  9872 &  48 &  661 & False & False & False\\\\\n",
       "\t341366 & RU & 18.14.06 &  69336 &  1923 & 195 &  271 & False & False & False\\\\\n",
       "\t341367 & RU & 18.14.06 &  24303 &  1729 &  73 & 1157 & False & False & False\\\\\n",
       "\t341368 & RU & 18.14.06 & 317655 & 13427 & 346 & 2205 & False & False & False\\\\\n",
       "\t341369 & RU & 18.14.06 &  30297 &  2420 &  80 &  180 & False & False & False\\\\\n",
       "\t341370 & RU & 18.14.06 &  70654 &  3806 &  87 &  230 & False & False & False\\\\\n",
       "\t341371 & RU & 18.14.06 & 129488 &  5893 & 164 &  990 & False & False & False\\\\\n",
       "\t341372 & RU & 18.14.06 &  99163 &  4659 & 337 &  692 & False & False & False\\\\\n",
       "\t341373 & RU & 18.14.06 & 449611 & 24808 &  93 &  974 & False & False & False\\\\\n",
       "\t341374 & RU & 18.14.06 &  14225 &   793 &  39 &  209 & False & False & False\\\\\n",
       "\t341375 & RU & 18.14.06 &  52340 &  7708 & 133 & 1819 & False & False & False\\\\\n",
       "\\end{tabular}\n"
      ],
      "text/markdown": [
       "\n",
       "A data.frame: 341375 × 9\n",
       "\n",
       "| <!--/--> | Language &lt;chr&gt; | trending_date &lt;chr&gt; | views &lt;int&gt; | likes &lt;int&gt; | dislikes &lt;int&gt; | comment_count &lt;int&gt; | comments_disabled &lt;chr&gt; | ratings_disabled &lt;chr&gt; | video_error_or_removed &lt;chr&gt; |\n",
       "|---|---|---|---|---|---|---|---|---|---|\n",
       "| 1 | CA | 17.14.11 | 17158579 |  787425 |  43420 | 125882 | False | False | False |\n",
       "| 2 | CA | 17.14.11 |  1014651 |  127794 |   1688 |  13030 | False | False | False |\n",
       "| 3 | CA | 17.14.11 |  3191434 |  146035 |   5339 |   8181 | False | False | False |\n",
       "| 4 | CA | 17.14.11 |  2095828 |  132239 |   1989 |  17518 | False | False | False |\n",
       "| 5 | CA | 17.14.11 | 33523622 | 1634130 |  21082 |  85067 | False | False | False |\n",
       "| 6 | CA | 17.14.11 |  1309699 |  103755 |   4613 |  12143 | False | False | False |\n",
       "| 7 | CA | 17.14.11 |  2987945 |  187464 |   9850 |  26629 | False | False | False |\n",
       "| 8 | CA | 17.14.11 |   748374 |   57534 |   2967 |  15959 | False | False | False |\n",
       "| 9 | CA | 17.14.11 |  4477587 |  292837 |   4123 |  36391 | False | False | False |\n",
       "| 10 | CA | 17.14.11 |   505161 |    4135 |    976 |   1484 | False | False | False |\n",
       "| 11 | CA | 17.14.11 |  5068229 |  263596 |   8585 |  28976 | False | False | False |\n",
       "| 12 | CA | 17.14.11 |  3153224 |   28451 |   2285 |   3312 | False | False | False |\n",
       "| 13 | CA | 17.14.11 |   158815 |     218 |     30 |    186 | False | False | False |\n",
       "| 14 | CA | 17.14.11 |  5718766 |  127477 |   7134 |   8063 | False | False | False |\n",
       "| 15 | CA | 17.14.11 |   960747 |   31810 |    668 |   5335 | False | False | False |\n",
       "| 16 | CA | 17.14.11 |  1531218 |   53961 |   1697 |   4277 | False | False | False |\n",
       "| 17 | CA | 17.14.11 |   557883 |   44558 |    621 |   9619 | False | False | False |\n",
       "| 18 | CA | 17.14.11 |  1496225 |   16116 |    236 |    605 | False | False | False |\n",
       "| 19 | CA | 17.14.11 |   308568 |   19541 |     70 |    495 | False | False | False |\n",
       "| 20 | CA | 17.14.11 |  1096327 |   33966 |    798 |    882 | False | False | False |\n",
       "| 21 | CA | 17.14.11 |   817732 |   23663 |    778 |   3432 | False | False | False |\n",
       "| 22 | CA | 17.14.11 |   343168 |   10172 |    666 |   2146 | False | False | False |\n",
       "| 23 | CA | 17.14.11 |  3905245 |   53072 |   2437 |   1979 | False | False | False |\n",
       "| 24 | CA | 17.14.11 |  4204818 |  187890 | 167908 |  77348 | False | False | False |\n",
       "| 25 | CA | 17.14.11 |   549374 |   16832 |    248 |   3579 | False | False | False |\n",
       "| 26 | CA | 17.14.11 |   348841 |   27089 |    162 |   2099 | False | False | False |\n",
       "| 27 | CA | 17.14.11 |   370827 |   12150 |    325 |   2352 | False | False | False |\n",
       "| 28 | CA | 17.14.11 |   653398 |   27773 |   2778 |   3976 | False | False | False |\n",
       "| 29 | CA | 17.14.11 |    92280 |   11045 |    182 |   1412 | False | False | False |\n",
       "| 30 | CA | 17.14.11 |   178447 |    4339 |     96 |    876 | False | False | False |\n",
       "| ... | ... | ... | ... | ... | ... | ... | ... | ... | ... |\n",
       "| 341346 | RU | 18.14.06 |  20151 |   396 |  21 |   51 | False | False | False |\n",
       "| 341347 | RU | 18.14.06 |  59781 |  1221 |  81 |   34 | False | False | False |\n",
       "| 341348 | RU | 18.14.06 | 101061 | 10052 | 278 |  965 | False | False | False |\n",
       "| 341349 | RU | 18.14.06 |  64124 |  3512 | 129 |  568 | False | False | False |\n",
       "| 341350 | RU | 18.14.06 |  17102 |  1492 |  13 |  102 | False | False | False |\n",
       "| 341351 | RU | 18.14.06 | 121648 |  2501 |  59 |  207 | False | False | False |\n",
       "| 341352 | RU | 18.14.06 |  78982 |   712 | 124 |    0 | True  | False | False |\n",
       "| 341353 | RU | 18.14.06 |  45543 |   532 |  81 |  159 | False | False | False |\n",
       "| 341354 | RU | 18.14.06 |  59388 |  5664 | 200 | 1076 | False | False | False |\n",
       "| 341355 | RU | 18.14.06 |  50546 |  2834 |  45 |   98 | False | False | False |\n",
       "| 341356 | RU | 18.14.06 |  66023 | 10014 | 801 | 1525 | False | False | False |\n",
       "| 341357 | RU | 18.14.06 |  30149 |  2032 |  33 |  395 | False | False | False |\n",
       "| 341358 | RU | 18.14.06 |  18529 |   702 |  78 |  166 | False | False | False |\n",
       "| 341359 | RU | 18.14.06 |  66082 |  4980 |  64 |  621 | False | False | False |\n",
       "| 341360 | RU | 18.14.06 |  17450 |   192 |  54 |    0 | True  | False | False |\n",
       "| 341361 | RU | 18.14.06 |  38766 |  1699 |  83 |  332 | False | False | False |\n",
       "| 341362 | RU | 18.14.06 |  28158 |   363 |  50 |   37 | False | False | False |\n",
       "| 341363 | RU | 18.14.06 |  58916 |  5279 | 680 |  619 | False | False | False |\n",
       "| 341364 | RU | 18.14.06 | 241118 |  2591 | 231 |  588 | False | False | False |\n",
       "| 341365 | RU | 18.14.06 |  47592 |  9872 |  48 |  661 | False | False | False |\n",
       "| 341366 | RU | 18.14.06 |  69336 |  1923 | 195 |  271 | False | False | False |\n",
       "| 341367 | RU | 18.14.06 |  24303 |  1729 |  73 | 1157 | False | False | False |\n",
       "| 341368 | RU | 18.14.06 | 317655 | 13427 | 346 | 2205 | False | False | False |\n",
       "| 341369 | RU | 18.14.06 |  30297 |  2420 |  80 |  180 | False | False | False |\n",
       "| 341370 | RU | 18.14.06 |  70654 |  3806 |  87 |  230 | False | False | False |\n",
       "| 341371 | RU | 18.14.06 | 129488 |  5893 | 164 |  990 | False | False | False |\n",
       "| 341372 | RU | 18.14.06 |  99163 |  4659 | 337 |  692 | False | False | False |\n",
       "| 341373 | RU | 18.14.06 | 449611 | 24808 |  93 |  974 | False | False | False |\n",
       "| 341374 | RU | 18.14.06 |  14225 |   793 |  39 |  209 | False | False | False |\n",
       "| 341375 | RU | 18.14.06 |  52340 |  7708 | 133 | 1819 | False | False | False |\n",
       "\n"
      ],
      "text/plain": [
       "       Language trending_date views    likes   dislikes comment_count\n",
       "1      CA       17.14.11      17158579  787425  43420   125882       \n",
       "2      CA       17.14.11       1014651  127794   1688    13030       \n",
       "3      CA       17.14.11       3191434  146035   5339     8181       \n",
       "4      CA       17.14.11       2095828  132239   1989    17518       \n",
       "5      CA       17.14.11      33523622 1634130  21082    85067       \n",
       "6      CA       17.14.11       1309699  103755   4613    12143       \n",
       "7      CA       17.14.11       2987945  187464   9850    26629       \n",
       "8      CA       17.14.11        748374   57534   2967    15959       \n",
       "9      CA       17.14.11       4477587  292837   4123    36391       \n",
       "10     CA       17.14.11        505161    4135    976     1484       \n",
       "11     CA       17.14.11       5068229  263596   8585    28976       \n",
       "12     CA       17.14.11       3153224   28451   2285     3312       \n",
       "13     CA       17.14.11        158815     218     30      186       \n",
       "14     CA       17.14.11       5718766  127477   7134     8063       \n",
       "15     CA       17.14.11        960747   31810    668     5335       \n",
       "16     CA       17.14.11       1531218   53961   1697     4277       \n",
       "17     CA       17.14.11        557883   44558    621     9619       \n",
       "18     CA       17.14.11       1496225   16116    236      605       \n",
       "19     CA       17.14.11        308568   19541     70      495       \n",
       "20     CA       17.14.11       1096327   33966    798      882       \n",
       "21     CA       17.14.11        817732   23663    778     3432       \n",
       "22     CA       17.14.11        343168   10172    666     2146       \n",
       "23     CA       17.14.11       3905245   53072   2437     1979       \n",
       "24     CA       17.14.11       4204818  187890 167908    77348       \n",
       "25     CA       17.14.11        549374   16832    248     3579       \n",
       "26     CA       17.14.11        348841   27089    162     2099       \n",
       "27     CA       17.14.11        370827   12150    325     2352       \n",
       "28     CA       17.14.11        653398   27773   2778     3976       \n",
       "29     CA       17.14.11         92280   11045    182     1412       \n",
       "30     CA       17.14.11        178447    4339     96      876       \n",
       "...    ...      ...           ...      ...     ...      ...          \n",
       "341346 RU       18.14.06       20151     396    21        51         \n",
       "341347 RU       18.14.06       59781    1221    81        34         \n",
       "341348 RU       18.14.06      101061   10052   278       965         \n",
       "341349 RU       18.14.06       64124    3512   129       568         \n",
       "341350 RU       18.14.06       17102    1492    13       102         \n",
       "341351 RU       18.14.06      121648    2501    59       207         \n",
       "341352 RU       18.14.06       78982     712   124         0         \n",
       "341353 RU       18.14.06       45543     532    81       159         \n",
       "341354 RU       18.14.06       59388    5664   200      1076         \n",
       "341355 RU       18.14.06       50546    2834    45        98         \n",
       "341356 RU       18.14.06       66023   10014   801      1525         \n",
       "341357 RU       18.14.06       30149    2032    33       395         \n",
       "341358 RU       18.14.06       18529     702    78       166         \n",
       "341359 RU       18.14.06       66082    4980    64       621         \n",
       "341360 RU       18.14.06       17450     192    54         0         \n",
       "341361 RU       18.14.06       38766    1699    83       332         \n",
       "341362 RU       18.14.06       28158     363    50        37         \n",
       "341363 RU       18.14.06       58916    5279   680       619         \n",
       "341364 RU       18.14.06      241118    2591   231       588         \n",
       "341365 RU       18.14.06       47592    9872    48       661         \n",
       "341366 RU       18.14.06       69336    1923   195       271         \n",
       "341367 RU       18.14.06       24303    1729    73      1157         \n",
       "341368 RU       18.14.06      317655   13427   346      2205         \n",
       "341369 RU       18.14.06       30297    2420    80       180         \n",
       "341370 RU       18.14.06       70654    3806    87       230         \n",
       "341371 RU       18.14.06      129488    5893   164       990         \n",
       "341372 RU       18.14.06       99163    4659   337       692         \n",
       "341373 RU       18.14.06      449611   24808    93       974         \n",
       "341374 RU       18.14.06       14225     793    39       209         \n",
       "341375 RU       18.14.06       52340    7708   133      1819         \n",
       "       comments_disabled ratings_disabled video_error_or_removed\n",
       "1      False             False            False                 \n",
       "2      False             False            False                 \n",
       "3      False             False            False                 \n",
       "4      False             False            False                 \n",
       "5      False             False            False                 \n",
       "6      False             False            False                 \n",
       "7      False             False            False                 \n",
       "8      False             False            False                 \n",
       "9      False             False            False                 \n",
       "10     False             False            False                 \n",
       "11     False             False            False                 \n",
       "12     False             False            False                 \n",
       "13     False             False            False                 \n",
       "14     False             False            False                 \n",
       "15     False             False            False                 \n",
       "16     False             False            False                 \n",
       "17     False             False            False                 \n",
       "18     False             False            False                 \n",
       "19     False             False            False                 \n",
       "20     False             False            False                 \n",
       "21     False             False            False                 \n",
       "22     False             False            False                 \n",
       "23     False             False            False                 \n",
       "24     False             False            False                 \n",
       "25     False             False            False                 \n",
       "26     False             False            False                 \n",
       "27     False             False            False                 \n",
       "28     False             False            False                 \n",
       "29     False             False            False                 \n",
       "30     False             False            False                 \n",
       "...    ...               ...              ...                   \n",
       "341346 False             False            False                 \n",
       "341347 False             False            False                 \n",
       "341348 False             False            False                 \n",
       "341349 False             False            False                 \n",
       "341350 False             False            False                 \n",
       "341351 False             False            False                 \n",
       "341352 True              False            False                 \n",
       "341353 False             False            False                 \n",
       "341354 False             False            False                 \n",
       "341355 False             False            False                 \n",
       "341356 False             False            False                 \n",
       "341357 False             False            False                 \n",
       "341358 False             False            False                 \n",
       "341359 False             False            False                 \n",
       "341360 True              False            False                 \n",
       "341361 False             False            False                 \n",
       "341362 False             False            False                 \n",
       "341363 False             False            False                 \n",
       "341364 False             False            False                 \n",
       "341365 False             False            False                 \n",
       "341366 False             False            False                 \n",
       "341367 False             False            False                 \n",
       "341368 False             False            False                 \n",
       "341369 False             False            False                 \n",
       "341370 False             False            False                 \n",
       "341371 False             False            False                 \n",
       "341372 False             False            False                 \n",
       "341373 False             False            False                 \n",
       "341374 False             False            False                 \n",
       "341375 False             False            False                 "
      ]
     },
     "metadata": {},
     "output_type": "display_data"
    }
   ],
   "source": [
    "Data4 <- mutate_at(Data3, \"comments_disabled\", str_replace, \"FALSE\", \"False\")             \n",
    "Data5 <- mutate_at(Data4, \"comments_disabled\", str_replace, \"TRUE\", \"True\")\n",
    "Data6 <- mutate_at(Data5, \"ratings_disabled\", str_replace, \"FALSE\", \"False\")\n",
    "Data7 <- mutate_at(Data6, \"ratings_disabled\", str_replace, \"TRUE\", \"True\")\n",
    "Data8 <- mutate_at(Data7, \"video_error_or_removed\", str_replace, \"FALSE\", \"False\")\n",
    "Data9 <- mutate_at(Data8, \"video_error_or_removed\", str_replace, \"TRUE\", \"True\")\n",
    "\n",
    "Data9"
   ]
  },
  {
   "cell_type": "markdown",
   "id": "small-soviet",
   "metadata": {},
   "source": [
    "- Several columns used a different format for the \"False\" and \"True\" answers. This was corrected via a mutate_at() and str_replace() function, to make a comparison possible. "
   ]
  },
  {
   "cell_type": "markdown",
   "id": "parliamentary-radius",
   "metadata": {},
   "source": [
    "### 4.2 Remove corrupted or missing data"
   ]
  },
  {
   "cell_type": "code",
   "execution_count": 551,
   "id": "neither-beijing",
   "metadata": {
    "scrolled": true
   },
   "outputs": [
    {
     "data": {
      "text/plain": [
       "\n",
       "   ca    de    fr    gb    in    jp    mx    ru    us \n",
       "40881 40840 40724 38916 37352 20523 40451 40739 40949 "
      ]
     },
     "metadata": {},
     "output_type": "display_data"
    },
    {
     "data": {
      "text/html": [
       "<style>\n",
       ".dl-inline {width: auto; margin:0; padding: 0}\n",
       ".dl-inline>dt, .dl-inline>dd {float: none; width: auto; display: inline-block}\n",
       ".dl-inline>dt::after {content: \":\\0020\"; padding-right: .5ex}\n",
       ".dl-inline>dt:not(:first-of-type) {padding-left: .5ex}\n",
       "</style><dl class=dl-inline><dt>Language</dt><dd>9</dd><dt>trending_date</dt><dd>205</dd><dt>views</dt><dd>223702</dd><dt>likes</dt><dd>73039</dd><dt>dislikes</dt><dd>16683</dd><dt>comment_count</dt><dd>24318</dd><dt>comments_disabled</dt><dd>2</dd><dt>ratings_disabled</dt><dd>2</dd><dt>video_error_or_removed</dt><dd>2</dd></dl>\n"
      ],
      "text/latex": [
       "\\begin{description*}\n",
       "\\item[Language] 9\n",
       "\\item[trending\\textbackslash{}\\_date] 205\n",
       "\\item[views] 223702\n",
       "\\item[likes] 73039\n",
       "\\item[dislikes] 16683\n",
       "\\item[comment\\textbackslash{}\\_count] 24318\n",
       "\\item[comments\\textbackslash{}\\_disabled] 2\n",
       "\\item[ratings\\textbackslash{}\\_disabled] 2\n",
       "\\item[video\\textbackslash{}\\_error\\textbackslash{}\\_or\\textbackslash{}\\_removed] 2\n",
       "\\end{description*}\n"
      ],
      "text/markdown": [
       "Language\n",
       ":   9trending_date\n",
       ":   205views\n",
       ":   223702likes\n",
       ":   73039dislikes\n",
       ":   16683comment_count\n",
       ":   24318comments_disabled\n",
       ":   2ratings_disabled\n",
       ":   2video_error_or_removed\n",
       ":   2\n",
       "\n"
      ],
      "text/plain": [
       "              Language          trending_date                  views \n",
       "                     9                    205                 223702 \n",
       "                 likes               dislikes          comment_count \n",
       "                 73039                  16683                  24318 \n",
       "     comments_disabled       ratings_disabled video_error_or_removed \n",
       "                     2                      2                      2 "
      ]
     },
     "metadata": {},
     "output_type": "display_data"
    },
    {
     "data": {
      "text/plain": [
       "\n",
       " false   true \n",
       "333423   7952 "
      ]
     },
     "metadata": {},
     "output_type": "display_data"
    },
    {
     "data": {
      "text/plain": [
       "\n",
       " false   true \n",
       "335467   5908 "
      ]
     },
     "metadata": {},
     "output_type": "display_data"
    },
    {
     "data": {
      "text/plain": [
       "\n",
       " false   true \n",
       "341163    212 "
      ]
     },
     "metadata": {},
     "output_type": "display_data"
    },
    {
     "name": "stdout",
     "output_type": "stream",
     "text": [
      "'data.frame':\t341163 obs. of  9 variables:\n",
      " $ Language              : chr  \"CA\" \"CA\" \"CA\" \"CA\" ...\n",
      " $ trending_date         : chr  \"17.14.11\" \"17.14.11\" \"17.14.11\" \"17.14.11\" ...\n",
      " $ views                 : int  17158579 1014651 3191434 2095828 33523622 1309699 2987945 748374 4477587 505161 ...\n",
      " $ likes                 : int  787425 127794 146035 132239 1634130 103755 187464 57534 292837 4135 ...\n",
      " $ dislikes              : int  43420 1688 5339 1989 21082 4613 9850 2967 4123 976 ...\n",
      " $ comment_count         : int  125882 13030 8181 17518 85067 12143 26629 15959 36391 1484 ...\n",
      " $ comments_disabled     : chr  \"False\" \"False\" \"False\" \"False\" ...\n",
      " $ ratings_disabled      : chr  \"False\" \"False\" \"False\" \"False\" ...\n",
      " $ video_error_or_removed: chr  \"False\" \"False\" \"False\" \"False\" ...\n"
     ]
    }
   ],
   "source": [
    "table(unlist(strsplit(tolower(Data9$Language), \" \")))\n",
    "sapply(Data9, function(x) length(unique(x)))\n",
    "\n",
    "       \n",
    "table(unlist(strsplit(tolower(Data9$comments_disabled), \" \")))\n",
    "table(unlist(strsplit(tolower(Data9$ratings_disabled), \" \")))\n",
    "table(unlist(strsplit(tolower(Data9$video_error_or_removed), \" \")))\n",
    "       \n",
    "Data9_cleaned <- Data9[!(Data9$video_error_or_removed==\"True\"),]\n",
    "str(Data9_cleaned)\n"
   ]
  },
  {
   "cell_type": "markdown",
   "id": "every-style",
   "metadata": {},
   "source": [
    "- The data seems to be pretty equally distributed across the 9 languages, with an exception for JP, which seems to be a bit underrepresented at only 20'523 videos. The data has been taken over 205 different days.\n",
    "- 212 videos showed an error or got removed from Youtube and got therefore also removed from the data frame."
   ]
  },
  {
   "cell_type": "markdown",
   "id": "damaged-fraud",
   "metadata": {},
   "source": [
    "### 4.3 Adjusted Date Format"
   ]
  },
  {
   "cell_type": "code",
   "execution_count": 552,
   "id": "loaded-anderson",
   "metadata": {
    "scrolled": true
   },
   "outputs": [
    {
     "name": "stdout",
     "output_type": "stream",
     "text": [
      "'data.frame':\t341375 obs. of  9 variables:\n",
      " $ Language              : chr  \"CA\" \"CA\" \"CA\" \"CA\" ...\n",
      " $ trending_date         : Date, format: \"2017-11-14\" \"2017-11-14\" ...\n",
      " $ views                 : int  17158579 1014651 3191434 2095828 33523622 1309699 2987945 748374 4477587 505161 ...\n",
      " $ likes                 : int  787425 127794 146035 132239 1634130 103755 187464 57534 292837 4135 ...\n",
      " $ dislikes              : int  43420 1688 5339 1989 21082 4613 9850 2967 4123 976 ...\n",
      " $ comment_count         : int  125882 13030 8181 17518 85067 12143 26629 15959 36391 1484 ...\n",
      " $ comments_disabled     : chr  \"False\" \"False\" \"False\" \"False\" ...\n",
      " $ ratings_disabled      : chr  \"False\" \"False\" \"False\" \"False\" ...\n",
      " $ video_error_or_removed: chr  \"False\" \"False\" \"False\" \"False\" ...\n"
     ]
    },
    {
     "data": {
      "text/html": [
       "<table class=\"dataframe\">\n",
       "<caption>A data.frame: 341375 × 9</caption>\n",
       "<thead>\n",
       "\t<tr><th></th><th scope=col>Language</th><th scope=col>trending_date</th><th scope=col>views</th><th scope=col>likes</th><th scope=col>dislikes</th><th scope=col>comment_count</th><th scope=col>comments_disabled</th><th scope=col>ratings_disabled</th><th scope=col>video_error_or_removed</th></tr>\n",
       "\t<tr><th></th><th scope=col>&lt;chr&gt;</th><th scope=col>&lt;date&gt;</th><th scope=col>&lt;int&gt;</th><th scope=col>&lt;int&gt;</th><th scope=col>&lt;int&gt;</th><th scope=col>&lt;int&gt;</th><th scope=col>&lt;chr&gt;</th><th scope=col>&lt;chr&gt;</th><th scope=col>&lt;chr&gt;</th></tr>\n",
       "</thead>\n",
       "<tbody>\n",
       "\t<tr><th scope=row>1</th><td>CA</td><td>2017-11-14</td><td>17158579</td><td> 787425</td><td> 43420</td><td>125882</td><td>False</td><td>False</td><td>False</td></tr>\n",
       "\t<tr><th scope=row>2</th><td>CA</td><td>2017-11-14</td><td> 1014651</td><td> 127794</td><td>  1688</td><td> 13030</td><td>False</td><td>False</td><td>False</td></tr>\n",
       "\t<tr><th scope=row>3</th><td>CA</td><td>2017-11-14</td><td> 3191434</td><td> 146035</td><td>  5339</td><td>  8181</td><td>False</td><td>False</td><td>False</td></tr>\n",
       "\t<tr><th scope=row>4</th><td>CA</td><td>2017-11-14</td><td> 2095828</td><td> 132239</td><td>  1989</td><td> 17518</td><td>False</td><td>False</td><td>False</td></tr>\n",
       "\t<tr><th scope=row>5</th><td>CA</td><td>2017-11-14</td><td>33523622</td><td>1634130</td><td> 21082</td><td> 85067</td><td>False</td><td>False</td><td>False</td></tr>\n",
       "\t<tr><th scope=row>6</th><td>CA</td><td>2017-11-14</td><td> 1309699</td><td> 103755</td><td>  4613</td><td> 12143</td><td>False</td><td>False</td><td>False</td></tr>\n",
       "\t<tr><th scope=row>7</th><td>CA</td><td>2017-11-14</td><td> 2987945</td><td> 187464</td><td>  9850</td><td> 26629</td><td>False</td><td>False</td><td>False</td></tr>\n",
       "\t<tr><th scope=row>8</th><td>CA</td><td>2017-11-14</td><td>  748374</td><td>  57534</td><td>  2967</td><td> 15959</td><td>False</td><td>False</td><td>False</td></tr>\n",
       "\t<tr><th scope=row>9</th><td>CA</td><td>2017-11-14</td><td> 4477587</td><td> 292837</td><td>  4123</td><td> 36391</td><td>False</td><td>False</td><td>False</td></tr>\n",
       "\t<tr><th scope=row>10</th><td>CA</td><td>2017-11-14</td><td>  505161</td><td>   4135</td><td>   976</td><td>  1484</td><td>False</td><td>False</td><td>False</td></tr>\n",
       "\t<tr><th scope=row>11</th><td>CA</td><td>2017-11-14</td><td> 5068229</td><td> 263596</td><td>  8585</td><td> 28976</td><td>False</td><td>False</td><td>False</td></tr>\n",
       "\t<tr><th scope=row>12</th><td>CA</td><td>2017-11-14</td><td> 3153224</td><td>  28451</td><td>  2285</td><td>  3312</td><td>False</td><td>False</td><td>False</td></tr>\n",
       "\t<tr><th scope=row>13</th><td>CA</td><td>2017-11-14</td><td>  158815</td><td>    218</td><td>    30</td><td>   186</td><td>False</td><td>False</td><td>False</td></tr>\n",
       "\t<tr><th scope=row>14</th><td>CA</td><td>2017-11-14</td><td> 5718766</td><td> 127477</td><td>  7134</td><td>  8063</td><td>False</td><td>False</td><td>False</td></tr>\n",
       "\t<tr><th scope=row>15</th><td>CA</td><td>2017-11-14</td><td>  960747</td><td>  31810</td><td>   668</td><td>  5335</td><td>False</td><td>False</td><td>False</td></tr>\n",
       "\t<tr><th scope=row>16</th><td>CA</td><td>2017-11-14</td><td> 1531218</td><td>  53961</td><td>  1697</td><td>  4277</td><td>False</td><td>False</td><td>False</td></tr>\n",
       "\t<tr><th scope=row>17</th><td>CA</td><td>2017-11-14</td><td>  557883</td><td>  44558</td><td>   621</td><td>  9619</td><td>False</td><td>False</td><td>False</td></tr>\n",
       "\t<tr><th scope=row>18</th><td>CA</td><td>2017-11-14</td><td> 1496225</td><td>  16116</td><td>   236</td><td>   605</td><td>False</td><td>False</td><td>False</td></tr>\n",
       "\t<tr><th scope=row>19</th><td>CA</td><td>2017-11-14</td><td>  308568</td><td>  19541</td><td>    70</td><td>   495</td><td>False</td><td>False</td><td>False</td></tr>\n",
       "\t<tr><th scope=row>20</th><td>CA</td><td>2017-11-14</td><td> 1096327</td><td>  33966</td><td>   798</td><td>   882</td><td>False</td><td>False</td><td>False</td></tr>\n",
       "\t<tr><th scope=row>21</th><td>CA</td><td>2017-11-14</td><td>  817732</td><td>  23663</td><td>   778</td><td>  3432</td><td>False</td><td>False</td><td>False</td></tr>\n",
       "\t<tr><th scope=row>22</th><td>CA</td><td>2017-11-14</td><td>  343168</td><td>  10172</td><td>   666</td><td>  2146</td><td>False</td><td>False</td><td>False</td></tr>\n",
       "\t<tr><th scope=row>23</th><td>CA</td><td>2017-11-14</td><td> 3905245</td><td>  53072</td><td>  2437</td><td>  1979</td><td>False</td><td>False</td><td>False</td></tr>\n",
       "\t<tr><th scope=row>24</th><td>CA</td><td>2017-11-14</td><td> 4204818</td><td> 187890</td><td>167908</td><td> 77348</td><td>False</td><td>False</td><td>False</td></tr>\n",
       "\t<tr><th scope=row>25</th><td>CA</td><td>2017-11-14</td><td>  549374</td><td>  16832</td><td>   248</td><td>  3579</td><td>False</td><td>False</td><td>False</td></tr>\n",
       "\t<tr><th scope=row>26</th><td>CA</td><td>2017-11-14</td><td>  348841</td><td>  27089</td><td>   162</td><td>  2099</td><td>False</td><td>False</td><td>False</td></tr>\n",
       "\t<tr><th scope=row>27</th><td>CA</td><td>2017-11-14</td><td>  370827</td><td>  12150</td><td>   325</td><td>  2352</td><td>False</td><td>False</td><td>False</td></tr>\n",
       "\t<tr><th scope=row>28</th><td>CA</td><td>2017-11-14</td><td>  653398</td><td>  27773</td><td>  2778</td><td>  3976</td><td>False</td><td>False</td><td>False</td></tr>\n",
       "\t<tr><th scope=row>29</th><td>CA</td><td>2017-11-14</td><td>   92280</td><td>  11045</td><td>   182</td><td>  1412</td><td>False</td><td>False</td><td>False</td></tr>\n",
       "\t<tr><th scope=row>30</th><td>CA</td><td>2017-11-14</td><td>  178447</td><td>   4339</td><td>    96</td><td>   876</td><td>False</td><td>False</td><td>False</td></tr>\n",
       "\t<tr><th scope=row>...</th><td>...</td><td>...</td><td>...</td><td>...</td><td>...</td><td>...</td><td>...</td><td>...</td><td>...</td></tr>\n",
       "\t<tr><th scope=row>341346</th><td>RU</td><td>2018-06-14</td><td> 20151</td><td>  396</td><td> 21</td><td>  51</td><td>False</td><td>False</td><td>False</td></tr>\n",
       "\t<tr><th scope=row>341347</th><td>RU</td><td>2018-06-14</td><td> 59781</td><td> 1221</td><td> 81</td><td>  34</td><td>False</td><td>False</td><td>False</td></tr>\n",
       "\t<tr><th scope=row>341348</th><td>RU</td><td>2018-06-14</td><td>101061</td><td>10052</td><td>278</td><td> 965</td><td>False</td><td>False</td><td>False</td></tr>\n",
       "\t<tr><th scope=row>341349</th><td>RU</td><td>2018-06-14</td><td> 64124</td><td> 3512</td><td>129</td><td> 568</td><td>False</td><td>False</td><td>False</td></tr>\n",
       "\t<tr><th scope=row>341350</th><td>RU</td><td>2018-06-14</td><td> 17102</td><td> 1492</td><td> 13</td><td> 102</td><td>False</td><td>False</td><td>False</td></tr>\n",
       "\t<tr><th scope=row>341351</th><td>RU</td><td>2018-06-14</td><td>121648</td><td> 2501</td><td> 59</td><td> 207</td><td>False</td><td>False</td><td>False</td></tr>\n",
       "\t<tr><th scope=row>341352</th><td>RU</td><td>2018-06-14</td><td> 78982</td><td>  712</td><td>124</td><td>   0</td><td>True </td><td>False</td><td>False</td></tr>\n",
       "\t<tr><th scope=row>341353</th><td>RU</td><td>2018-06-14</td><td> 45543</td><td>  532</td><td> 81</td><td> 159</td><td>False</td><td>False</td><td>False</td></tr>\n",
       "\t<tr><th scope=row>341354</th><td>RU</td><td>2018-06-14</td><td> 59388</td><td> 5664</td><td>200</td><td>1076</td><td>False</td><td>False</td><td>False</td></tr>\n",
       "\t<tr><th scope=row>341355</th><td>RU</td><td>2018-06-14</td><td> 50546</td><td> 2834</td><td> 45</td><td>  98</td><td>False</td><td>False</td><td>False</td></tr>\n",
       "\t<tr><th scope=row>341356</th><td>RU</td><td>2018-06-14</td><td> 66023</td><td>10014</td><td>801</td><td>1525</td><td>False</td><td>False</td><td>False</td></tr>\n",
       "\t<tr><th scope=row>341357</th><td>RU</td><td>2018-06-14</td><td> 30149</td><td> 2032</td><td> 33</td><td> 395</td><td>False</td><td>False</td><td>False</td></tr>\n",
       "\t<tr><th scope=row>341358</th><td>RU</td><td>2018-06-14</td><td> 18529</td><td>  702</td><td> 78</td><td> 166</td><td>False</td><td>False</td><td>False</td></tr>\n",
       "\t<tr><th scope=row>341359</th><td>RU</td><td>2018-06-14</td><td> 66082</td><td> 4980</td><td> 64</td><td> 621</td><td>False</td><td>False</td><td>False</td></tr>\n",
       "\t<tr><th scope=row>341360</th><td>RU</td><td>2018-06-14</td><td> 17450</td><td>  192</td><td> 54</td><td>   0</td><td>True </td><td>False</td><td>False</td></tr>\n",
       "\t<tr><th scope=row>341361</th><td>RU</td><td>2018-06-14</td><td> 38766</td><td> 1699</td><td> 83</td><td> 332</td><td>False</td><td>False</td><td>False</td></tr>\n",
       "\t<tr><th scope=row>341362</th><td>RU</td><td>2018-06-14</td><td> 28158</td><td>  363</td><td> 50</td><td>  37</td><td>False</td><td>False</td><td>False</td></tr>\n",
       "\t<tr><th scope=row>341363</th><td>RU</td><td>2018-06-14</td><td> 58916</td><td> 5279</td><td>680</td><td> 619</td><td>False</td><td>False</td><td>False</td></tr>\n",
       "\t<tr><th scope=row>341364</th><td>RU</td><td>2018-06-14</td><td>241118</td><td> 2591</td><td>231</td><td> 588</td><td>False</td><td>False</td><td>False</td></tr>\n",
       "\t<tr><th scope=row>341365</th><td>RU</td><td>2018-06-14</td><td> 47592</td><td> 9872</td><td> 48</td><td> 661</td><td>False</td><td>False</td><td>False</td></tr>\n",
       "\t<tr><th scope=row>341366</th><td>RU</td><td>2018-06-14</td><td> 69336</td><td> 1923</td><td>195</td><td> 271</td><td>False</td><td>False</td><td>False</td></tr>\n",
       "\t<tr><th scope=row>341367</th><td>RU</td><td>2018-06-14</td><td> 24303</td><td> 1729</td><td> 73</td><td>1157</td><td>False</td><td>False</td><td>False</td></tr>\n",
       "\t<tr><th scope=row>341368</th><td>RU</td><td>2018-06-14</td><td>317655</td><td>13427</td><td>346</td><td>2205</td><td>False</td><td>False</td><td>False</td></tr>\n",
       "\t<tr><th scope=row>341369</th><td>RU</td><td>2018-06-14</td><td> 30297</td><td> 2420</td><td> 80</td><td> 180</td><td>False</td><td>False</td><td>False</td></tr>\n",
       "\t<tr><th scope=row>341370</th><td>RU</td><td>2018-06-14</td><td> 70654</td><td> 3806</td><td> 87</td><td> 230</td><td>False</td><td>False</td><td>False</td></tr>\n",
       "\t<tr><th scope=row>341371</th><td>RU</td><td>2018-06-14</td><td>129488</td><td> 5893</td><td>164</td><td> 990</td><td>False</td><td>False</td><td>False</td></tr>\n",
       "\t<tr><th scope=row>341372</th><td>RU</td><td>2018-06-14</td><td> 99163</td><td> 4659</td><td>337</td><td> 692</td><td>False</td><td>False</td><td>False</td></tr>\n",
       "\t<tr><th scope=row>341373</th><td>RU</td><td>2018-06-14</td><td>449611</td><td>24808</td><td> 93</td><td> 974</td><td>False</td><td>False</td><td>False</td></tr>\n",
       "\t<tr><th scope=row>341374</th><td>RU</td><td>2018-06-14</td><td> 14225</td><td>  793</td><td> 39</td><td> 209</td><td>False</td><td>False</td><td>False</td></tr>\n",
       "\t<tr><th scope=row>341375</th><td>RU</td><td>2018-06-14</td><td> 52340</td><td> 7708</td><td>133</td><td>1819</td><td>False</td><td>False</td><td>False</td></tr>\n",
       "</tbody>\n",
       "</table>\n"
      ],
      "text/latex": [
       "A data.frame: 341375 × 9\n",
       "\\begin{tabular}{r|lllllllll}\n",
       "  & Language & trending\\_date & views & likes & dislikes & comment\\_count & comments\\_disabled & ratings\\_disabled & video\\_error\\_or\\_removed\\\\\n",
       "  & <chr> & <date> & <int> & <int> & <int> & <int> & <chr> & <chr> & <chr>\\\\\n",
       "\\hline\n",
       "\t1 & CA & 2017-11-14 & 17158579 &  787425 &  43420 & 125882 & False & False & False\\\\\n",
       "\t2 & CA & 2017-11-14 &  1014651 &  127794 &   1688 &  13030 & False & False & False\\\\\n",
       "\t3 & CA & 2017-11-14 &  3191434 &  146035 &   5339 &   8181 & False & False & False\\\\\n",
       "\t4 & CA & 2017-11-14 &  2095828 &  132239 &   1989 &  17518 & False & False & False\\\\\n",
       "\t5 & CA & 2017-11-14 & 33523622 & 1634130 &  21082 &  85067 & False & False & False\\\\\n",
       "\t6 & CA & 2017-11-14 &  1309699 &  103755 &   4613 &  12143 & False & False & False\\\\\n",
       "\t7 & CA & 2017-11-14 &  2987945 &  187464 &   9850 &  26629 & False & False & False\\\\\n",
       "\t8 & CA & 2017-11-14 &   748374 &   57534 &   2967 &  15959 & False & False & False\\\\\n",
       "\t9 & CA & 2017-11-14 &  4477587 &  292837 &   4123 &  36391 & False & False & False\\\\\n",
       "\t10 & CA & 2017-11-14 &   505161 &    4135 &    976 &   1484 & False & False & False\\\\\n",
       "\t11 & CA & 2017-11-14 &  5068229 &  263596 &   8585 &  28976 & False & False & False\\\\\n",
       "\t12 & CA & 2017-11-14 &  3153224 &   28451 &   2285 &   3312 & False & False & False\\\\\n",
       "\t13 & CA & 2017-11-14 &   158815 &     218 &     30 &    186 & False & False & False\\\\\n",
       "\t14 & CA & 2017-11-14 &  5718766 &  127477 &   7134 &   8063 & False & False & False\\\\\n",
       "\t15 & CA & 2017-11-14 &   960747 &   31810 &    668 &   5335 & False & False & False\\\\\n",
       "\t16 & CA & 2017-11-14 &  1531218 &   53961 &   1697 &   4277 & False & False & False\\\\\n",
       "\t17 & CA & 2017-11-14 &   557883 &   44558 &    621 &   9619 & False & False & False\\\\\n",
       "\t18 & CA & 2017-11-14 &  1496225 &   16116 &    236 &    605 & False & False & False\\\\\n",
       "\t19 & CA & 2017-11-14 &   308568 &   19541 &     70 &    495 & False & False & False\\\\\n",
       "\t20 & CA & 2017-11-14 &  1096327 &   33966 &    798 &    882 & False & False & False\\\\\n",
       "\t21 & CA & 2017-11-14 &   817732 &   23663 &    778 &   3432 & False & False & False\\\\\n",
       "\t22 & CA & 2017-11-14 &   343168 &   10172 &    666 &   2146 & False & False & False\\\\\n",
       "\t23 & CA & 2017-11-14 &  3905245 &   53072 &   2437 &   1979 & False & False & False\\\\\n",
       "\t24 & CA & 2017-11-14 &  4204818 &  187890 & 167908 &  77348 & False & False & False\\\\\n",
       "\t25 & CA & 2017-11-14 &   549374 &   16832 &    248 &   3579 & False & False & False\\\\\n",
       "\t26 & CA & 2017-11-14 &   348841 &   27089 &    162 &   2099 & False & False & False\\\\\n",
       "\t27 & CA & 2017-11-14 &   370827 &   12150 &    325 &   2352 & False & False & False\\\\\n",
       "\t28 & CA & 2017-11-14 &   653398 &   27773 &   2778 &   3976 & False & False & False\\\\\n",
       "\t29 & CA & 2017-11-14 &    92280 &   11045 &    182 &   1412 & False & False & False\\\\\n",
       "\t30 & CA & 2017-11-14 &   178447 &    4339 &     96 &    876 & False & False & False\\\\\n",
       "\t... & ... & ... & ... & ... & ... & ... & ... & ... & ...\\\\\n",
       "\t341346 & RU & 2018-06-14 &  20151 &   396 &  21 &   51 & False & False & False\\\\\n",
       "\t341347 & RU & 2018-06-14 &  59781 &  1221 &  81 &   34 & False & False & False\\\\\n",
       "\t341348 & RU & 2018-06-14 & 101061 & 10052 & 278 &  965 & False & False & False\\\\\n",
       "\t341349 & RU & 2018-06-14 &  64124 &  3512 & 129 &  568 & False & False & False\\\\\n",
       "\t341350 & RU & 2018-06-14 &  17102 &  1492 &  13 &  102 & False & False & False\\\\\n",
       "\t341351 & RU & 2018-06-14 & 121648 &  2501 &  59 &  207 & False & False & False\\\\\n",
       "\t341352 & RU & 2018-06-14 &  78982 &   712 & 124 &    0 & True  & False & False\\\\\n",
       "\t341353 & RU & 2018-06-14 &  45543 &   532 &  81 &  159 & False & False & False\\\\\n",
       "\t341354 & RU & 2018-06-14 &  59388 &  5664 & 200 & 1076 & False & False & False\\\\\n",
       "\t341355 & RU & 2018-06-14 &  50546 &  2834 &  45 &   98 & False & False & False\\\\\n",
       "\t341356 & RU & 2018-06-14 &  66023 & 10014 & 801 & 1525 & False & False & False\\\\\n",
       "\t341357 & RU & 2018-06-14 &  30149 &  2032 &  33 &  395 & False & False & False\\\\\n",
       "\t341358 & RU & 2018-06-14 &  18529 &   702 &  78 &  166 & False & False & False\\\\\n",
       "\t341359 & RU & 2018-06-14 &  66082 &  4980 &  64 &  621 & False & False & False\\\\\n",
       "\t341360 & RU & 2018-06-14 &  17450 &   192 &  54 &    0 & True  & False & False\\\\\n",
       "\t341361 & RU & 2018-06-14 &  38766 &  1699 &  83 &  332 & False & False & False\\\\\n",
       "\t341362 & RU & 2018-06-14 &  28158 &   363 &  50 &   37 & False & False & False\\\\\n",
       "\t341363 & RU & 2018-06-14 &  58916 &  5279 & 680 &  619 & False & False & False\\\\\n",
       "\t341364 & RU & 2018-06-14 & 241118 &  2591 & 231 &  588 & False & False & False\\\\\n",
       "\t341365 & RU & 2018-06-14 &  47592 &  9872 &  48 &  661 & False & False & False\\\\\n",
       "\t341366 & RU & 2018-06-14 &  69336 &  1923 & 195 &  271 & False & False & False\\\\\n",
       "\t341367 & RU & 2018-06-14 &  24303 &  1729 &  73 & 1157 & False & False & False\\\\\n",
       "\t341368 & RU & 2018-06-14 & 317655 & 13427 & 346 & 2205 & False & False & False\\\\\n",
       "\t341369 & RU & 2018-06-14 &  30297 &  2420 &  80 &  180 & False & False & False\\\\\n",
       "\t341370 & RU & 2018-06-14 &  70654 &  3806 &  87 &  230 & False & False & False\\\\\n",
       "\t341371 & RU & 2018-06-14 & 129488 &  5893 & 164 &  990 & False & False & False\\\\\n",
       "\t341372 & RU & 2018-06-14 &  99163 &  4659 & 337 &  692 & False & False & False\\\\\n",
       "\t341373 & RU & 2018-06-14 & 449611 & 24808 &  93 &  974 & False & False & False\\\\\n",
       "\t341374 & RU & 2018-06-14 &  14225 &   793 &  39 &  209 & False & False & False\\\\\n",
       "\t341375 & RU & 2018-06-14 &  52340 &  7708 & 133 & 1819 & False & False & False\\\\\n",
       "\\end{tabular}\n"
      ],
      "text/markdown": [
       "\n",
       "A data.frame: 341375 × 9\n",
       "\n",
       "| <!--/--> | Language &lt;chr&gt; | trending_date &lt;date&gt; | views &lt;int&gt; | likes &lt;int&gt; | dislikes &lt;int&gt; | comment_count &lt;int&gt; | comments_disabled &lt;chr&gt; | ratings_disabled &lt;chr&gt; | video_error_or_removed &lt;chr&gt; |\n",
       "|---|---|---|---|---|---|---|---|---|---|\n",
       "| 1 | CA | 2017-11-14 | 17158579 |  787425 |  43420 | 125882 | False | False | False |\n",
       "| 2 | CA | 2017-11-14 |  1014651 |  127794 |   1688 |  13030 | False | False | False |\n",
       "| 3 | CA | 2017-11-14 |  3191434 |  146035 |   5339 |   8181 | False | False | False |\n",
       "| 4 | CA | 2017-11-14 |  2095828 |  132239 |   1989 |  17518 | False | False | False |\n",
       "| 5 | CA | 2017-11-14 | 33523622 | 1634130 |  21082 |  85067 | False | False | False |\n",
       "| 6 | CA | 2017-11-14 |  1309699 |  103755 |   4613 |  12143 | False | False | False |\n",
       "| 7 | CA | 2017-11-14 |  2987945 |  187464 |   9850 |  26629 | False | False | False |\n",
       "| 8 | CA | 2017-11-14 |   748374 |   57534 |   2967 |  15959 | False | False | False |\n",
       "| 9 | CA | 2017-11-14 |  4477587 |  292837 |   4123 |  36391 | False | False | False |\n",
       "| 10 | CA | 2017-11-14 |   505161 |    4135 |    976 |   1484 | False | False | False |\n",
       "| 11 | CA | 2017-11-14 |  5068229 |  263596 |   8585 |  28976 | False | False | False |\n",
       "| 12 | CA | 2017-11-14 |  3153224 |   28451 |   2285 |   3312 | False | False | False |\n",
       "| 13 | CA | 2017-11-14 |   158815 |     218 |     30 |    186 | False | False | False |\n",
       "| 14 | CA | 2017-11-14 |  5718766 |  127477 |   7134 |   8063 | False | False | False |\n",
       "| 15 | CA | 2017-11-14 |   960747 |   31810 |    668 |   5335 | False | False | False |\n",
       "| 16 | CA | 2017-11-14 |  1531218 |   53961 |   1697 |   4277 | False | False | False |\n",
       "| 17 | CA | 2017-11-14 |   557883 |   44558 |    621 |   9619 | False | False | False |\n",
       "| 18 | CA | 2017-11-14 |  1496225 |   16116 |    236 |    605 | False | False | False |\n",
       "| 19 | CA | 2017-11-14 |   308568 |   19541 |     70 |    495 | False | False | False |\n",
       "| 20 | CA | 2017-11-14 |  1096327 |   33966 |    798 |    882 | False | False | False |\n",
       "| 21 | CA | 2017-11-14 |   817732 |   23663 |    778 |   3432 | False | False | False |\n",
       "| 22 | CA | 2017-11-14 |   343168 |   10172 |    666 |   2146 | False | False | False |\n",
       "| 23 | CA | 2017-11-14 |  3905245 |   53072 |   2437 |   1979 | False | False | False |\n",
       "| 24 | CA | 2017-11-14 |  4204818 |  187890 | 167908 |  77348 | False | False | False |\n",
       "| 25 | CA | 2017-11-14 |   549374 |   16832 |    248 |   3579 | False | False | False |\n",
       "| 26 | CA | 2017-11-14 |   348841 |   27089 |    162 |   2099 | False | False | False |\n",
       "| 27 | CA | 2017-11-14 |   370827 |   12150 |    325 |   2352 | False | False | False |\n",
       "| 28 | CA | 2017-11-14 |   653398 |   27773 |   2778 |   3976 | False | False | False |\n",
       "| 29 | CA | 2017-11-14 |    92280 |   11045 |    182 |   1412 | False | False | False |\n",
       "| 30 | CA | 2017-11-14 |   178447 |    4339 |     96 |    876 | False | False | False |\n",
       "| ... | ... | ... | ... | ... | ... | ... | ... | ... | ... |\n",
       "| 341346 | RU | 2018-06-14 |  20151 |   396 |  21 |   51 | False | False | False |\n",
       "| 341347 | RU | 2018-06-14 |  59781 |  1221 |  81 |   34 | False | False | False |\n",
       "| 341348 | RU | 2018-06-14 | 101061 | 10052 | 278 |  965 | False | False | False |\n",
       "| 341349 | RU | 2018-06-14 |  64124 |  3512 | 129 |  568 | False | False | False |\n",
       "| 341350 | RU | 2018-06-14 |  17102 |  1492 |  13 |  102 | False | False | False |\n",
       "| 341351 | RU | 2018-06-14 | 121648 |  2501 |  59 |  207 | False | False | False |\n",
       "| 341352 | RU | 2018-06-14 |  78982 |   712 | 124 |    0 | True  | False | False |\n",
       "| 341353 | RU | 2018-06-14 |  45543 |   532 |  81 |  159 | False | False | False |\n",
       "| 341354 | RU | 2018-06-14 |  59388 |  5664 | 200 | 1076 | False | False | False |\n",
       "| 341355 | RU | 2018-06-14 |  50546 |  2834 |  45 |   98 | False | False | False |\n",
       "| 341356 | RU | 2018-06-14 |  66023 | 10014 | 801 | 1525 | False | False | False |\n",
       "| 341357 | RU | 2018-06-14 |  30149 |  2032 |  33 |  395 | False | False | False |\n",
       "| 341358 | RU | 2018-06-14 |  18529 |   702 |  78 |  166 | False | False | False |\n",
       "| 341359 | RU | 2018-06-14 |  66082 |  4980 |  64 |  621 | False | False | False |\n",
       "| 341360 | RU | 2018-06-14 |  17450 |   192 |  54 |    0 | True  | False | False |\n",
       "| 341361 | RU | 2018-06-14 |  38766 |  1699 |  83 |  332 | False | False | False |\n",
       "| 341362 | RU | 2018-06-14 |  28158 |   363 |  50 |   37 | False | False | False |\n",
       "| 341363 | RU | 2018-06-14 |  58916 |  5279 | 680 |  619 | False | False | False |\n",
       "| 341364 | RU | 2018-06-14 | 241118 |  2591 | 231 |  588 | False | False | False |\n",
       "| 341365 | RU | 2018-06-14 |  47592 |  9872 |  48 |  661 | False | False | False |\n",
       "| 341366 | RU | 2018-06-14 |  69336 |  1923 | 195 |  271 | False | False | False |\n",
       "| 341367 | RU | 2018-06-14 |  24303 |  1729 |  73 | 1157 | False | False | False |\n",
       "| 341368 | RU | 2018-06-14 | 317655 | 13427 | 346 | 2205 | False | False | False |\n",
       "| 341369 | RU | 2018-06-14 |  30297 |  2420 |  80 |  180 | False | False | False |\n",
       "| 341370 | RU | 2018-06-14 |  70654 |  3806 |  87 |  230 | False | False | False |\n",
       "| 341371 | RU | 2018-06-14 | 129488 |  5893 | 164 |  990 | False | False | False |\n",
       "| 341372 | RU | 2018-06-14 |  99163 |  4659 | 337 |  692 | False | False | False |\n",
       "| 341373 | RU | 2018-06-14 | 449611 | 24808 |  93 |  974 | False | False | False |\n",
       "| 341374 | RU | 2018-06-14 |  14225 |   793 |  39 |  209 | False | False | False |\n",
       "| 341375 | RU | 2018-06-14 |  52340 |  7708 | 133 | 1819 | False | False | False |\n",
       "\n"
      ],
      "text/plain": [
       "       Language trending_date views    likes   dislikes comment_count\n",
       "1      CA       2017-11-14    17158579  787425  43420   125882       \n",
       "2      CA       2017-11-14     1014651  127794   1688    13030       \n",
       "3      CA       2017-11-14     3191434  146035   5339     8181       \n",
       "4      CA       2017-11-14     2095828  132239   1989    17518       \n",
       "5      CA       2017-11-14    33523622 1634130  21082    85067       \n",
       "6      CA       2017-11-14     1309699  103755   4613    12143       \n",
       "7      CA       2017-11-14     2987945  187464   9850    26629       \n",
       "8      CA       2017-11-14      748374   57534   2967    15959       \n",
       "9      CA       2017-11-14     4477587  292837   4123    36391       \n",
       "10     CA       2017-11-14      505161    4135    976     1484       \n",
       "11     CA       2017-11-14     5068229  263596   8585    28976       \n",
       "12     CA       2017-11-14     3153224   28451   2285     3312       \n",
       "13     CA       2017-11-14      158815     218     30      186       \n",
       "14     CA       2017-11-14     5718766  127477   7134     8063       \n",
       "15     CA       2017-11-14      960747   31810    668     5335       \n",
       "16     CA       2017-11-14     1531218   53961   1697     4277       \n",
       "17     CA       2017-11-14      557883   44558    621     9619       \n",
       "18     CA       2017-11-14     1496225   16116    236      605       \n",
       "19     CA       2017-11-14      308568   19541     70      495       \n",
       "20     CA       2017-11-14     1096327   33966    798      882       \n",
       "21     CA       2017-11-14      817732   23663    778     3432       \n",
       "22     CA       2017-11-14      343168   10172    666     2146       \n",
       "23     CA       2017-11-14     3905245   53072   2437     1979       \n",
       "24     CA       2017-11-14     4204818  187890 167908    77348       \n",
       "25     CA       2017-11-14      549374   16832    248     3579       \n",
       "26     CA       2017-11-14      348841   27089    162     2099       \n",
       "27     CA       2017-11-14      370827   12150    325     2352       \n",
       "28     CA       2017-11-14      653398   27773   2778     3976       \n",
       "29     CA       2017-11-14       92280   11045    182     1412       \n",
       "30     CA       2017-11-14      178447    4339     96      876       \n",
       "...    ...      ...           ...      ...     ...      ...          \n",
       "341346 RU       2018-06-14     20151     396    21        51         \n",
       "341347 RU       2018-06-14     59781    1221    81        34         \n",
       "341348 RU       2018-06-14    101061   10052   278       965         \n",
       "341349 RU       2018-06-14     64124    3512   129       568         \n",
       "341350 RU       2018-06-14     17102    1492    13       102         \n",
       "341351 RU       2018-06-14    121648    2501    59       207         \n",
       "341352 RU       2018-06-14     78982     712   124         0         \n",
       "341353 RU       2018-06-14     45543     532    81       159         \n",
       "341354 RU       2018-06-14     59388    5664   200      1076         \n",
       "341355 RU       2018-06-14     50546    2834    45        98         \n",
       "341356 RU       2018-06-14     66023   10014   801      1525         \n",
       "341357 RU       2018-06-14     30149    2032    33       395         \n",
       "341358 RU       2018-06-14     18529     702    78       166         \n",
       "341359 RU       2018-06-14     66082    4980    64       621         \n",
       "341360 RU       2018-06-14     17450     192    54         0         \n",
       "341361 RU       2018-06-14     38766    1699    83       332         \n",
       "341362 RU       2018-06-14     28158     363    50        37         \n",
       "341363 RU       2018-06-14     58916    5279   680       619         \n",
       "341364 RU       2018-06-14    241118    2591   231       588         \n",
       "341365 RU       2018-06-14     47592    9872    48       661         \n",
       "341366 RU       2018-06-14     69336    1923   195       271         \n",
       "341367 RU       2018-06-14     24303    1729    73      1157         \n",
       "341368 RU       2018-06-14    317655   13427   346      2205         \n",
       "341369 RU       2018-06-14     30297    2420    80       180         \n",
       "341370 RU       2018-06-14     70654    3806    87       230         \n",
       "341371 RU       2018-06-14    129488    5893   164       990         \n",
       "341372 RU       2018-06-14     99163    4659   337       692         \n",
       "341373 RU       2018-06-14    449611   24808    93       974         \n",
       "341374 RU       2018-06-14     14225     793    39       209         \n",
       "341375 RU       2018-06-14     52340    7708   133      1819         \n",
       "       comments_disabled ratings_disabled video_error_or_removed\n",
       "1      False             False            False                 \n",
       "2      False             False            False                 \n",
       "3      False             False            False                 \n",
       "4      False             False            False                 \n",
       "5      False             False            False                 \n",
       "6      False             False            False                 \n",
       "7      False             False            False                 \n",
       "8      False             False            False                 \n",
       "9      False             False            False                 \n",
       "10     False             False            False                 \n",
       "11     False             False            False                 \n",
       "12     False             False            False                 \n",
       "13     False             False            False                 \n",
       "14     False             False            False                 \n",
       "15     False             False            False                 \n",
       "16     False             False            False                 \n",
       "17     False             False            False                 \n",
       "18     False             False            False                 \n",
       "19     False             False            False                 \n",
       "20     False             False            False                 \n",
       "21     False             False            False                 \n",
       "22     False             False            False                 \n",
       "23     False             False            False                 \n",
       "24     False             False            False                 \n",
       "25     False             False            False                 \n",
       "26     False             False            False                 \n",
       "27     False             False            False                 \n",
       "28     False             False            False                 \n",
       "29     False             False            False                 \n",
       "30     False             False            False                 \n",
       "...    ...               ...              ...                   \n",
       "341346 False             False            False                 \n",
       "341347 False             False            False                 \n",
       "341348 False             False            False                 \n",
       "341349 False             False            False                 \n",
       "341350 False             False            False                 \n",
       "341351 False             False            False                 \n",
       "341352 True              False            False                 \n",
       "341353 False             False            False                 \n",
       "341354 False             False            False                 \n",
       "341355 False             False            False                 \n",
       "341356 False             False            False                 \n",
       "341357 False             False            False                 \n",
       "341358 False             False            False                 \n",
       "341359 False             False            False                 \n",
       "341360 True              False            False                 \n",
       "341361 False             False            False                 \n",
       "341362 False             False            False                 \n",
       "341363 False             False            False                 \n",
       "341364 False             False            False                 \n",
       "341365 False             False            False                 \n",
       "341366 False             False            False                 \n",
       "341367 False             False            False                 \n",
       "341368 False             False            False                 \n",
       "341369 False             False            False                 \n",
       "341370 False             False            False                 \n",
       "341371 False             False            False                 \n",
       "341372 False             False            False                 \n",
       "341373 False             False            False                 \n",
       "341374 False             False            False                 \n",
       "341375 False             False            False                 "
      ]
     },
     "metadata": {},
     "output_type": "display_data"
    }
   ],
   "source": [
    "Data10 <- Data9\n",
    "\n",
    "Data10$trending_date <- as.Date(Data10$trending_date,\n",
    "                        format = \"%y.%d.%m\")\n",
    "str(Data10)\n",
    "\n",
    "Data10\n"
   ]
  },
  {
   "cell_type": "markdown",
   "id": "mental-madness",
   "metadata": {},
   "source": [
    "- To be able to make a comprehensible graphical overview of the data to correctly display the change over time, the date had to be adjusted to the correct format. "
   ]
  },
  {
   "cell_type": "markdown",
   "id": "positive-degree",
   "metadata": {},
   "source": [
    "## 5. Statistical Analysis"
   ]
  },
  {
   "cell_type": "markdown",
   "id": "super-ready",
   "metadata": {},
   "source": [
    "### 5.1 Visualisation of Data"
   ]
  },
  {
   "cell_type": "code",
   "execution_count": 553,
   "id": "answering-truck",
   "metadata": {
    "scrolled": false
   },
   "outputs": [
    {
     "data": {
      "image/png": "[encoded data removed]",
      "text/plain": [
       "plot without title"
      ]
     },
     "metadata": {
      "image/png": {
       "height": 420,
       "width": 420
      }
     },
     "output_type": "display_data"
    },
    {
     "data": {
      "image/png": "[encoded data removed]",
      "text/plain": [
       "plot without title"
      ]
     },
     "metadata": {
      "image/png": {
       "height": 420,
       "width": 420
      }
     },
     "output_type": "display_data"
    }
   ],
   "source": [
    "ggplot(data = Data10, aes(x = trending_date, y = comment_count)) +\n",
    "      geom_bar(stat = \"identity\", fill = \"purple\") + ggtitle(\"Comment Count over Time\")\n",
    "\n",
    "ggplot(data = Data10, aes(x = trending_date, y = views)) +\n",
    "      geom_bar(stat = \"identity\", fill = \"purple\") + ggtitle(\"Views over Time\") \n"
   ]
  },
  {
   "cell_type": "markdown",
   "id": "cooked-register",
   "metadata": {},
   "source": [
    "- Just by looking at the barplot, there seems to be an indication that the amount of comments and views seem to be increasing over time. "
   ]
  },
  {
   "cell_type": "code",
   "execution_count": 554,
   "id": "consolidated-judgment",
   "metadata": {
    "scrolled": false
   },
   "outputs": [
    {
     "name": "stderr",
     "output_type": "stream",
     "text": [
      "`geom_smooth()` using method = 'loess' and formula 'y ~ x'\n",
      "\n",
      "`geom_smooth()` using formula 'y ~ x'\n",
      "\n",
      "Warning message:\n",
      "\"Removed 205 rows containing missing values (geom_segment).\"\n"
     ]
    },
    {
     "data": {
      "image/png": "[encoded data removed]",
      "text/plain": [
       "plot without title"
      ]
     },
     "metadata": {
      "image/png": {
       "height": 420,
       "width": 420
      }
     },
     "output_type": "display_data"
    },
    {
     "data": {
      "image/png": "[encoded data removed]",
      "text/plain": [
       "plot without title"
      ]
     },
     "metadata": {
      "image/png": {
       "height": 420,
       "width": 420
      }
     },
     "output_type": "display_data"
    }
   ],
   "source": [
    "Data10_avg <- Data10 %>% \n",
    "      group_by(trending_date) %>%\n",
    "      summarize(comment_count_avg=mean(comment_count))\n",
    "\n",
    "Data10_avg %>%\n",
    "        ggplot(aes(x = trending_date, y = comment_count_avg, color_Language)) + \n",
    "        geom_point() + geom_smooth() + ggtitle(\"Comment Count over Time\")\n",
    "Data10_avg %>%\n",
    "    ggplot(aes(trending_date, comment_count_avg)) + stat_summary(fun = mean) + geom_smooth(method='lm', se=F) + ggtitle(\"Views over Time\")"
   ]
  },
  {
   "cell_type": "markdown",
   "id": "breeding-mathematics",
   "metadata": {},
   "source": [
    "- Based on these plots, a better estimation about the distribution of the data can be made. While a linear regression might not be perfect, regarding the trend it should still be an acceptable option for the data. "
   ]
  },
  {
   "cell_type": "code",
   "execution_count": 555,
   "id": "intellectual-cabin",
   "metadata": {
    "scrolled": false
   },
   "outputs": [
    {
     "name": "stderr",
     "output_type": "stream",
     "text": [
      "`geom_smooth()` using formula 'y ~ x'\n",
      "\n",
      "Warning message:\n",
      "\"Removed 1762 rows containing missing values (geom_segment).\"\n"
     ]
    },
    {
     "data": {
      "text/plain": [
       "   Min. 1st Qu.  Median    Mean 3rd Qu.    Max. \n",
       "      0     109     541    4479    2199 1626501 "
      ]
     },
     "metadata": {},
     "output_type": "display_data"
    },
    {
     "data": {
      "image/png": "[encoded data removed]",
      "text/plain": [
       "plot without title"
      ]
     },
     "metadata": {
      "image/png": {
       "height": 420,
       "width": 420
      }
     },
     "output_type": "display_data"
    },
    {
     "data": {
      "image/png": "[encoded data removed]",
      "text/plain": [
       "Plot with title \"Histogram of Youtube Statistic\""
      ]
     },
     "metadata": {
      "image/png": {
       "height": 420,
       "width": 420
      }
     },
     "output_type": "display_data"
    }
   ],
   "source": [
    "Data10 %>%\n",
    "        ggplot(aes(x = trending_date, y = comment_count, color = Language)) +\n",
    "        stat_summary(fun = mean) + geom_smooth(method='lm', se=F) + ggtitle(\"Comment Count Distribution Over Time\")\n",
    "\n",
    "summary(Data10$comment_count)\n",
    "\n",
    "hist(Data10$comment_count, main = \"Histogram of Youtube Statistic\", xlab=\"Comment Count\")\n"
   ]
  },
  {
   "cell_type": "markdown",
   "id": "racial-attention",
   "metadata": {},
   "source": [
    "- Looking at the first plot, most languages with the exception of GB and US seem to have similar values. A better visualisation method seems to be required to create a better overview. \n",
    "- The histogram shows, that a small part of the data seems to outperform most videos by a lot. Looking at the data summary, the maximum value is extremely far away from the Mean. Considering the nature of the data, These videos will not be treated as outliers and will remain in the dataset. In future studies a more segmented approach regarding the popularity of the different videos should be probably be taken. "
   ]
  },
  {
   "cell_type": "code",
   "execution_count": 556,
   "id": "convenient-kennedy",
   "metadata": {
    "scrolled": false
   },
   "outputs": [
    {
     "name": "stderr",
     "output_type": "stream",
     "text": [
      "`geom_smooth()` using formula 'y ~ x'\n",
      "\n"
     ]
    },
    {
     "data": {
      "image/png": "[encoded data removed]",
      "text/plain": [
       "plot without title"
      ]
     },
     "metadata": {
      "image/png": {
       "height": 420,
       "width": 420
      }
     },
     "output_type": "display_data"
    }
   ],
   "source": [
    "Data10 %>%\n",
    "        ggplot(aes(x = trending_date, y = comment_count, color = Language)) +\n",
    "        geom_smooth(method='lm', se=F) + ggtitle(\"Language Distribution over time\")\n"
   ]
  },
  {
   "cell_type": "markdown",
   "id": "contrary-attachment",
   "metadata": {},
   "source": [
    "- US and GB seem to have the steepest slope by far. CA and MX seem to decrease slightly, while the rest only increases slightly. "
   ]
  },
  {
   "cell_type": "markdown",
   "id": "moving-subcommittee",
   "metadata": {},
   "source": [
    "### 5.2 Bootstrap"
   ]
  },
  {
   "cell_type": "code",
   "execution_count": 557,
   "id": "horizontal-ticket",
   "metadata": {},
   "outputs": [
    {
     "data": {
      "text/plain": [
       "\n",
       "ORDINARY NONPARAMETRIC BOOTSTRAP\n",
       "\n",
       "\n",
       "Call:\n",
       "boot(data = Data10$views, statistic = boot.fn, R = 1000)\n",
       "\n",
       "\n",
       "Bootstrap Statistics :\n",
       "    original    bias    std. error\n",
       "t1*  1417865 -28.65178    12631.94"
      ]
     },
     "metadata": {},
     "output_type": "display_data"
    }
   ],
   "source": [
    "set.seed(1)\n",
    "boot.fn <- function(Data10, index) {\n",
    "    mu <- mean(Data10[index])\n",
    "    return (mu)\n",
    "}\n",
    "boot(Data10$views, boot.fn, 1000)"
   ]
  },
  {
   "cell_type": "code",
   "execution_count": 558,
   "id": "stuffed-keeping",
   "metadata": {},
   "outputs": [
    {
     "data": {
      "text/html": [
       "<style>\n",
       ".list-inline {list-style: none; margin:0; padding: 0}\n",
       ".list-inline>li {display: inline-block}\n",
       ".list-inline>li:not(:last-child)::after {content: \"\\00b7\"; padding: 0 .5ex}\n",
       "</style>\n",
       "<ol class=list-inline><li>1405233.06</li><li>1430496.94</li></ol>\n"
      ],
      "text/latex": [
       "\\begin{enumerate*}\n",
       "\\item 1405233.06\n",
       "\\item 1430496.94\n",
       "\\end{enumerate*}\n"
      ],
      "text/markdown": [
       "1. 1405233.06\n",
       "2. 1430496.94\n",
       "\n",
       "\n"
      ],
      "text/plain": [
       "[1] 1405233 1430497"
      ]
     },
     "metadata": {},
     "output_type": "display_data"
    },
    {
     "data": {
      "text/plain": [
       "     Min.   1st Qu.    Median      Mean   3rd Qu.      Max. \n",
       "      117     46850    190140   1417865    708108 424538912 "
      ]
     },
     "metadata": {},
     "output_type": "display_data"
    }
   ],
   "source": [
    "Data10_CI <- c(1417865 - 12631.94, 1417865 + 12631.94 )\n",
    "Data10_CI\n",
    "\n",
    "summary(Data10$views)"
   ]
  },
  {
   "cell_type": "markdown",
   "id": "soviet-microphone",
   "metadata": {},
   "source": [
    "- So after bootstrapping the data we have a 95% possibility that the mean is between 1'405'233 and 1'430'496 views per video. "
   ]
  },
  {
   "cell_type": "markdown",
   "id": "exterior-incidence",
   "metadata": {},
   "source": [
    "### 5.3 Correlation Tests"
   ]
  },
  {
   "cell_type": "markdown",
   "id": "supported-blend",
   "metadata": {},
   "source": [
    "#### 5.3.1 Views and Comment Count"
   ]
  },
  {
   "cell_type": "code",
   "execution_count": 559,
   "id": "embedded-valentine",
   "metadata": {
    "scrolled": true
   },
   "outputs": [
    {
     "data": {
      "text/plain": [
       "\n",
       "\tPearson's product-moment correlation\n",
       "\n",
       "data:  views and comment_count\n",
       "t = 344.24, df = 341373, p-value < 2.2e-16\n",
       "alternative hypothesis: true correlation is not equal to 0\n",
       "95 percent confidence interval:\n",
       " 0.5051251 0.5101054\n",
       "sample estimates:\n",
       "      cor \n",
       "0.5076195 \n"
      ]
     },
     "metadata": {},
     "output_type": "display_data"
    },
    {
     "data": {
      "text/plain": [
       "\n",
       "\tPearson's product-moment correlation\n",
       "\n",
       "data:  views and comment_count\n",
       "t = 194.41, df = 40879, p-value < 2.2e-16\n",
       "alternative hypothesis: true correlation is not equal to 0\n",
       "95 percent confidence interval:\n",
       " 0.6880356 0.6981098\n",
       "sample estimates:\n",
       "      cor \n",
       "0.6931066 \n"
      ]
     },
     "metadata": {},
     "output_type": "display_data"
    },
    {
     "data": {
      "text/plain": [
       "\n",
       "\tPearson's product-moment correlation\n",
       "\n",
       "data:  views and comment_count\n",
       "t = 201.18, df = 40838, p-value < 2.2e-16\n",
       "alternative hypothesis: true correlation is not equal to 0\n",
       "95 percent confidence interval:\n",
       " 0.7006113 0.7103539\n",
       "sample estimates:\n",
       "     cor \n",
       "0.705516 \n"
      ]
     },
     "metadata": {},
     "output_type": "display_data"
    },
    {
     "data": {
      "text/plain": [
       "\n",
       "\tPearson's product-moment correlation\n",
       "\n",
       "data:  views and comment_count\n",
       "t = 202.4, df = 40722, p-value < 2.2e-16\n",
       "alternative hypothesis: true correlation is not equal to 0\n",
       "95 percent confidence interval:\n",
       " 0.7032853 0.7129692\n",
       "sample estimates:\n",
       "      cor \n",
       "0.7081606 \n"
      ]
     },
     "metadata": {},
     "output_type": "display_data"
    },
    {
     "data": {
      "text/plain": [
       "\n",
       "\tPearson's product-moment correlation\n",
       "\n",
       "data:  views and comment_count\n",
       "t = 104.15, df = 38914, p-value < 2.2e-16\n",
       "alternative hypothesis: true correlation is not equal to 0\n",
       "95 percent confidence interval:\n",
       " 0.4590934 0.4746329\n",
       "sample estimates:\n",
       "      cor \n",
       "0.4668992 \n"
      ]
     },
     "metadata": {},
     "output_type": "display_data"
    },
    {
     "data": {
      "text/plain": [
       "\n",
       "\tPearson's product-moment correlation\n",
       "\n",
       "data:  views and comment_count\n",
       "t = 176.42, df = 37350, p-value < 2.2e-16\n",
       "alternative hypothesis: true correlation is not equal to 0\n",
       "95 percent confidence interval:\n",
       " 0.6686251 0.6796890\n",
       "sample estimates:\n",
       "      cor \n",
       "0.6741949 \n"
      ]
     },
     "metadata": {},
     "output_type": "display_data"
    },
    {
     "data": {
      "text/plain": [
       "\n",
       "\tPearson's product-moment correlation\n",
       "\n",
       "data:  views and comment_count\n",
       "t = 225.29, df = 20521, p-value < 2.2e-16\n",
       "alternative hypothesis: true correlation is not equal to 0\n",
       "95 percent confidence interval:\n",
       " 0.8398658 0.8477450\n",
       "sample estimates:\n",
       "      cor \n",
       "0.8438509 \n"
      ]
     },
     "metadata": {},
     "output_type": "display_data"
    },
    {
     "data": {
      "text/plain": [
       "\n",
       "\tPearson's product-moment correlation\n",
       "\n",
       "data:  views and comment_count\n",
       "t = 185.41, df = 40449, p-value < 2.2e-16\n",
       "alternative hypothesis: true correlation is not equal to 0\n",
       "95 percent confidence interval:\n",
       " 0.6725089 0.6830452\n",
       "sample estimates:\n",
       "      cor \n",
       "0.6778118 \n"
      ]
     },
     "metadata": {},
     "output_type": "display_data"
    },
    {
     "data": {
      "text/plain": [
       "\n",
       "\tPearson's product-moment correlation\n",
       "\n",
       "data:  views and comment_count\n",
       "t = 217.01, df = 40737, p-value < 2.2e-16\n",
       "alternative hypothesis: true correlation is not equal to 0\n",
       "95 percent confidence interval:\n",
       " 0.7277044 0.7367128\n",
       "sample estimates:\n",
       "      cor \n",
       "0.7322406 \n"
      ]
     },
     "metadata": {},
     "output_type": "display_data"
    },
    {
     "data": {
      "text/plain": [
       "\n",
       "\tPearson's product-moment correlation\n",
       "\n",
       "data:  views and comment_count\n",
       "t = 158.91, df = 40947, p-value < 2.2e-16\n",
       "alternative hypothesis: true correlation is not equal to 0\n",
       "95 percent confidence interval:\n",
       " 0.6115942 0.6235766\n",
       "sample estimates:\n",
       "      cor \n",
       "0.6176213 \n"
      ]
     },
     "metadata": {},
     "output_type": "display_data"
    }
   ],
   "source": [
    "#Correlation test views and comment count\n",
    "cor.test(~views + comment_count, data = Data10)\n",
    "\n",
    "cor.test(~views + comment_count, data = Data10, subset=(Language==\"CA\"))\n",
    "cor.test(~views + comment_count, data = Data10, subset=(Language==\"DE\"))\n",
    "cor.test(~views + comment_count, data = Data10, subset=(Language==\"FR\"))\n",
    "cor.test(~views + comment_count, data = Data10, subset=(Language==\"GB\"))\n",
    "cor.test(~views + comment_count, data = Data10, subset=(Language==\"IN\"))\n",
    "cor.test(~views + comment_count, data = Data10, subset=(Language==\"JP\"))\n",
    "cor.test(~views + comment_count, data = Data10, subset=(Language==\"MX\"))\n",
    "cor.test(~views + comment_count, data = Data10, subset=(Language==\"RU\"))\n",
    "cor.test(~views + comment_count, data = Data10, subset=(Language==\"US\"))\n"
   ]
  },
  {
   "cell_type": "markdown",
   "id": "powerful-arrest",
   "metadata": {},
   "source": [
    "- Overall=0.5076195 \n",
    "- CA=0.6931066 \n",
    "- DE=0.705516 \n",
    "- FR=0.7081606 \n",
    "- GB=0.4668992 \n",
    "- IN=0.6741949\n",
    "- JP=0.8438509 \n",
    "- MX=0.6778118 \n",
    "- RU=0.7322406 \n",
    "- US=0.6176213"
   ]
  },
  {
   "cell_type": "markdown",
   "id": "naughty-scottish",
   "metadata": {},
   "source": [
    "- Correlation test for the relation between views and comment count. The amount of comments seems to correlate significantly between 0.466 (GB) and 0.843 (US) with the amount of views on a video. "
   ]
  },
  {
   "cell_type": "code",
   "execution_count": 560,
   "id": "reserved-citation",
   "metadata": {
    "scrolled": false
   },
   "outputs": [
    {
     "data": {
      "text/html": [
       "<table class=\"dataframe\">\n",
       "<caption>A matrix: 3 × 3 of type dbl</caption>\n",
       "<thead>\n",
       "\t<tr><th></th><th scope=col>trending_date</th><th scope=col>views</th><th scope=col>comment_count</th></tr>\n",
       "</thead>\n",
       "<tbody>\n",
       "\t<tr><th scope=row>trending_date</th><td>1.00000000</td><td>0.06415547</td><td>0.02979432</td></tr>\n",
       "\t<tr><th scope=row>views</th><td>0.06415547</td><td>1.00000000</td><td>0.50761949</td></tr>\n",
       "\t<tr><th scope=row>comment_count</th><td>0.02979432</td><td>0.50761949</td><td>1.00000000</td></tr>\n",
       "</tbody>\n",
       "</table>\n"
      ],
      "text/latex": [
       "A matrix: 3 × 3 of type dbl\n",
       "\\begin{tabular}{r|lll}\n",
       "  & trending\\_date & views & comment\\_count\\\\\n",
       "\\hline\n",
       "\ttrending\\_date & 1.00000000 & 0.06415547 & 0.02979432\\\\\n",
       "\tviews & 0.06415547 & 1.00000000 & 0.50761949\\\\\n",
       "\tcomment\\_count & 0.02979432 & 0.50761949 & 1.00000000\\\\\n",
       "\\end{tabular}\n"
      ],
      "text/markdown": [
       "\n",
       "A matrix: 3 × 3 of type dbl\n",
       "\n",
       "| <!--/--> | trending_date | views | comment_count |\n",
       "|---|---|---|---|\n",
       "| trending_date | 1.00000000 | 0.06415547 | 0.02979432 |\n",
       "| views | 0.06415547 | 1.00000000 | 0.50761949 |\n",
       "| comment_count | 0.02979432 | 0.50761949 | 1.00000000 |\n",
       "\n"
      ],
      "text/plain": [
       "              trending_date views      comment_count\n",
       "trending_date 1.00000000    0.06415547 0.02979432   \n",
       "views         0.06415547    1.00000000 0.50761949   \n",
       "comment_count 0.02979432    0.50761949 1.00000000   "
      ]
     },
     "metadata": {},
     "output_type": "display_data"
    }
   ],
   "source": [
    "Data11 <- Data10\n",
    "\n",
    "Data11$trending_date <- as.numeric(Data11$trending_date)\n",
    "\n",
    "cor(Data11[c(2, 3, 6)])"
   ]
  },
  {
   "cell_type": "markdown",
   "id": "negative-internet",
   "metadata": {},
   "source": [
    "- To be able to calculate a correlation matrix, the format of trending_date has to be changed to numeric. "
   ]
  },
  {
   "cell_type": "markdown",
   "id": "sophisticated-charles",
   "metadata": {},
   "source": [
    "#### 5.3.2 Comment Count and Trending Date"
   ]
  },
  {
   "cell_type": "code",
   "execution_count": 561,
   "id": "violent-casting",
   "metadata": {
    "scrolled": true
   },
   "outputs": [
    {
     "data": {
      "text/plain": [
       "\n",
       "\tPearson's product-moment correlation\n",
       "\n",
       "data:  comment_count and trending_date\n",
       "t = 17.416, df = 341373, p-value < 2.2e-16\n",
       "alternative hypothesis: true correlation is not equal to 0\n",
       "95 percent confidence interval:\n",
       " 0.02644243 0.03314555\n",
       "sample estimates:\n",
       "       cor \n",
       "0.02979432 \n"
      ]
     },
     "metadata": {},
     "output_type": "display_data"
    },
    {
     "data": {
      "text/plain": [
       "\n",
       "\tPearson's product-moment correlation\n",
       "\n",
       "data:  comment_count and trending_date\n",
       "t = -0.52293, df = 40879, p-value = 0.601\n",
       "alternative hypothesis: true correlation is not equal to 0\n",
       "95 percent confidence interval:\n",
       " -0.012279773  0.007107502\n",
       "sample estimates:\n",
       "         cor \n",
       "-0.002586379 \n"
      ]
     },
     "metadata": {},
     "output_type": "display_data"
    },
    {
     "data": {
      "text/plain": [
       "\n",
       "\tPearson's product-moment correlation\n",
       "\n",
       "data:  comment_count and trending_date\n",
       "t = 2.944, df = 40838, p-value = 0.003242\n",
       "alternative hypothesis: true correlation is not equal to 0\n",
       "95 percent confidence interval:\n",
       " 0.004868706 0.024261724\n",
       "sample estimates:\n",
       "       cor \n",
       "0.01456658 \n"
      ]
     },
     "metadata": {},
     "output_type": "display_data"
    },
    {
     "data": {
      "text/plain": [
       "\n",
       "\tPearson's product-moment correlation\n",
       "\n",
       "data:  comment_count and trending_date\n",
       "t = 3.5024, df = 40722, p-value = 0.0004616\n",
       "alternative hypothesis: true correlation is not equal to 0\n",
       "95 percent confidence interval:\n",
       " 0.007642359 0.027061250\n",
       "sample estimates:\n",
       "       cor \n",
       "0.01735344 \n"
      ]
     },
     "metadata": {},
     "output_type": "display_data"
    },
    {
     "data": {
      "text/plain": [
       "\n",
       "\tPearson's product-moment correlation\n",
       "\n",
       "data:  comment_count and trending_date\n",
       "t = 14.765, df = 38914, p-value < 2.2e-16\n",
       "alternative hypothesis: true correlation is not equal to 0\n",
       "95 percent confidence interval:\n",
       " 0.06475152 0.08451168\n",
       "sample estimates:\n",
       "       cor \n",
       "0.07463893 \n"
      ]
     },
     "metadata": {},
     "output_type": "display_data"
    },
    {
     "data": {
      "text/plain": [
       "\n",
       "\tPearson's product-moment correlation\n",
       "\n",
       "data:  comment_count and trending_date\n",
       "t = 6.8523, df = 37350, p-value = 7.378e-12\n",
       "alternative hypothesis: true correlation is not equal to 0\n",
       "95 percent confidence interval:\n",
       " 0.02530178 0.04555892\n",
       "sample estimates:\n",
       "       cor \n",
       "0.03543399 \n"
      ]
     },
     "metadata": {},
     "output_type": "display_data"
    },
    {
     "data": {
      "text/plain": [
       "\n",
       "\tPearson's product-moment correlation\n",
       "\n",
       "data:  comment_count and trending_date\n",
       "t = 3.8138, df = 20521, p-value = 0.0001373\n",
       "alternative hypothesis: true correlation is not equal to 0\n",
       "95 percent confidence interval:\n",
       " 0.01293677 0.04028030\n",
       "sample estimates:\n",
       "       cor \n",
       "0.02661351 \n"
      ]
     },
     "metadata": {},
     "output_type": "display_data"
    },
    {
     "data": {
      "text/plain": [
       "\n",
       "\tPearson's product-moment correlation\n",
       "\n",
       "data:  comment_count and trending_date\n",
       "t = -1.8278, df = 40449, p-value = 0.06759\n",
       "alternative hypothesis: true correlation is not equal to 0\n",
       "95 percent confidence interval:\n",
       " -0.0188309558  0.0006576131\n",
       "sample estimates:\n",
       "         cor \n",
       "-0.009087534 \n"
      ]
     },
     "metadata": {},
     "output_type": "display_data"
    },
    {
     "data": {
      "text/plain": [
       "\n",
       "\tPearson's product-moment correlation\n",
       "\n",
       "data:  comment_count and trending_date\n",
       "t = 3.8104, df = 40737, p-value = 0.0001389\n",
       "alternative hypothesis: true correlation is not equal to 0\n",
       "95 percent confidence interval:\n",
       " 0.009166574 0.028580819\n",
       "sample estimates:\n",
       "       cor \n",
       "0.01887548 \n"
      ]
     },
     "metadata": {},
     "output_type": "display_data"
    },
    {
     "data": {
      "text/plain": [
       "\n",
       "\tPearson's product-moment correlation\n",
       "\n",
       "data:  comment_count and trending_date\n",
       "t = 17.67, df = 40947, p-value < 2.2e-16\n",
       "alternative hypothesis: true correlation is not equal to 0\n",
       "95 percent confidence interval:\n",
       " 0.07736905 0.09659378\n",
       "sample estimates:\n",
       "       cor \n",
       "0.08698951 \n"
      ]
     },
     "metadata": {},
     "output_type": "display_data"
    }
   ],
   "source": [
    "#Correlation test comment count and date\n",
    "cor.test(~comment_count + trending_date, data = Data11)\n",
    "\n",
    "cor.test(~comment_count + trending_date, data = Data11, subset=(Language==\"CA\"))\n",
    "cor.test(~comment_count + trending_date, data = Data11, subset=(Language==\"DE\"))\n",
    "cor.test(~comment_count + trending_date, data = Data11, subset=(Language==\"FR\"))\n",
    "cor.test(~comment_count + trending_date, data = Data11, subset=(Language==\"GB\"))\n",
    "cor.test(~comment_count + trending_date, data = Data11, subset=(Language==\"IN\"))\n",
    "cor.test(~comment_count + trending_date, data = Data11, subset=(Language==\"JP\"))\n",
    "cor.test(~comment_count + trending_date, data = Data11, subset=(Language==\"MX\"))\n",
    "cor.test(~comment_count + trending_date, data = Data11, subset=(Language==\"RU\"))\n",
    "cor.test(~comment_count + trending_date, data = Data11, subset=(Language==\"US\"))\n"
   ]
  },
  {
   "cell_type": "markdown",
   "id": "controlling-persian",
   "metadata": {},
   "source": [
    "- Overall=0.02979432 \n",
    "- CA=-0.002586379 (p =0.601) \n",
    "- DE=0.01456658 \n",
    "- FR=0.01735344 \n",
    "- GB=0.07463893 \n",
    "- IN=0.03543399 \n",
    "- JP=0.02661351\n",
    "- MX=-0.009087534 (p = 0.06759)\n",
    "- RU=0.01887548 \n",
    "- US=0.08698951 \n"
   ]
  },
  {
   "cell_type": "markdown",
   "id": "arctic-array",
   "metadata": {},
   "source": [
    "- The correlation seems be rather low. The highest correlation can be observed in GB/ US and a negative correlation in MX, but the result is not signficant. "
   ]
  },
  {
   "cell_type": "markdown",
   "id": "homeless-couple",
   "metadata": {},
   "source": [
    "#### 5.3.3 Views and Trending Date"
   ]
  },
  {
   "cell_type": "code",
   "execution_count": 562,
   "id": "connected-consensus",
   "metadata": {
    "scrolled": true
   },
   "outputs": [
    {
     "data": {
      "text/plain": [
       "\n",
       "\tPearson's product-moment correlation\n",
       "\n",
       "data:  views and trending_date\n",
       "t = 37.562, df = 341373, p-value < 2.2e-16\n",
       "alternative hypothesis: true correlation is not equal to 0\n",
       "95 percent confidence interval:\n",
       " 0.06081402 0.06749548\n",
       "sample estimates:\n",
       "       cor \n",
       "0.06415547 \n"
      ]
     },
     "metadata": {},
     "output_type": "display_data"
    },
    {
     "data": {
      "text/plain": [
       "\n",
       "\tPearson's product-moment correlation\n",
       "\n",
       "data:  views and trending_date\n",
       "t = 1.4087, df = 40879, p-value = 0.1589\n",
       "alternative hypothesis: true correlation is not equal to 0\n",
       "95 percent confidence interval:\n",
       " -0.002726577  0.016659886\n",
       "sample estimates:\n",
       "        cor \n",
       "0.006967309 \n"
      ]
     },
     "metadata": {},
     "output_type": "display_data"
    },
    {
     "data": {
      "text/plain": [
       "\n",
       "\tPearson's product-moment correlation\n",
       "\n",
       "data:  views and trending_date\n",
       "t = 6.8592, df = 40838, p-value = 7.024e-12\n",
       "alternative hypothesis: true correlation is not equal to 0\n",
       "95 percent confidence interval:\n",
       " 0.02423206 0.04360687\n",
       "sample estimates:\n",
       "       cor \n",
       "0.03392265 \n"
      ]
     },
     "metadata": {},
     "output_type": "display_data"
    },
    {
     "data": {
      "text/plain": [
       "\n",
       "\tPearson's product-moment correlation\n",
       "\n",
       "data:  views and trending_date\n",
       "t = 7.4167, df = 40722, p-value = 1.224e-13\n",
       "alternative hypothesis: true correlation is not equal to 0\n",
       "95 percent confidence interval:\n",
       " 0.02702585 0.04642438\n",
       "sample estimates:\n",
       "       cor \n",
       "0.03672858 \n"
      ]
     },
     "metadata": {},
     "output_type": "display_data"
    },
    {
     "data": {
      "text/plain": [
       "\n",
       "\tPearson's product-moment correlation\n",
       "\n",
       "data:  views and trending_date\n",
       "t = 31.977, df = 38914, p-value < 2.2e-16\n",
       "alternative hypothesis: true correlation is not equal to 0\n",
       "95 percent confidence interval:\n",
       " 0.1503167 0.1696788\n",
       "sample estimates:\n",
       "      cor \n",
       "0.1600131 \n"
      ]
     },
     "metadata": {},
     "output_type": "display_data"
    },
    {
     "data": {
      "text/plain": [
       "\n",
       "\tPearson's product-moment correlation\n",
       "\n",
       "data:  views and trending_date\n",
       "t = 12.555, df = 37350, p-value < 2.2e-16\n",
       "alternative hypothesis: true correlation is not equal to 0\n",
       "95 percent confidence interval:\n",
       " 0.05472088 0.07491826\n",
       "sample estimates:\n",
       "       cor \n",
       "0.06482621 \n"
      ]
     },
     "metadata": {},
     "output_type": "display_data"
    },
    {
     "data": {
      "text/plain": [
       "\n",
       "\tPearson's product-moment correlation\n",
       "\n",
       "data:  views and trending_date\n",
       "t = 4.6749, df = 20521, p-value = 2.959e-06\n",
       "alternative hypothesis: true correlation is not equal to 0\n",
       "95 percent confidence interval:\n",
       " 0.01894400 0.04627781\n",
       "sample estimates:\n",
       "     cor \n",
       "0.032617 \n"
      ]
     },
     "metadata": {},
     "output_type": "display_data"
    },
    {
     "data": {
      "text/plain": [
       "\n",
       "\tPearson's product-moment correlation\n",
       "\n",
       "data:  views and trending_date\n",
       "t = 1.9975, df = 40449, p-value = 0.04578\n",
       "alternative hypothesis: true correlation is not equal to 0\n",
       "95 percent confidence interval:\n",
       " 0.0001863074 0.0196745635\n",
       "sample estimates:\n",
       "        cor \n",
       "0.009931378 \n"
      ]
     },
     "metadata": {},
     "output_type": "display_data"
    },
    {
     "data": {
      "text/plain": [
       "\n",
       "\tPearson's product-moment correlation\n",
       "\n",
       "data:  views and trending_date\n",
       "t = 8.1795, df = 40737, p-value = 2.932e-16\n",
       "alternative hypothesis: true correlation is not equal to 0\n",
       "95 percent confidence interval:\n",
       " 0.03079415 0.05018347\n",
       "sample estimates:\n",
       "       cor \n",
       "0.04049262 \n"
      ]
     },
     "metadata": {},
     "output_type": "display_data"
    },
    {
     "data": {
      "text/plain": [
       "\n",
       "\tPearson's product-moment correlation\n",
       "\n",
       "data:  views and trending_date\n",
       "t = 36.157, df = 40947, p-value < 2.2e-16\n",
       "alternative hypothesis: true correlation is not equal to 0\n",
       "95 percent confidence interval:\n",
       " 0.1664949 0.1852669\n",
       "sample estimates:\n",
       "      cor \n",
       "0.1758969 \n"
      ]
     },
     "metadata": {},
     "output_type": "display_data"
    }
   ],
   "source": [
    "#Correlation test views and date\n",
    "cor.test(~views + trending_date, data = Data11)\n",
    "\n",
    "cor.test(~views + trending_date, data = Data11, subset=(Language==\"CA\"))\n",
    "cor.test(~views + trending_date, data = Data11, subset=(Language==\"DE\"))\n",
    "cor.test(~views + trending_date, data = Data11, subset=(Language==\"FR\"))\n",
    "cor.test(~views + trending_date, data = Data11, subset=(Language==\"GB\"))\n",
    "cor.test(~views + trending_date, data = Data11, subset=(Language==\"IN\"))\n",
    "cor.test(~views + trending_date, data = Data11, subset=(Language==\"JP\"))\n",
    "cor.test(~views + trending_date, data = Data11, subset=(Language==\"MX\"))\n",
    "cor.test(~views + trending_date, data = Data11, subset=(Language==\"RU\"))\n",
    "cor.test(~views + trending_date, data = Data11, subset=(Language==\"US\"))"
   ]
  },
  {
   "cell_type": "markdown",
   "id": "sufficient-classics",
   "metadata": {},
   "source": [
    "- Overall=0.06415547                \n",
    "- CA=0.006967309 (p-value = 0.1589) \n",
    "- DE=0.03392265                     \n",
    "- FR=0.03672858                    \n",
    "- GB=0.1600131                      \n",
    "- IN=0.06482621                     \n",
    "- JP=0.032617                       \n",
    "- MX=0.009931378                  \n",
    "- RU=0.04049262  \n",
    "- US=0.1758969 "
   ]
  },
  {
   "cell_type": "markdown",
   "id": "independent-kruger",
   "metadata": {},
   "source": [
    "- The correlation seems to be strongest in GB/US and weakest in CA. CA is the only result that is not significant. "
   ]
  },
  {
   "cell_type": "markdown",
   "id": "wicked-veteran",
   "metadata": {},
   "source": [
    "### 5.4 Multiple Linear Regression "
   ]
  },
  {
   "cell_type": "code",
   "execution_count": 563,
   "id": "hazardous-transportation",
   "metadata": {
    "scrolled": true
   },
   "outputs": [
    {
     "data": {
      "text/plain": [
       "\n",
       "Call:\n",
       "lm(formula = views ~ trending_date + comment_count, data = Data11)\n",
       "\n",
       "Residuals:\n",
       "       Min         1Q     Median         3Q        Max \n",
       "-191260940    -938670    -572296    -199848  409128210 \n",
       "\n",
       "Coefficients:\n",
       "                Estimate Std. Error t value Pr(>|t|)    \n",
       "(Intercept)   -1.029e+08  3.111e+06  -33.07   <2e-16 ***\n",
       "trending_date  5.893e+03  1.769e+02   33.32   <2e-16 ***\n",
       "comment_count  1.452e+02  4.224e-01  343.65   <2e-16 ***\n",
       "---\n",
       "Signif. codes:  0 '***' 0.001 '**' 0.01 '*' 0.05 '.' 0.1 ' ' 1\n",
       "\n",
       "Residual standard error: 6368000 on 341372 degrees of freedom\n",
       "Multiple R-squared:  0.2601,\tAdjusted R-squared:  0.2601 \n",
       "F-statistic: 6e+04 on 2 and 341372 DF,  p-value: < 2.2e-16\n"
      ]
     },
     "metadata": {},
     "output_type": "display_data"
    }
   ],
   "source": [
    "#Multiple Linear Regression for views with date + comment count\n",
    "ml1 <- lm(views~trending_date+comment_count, data = Data11)\n",
    "summary(ml1)"
   ]
  },
  {
   "cell_type": "markdown",
   "id": "registered-aggregate",
   "metadata": {},
   "source": [
    "- The fit of the model is low (R-squared = 0.2601). Date and the amount of comments seem to able to predict the amount of views a video has signficantly. **H1** is therefore confirmed. "
   ]
  },
  {
   "cell_type": "code",
   "execution_count": 564,
   "id": "medium-underwear",
   "metadata": {},
   "outputs": [
    {
     "data": {
      "text/plain": [
       "\n",
       "Call:\n",
       "lm(formula = views ~ trending_date + comment_count + Language, \n",
       "    data = Data11)\n",
       "\n",
       "Residuals:\n",
       "       Min         1Q     Median         3Q        Max \n",
       "-183635177    -718482    -217499     260673  406383820 \n",
       "\n",
       "Coefficients:\n",
       "                Estimate Std. Error t value Pr(>|t|)    \n",
       "(Intercept)   -1.226e+08  3.096e+06 -39.598  < 2e-16 ***\n",
       "trending_date  6.996e+03  1.760e+02  39.744  < 2e-16 ***\n",
       "comment_count  1.384e+02  4.188e-01 330.502  < 2e-16 ***\n",
       "LanguageDE    -2.299e+05  4.370e+04  -5.262 1.43e-07 ***\n",
       "LanguageFR    -2.807e+05  4.374e+04  -6.417 1.39e-10 ***\n",
       "LanguageGB     3.679e+06  4.436e+04  82.923  < 2e-16 ***\n",
       "LanguageIN     2.471e+05  4.471e+04   5.526 3.28e-08 ***\n",
       "LanguageJP    -6.519e+05  5.399e+04 -12.075  < 2e-16 ***\n",
       "LanguageMX    -3.820e+05  4.381e+04  -8.719  < 2e-16 ***\n",
       "LanguageRU    -4.512e+05  4.374e+04 -10.316  < 2e-16 ***\n",
       "LanguageUS     7.423e+05  4.369e+04  16.993  < 2e-16 ***\n",
       "---\n",
       "Signif. codes:  0 '***' 0.001 '**' 0.01 '*' 0.05 '.' 0.1 ' ' 1\n",
       "\n",
       "Residual standard error: 6245000 on 341364 degrees of freedom\n",
       "Multiple R-squared:  0.2884,\tAdjusted R-squared:  0.2884 \n",
       "F-statistic: 1.383e+04 on 10 and 341364 DF,  p-value: < 2.2e-16\n"
      ]
     },
     "metadata": {},
     "output_type": "display_data"
    }
   ],
   "source": [
    "ml2 <- lm(views~trending_date+comment_count+Language, data = Data11)\n",
    "summary(ml2)"
   ]
  },
  {
   "cell_type": "markdown",
   "id": "minus-requirement",
   "metadata": {},
   "source": [
    "- Adding the Language as a predictor slightly increases the explained variance (R-squared 0.2884). The influence of the Language predictor has a significant influence on the amount of views and it's relation with the amount of comments over time. While the fit of the model is rather low, **H2** can be confirmed with the model. "
   ]
  },
  {
   "cell_type": "markdown",
   "id": "extreme-engine",
   "metadata": {},
   "source": [
    "### 5.5 No Comment Testing"
   ]
  },
  {
   "cell_type": "code",
   "execution_count": 565,
   "id": "valued-voluntary",
   "metadata": {
    "scrolled": true
   },
   "outputs": [],
   "source": [
    "#Dataset with disabled comments\n",
    "Data11_1 <- Data10[!(Data10$comments_disabled==\"False\"),]\n",
    "Data11_1$trending_date <- as.Date(Data11_1$trending_date,\n",
    "                          format = \"%y.%d.%m\")\n",
    "\n",
    "#Dataset with disabled comments (numeric)\n",
    "Data11_1_numeric <- Data11[!(Data11$comments_disabled==\"False\"),]\n",
    "\n",
    "#Regular Dataset for comparison\n",
    "Data11_2 <- Data10\n",
    "Data11_2$trending_date <- as.Date(Data11_2$trending_date,\n",
    "                          format = \"%y.%d.%m\")\n",
    "\n",
    "#Regular Dataset for comparison(numeric)\n",
    "Data11_2_numeric <- Data11\n",
    "\n"
   ]
  },
  {
   "cell_type": "markdown",
   "id": "liberal-attention",
   "metadata": {},
   "source": [
    "- To test the data where commenting on the videos is disabled, 2 new dataframes are created with the date in as.Date format. Just as before, this makes the visual comparison easier."
   ]
  },
  {
   "cell_type": "markdown",
   "id": "impressed-spirit",
   "metadata": {},
   "source": [
    "#### 5.5.1 Views and Trending Date"
   ]
  },
  {
   "cell_type": "code",
   "execution_count": 566,
   "id": "little-nursing",
   "metadata": {
    "scrolled": true
   },
   "outputs": [
    {
     "data": {
      "text/plain": [
       "\n",
       "\tPearson's product-moment correlation\n",
       "\n",
       "data:  views and trending_date\n",
       "t = 0.99214, df = 7950, p-value = 0.3212\n",
       "alternative hypothesis: true correlation is not equal to 0\n",
       "95 percent confidence interval:\n",
       " -0.01085581  0.03309817\n",
       "sample estimates:\n",
       "       cor \n",
       "0.01112655 \n"
      ]
     },
     "metadata": {},
     "output_type": "display_data"
    },
    {
     "data": {
      "text/plain": [
       "\n",
       "\tPearson's product-moment correlation\n",
       "\n",
       "data:  views and trending_date\n",
       "t = -0.36158, df = 581, p-value = 0.7178\n",
       "alternative hypothesis: true correlation is not equal to 0\n",
       "95 percent confidence interval:\n",
       " -0.09608623  0.06628523\n",
       "sample estimates:\n",
       "        cor \n",
       "-0.01499939 \n"
      ]
     },
     "metadata": {},
     "output_type": "display_data"
    },
    {
     "data": {
      "text/plain": [
       "\n",
       "\tPearson's product-moment correlation\n",
       "\n",
       "data:  views and trending_date\n",
       "t = 1.1615, df = 1042, p-value = 0.2457\n",
       "alternative hypothesis: true correlation is not equal to 0\n",
       "95 percent confidence interval:\n",
       " -0.02476816  0.09641971\n",
       "sample estimates:\n",
       "       cor \n",
       "0.03595797 \n"
      ]
     },
     "metadata": {},
     "output_type": "display_data"
    },
    {
     "data": {
      "text/plain": [
       "\n",
       "\tPearson's product-moment correlation\n",
       "\n",
       "data:  views and trending_date\n",
       "t = 0.091324, df = 887, p-value = 0.9273\n",
       "alternative hypothesis: true correlation is not equal to 0\n",
       "95 percent confidence interval:\n",
       " -0.06269758  0.06880374\n",
       "sample estimates:\n",
       "        cor \n",
       "0.003066335 \n"
      ]
     },
     "metadata": {},
     "output_type": "display_data"
    },
    {
     "data": {
      "text/plain": [
       "\n",
       "\tPearson's product-moment correlation\n",
       "\n",
       "data:  views and trending_date\n",
       "t = 0.52603, df = 681, p-value = 0.599\n",
       "alternative hypothesis: true correlation is not equal to 0\n",
       "95 percent confidence interval:\n",
       " -0.05494976  0.09502959\n",
       "sample estimates:\n",
       "       cor \n",
       "0.02015329 \n"
      ]
     },
     "metadata": {},
     "output_type": "display_data"
    },
    {
     "data": {
      "text/plain": [
       "\n",
       "\tPearson's product-moment correlation\n",
       "\n",
       "data:  views and trending_date\n",
       "t = 7.1081, df = 1202, p-value = 2.013e-12\n",
       "alternative hypothesis: true correlation is not equal to 0\n",
       "95 percent confidence interval:\n",
       " 0.1460050 0.2544521\n",
       "sample estimates:\n",
       "      cor \n",
       "0.2008438 \n"
      ]
     },
     "metadata": {},
     "output_type": "display_data"
    },
    {
     "data": {
      "text/plain": [
       "\n",
       "\tPearson's product-moment correlation\n",
       "\n",
       "data:  views and trending_date\n",
       "t = 0.23017, df = 1412, p-value = 0.818\n",
       "alternative hypothesis: true correlation is not equal to 0\n",
       "95 percent confidence interval:\n",
       " -0.04601992  0.05823690\n",
       "sample estimates:\n",
       "        cor \n",
       "0.006125136 \n"
      ]
     },
     "metadata": {},
     "output_type": "display_data"
    },
    {
     "data": {
      "text/plain": [
       "\n",
       "\tPearson's product-moment correlation\n",
       "\n",
       "data:  views and trending_date\n",
       "t = 0.33426, df = 438, p-value = 0.7383\n",
       "alternative hypothesis: true correlation is not equal to 0\n",
       "95 percent confidence interval:\n",
       " -0.07763045  0.10929034\n",
       "sample estimates:\n",
       "       cor \n",
       "0.01596947 \n"
      ]
     },
     "metadata": {},
     "output_type": "display_data"
    },
    {
     "data": {
      "text/plain": [
       "\n",
       "\tPearson's product-moment correlation\n",
       "\n",
       "data:  views and trending_date\n",
       "t = 0.51609, df = 1060, p-value = 0.6059\n",
       "alternative hypothesis: true correlation is not equal to 0\n",
       "95 percent confidence interval:\n",
       " -0.04434832  0.07593259\n",
       "sample estimates:\n",
       "       cor \n",
       "0.01584948 \n"
      ]
     },
     "metadata": {},
     "output_type": "display_data"
    },
    {
     "data": {
      "text/plain": [
       "\n",
       "\tPearson's product-moment correlation\n",
       "\n",
       "data:  views and trending_date\n",
       "t = 3.6728, df = 631, p-value = 0.0002602\n",
       "alternative hypothesis: true correlation is not equal to 0\n",
       "95 percent confidence interval:\n",
       " 0.06750726 0.22012147\n",
       "sample estimates:\n",
       "      cor \n",
       "0.1446747 \n"
      ]
     },
     "metadata": {},
     "output_type": "display_data"
    }
   ],
   "source": [
    "#Correlation test with disabled comments dataset\n",
    "cor.test(~views + trending_date, data = Data11_1_numeric)\n",
    "\n",
    "cor.test(~views + trending_date, data = Data11_1_numeric, subset=(Language==\"CA\"))\n",
    "cor.test(~views + trending_date, data = Data11_1_numeric, subset=(Language==\"DE\"))\n",
    "cor.test(~views + trending_date, data = Data11_1_numeric, subset=(Language==\"FR\"))\n",
    "cor.test(~views + trending_date, data = Data11_1_numeric, subset=(Language==\"GB\"))\n",
    "cor.test(~views + trending_date, data = Data11_1_numeric, subset=(Language==\"IN\"))\n",
    "cor.test(~views + trending_date, data = Data11_1_numeric, subset=(Language==\"JP\"))\n",
    "cor.test(~views + trending_date, data = Data11_1_numeric, subset=(Language==\"MX\"))\n",
    "cor.test(~views + trending_date, data = Data11_1_numeric, subset=(Language==\"RU\"))\n",
    "cor.test(~views + trending_date, data = Data11_1_numeric, subset=(Language==\"US\"))"
   ]
  },
  {
   "cell_type": "markdown",
   "id": "fifty-fishing",
   "metadata": {},
   "source": [
    "- Correlation test for views and trending date, with videos where comments are disabled. "
   ]
  },
  {
   "cell_type": "markdown",
   "id": "massive-conviction",
   "metadata": {},
   "source": [
    "- Overall=0.06415547                -> 0.01112655 (p-value =0.3212)\n",
    "- CA=0.006967309 (p-value = 0.1589) -> -0.01499939 (p-value = 0.7178)\n",
    "- DE=0.03392265                     -> 0.03595797 (p-value = 0.2457)\n",
    "- FR=0.03672858                     -> 0.003066335 (p-value = 0.9273)\n",
    "- GB=0.1600131                      -> 0.02015329 (p-value = 0.599)\n",
    "- IN=0.06482621                     -> 0.2008438 \n",
    "- JP=0.032617                       -> 0.006125136  (p-value = 0.818)\n",
    "- MX=0.009931378                    -> 0.01596947 (p-value = 0.7383)\n",
    "- RU=0.04049262                     -> 0.01584948 (p-value = 0.6059)\n",
    "- US=0.17589 -> 0.1446747 "
   ]
  },
  {
   "cell_type": "markdown",
   "id": "phantom-belle",
   "metadata": {},
   "source": [
    "- Re-testing the correlation between views and trending date with the data set that only includes videos where comments are disabled. The correlation seems to have dropped overall. The amount of views has increased for IN videos and only decreased slightly for US. With the exception of IN and US all results are not significant and should be only be used carefully. **H3** could therefore not be confirmed.  "
   ]
  },
  {
   "cell_type": "markdown",
   "id": "green-appeal",
   "metadata": {},
   "source": [
    "### 5.5.2 Multiple Linear Regression"
   ]
  },
  {
   "cell_type": "code",
   "execution_count": 567,
   "id": "julian-dylan",
   "metadata": {
    "scrolled": false
   },
   "outputs": [
    {
     "data": {
      "text/plain": [
       "\n",
       "Call:\n",
       "lm(formula = views ~ trending_date + Language, data = Data11_1)\n",
       "\n",
       "Residuals:\n",
       "     Min       1Q   Median       3Q      Max \n",
       "-5168817  -533591  -244739   -24063 57254625 \n",
       "\n",
       "Coefficients:\n",
       "                Estimate Std. Error t value Pr(>|t|)    \n",
       "(Intercept)   -4.388e+07  1.650e+07  -2.659 0.007862 ** \n",
       "trending_date  2.566e+03  9.381e+02   2.736 0.006236 ** \n",
       "LanguageDE    -6.792e+05  2.417e+05  -2.810 0.004974 ** \n",
       "LanguageFR    -8.783e+05  2.489e+05  -3.528 0.000421 ***\n",
       "LanguageGB     3.778e+06  2.634e+05  14.346  < 2e-16 ***\n",
       "LanguageIN    -7.572e+05  2.364e+05  -3.203 0.001364 ** \n",
       "LanguageJP    -1.190e+06  2.320e+05  -5.130 2.96e-07 ***\n",
       "LanguageMX    -7.376e+05  2.950e+05  -2.501 0.012412 *  \n",
       "LanguageRU    -1.073e+06  2.407e+05  -4.455 8.51e-06 ***\n",
       "LanguageUS     1.271e+06  2.682e+05   4.737 2.20e-06 ***\n",
       "---\n",
       "Signif. codes:  0 '***' 0.001 '**' 0.01 '*' 0.05 '.' 0.1 ' ' 1\n",
       "\n",
       "Residual standard error: 4670000 on 7942 degrees of freedom\n",
       "Multiple R-squared:  0.08191,\tAdjusted R-squared:  0.08087 \n",
       "F-statistic: 78.73 on 9 and 7942 DF,  p-value: < 2.2e-16\n"
      ]
     },
     "metadata": {},
     "output_type": "display_data"
    }
   ],
   "source": [
    "ml3 <- lm(views~trending_date+Language, data = Data11_1)\n",
    "summary(ml3)"
   ]
  },
  {
   "cell_type": "markdown",
   "id": "particular-prison",
   "metadata": {},
   "source": [
    "- The model fit and significance levels decreased drastically. "
   ]
  },
  {
   "cell_type": "code",
   "execution_count": 568,
   "id": "monetary-webcam",
   "metadata": {
    "scrolled": false
   },
   "outputs": [
    {
     "name": "stderr",
     "output_type": "stream",
     "text": [
      "`geom_smooth()` using method = 'loess' and formula 'y ~ x'\n",
      "\n",
      "`geom_smooth()` using formula 'y ~ x'\n",
      "\n",
      "Warning message:\n",
      "\"Removed 205 rows containing missing values (geom_segment).\"\n"
     ]
    },
    {
     "data": {
      "image/png": "[encoded data removed]",
      "text/plain": [
       "plot without title"
      ]
     },
     "metadata": {
      "image/png": {
       "height": 420,
       "width": 420
      }
     },
     "output_type": "display_data"
    },
    {
     "name": "stderr",
     "output_type": "stream",
     "text": [
      "`geom_smooth()` using method = 'loess' and formula 'y ~ x'\n",
      "\n"
     ]
    },
    {
     "data": {
      "image/png": "[encoded data removed]",
      "text/plain": [
       "plot without title"
      ]
     },
     "metadata": {
      "image/png": {
       "height": 420,
       "width": 420
      }
     },
     "output_type": "display_data"
    },
    {
     "name": "stderr",
     "output_type": "stream",
     "text": [
      "`geom_smooth()` using formula 'y ~ x'\n",
      "\n",
      "Warning message:\n",
      "\"Removed 205 rows containing missing values (geom_segment).\"\n"
     ]
    },
    {
     "data": {
      "image/png": "[encoded data removed]",
      "text/plain": [
       "plot without title"
      ]
     },
     "metadata": {
      "image/png": {
       "height": 420,
       "width": 420
      }
     },
     "output_type": "display_data"
    },
    {
     "data": {
      "image/png": "[encoded data removed]",
      "text/plain": [
       "plot without title"
      ]
     },
     "metadata": {
      "image/png": {
       "height": 420,
       "width": 420
      }
     },
     "output_type": "display_data"
    }
   ],
   "source": [
    "#Dataset with disabled comments\n",
    "Data11_avg <- Data11_1 %>% \n",
    "      group_by(trending_date) %>%\n",
    "      summarize(views_avg=mean(views))\n",
    "Data11_avg %>%\n",
    "        ggplot(aes(x = trending_date, y = views_avg, color_Language)) + \n",
    "        geom_point() + geom_smooth()\n",
    "Data11_avg %>%\n",
    "    ggplot(aes(trending_date, views_avg)) + stat_summary(fun = mean) + geom_smooth(method='lm', se=F)\n",
    "\n",
    "#Regular Dataset\n",
    "Data11_avg <- Data11_2 %>% \n",
    "      group_by(trending_date) %>%\n",
    "      summarize(views_avg=mean(views))\n",
    "Data11_avg %>%\n",
    "        ggplot(aes(x = trending_date, y = views_avg, color_Language)) + \n",
    "        geom_point() + geom_smooth()\n",
    "Data11_avg %>%\n",
    "    ggplot(aes(trending_date, views_avg)) + stat_summary(fun = mean) + geom_smooth(method='lm', se=F)\n"
   ]
  },
  {
   "cell_type": "markdown",
   "id": "electrical-seating",
   "metadata": {},
   "source": [
    "- The visualisation seems to support the results. Comparing the distribution of the average views in relation to the date, seems to completely change the distribution. So if comments are disabled, does that mean the \"success\" the video has is automatically limited or simply very unpredictable?"
   ]
  },
  {
   "cell_type": "markdown",
   "id": "embedded-oriental",
   "metadata": {},
   "source": [
    "### 5.6 Mixed Modeling"
   ]
  },
  {
   "cell_type": "code",
   "execution_count": 569,
   "id": "jewish-intersection",
   "metadata": {
    "scrolled": true
   },
   "outputs": [
    {
     "data": {
      "text/plain": [
       "Linear mixed model fit by REML ['lmerMod']\n",
       "Formula: views ~ 1 + (1 | comment_count)\n",
       "   Data: Data11\n",
       "\n",
       "REML criterion at convergence: 10998781\n",
       "\n",
       "Scaled residuals: \n",
       "    Min      1Q  Median      3Q     Max \n",
       "-35.676  -0.107  -0.029   0.019  49.831 \n",
       "\n",
       "Random effects:\n",
       " Groups        Name        Variance  Std.Dev.\n",
       " comment_count (Intercept) 5.183e+14 22765226\n",
       " Residual                  3.723e+12  1929423\n",
       "Number of obs: 341375, groups:  comment_count, 24318\n",
       "\n",
       "Fixed effects:\n",
       "            Estimate Std. Error t value\n",
       "(Intercept)  8869375     146259   60.64"
      ]
     },
     "metadata": {},
     "output_type": "display_data"
    },
    {
     "data": {
      "text/plain": [
       "Linear mixed model fit by REML ['lmerMod']\n",
       "Formula: views ~ 1 + (1 | comment_count) + trending_date\n",
       "   Data: Data11\n",
       "\n",
       "REML criterion at convergence: 10998227\n",
       "\n",
       "Scaled residuals: \n",
       "    Min      1Q  Median      3Q     Max \n",
       "-35.710  -0.118  -0.031   0.036  49.899 \n",
       "\n",
       "Random effects:\n",
       " Groups        Name        Variance  Std.Dev.\n",
       " comment_count (Intercept) 5.179e+14 22757997\n",
       " Residual                  3.716e+12  1927820\n",
       "Number of obs: 341375, groups:  comment_count, 24318\n",
       "\n",
       "Fixed effects:\n",
       "                Estimate Std. Error t value\n",
       "(Intercept)   -1.458e+07  1.016e+06  -14.35\n",
       "trending_date  1.332e+03  5.712e+01   23.32\n",
       "\n",
       "Correlation of Fixed Effects:\n",
       "            (Intr)\n",
       "trending_dt -0.990"
      ]
     },
     "metadata": {},
     "output_type": "display_data"
    },
    {
     "data": {
      "text/plain": [
       "Linear mixed model fit by REML ['lmerMod']\n",
       "Formula: views ~ 1 + (1 | comment_count) + trending_date + Language\n",
       "   Data: Data11\n",
       "\n",
       "REML criterion at convergence: 10988914\n",
       "\n",
       "Scaled residuals: \n",
       "    Min      1Q  Median      3Q     Max \n",
       "-36.011  -0.127  -0.014   0.082  50.231 \n",
       "\n",
       "Random effects:\n",
       " Groups        Name        Variance  Std.Dev.\n",
       " comment_count (Intercept) 5.119e+14 22624190\n",
       " Residual                  3.614e+12  1901096\n",
       "Number of obs: 341375, groups:  comment_count, 24318\n",
       "\n",
       "Fixed effects:\n",
       "                Estimate Std. Error t value\n",
       "(Intercept)   -2.551e+07  1.026e+06 -24.862\n",
       "trending_date  1.931e+03  5.768e+01  33.469\n",
       "LanguageDE    -4.186e+04  1.379e+04  -3.036\n",
       "LanguageFR    -3.983e+04  1.392e+04  -2.863\n",
       "LanguageGB     1.039e+06  1.464e+04  70.989\n",
       "LanguageIN     2.795e+05  1.423e+04  19.643\n",
       "LanguageJP    -1.637e+05  1.731e+04  -9.457\n",
       "LanguageMX    -1.080e+05  1.407e+04  -7.677\n",
       "LanguageRU    -1.758e+05  1.393e+04 -12.626\n",
       "LanguageUS     2.590e+05  1.401e+04  18.483\n",
       "\n",
       "Correlation of Fixed Effects:\n",
       "            (Intr) trndn_ LnggDE LnggFR LnggGB LnggIN LnggJP LnggMX LnggRU\n",
       "trending_dt -0.990                                                        \n",
       "LanguageDE   0.012 -0.019                                                 \n",
       "LanguageFR   0.020 -0.026  0.525                                          \n",
       "LanguageGB  -0.055  0.047  0.457  0.452                                   \n",
       "LanguageIN   0.006 -0.013  0.506  0.512  0.446                            \n",
       "LanguageJP   0.165 -0.172  0.433  0.444  0.358  0.423                     \n",
       "LanguageMX   0.021 -0.028  0.522  0.531  0.449  0.510  0.444              \n",
       "LanguageRU   0.014 -0.020  0.522  0.527  0.457  0.510  0.437  0.526       \n",
       "LanguageUS  -0.035  0.028  0.476  0.471  0.481  0.464  0.376  0.468  0.475"
      ]
     },
     "metadata": {},
     "output_type": "display_data"
    }
   ],
   "source": [
    "mixed_ml0 <- lmer(views ~ 1 + (1|comment_count), data=Data11)\n",
    "summary(mixed_ml0)\n",
    "\n",
    "mixed_ml1 <- lmer(views ~ 1 + (1|comment_count) + trending_date, data=Data11)\n",
    "summary(mixed_ml1)\n",
    "\n",
    "mixed_ml2 <- lmer(views ~ 1 + (1|comment_count) + trending_date + Language, data=Data11)\n",
    "summary(mixed_ml2)"
   ]
  },
  {
   "cell_type": "code",
   "execution_count": 570,
   "id": "cardiovascular-feeling",
   "metadata": {
    "scrolled": false
   },
   "outputs": [
    {
     "name": "stderr",
     "output_type": "stream",
     "text": [
      "refitting model(s) with ML (instead of REML)\n",
      "\n"
     ]
    },
    {
     "data": {
      "text/html": [
       "<table class=\"dataframe\">\n",
       "<caption>A anova: 3 × 8</caption>\n",
       "<thead>\n",
       "\t<tr><th></th><th scope=col>npar</th><th scope=col>AIC</th><th scope=col>BIC</th><th scope=col>logLik</th><th scope=col>deviance</th><th scope=col>Chisq</th><th scope=col>Df</th><th scope=col>Pr(&gt;Chisq)</th></tr>\n",
       "\t<tr><th></th><th scope=col>&lt;dbl&gt;</th><th scope=col>&lt;dbl&gt;</th><th scope=col>&lt;dbl&gt;</th><th scope=col>&lt;dbl&gt;</th><th scope=col>&lt;dbl&gt;</th><th scope=col>&lt;dbl&gt;</th><th scope=col>&lt;dbl&gt;</th><th scope=col>&lt;dbl&gt;</th></tr>\n",
       "</thead>\n",
       "<tbody>\n",
       "\t<tr><th scope=row>mixed_ml0</th><td> 3</td><td>10998812</td><td>10998844</td><td>-5499403</td><td>10998806</td><td>       NA</td><td>NA</td><td>          NA</td></tr>\n",
       "\t<tr><th scope=row>mixed_ml1</th><td> 4</td><td>10998271</td><td>10998314</td><td>-5499131</td><td>10998263</td><td> 543.3616</td><td> 1</td><td>3.50046e-120</td></tr>\n",
       "\t<tr><th scope=row>mixed_ml2</th><td>12</td><td>10989139</td><td>10989267</td><td>-5494557</td><td>10989115</td><td>9148.3178</td><td> 8</td><td> 0.00000e+00</td></tr>\n",
       "</tbody>\n",
       "</table>\n"
      ],
      "text/latex": [
       "A anova: 3 × 8\n",
       "\\begin{tabular}{r|llllllll}\n",
       "  & npar & AIC & BIC & logLik & deviance & Chisq & Df & Pr(>Chisq)\\\\\n",
       "  & <dbl> & <dbl> & <dbl> & <dbl> & <dbl> & <dbl> & <dbl> & <dbl>\\\\\n",
       "\\hline\n",
       "\tmixed\\_ml0 &  3 & 10998812 & 10998844 & -5499403 & 10998806 &        NA & NA &           NA\\\\\n",
       "\tmixed\\_ml1 &  4 & 10998271 & 10998314 & -5499131 & 10998263 &  543.3616 &  1 & 3.50046e-120\\\\\n",
       "\tmixed\\_ml2 & 12 & 10989139 & 10989267 & -5494557 & 10989115 & 9148.3178 &  8 &  0.00000e+00\\\\\n",
       "\\end{tabular}\n"
      ],
      "text/markdown": [
       "\n",
       "A anova: 3 × 8\n",
       "\n",
       "| <!--/--> | npar &lt;dbl&gt; | AIC &lt;dbl&gt; | BIC &lt;dbl&gt; | logLik &lt;dbl&gt; | deviance &lt;dbl&gt; | Chisq &lt;dbl&gt; | Df &lt;dbl&gt; | Pr(&gt;Chisq) &lt;dbl&gt; |\n",
       "|---|---|---|---|---|---|---|---|---|\n",
       "| mixed_ml0 |  3 | 10998812 | 10998844 | -5499403 | 10998806 |        NA | NA |           NA |\n",
       "| mixed_ml1 |  4 | 10998271 | 10998314 | -5499131 | 10998263 |  543.3616 |  1 | 3.50046e-120 |\n",
       "| mixed_ml2 | 12 | 10989139 | 10989267 | -5494557 | 10989115 | 9148.3178 |  8 |  0.00000e+00 |\n",
       "\n"
      ],
      "text/plain": [
       "          npar AIC      BIC      logLik   deviance Chisq     Df Pr(>Chisq)  \n",
       "mixed_ml0  3   10998812 10998844 -5499403 10998806        NA NA           NA\n",
       "mixed_ml1  4   10998271 10998314 -5499131 10998263  543.3616  1 3.50046e-120\n",
       "mixed_ml2 12   10989139 10989267 -5494557 10989115 9148.3178  8  0.00000e+00"
      ]
     },
     "metadata": {},
     "output_type": "display_data"
    }
   ],
   "source": [
    "anova(mixed_ml0, mixed_ml1, mixed_ml2)"
   ]
  },
  {
   "cell_type": "markdown",
   "id": "organizational-kennedy",
   "metadata": {},
   "source": [
    "- The AIC shows, that the addition of the trending date (mixed_ml1) as well as the addition of language (mixed_ml2) decreases the accuracy of the model."
   ]
  },
  {
   "cell_type": "code",
   "execution_count": 571,
   "id": "colored-luther",
   "metadata": {
    "scrolled": true
   },
   "outputs": [
    {
     "data": {
      "text/plain": [
       "                  Df    Sum Sq   Mean Sq F value Pr(>F)    \n",
       "comment_count      1 4.821e+18 4.821e+18  123610 <2e-16 ***\n",
       "trending_date      1 4.502e+16 4.502e+16    1154 <2e-16 ***\n",
       "Language           8 5.296e+17 6.620e+16    1697 <2e-16 ***\n",
       "Residuals     341364 1.331e+19 3.900e+13                   \n",
       "---\n",
       "Signif. codes:  0 '***' 0.001 '**' 0.01 '*' 0.05 '.' 0.1 ' ' 1"
      ]
     },
     "metadata": {},
     "output_type": "display_data"
    },
    {
     "data": {
      "text/plain": [
       "                                         Df    Sum Sq   Mean Sq  F value Pr(>F)\n",
       "comment_count                             1 4.821e+18 4.821e+18 132683.7 <2e-16\n",
       "Language                                  8 5.130e+17 6.412e+16   1764.9 <2e-16\n",
       "trending_date                             1 6.160e+16 6.160e+16   1695.5 <2e-16\n",
       "comment_count:Language                    8 2.829e+17 3.536e+16    973.3 <2e-16\n",
       "comment_count:trending_date               1 2.824e+17 2.824e+17   7772.2 <2e-16\n",
       "Language:trending_date                    8 1.441e+17 1.802e+16    495.9 <2e-16\n",
       "comment_count:Language:trending_date      8 2.020e+17 2.525e+16    694.8 <2e-16\n",
       "Residuals                            341339 1.240e+19 3.633e+13                \n",
       "                                        \n",
       "comment_count                        ***\n",
       "Language                             ***\n",
       "trending_date                        ***\n",
       "comment_count:Language               ***\n",
       "comment_count:trending_date          ***\n",
       "Language:trending_date               ***\n",
       "comment_count:Language:trending_date ***\n",
       "Residuals                               \n",
       "---\n",
       "Signif. codes:  0 '***' 0.001 '**' 0.01 '*' 0.05 '.' 0.1 ' ' 1"
      ]
     },
     "metadata": {},
     "output_type": "display_data"
    }
   ],
   "source": [
    "Data11_anova <- aov(views ~ comment_count + trending_date + Language, data = Data11)\n",
    "summary(Data11_anova)\n",
    "\n",
    "Data11_anova_1 <- aov(views ~ comment_count * Language * trending_date, data = Data11)\n",
    "summary(Data11_anova_1)"
   ]
  },
  {
   "cell_type": "markdown",
   "id": "solid-incidence",
   "metadata": {},
   "source": [
    "- The anova shows that all predictors have a signficant interaction with each other. "
   ]
  },
  {
   "cell_type": "markdown",
   "id": "loaded-reason",
   "metadata": {},
   "source": [
    "## 6. Training Model to Predict Views"
   ]
  },
  {
   "cell_type": "markdown",
   "id": "affecting-conversion",
   "metadata": {},
   "source": [
    "### 6.1 Simple Model"
   ]
  },
  {
   "cell_type": "code",
   "execution_count": 572,
   "id": "measured-equity",
   "metadata": {
    "scrolled": true
   },
   "outputs": [
    {
     "data": {
      "text/plain": [
       "\n",
       "Call:\n",
       "lm(formula = views ~ comment_count, data = Data11)\n",
       "\n",
       "Coefficients:\n",
       "  (Intercept)  comment_count  \n",
       "     765788.4          145.6  \n"
      ]
     },
     "metadata": {},
     "output_type": "display_data"
    }
   ],
   "source": [
    "model <- lm(views ~ comment_count, data = Data11)\n",
    "model"
   ]
  },
  {
   "cell_type": "code",
   "execution_count": 573,
   "id": "foster-savannah",
   "metadata": {
    "scrolled": false
   },
   "outputs": [
    {
     "data": {
      "text/plain": [
       "   Min. 1st Qu.  Median    Mean 3rd Qu.    Max. \n",
       "      0     109     541    4479    2199 1626501 "
      ]
     },
     "metadata": {},
     "output_type": "display_data"
    },
    {
     "data": {
      "text/html": [
       "<style>\n",
       ".dl-inline {width: auto; margin:0; padding: 0}\n",
       ".dl-inline>dt, .dl-inline>dd {float: none; width: auto; display: inline-block}\n",
       ".dl-inline>dt::after {content: \":\\0020\"; padding-right: .5ex}\n",
       ".dl-inline>dt:not(:first-of-type) {padding-left: .5ex}\n",
       "</style><dl class=dl-inline><dt>1</dt><dd>765788.387127374</dd><dt>2</dt><dd>911360.05555173</dd><dt>3</dt><dd>2221505.07137093</dd><dt>4</dt><dd>15322955.2295629</dd><dt>5</dt><dd>146337456.811483</dd></dl>\n"
      ],
      "text/latex": [
       "\\begin{description*}\n",
       "\\item[1] 765788.387127374\n",
       "\\item[2] 911360.05555173\n",
       "\\item[3] 2221505.07137093\n",
       "\\item[4] 15322955.2295629\n",
       "\\item[5] 146337456.811483\n",
       "\\end{description*}\n"
      ],
      "text/markdown": [
       "1\n",
       ":   765788.3871273742\n",
       ":   911360.055551733\n",
       ":   2221505.071370934\n",
       ":   15322955.22956295\n",
       ":   146337456.811483\n",
       "\n"
      ],
      "text/plain": [
       "          1           2           3           4           5 \n",
       "   765788.4    911360.1   2221505.1  15322955.2 146337456.8 "
      ]
     },
     "metadata": {},
     "output_type": "display_data"
    },
    {
     "data": {
      "text/html": [
       "<table class=\"dataframe\">\n",
       "<caption>A matrix: 5 × 3 of type dbl</caption>\n",
       "<thead>\n",
       "\t<tr><th></th><th scope=col>fit</th><th scope=col>lwr</th><th scope=col>upr</th></tr>\n",
       "</thead>\n",
       "<tbody>\n",
       "\t<tr><th scope=row>1</th><td>   765788.4</td><td>   744072.6</td><td>   787504.2</td></tr>\n",
       "\t<tr><th scope=row>2</th><td>   911360.1</td><td>   889770.5</td><td>   932949.6</td></tr>\n",
       "\t<tr><th scope=row>3</th><td>  2221505.1</td><td>  2199625.2</td><td>  2243384.9</td></tr>\n",
       "\t<tr><th scope=row>4</th><td> 15322955.2</td><td> 15240943.9</td><td> 15404966.6</td></tr>\n",
       "\t<tr><th scope=row>5</th><td>146337456.8</td><td>145512053.7</td><td>147162860.0</td></tr>\n",
       "</tbody>\n",
       "</table>\n"
      ],
      "text/latex": [
       "A matrix: 5 × 3 of type dbl\n",
       "\\begin{tabular}{r|lll}\n",
       "  & fit & lwr & upr\\\\\n",
       "\\hline\n",
       "\t1 &    765788.4 &    744072.6 &    787504.2\\\\\n",
       "\t2 &    911360.1 &    889770.5 &    932949.6\\\\\n",
       "\t3 &   2221505.1 &   2199625.2 &   2243384.9\\\\\n",
       "\t4 &  15322955.2 &  15240943.9 &  15404966.6\\\\\n",
       "\t5 & 146337456.8 & 145512053.7 & 147162860.0\\\\\n",
       "\\end{tabular}\n"
      ],
      "text/markdown": [
       "\n",
       "A matrix: 5 × 3 of type dbl\n",
       "\n",
       "| <!--/--> | fit | lwr | upr |\n",
       "|---|---|---|---|\n",
       "| 1 |    765788.4 |    744072.6 |    787504.2 |\n",
       "| 2 |    911360.1 |    889770.5 |    932949.6 |\n",
       "| 3 |   2221505.1 |   2199625.2 |   2243384.9 |\n",
       "| 4 |  15322955.2 |  15240943.9 |  15404966.6 |\n",
       "| 5 | 146337456.8 | 145512053.7 | 147162860.0 |\n",
       "\n"
      ],
      "text/plain": [
       "  fit         lwr         upr        \n",
       "1    765788.4    744072.6    787504.2\n",
       "2    911360.1    889770.5    932949.6\n",
       "3   2221505.1   2199625.2   2243384.9\n",
       "4  15322955.2  15240943.9  15404966.6\n",
       "5 146337456.8 145512053.7 147162860.0"
      ]
     },
     "metadata": {},
     "output_type": "display_data"
    }
   ],
   "source": [
    "summary(Data11$comment_count)\n",
    "\n",
    "new.comment_count <- data.frame(comment_count = c(0, 1000, 10000, 100000, 1000000))\n",
    "\n",
    "predict(model, newdata = new.comment_count)\n",
    "\n",
    "predict(model, newdata = new.comment_count, interval = \"confidence\")"
   ]
  },
  {
   "cell_type": "markdown",
   "id": "provincial-bennett",
   "metadata": {},
   "source": [
    "- This model gives us an approximation of the amount views a video will generate based on the amount of comments. The data is based on the datset itself with a random set of comment counts. "
   ]
  },
  {
   "cell_type": "markdown",
   "id": "comprehensive-pizza",
   "metadata": {},
   "source": [
    "### 6.2 Training Data Set Model"
   ]
  },
  {
   "cell_type": "code",
   "execution_count": 574,
   "id": "considerable-geology",
   "metadata": {
    "scrolled": true
   },
   "outputs": [
    {
     "data": {
      "text/html": [
       "<table class=\"dataframe\">\n",
       "<caption>A data.frame: 341375 × 10</caption>\n",
       "<thead>\n",
       "\t<tr><th></th><th scope=col>Language</th><th scope=col>trending_date</th><th scope=col>views</th><th scope=col>likes</th><th scope=col>dislikes</th><th scope=col>comment_count</th><th scope=col>comments_disabled</th><th scope=col>ratings_disabled</th><th scope=col>video_error_or_removed</th><th scope=col>views_med</th></tr>\n",
       "\t<tr><th></th><th scope=col>&lt;chr&gt;</th><th scope=col>&lt;dbl&gt;</th><th scope=col>&lt;dbl&gt;</th><th scope=col>&lt;int&gt;</th><th scope=col>&lt;int&gt;</th><th scope=col>&lt;int&gt;</th><th scope=col>&lt;chr&gt;</th><th scope=col>&lt;chr&gt;</th><th scope=col>&lt;chr&gt;</th><th scope=col>&lt;dbl&gt;</th></tr>\n",
       "</thead>\n",
       "<tbody>\n",
       "\t<tr><th scope=row>1</th><td>CA</td><td>17484</td><td>17158579</td><td> 787425</td><td> 43420</td><td>125882</td><td>False</td><td>False</td><td>False</td><td>1</td></tr>\n",
       "\t<tr><th scope=row>2</th><td>CA</td><td>17484</td><td> 1014651</td><td> 127794</td><td>  1688</td><td> 13030</td><td>False</td><td>False</td><td>False</td><td>1</td></tr>\n",
       "\t<tr><th scope=row>3</th><td>CA</td><td>17484</td><td> 3191434</td><td> 146035</td><td>  5339</td><td>  8181</td><td>False</td><td>False</td><td>False</td><td>1</td></tr>\n",
       "\t<tr><th scope=row>4</th><td>CA</td><td>17484</td><td> 2095828</td><td> 132239</td><td>  1989</td><td> 17518</td><td>False</td><td>False</td><td>False</td><td>1</td></tr>\n",
       "\t<tr><th scope=row>5</th><td>CA</td><td>17484</td><td>33523622</td><td>1634130</td><td> 21082</td><td> 85067</td><td>False</td><td>False</td><td>False</td><td>1</td></tr>\n",
       "\t<tr><th scope=row>6</th><td>CA</td><td>17484</td><td> 1309699</td><td> 103755</td><td>  4613</td><td> 12143</td><td>False</td><td>False</td><td>False</td><td>1</td></tr>\n",
       "\t<tr><th scope=row>7</th><td>CA</td><td>17484</td><td> 2987945</td><td> 187464</td><td>  9850</td><td> 26629</td><td>False</td><td>False</td><td>False</td><td>1</td></tr>\n",
       "\t<tr><th scope=row>8</th><td>CA</td><td>17484</td><td>  748374</td><td>  57534</td><td>  2967</td><td> 15959</td><td>False</td><td>False</td><td>False</td><td>1</td></tr>\n",
       "\t<tr><th scope=row>9</th><td>CA</td><td>17484</td><td> 4477587</td><td> 292837</td><td>  4123</td><td> 36391</td><td>False</td><td>False</td><td>False</td><td>1</td></tr>\n",
       "\t<tr><th scope=row>10</th><td>CA</td><td>17484</td><td>  505161</td><td>   4135</td><td>   976</td><td>  1484</td><td>False</td><td>False</td><td>False</td><td>1</td></tr>\n",
       "\t<tr><th scope=row>11</th><td>CA</td><td>17484</td><td> 5068229</td><td> 263596</td><td>  8585</td><td> 28976</td><td>False</td><td>False</td><td>False</td><td>1</td></tr>\n",
       "\t<tr><th scope=row>12</th><td>CA</td><td>17484</td><td> 3153224</td><td>  28451</td><td>  2285</td><td>  3312</td><td>False</td><td>False</td><td>False</td><td>1</td></tr>\n",
       "\t<tr><th scope=row>13</th><td>CA</td><td>17484</td><td>  158815</td><td>    218</td><td>    30</td><td>   186</td><td>False</td><td>False</td><td>False</td><td>0</td></tr>\n",
       "\t<tr><th scope=row>14</th><td>CA</td><td>17484</td><td> 5718766</td><td> 127477</td><td>  7134</td><td>  8063</td><td>False</td><td>False</td><td>False</td><td>1</td></tr>\n",
       "\t<tr><th scope=row>15</th><td>CA</td><td>17484</td><td>  960747</td><td>  31810</td><td>   668</td><td>  5335</td><td>False</td><td>False</td><td>False</td><td>1</td></tr>\n",
       "\t<tr><th scope=row>16</th><td>CA</td><td>17484</td><td> 1531218</td><td>  53961</td><td>  1697</td><td>  4277</td><td>False</td><td>False</td><td>False</td><td>1</td></tr>\n",
       "\t<tr><th scope=row>17</th><td>CA</td><td>17484</td><td>  557883</td><td>  44558</td><td>   621</td><td>  9619</td><td>False</td><td>False</td><td>False</td><td>1</td></tr>\n",
       "\t<tr><th scope=row>18</th><td>CA</td><td>17484</td><td> 1496225</td><td>  16116</td><td>   236</td><td>   605</td><td>False</td><td>False</td><td>False</td><td>1</td></tr>\n",
       "\t<tr><th scope=row>19</th><td>CA</td><td>17484</td><td>  308568</td><td>  19541</td><td>    70</td><td>   495</td><td>False</td><td>False</td><td>False</td><td>1</td></tr>\n",
       "\t<tr><th scope=row>20</th><td>CA</td><td>17484</td><td> 1096327</td><td>  33966</td><td>   798</td><td>   882</td><td>False</td><td>False</td><td>False</td><td>1</td></tr>\n",
       "\t<tr><th scope=row>21</th><td>CA</td><td>17484</td><td>  817732</td><td>  23663</td><td>   778</td><td>  3432</td><td>False</td><td>False</td><td>False</td><td>1</td></tr>\n",
       "\t<tr><th scope=row>22</th><td>CA</td><td>17484</td><td>  343168</td><td>  10172</td><td>   666</td><td>  2146</td><td>False</td><td>False</td><td>False</td><td>1</td></tr>\n",
       "\t<tr><th scope=row>23</th><td>CA</td><td>17484</td><td> 3905245</td><td>  53072</td><td>  2437</td><td>  1979</td><td>False</td><td>False</td><td>False</td><td>1</td></tr>\n",
       "\t<tr><th scope=row>24</th><td>CA</td><td>17484</td><td> 4204818</td><td> 187890</td><td>167908</td><td> 77348</td><td>False</td><td>False</td><td>False</td><td>1</td></tr>\n",
       "\t<tr><th scope=row>25</th><td>CA</td><td>17484</td><td>  549374</td><td>  16832</td><td>   248</td><td>  3579</td><td>False</td><td>False</td><td>False</td><td>1</td></tr>\n",
       "\t<tr><th scope=row>26</th><td>CA</td><td>17484</td><td>  348841</td><td>  27089</td><td>   162</td><td>  2099</td><td>False</td><td>False</td><td>False</td><td>1</td></tr>\n",
       "\t<tr><th scope=row>27</th><td>CA</td><td>17484</td><td>  370827</td><td>  12150</td><td>   325</td><td>  2352</td><td>False</td><td>False</td><td>False</td><td>1</td></tr>\n",
       "\t<tr><th scope=row>28</th><td>CA</td><td>17484</td><td>  653398</td><td>  27773</td><td>  2778</td><td>  3976</td><td>False</td><td>False</td><td>False</td><td>1</td></tr>\n",
       "\t<tr><th scope=row>29</th><td>CA</td><td>17484</td><td>   92280</td><td>  11045</td><td>   182</td><td>  1412</td><td>False</td><td>False</td><td>False</td><td>0</td></tr>\n",
       "\t<tr><th scope=row>30</th><td>CA</td><td>17484</td><td>  178447</td><td>   4339</td><td>    96</td><td>   876</td><td>False</td><td>False</td><td>False</td><td>0</td></tr>\n",
       "\t<tr><th scope=row>...</th><td>...</td><td>...</td><td>...</td><td>...</td><td>...</td><td>...</td><td>...</td><td>...</td><td>...</td><td>...</td></tr>\n",
       "\t<tr><th scope=row>341346</th><td>RU</td><td>17696</td><td> 20151</td><td>  396</td><td> 21</td><td>  51</td><td>False</td><td>False</td><td>False</td><td>0</td></tr>\n",
       "\t<tr><th scope=row>341347</th><td>RU</td><td>17696</td><td> 59781</td><td> 1221</td><td> 81</td><td>  34</td><td>False</td><td>False</td><td>False</td><td>0</td></tr>\n",
       "\t<tr><th scope=row>341348</th><td>RU</td><td>17696</td><td>101061</td><td>10052</td><td>278</td><td> 965</td><td>False</td><td>False</td><td>False</td><td>0</td></tr>\n",
       "\t<tr><th scope=row>341349</th><td>RU</td><td>17696</td><td> 64124</td><td> 3512</td><td>129</td><td> 568</td><td>False</td><td>False</td><td>False</td><td>0</td></tr>\n",
       "\t<tr><th scope=row>341350</th><td>RU</td><td>17696</td><td> 17102</td><td> 1492</td><td> 13</td><td> 102</td><td>False</td><td>False</td><td>False</td><td>0</td></tr>\n",
       "\t<tr><th scope=row>341351</th><td>RU</td><td>17696</td><td>121648</td><td> 2501</td><td> 59</td><td> 207</td><td>False</td><td>False</td><td>False</td><td>0</td></tr>\n",
       "\t<tr><th scope=row>341352</th><td>RU</td><td>17696</td><td> 78982</td><td>  712</td><td>124</td><td>   0</td><td>True </td><td>False</td><td>False</td><td>0</td></tr>\n",
       "\t<tr><th scope=row>341353</th><td>RU</td><td>17696</td><td> 45543</td><td>  532</td><td> 81</td><td> 159</td><td>False</td><td>False</td><td>False</td><td>0</td></tr>\n",
       "\t<tr><th scope=row>341354</th><td>RU</td><td>17696</td><td> 59388</td><td> 5664</td><td>200</td><td>1076</td><td>False</td><td>False</td><td>False</td><td>0</td></tr>\n",
       "\t<tr><th scope=row>341355</th><td>RU</td><td>17696</td><td> 50546</td><td> 2834</td><td> 45</td><td>  98</td><td>False</td><td>False</td><td>False</td><td>0</td></tr>\n",
       "\t<tr><th scope=row>341356</th><td>RU</td><td>17696</td><td> 66023</td><td>10014</td><td>801</td><td>1525</td><td>False</td><td>False</td><td>False</td><td>0</td></tr>\n",
       "\t<tr><th scope=row>341357</th><td>RU</td><td>17696</td><td> 30149</td><td> 2032</td><td> 33</td><td> 395</td><td>False</td><td>False</td><td>False</td><td>0</td></tr>\n",
       "\t<tr><th scope=row>341358</th><td>RU</td><td>17696</td><td> 18529</td><td>  702</td><td> 78</td><td> 166</td><td>False</td><td>False</td><td>False</td><td>0</td></tr>\n",
       "\t<tr><th scope=row>341359</th><td>RU</td><td>17696</td><td> 66082</td><td> 4980</td><td> 64</td><td> 621</td><td>False</td><td>False</td><td>False</td><td>0</td></tr>\n",
       "\t<tr><th scope=row>341360</th><td>RU</td><td>17696</td><td> 17450</td><td>  192</td><td> 54</td><td>   0</td><td>True </td><td>False</td><td>False</td><td>0</td></tr>\n",
       "\t<tr><th scope=row>341361</th><td>RU</td><td>17696</td><td> 38766</td><td> 1699</td><td> 83</td><td> 332</td><td>False</td><td>False</td><td>False</td><td>0</td></tr>\n",
       "\t<tr><th scope=row>341362</th><td>RU</td><td>17696</td><td> 28158</td><td>  363</td><td> 50</td><td>  37</td><td>False</td><td>False</td><td>False</td><td>0</td></tr>\n",
       "\t<tr><th scope=row>341363</th><td>RU</td><td>17696</td><td> 58916</td><td> 5279</td><td>680</td><td> 619</td><td>False</td><td>False</td><td>False</td><td>0</td></tr>\n",
       "\t<tr><th scope=row>341364</th><td>RU</td><td>17696</td><td>241118</td><td> 2591</td><td>231</td><td> 588</td><td>False</td><td>False</td><td>False</td><td>1</td></tr>\n",
       "\t<tr><th scope=row>341365</th><td>RU</td><td>17696</td><td> 47592</td><td> 9872</td><td> 48</td><td> 661</td><td>False</td><td>False</td><td>False</td><td>0</td></tr>\n",
       "\t<tr><th scope=row>341366</th><td>RU</td><td>17696</td><td> 69336</td><td> 1923</td><td>195</td><td> 271</td><td>False</td><td>False</td><td>False</td><td>0</td></tr>\n",
       "\t<tr><th scope=row>341367</th><td>RU</td><td>17696</td><td> 24303</td><td> 1729</td><td> 73</td><td>1157</td><td>False</td><td>False</td><td>False</td><td>0</td></tr>\n",
       "\t<tr><th scope=row>341368</th><td>RU</td><td>17696</td><td>317655</td><td>13427</td><td>346</td><td>2205</td><td>False</td><td>False</td><td>False</td><td>1</td></tr>\n",
       "\t<tr><th scope=row>341369</th><td>RU</td><td>17696</td><td> 30297</td><td> 2420</td><td> 80</td><td> 180</td><td>False</td><td>False</td><td>False</td><td>0</td></tr>\n",
       "\t<tr><th scope=row>341370</th><td>RU</td><td>17696</td><td> 70654</td><td> 3806</td><td> 87</td><td> 230</td><td>False</td><td>False</td><td>False</td><td>0</td></tr>\n",
       "\t<tr><th scope=row>341371</th><td>RU</td><td>17696</td><td>129488</td><td> 5893</td><td>164</td><td> 990</td><td>False</td><td>False</td><td>False</td><td>0</td></tr>\n",
       "\t<tr><th scope=row>341372</th><td>RU</td><td>17696</td><td> 99163</td><td> 4659</td><td>337</td><td> 692</td><td>False</td><td>False</td><td>False</td><td>0</td></tr>\n",
       "\t<tr><th scope=row>341373</th><td>RU</td><td>17696</td><td>449611</td><td>24808</td><td> 93</td><td> 974</td><td>False</td><td>False</td><td>False</td><td>1</td></tr>\n",
       "\t<tr><th scope=row>341374</th><td>RU</td><td>17696</td><td> 14225</td><td>  793</td><td> 39</td><td> 209</td><td>False</td><td>False</td><td>False</td><td>0</td></tr>\n",
       "\t<tr><th scope=row>341375</th><td>RU</td><td>17696</td><td> 52340</td><td> 7708</td><td>133</td><td>1819</td><td>False</td><td>False</td><td>False</td><td>0</td></tr>\n",
       "</tbody>\n",
       "</table>\n"
      ],
      "text/latex": [
       "A data.frame: 341375 × 10\n",
       "\\begin{tabular}{r|llllllllll}\n",
       "  & Language & trending\\_date & views & likes & dislikes & comment\\_count & comments\\_disabled & ratings\\_disabled & video\\_error\\_or\\_removed & views\\_med\\\\\n",
       "  & <chr> & <dbl> & <dbl> & <int> & <int> & <int> & <chr> & <chr> & <chr> & <dbl>\\\\\n",
       "\\hline\n",
       "\t1 & CA & 17484 & 17158579 &  787425 &  43420 & 125882 & False & False & False & 1\\\\\n",
       "\t2 & CA & 17484 &  1014651 &  127794 &   1688 &  13030 & False & False & False & 1\\\\\n",
       "\t3 & CA & 17484 &  3191434 &  146035 &   5339 &   8181 & False & False & False & 1\\\\\n",
       "\t4 & CA & 17484 &  2095828 &  132239 &   1989 &  17518 & False & False & False & 1\\\\\n",
       "\t5 & CA & 17484 & 33523622 & 1634130 &  21082 &  85067 & False & False & False & 1\\\\\n",
       "\t6 & CA & 17484 &  1309699 &  103755 &   4613 &  12143 & False & False & False & 1\\\\\n",
       "\t7 & CA & 17484 &  2987945 &  187464 &   9850 &  26629 & False & False & False & 1\\\\\n",
       "\t8 & CA & 17484 &   748374 &   57534 &   2967 &  15959 & False & False & False & 1\\\\\n",
       "\t9 & CA & 17484 &  4477587 &  292837 &   4123 &  36391 & False & False & False & 1\\\\\n",
       "\t10 & CA & 17484 &   505161 &    4135 &    976 &   1484 & False & False & False & 1\\\\\n",
       "\t11 & CA & 17484 &  5068229 &  263596 &   8585 &  28976 & False & False & False & 1\\\\\n",
       "\t12 & CA & 17484 &  3153224 &   28451 &   2285 &   3312 & False & False & False & 1\\\\\n",
       "\t13 & CA & 17484 &   158815 &     218 &     30 &    186 & False & False & False & 0\\\\\n",
       "\t14 & CA & 17484 &  5718766 &  127477 &   7134 &   8063 & False & False & False & 1\\\\\n",
       "\t15 & CA & 17484 &   960747 &   31810 &    668 &   5335 & False & False & False & 1\\\\\n",
       "\t16 & CA & 17484 &  1531218 &   53961 &   1697 &   4277 & False & False & False & 1\\\\\n",
       "\t17 & CA & 17484 &   557883 &   44558 &    621 &   9619 & False & False & False & 1\\\\\n",
       "\t18 & CA & 17484 &  1496225 &   16116 &    236 &    605 & False & False & False & 1\\\\\n",
       "\t19 & CA & 17484 &   308568 &   19541 &     70 &    495 & False & False & False & 1\\\\\n",
       "\t20 & CA & 17484 &  1096327 &   33966 &    798 &    882 & False & False & False & 1\\\\\n",
       "\t21 & CA & 17484 &   817732 &   23663 &    778 &   3432 & False & False & False & 1\\\\\n",
       "\t22 & CA & 17484 &   343168 &   10172 &    666 &   2146 & False & False & False & 1\\\\\n",
       "\t23 & CA & 17484 &  3905245 &   53072 &   2437 &   1979 & False & False & False & 1\\\\\n",
       "\t24 & CA & 17484 &  4204818 &  187890 & 167908 &  77348 & False & False & False & 1\\\\\n",
       "\t25 & CA & 17484 &   549374 &   16832 &    248 &   3579 & False & False & False & 1\\\\\n",
       "\t26 & CA & 17484 &   348841 &   27089 &    162 &   2099 & False & False & False & 1\\\\\n",
       "\t27 & CA & 17484 &   370827 &   12150 &    325 &   2352 & False & False & False & 1\\\\\n",
       "\t28 & CA & 17484 &   653398 &   27773 &   2778 &   3976 & False & False & False & 1\\\\\n",
       "\t29 & CA & 17484 &    92280 &   11045 &    182 &   1412 & False & False & False & 0\\\\\n",
       "\t30 & CA & 17484 &   178447 &    4339 &     96 &    876 & False & False & False & 0\\\\\n",
       "\t... & ... & ... & ... & ... & ... & ... & ... & ... & ... & ...\\\\\n",
       "\t341346 & RU & 17696 &  20151 &   396 &  21 &   51 & False & False & False & 0\\\\\n",
       "\t341347 & RU & 17696 &  59781 &  1221 &  81 &   34 & False & False & False & 0\\\\\n",
       "\t341348 & RU & 17696 & 101061 & 10052 & 278 &  965 & False & False & False & 0\\\\\n",
       "\t341349 & RU & 17696 &  64124 &  3512 & 129 &  568 & False & False & False & 0\\\\\n",
       "\t341350 & RU & 17696 &  17102 &  1492 &  13 &  102 & False & False & False & 0\\\\\n",
       "\t341351 & RU & 17696 & 121648 &  2501 &  59 &  207 & False & False & False & 0\\\\\n",
       "\t341352 & RU & 17696 &  78982 &   712 & 124 &    0 & True  & False & False & 0\\\\\n",
       "\t341353 & RU & 17696 &  45543 &   532 &  81 &  159 & False & False & False & 0\\\\\n",
       "\t341354 & RU & 17696 &  59388 &  5664 & 200 & 1076 & False & False & False & 0\\\\\n",
       "\t341355 & RU & 17696 &  50546 &  2834 &  45 &   98 & False & False & False & 0\\\\\n",
       "\t341356 & RU & 17696 &  66023 & 10014 & 801 & 1525 & False & False & False & 0\\\\\n",
       "\t341357 & RU & 17696 &  30149 &  2032 &  33 &  395 & False & False & False & 0\\\\\n",
       "\t341358 & RU & 17696 &  18529 &   702 &  78 &  166 & False & False & False & 0\\\\\n",
       "\t341359 & RU & 17696 &  66082 &  4980 &  64 &  621 & False & False & False & 0\\\\\n",
       "\t341360 & RU & 17696 &  17450 &   192 &  54 &    0 & True  & False & False & 0\\\\\n",
       "\t341361 & RU & 17696 &  38766 &  1699 &  83 &  332 & False & False & False & 0\\\\\n",
       "\t341362 & RU & 17696 &  28158 &   363 &  50 &   37 & False & False & False & 0\\\\\n",
       "\t341363 & RU & 17696 &  58916 &  5279 & 680 &  619 & False & False & False & 0\\\\\n",
       "\t341364 & RU & 17696 & 241118 &  2591 & 231 &  588 & False & False & False & 1\\\\\n",
       "\t341365 & RU & 17696 &  47592 &  9872 &  48 &  661 & False & False & False & 0\\\\\n",
       "\t341366 & RU & 17696 &  69336 &  1923 & 195 &  271 & False & False & False & 0\\\\\n",
       "\t341367 & RU & 17696 &  24303 &  1729 &  73 & 1157 & False & False & False & 0\\\\\n",
       "\t341368 & RU & 17696 & 317655 & 13427 & 346 & 2205 & False & False & False & 1\\\\\n",
       "\t341369 & RU & 17696 &  30297 &  2420 &  80 &  180 & False & False & False & 0\\\\\n",
       "\t341370 & RU & 17696 &  70654 &  3806 &  87 &  230 & False & False & False & 0\\\\\n",
       "\t341371 & RU & 17696 & 129488 &  5893 & 164 &  990 & False & False & False & 0\\\\\n",
       "\t341372 & RU & 17696 &  99163 &  4659 & 337 &  692 & False & False & False & 0\\\\\n",
       "\t341373 & RU & 17696 & 449611 & 24808 &  93 &  974 & False & False & False & 1\\\\\n",
       "\t341374 & RU & 17696 &  14225 &   793 &  39 &  209 & False & False & False & 0\\\\\n",
       "\t341375 & RU & 17696 &  52340 &  7708 & 133 & 1819 & False & False & False & 0\\\\\n",
       "\\end{tabular}\n"
      ],
      "text/markdown": [
       "\n",
       "A data.frame: 341375 × 10\n",
       "\n",
       "| <!--/--> | Language &lt;chr&gt; | trending_date &lt;dbl&gt; | views &lt;dbl&gt; | likes &lt;int&gt; | dislikes &lt;int&gt; | comment_count &lt;int&gt; | comments_disabled &lt;chr&gt; | ratings_disabled &lt;chr&gt; | video_error_or_removed &lt;chr&gt; | views_med &lt;dbl&gt; |\n",
       "|---|---|---|---|---|---|---|---|---|---|---|\n",
       "| 1 | CA | 17484 | 17158579 |  787425 |  43420 | 125882 | False | False | False | 1 |\n",
       "| 2 | CA | 17484 |  1014651 |  127794 |   1688 |  13030 | False | False | False | 1 |\n",
       "| 3 | CA | 17484 |  3191434 |  146035 |   5339 |   8181 | False | False | False | 1 |\n",
       "| 4 | CA | 17484 |  2095828 |  132239 |   1989 |  17518 | False | False | False | 1 |\n",
       "| 5 | CA | 17484 | 33523622 | 1634130 |  21082 |  85067 | False | False | False | 1 |\n",
       "| 6 | CA | 17484 |  1309699 |  103755 |   4613 |  12143 | False | False | False | 1 |\n",
       "| 7 | CA | 17484 |  2987945 |  187464 |   9850 |  26629 | False | False | False | 1 |\n",
       "| 8 | CA | 17484 |   748374 |   57534 |   2967 |  15959 | False | False | False | 1 |\n",
       "| 9 | CA | 17484 |  4477587 |  292837 |   4123 |  36391 | False | False | False | 1 |\n",
       "| 10 | CA | 17484 |   505161 |    4135 |    976 |   1484 | False | False | False | 1 |\n",
       "| 11 | CA | 17484 |  5068229 |  263596 |   8585 |  28976 | False | False | False | 1 |\n",
       "| 12 | CA | 17484 |  3153224 |   28451 |   2285 |   3312 | False | False | False | 1 |\n",
       "| 13 | CA | 17484 |   158815 |     218 |     30 |    186 | False | False | False | 0 |\n",
       "| 14 | CA | 17484 |  5718766 |  127477 |   7134 |   8063 | False | False | False | 1 |\n",
       "| 15 | CA | 17484 |   960747 |   31810 |    668 |   5335 | False | False | False | 1 |\n",
       "| 16 | CA | 17484 |  1531218 |   53961 |   1697 |   4277 | False | False | False | 1 |\n",
       "| 17 | CA | 17484 |   557883 |   44558 |    621 |   9619 | False | False | False | 1 |\n",
       "| 18 | CA | 17484 |  1496225 |   16116 |    236 |    605 | False | False | False | 1 |\n",
       "| 19 | CA | 17484 |   308568 |   19541 |     70 |    495 | False | False | False | 1 |\n",
       "| 20 | CA | 17484 |  1096327 |   33966 |    798 |    882 | False | False | False | 1 |\n",
       "| 21 | CA | 17484 |   817732 |   23663 |    778 |   3432 | False | False | False | 1 |\n",
       "| 22 | CA | 17484 |   343168 |   10172 |    666 |   2146 | False | False | False | 1 |\n",
       "| 23 | CA | 17484 |  3905245 |   53072 |   2437 |   1979 | False | False | False | 1 |\n",
       "| 24 | CA | 17484 |  4204818 |  187890 | 167908 |  77348 | False | False | False | 1 |\n",
       "| 25 | CA | 17484 |   549374 |   16832 |    248 |   3579 | False | False | False | 1 |\n",
       "| 26 | CA | 17484 |   348841 |   27089 |    162 |   2099 | False | False | False | 1 |\n",
       "| 27 | CA | 17484 |   370827 |   12150 |    325 |   2352 | False | False | False | 1 |\n",
       "| 28 | CA | 17484 |   653398 |   27773 |   2778 |   3976 | False | False | False | 1 |\n",
       "| 29 | CA | 17484 |    92280 |   11045 |    182 |   1412 | False | False | False | 0 |\n",
       "| 30 | CA | 17484 |   178447 |    4339 |     96 |    876 | False | False | False | 0 |\n",
       "| ... | ... | ... | ... | ... | ... | ... | ... | ... | ... | ... |\n",
       "| 341346 | RU | 17696 |  20151 |   396 |  21 |   51 | False | False | False | 0 |\n",
       "| 341347 | RU | 17696 |  59781 |  1221 |  81 |   34 | False | False | False | 0 |\n",
       "| 341348 | RU | 17696 | 101061 | 10052 | 278 |  965 | False | False | False | 0 |\n",
       "| 341349 | RU | 17696 |  64124 |  3512 | 129 |  568 | False | False | False | 0 |\n",
       "| 341350 | RU | 17696 |  17102 |  1492 |  13 |  102 | False | False | False | 0 |\n",
       "| 341351 | RU | 17696 | 121648 |  2501 |  59 |  207 | False | False | False | 0 |\n",
       "| 341352 | RU | 17696 |  78982 |   712 | 124 |    0 | True  | False | False | 0 |\n",
       "| 341353 | RU | 17696 |  45543 |   532 |  81 |  159 | False | False | False | 0 |\n",
       "| 341354 | RU | 17696 |  59388 |  5664 | 200 | 1076 | False | False | False | 0 |\n",
       "| 341355 | RU | 17696 |  50546 |  2834 |  45 |   98 | False | False | False | 0 |\n",
       "| 341356 | RU | 17696 |  66023 | 10014 | 801 | 1525 | False | False | False | 0 |\n",
       "| 341357 | RU | 17696 |  30149 |  2032 |  33 |  395 | False | False | False | 0 |\n",
       "| 341358 | RU | 17696 |  18529 |   702 |  78 |  166 | False | False | False | 0 |\n",
       "| 341359 | RU | 17696 |  66082 |  4980 |  64 |  621 | False | False | False | 0 |\n",
       "| 341360 | RU | 17696 |  17450 |   192 |  54 |    0 | True  | False | False | 0 |\n",
       "| 341361 | RU | 17696 |  38766 |  1699 |  83 |  332 | False | False | False | 0 |\n",
       "| 341362 | RU | 17696 |  28158 |   363 |  50 |   37 | False | False | False | 0 |\n",
       "| 341363 | RU | 17696 |  58916 |  5279 | 680 |  619 | False | False | False | 0 |\n",
       "| 341364 | RU | 17696 | 241118 |  2591 | 231 |  588 | False | False | False | 1 |\n",
       "| 341365 | RU | 17696 |  47592 |  9872 |  48 |  661 | False | False | False | 0 |\n",
       "| 341366 | RU | 17696 |  69336 |  1923 | 195 |  271 | False | False | False | 0 |\n",
       "| 341367 | RU | 17696 |  24303 |  1729 |  73 | 1157 | False | False | False | 0 |\n",
       "| 341368 | RU | 17696 | 317655 | 13427 | 346 | 2205 | False | False | False | 1 |\n",
       "| 341369 | RU | 17696 |  30297 |  2420 |  80 |  180 | False | False | False | 0 |\n",
       "| 341370 | RU | 17696 |  70654 |  3806 |  87 |  230 | False | False | False | 0 |\n",
       "| 341371 | RU | 17696 | 129488 |  5893 | 164 |  990 | False | False | False | 0 |\n",
       "| 341372 | RU | 17696 |  99163 |  4659 | 337 |  692 | False | False | False | 0 |\n",
       "| 341373 | RU | 17696 | 449611 | 24808 |  93 |  974 | False | False | False | 1 |\n",
       "| 341374 | RU | 17696 |  14225 |   793 |  39 |  209 | False | False | False | 0 |\n",
       "| 341375 | RU | 17696 |  52340 |  7708 | 133 | 1819 | False | False | False | 0 |\n",
       "\n"
      ],
      "text/plain": [
       "       Language trending_date views    likes   dislikes comment_count\n",
       "1      CA       17484         17158579  787425  43420   125882       \n",
       "2      CA       17484          1014651  127794   1688    13030       \n",
       "3      CA       17484          3191434  146035   5339     8181       \n",
       "4      CA       17484          2095828  132239   1989    17518       \n",
       "5      CA       17484         33523622 1634130  21082    85067       \n",
       "6      CA       17484          1309699  103755   4613    12143       \n",
       "7      CA       17484          2987945  187464   9850    26629       \n",
       "8      CA       17484           748374   57534   2967    15959       \n",
       "9      CA       17484          4477587  292837   4123    36391       \n",
       "10     CA       17484           505161    4135    976     1484       \n",
       "11     CA       17484          5068229  263596   8585    28976       \n",
       "12     CA       17484          3153224   28451   2285     3312       \n",
       "13     CA       17484           158815     218     30      186       \n",
       "14     CA       17484          5718766  127477   7134     8063       \n",
       "15     CA       17484           960747   31810    668     5335       \n",
       "16     CA       17484          1531218   53961   1697     4277       \n",
       "17     CA       17484           557883   44558    621     9619       \n",
       "18     CA       17484          1496225   16116    236      605       \n",
       "19     CA       17484           308568   19541     70      495       \n",
       "20     CA       17484          1096327   33966    798      882       \n",
       "21     CA       17484           817732   23663    778     3432       \n",
       "22     CA       17484           343168   10172    666     2146       \n",
       "23     CA       17484          3905245   53072   2437     1979       \n",
       "24     CA       17484          4204818  187890 167908    77348       \n",
       "25     CA       17484           549374   16832    248     3579       \n",
       "26     CA       17484           348841   27089    162     2099       \n",
       "27     CA       17484           370827   12150    325     2352       \n",
       "28     CA       17484           653398   27773   2778     3976       \n",
       "29     CA       17484            92280   11045    182     1412       \n",
       "30     CA       17484           178447    4339     96      876       \n",
       "...    ...      ...           ...      ...     ...      ...          \n",
       "341346 RU       17696          20151     396    21        51         \n",
       "341347 RU       17696          59781    1221    81        34         \n",
       "341348 RU       17696         101061   10052   278       965         \n",
       "341349 RU       17696          64124    3512   129       568         \n",
       "341350 RU       17696          17102    1492    13       102         \n",
       "341351 RU       17696         121648    2501    59       207         \n",
       "341352 RU       17696          78982     712   124         0         \n",
       "341353 RU       17696          45543     532    81       159         \n",
       "341354 RU       17696          59388    5664   200      1076         \n",
       "341355 RU       17696          50546    2834    45        98         \n",
       "341356 RU       17696          66023   10014   801      1525         \n",
       "341357 RU       17696          30149    2032    33       395         \n",
       "341358 RU       17696          18529     702    78       166         \n",
       "341359 RU       17696          66082    4980    64       621         \n",
       "341360 RU       17696          17450     192    54         0         \n",
       "341361 RU       17696          38766    1699    83       332         \n",
       "341362 RU       17696          28158     363    50        37         \n",
       "341363 RU       17696          58916    5279   680       619         \n",
       "341364 RU       17696         241118    2591   231       588         \n",
       "341365 RU       17696          47592    9872    48       661         \n",
       "341366 RU       17696          69336    1923   195       271         \n",
       "341367 RU       17696          24303    1729    73      1157         \n",
       "341368 RU       17696         317655   13427   346      2205         \n",
       "341369 RU       17696          30297    2420    80       180         \n",
       "341370 RU       17696          70654    3806    87       230         \n",
       "341371 RU       17696         129488    5893   164       990         \n",
       "341372 RU       17696          99163    4659   337       692         \n",
       "341373 RU       17696         449611   24808    93       974         \n",
       "341374 RU       17696          14225     793    39       209         \n",
       "341375 RU       17696          52340    7708   133      1819         \n",
       "       comments_disabled ratings_disabled video_error_or_removed views_med\n",
       "1      False             False            False                  1        \n",
       "2      False             False            False                  1        \n",
       "3      False             False            False                  1        \n",
       "4      False             False            False                  1        \n",
       "5      False             False            False                  1        \n",
       "6      False             False            False                  1        \n",
       "7      False             False            False                  1        \n",
       "8      False             False            False                  1        \n",
       "9      False             False            False                  1        \n",
       "10     False             False            False                  1        \n",
       "11     False             False            False                  1        \n",
       "12     False             False            False                  1        \n",
       "13     False             False            False                  0        \n",
       "14     False             False            False                  1        \n",
       "15     False             False            False                  1        \n",
       "16     False             False            False                  1        \n",
       "17     False             False            False                  1        \n",
       "18     False             False            False                  1        \n",
       "19     False             False            False                  1        \n",
       "20     False             False            False                  1        \n",
       "21     False             False            False                  1        \n",
       "22     False             False            False                  1        \n",
       "23     False             False            False                  1        \n",
       "24     False             False            False                  1        \n",
       "25     False             False            False                  1        \n",
       "26     False             False            False                  1        \n",
       "27     False             False            False                  1        \n",
       "28     False             False            False                  1        \n",
       "29     False             False            False                  0        \n",
       "30     False             False            False                  0        \n",
       "...    ...               ...              ...                    ...      \n",
       "341346 False             False            False                  0        \n",
       "341347 False             False            False                  0        \n",
       "341348 False             False            False                  0        \n",
       "341349 False             False            False                  0        \n",
       "341350 False             False            False                  0        \n",
       "341351 False             False            False                  0        \n",
       "341352 True              False            False                  0        \n",
       "341353 False             False            False                  0        \n",
       "341354 False             False            False                  0        \n",
       "341355 False             False            False                  0        \n",
       "341356 False             False            False                  0        \n",
       "341357 False             False            False                  0        \n",
       "341358 False             False            False                  0        \n",
       "341359 False             False            False                  0        \n",
       "341360 True              False            False                  0        \n",
       "341361 False             False            False                  0        \n",
       "341362 False             False            False                  0        \n",
       "341363 False             False            False                  0        \n",
       "341364 False             False            False                  1        \n",
       "341365 False             False            False                  0        \n",
       "341366 False             False            False                  0        \n",
       "341367 False             False            False                  0        \n",
       "341368 False             False            False                  1        \n",
       "341369 False             False            False                  0        \n",
       "341370 False             False            False                  0        \n",
       "341371 False             False            False                  0        \n",
       "341372 False             False            False                  0        \n",
       "341373 False             False            False                  1        \n",
       "341374 False             False            False                  0        \n",
       "341375 False             False            False                  0        "
      ]
     },
     "metadata": {},
     "output_type": "display_data"
    }
   ],
   "source": [
    "#Creating new data frame with a numeric format for views\n",
    "Data12 <- Data11\n",
    "Data13 <- Data12\n",
    "Data13$views <- as.numeric(Data12$views)\n",
    "\n",
    "\n",
    "views_med <- rep(0, length(Data13$views))\n",
    "views_med[Data13$views > median(Data13$views)] <- 1\n",
    "Data13_Training <- data.frame(Data13, views_med)\n",
    "\n",
    "\n",
    "Data13_Training\n"
   ]
  },
  {
   "cell_type": "code",
   "execution_count": 575,
   "id": "unsigned-hacker",
   "metadata": {
    "scrolled": false
   },
   "outputs": [
    {
     "data": {
      "text/plain": [
       "   Mode   FALSE    TRUE \n",
       "logical  239750  101625 "
      ]
     },
     "metadata": {},
     "output_type": "display_data"
    }
   ],
   "source": [
    "train <- (Data13$trending_date <17550)\n",
    "Data13.train <- Data13_Training[train, ]\n",
    "Data13.test <- Data13_Training[!train, ]\n",
    "views_med.test <- views_med[!train]\n",
    "\n",
    "summary(train)\n"
   ]
  },
  {
   "cell_type": "markdown",
   "id": "regional-training",
   "metadata": {},
   "source": [
    "- The training set used 101'625 videos out of 341'375. "
   ]
  },
  {
   "cell_type": "code",
   "execution_count": 576,
   "id": "several-bloom",
   "metadata": {
    "scrolled": false
   },
   "outputs": [
    {
     "data": {
      "text/plain": [
       "Call:\n",
       "lda(views_med ~ comment_count, data = Data13_Training, subset = train)\n",
       "\n",
       "Prior probabilities of groups:\n",
       "        0         1 \n",
       "0.5543813 0.4456187 \n",
       "\n",
       "Group means:\n",
       "  comment_count\n",
       "0      371.5592\n",
       "1     8516.7050\n",
       "\n",
       "Coefficients of linear discriminants:\n",
       "                       LD1\n",
       "comment_count 3.377299e-05"
      ]
     },
     "metadata": {},
     "output_type": "display_data"
    },
    {
     "data": {
      "text/plain": [
       "   views_med.test\n",
       "         0      1\n",
       "  0 114350 117594\n",
       "  1      2   7804"
      ]
     },
     "metadata": {},
     "output_type": "display_data"
    },
    {
     "data": {
      "text/html": [
       "0.490494264859228"
      ],
      "text/latex": [
       "0.490494264859228"
      ],
      "text/markdown": [
       "0.490494264859228"
      ],
      "text/plain": [
       "[1] 0.4904943"
      ]
     },
     "metadata": {},
     "output_type": "display_data"
    }
   ],
   "source": [
    "#Prediction of views with comment count\n",
    "fit.lda <- lda(views_med ~ comment_count, data = Data13_Training, subset = train)\n",
    "fit.lda\n",
    "\n",
    "pred.lda <- predict(fit.lda, Data13.test)\n",
    "table(pred.lda$class, views_med.test)\n",
    "\n",
    "mean(pred.lda$class != views_med.test)"
   ]
  },
  {
   "cell_type": "markdown",
   "id": "nervous-budget",
   "metadata": {},
   "source": [
    "- Using the comment count as a predictor for views, we reached a test-error rate of 49% which is rather high. "
   ]
  },
  {
   "cell_type": "code",
   "execution_count": 577,
   "id": "wicked-ownership",
   "metadata": {
    "scrolled": false
   },
   "outputs": [
    {
     "data": {
      "text/plain": [
       "Call:\n",
       "lda(views_med ~ comment_count + trending_date, data = Data13_Training, \n",
       "    subset = train)\n",
       "\n",
       "Prior probabilities of groups:\n",
       "        0         1 \n",
       "0.5543813 0.4456187 \n",
       "\n",
       "Group means:\n",
       "  comment_count trending_date\n",
       "0      371.5592      17515.30\n",
       "1     8516.7050      17516.19\n",
       "\n",
       "Coefficients of linear discriminants:\n",
       "                       LD1\n",
       "comment_count 3.328922e-05\n",
       "trending_date 8.723112e-03"
      ]
     },
     "metadata": {},
     "output_type": "display_data"
    },
    {
     "data": {
      "text/plain": [
       "   views_med.test\n",
       "        0     1\n",
       "  0 62590 45083\n",
       "  1 51762 80315"
      ]
     },
     "metadata": {},
     "output_type": "display_data"
    },
    {
     "data": {
      "text/html": [
       "0.403941605839416"
      ],
      "text/latex": [
       "0.403941605839416"
      ],
      "text/markdown": [
       "0.403941605839416"
      ],
      "text/plain": [
       "[1] 0.4039416"
      ]
     },
     "metadata": {},
     "output_type": "display_data"
    }
   ],
   "source": [
    "#Prediction of views with comment count over time\n",
    "fit.lda <- lda(views_med ~ comment_count + trending_date, data = Data13_Training, subset = train)\n",
    "fit.lda\n",
    "\n",
    "pred.lda <- predict(fit.lda, Data13.test)\n",
    "table(pred.lda$class, views_med.test)\n",
    "\n",
    "mean(pred.lda$class != views_med.test)"
   ]
  },
  {
   "cell_type": "markdown",
   "id": "political-berlin",
   "metadata": {},
   "source": [
    "- Testing the model with the addition of the trending date predictor made the model better. We now have a test-error rate of 40%"
   ]
  },
  {
   "cell_type": "code",
   "execution_count": 578,
   "id": "annual-murder",
   "metadata": {
    "scrolled": false
   },
   "outputs": [
    {
     "data": {
      "text/plain": [
       "Call:\n",
       "lda(views_med ~ trending_date, data = Data13_Training, subset = train)\n",
       "\n",
       "Prior probabilities of groups:\n",
       "        0         1 \n",
       "0.5543813 0.4456187 \n",
       "\n",
       "Group means:\n",
       "  trending_date\n",
       "0      17515.30\n",
       "1      17516.19\n",
       "\n",
       "Coefficients of linear discriminants:\n",
       "                    LD1\n",
       "trending_date 0.0531293"
      ]
     },
     "metadata": {},
     "output_type": "display_data"
    },
    {
     "data": {
      "text/plain": [
       "   views_med.test\n",
       "        0     1\n",
       "  0 47921 42811\n",
       "  1 66431 82587"
      ]
     },
     "metadata": {},
     "output_type": "display_data"
    },
    {
     "data": {
      "text/html": [
       "0.455649635036496"
      ],
      "text/latex": [
       "0.455649635036496"
      ],
      "text/markdown": [
       "0.455649635036496"
      ],
      "text/plain": [
       "[1] 0.4556496"
      ]
     },
     "metadata": {},
     "output_type": "display_data"
    }
   ],
   "source": [
    "#Prediction of views with trending date\n",
    "fit.lda <- lda(views_med ~ trending_date, data = Data13_Training, subset = train)\n",
    "fit.lda\n",
    "\n",
    "pred.lda <- predict(fit.lda, Data13.test)\n",
    "table(pred.lda$class, views_med.test)\n",
    "\n",
    "mean(pred.lda$class != views_med.test)"
   ]
  },
  {
   "cell_type": "markdown",
   "id": "quantitative-melbourne",
   "metadata": {},
   "source": [
    "- Testing the prediction of views with only the trending date as predictor gave slightly worse results at a test-error rate of 46%"
   ]
  },
  {
   "cell_type": "markdown",
   "id": "unable-relationship",
   "metadata": {},
   "source": [
    "## 7. Conclusion\n",
    "\n",
    "\n"
   ]
  },
  {
   "cell_type": "markdown",
   "id": "flying-polyester",
   "metadata": {},
   "source": [
    "The analysis was able to show, that the amount of views had a significant relationship with the amount of comments over time, which confirmed the first hypothesis. Language seems to have a signficant influence on the amount of views a the relation with the amount of comments over time, which confirmed the second hypothesis. The overall fit of the models used to determine these results were rather low and should be treated with care. The third hypothesis could not be confirmed, as the ability to comment on a video could even have the reverse effect and increase the amount of views a video could generate. Given the uneven distribution and non-signficance levels of the no-comment data, these results should probably be ignored and retestet. Further studies should focus on the different relationships of the predictors in regards to language. What might be possible reasons for the differences? \n",
    "\n",
    "The training set seemed to deliver the best results when trending date and comment count have been taken into account. Still, the minimum achieved test-error rate was roughly 40%, which might proof problematic when trying to use the model for any real world uses. Future research must take bigger samples over a longer time period to achieve more promising results. A binary coding of the comment variable might proof usable for future testing. A possible example has been posted below. "
   ]
  },
  {
   "cell_type": "code",
   "execution_count": 579,
   "id": "talented-patent",
   "metadata": {},
   "outputs": [
    {
     "data": {
      "text/html": [
       "<table class=\"dataframe\">\n",
       "<caption>A data.frame: 6 × 10</caption>\n",
       "<thead>\n",
       "\t<tr><th></th><th scope=col>Language</th><th scope=col>trending_date</th><th scope=col>views</th><th scope=col>likes</th><th scope=col>dislikes</th><th scope=col>comment_count</th><th scope=col>comments_disabled</th><th scope=col>ratings_disabled</th><th scope=col>video_error_or_removed</th><th scope=col>comment_count_binary</th></tr>\n",
       "\t<tr><th></th><th scope=col>&lt;chr&gt;</th><th scope=col>&lt;dbl&gt;</th><th scope=col>&lt;int&gt;</th><th scope=col>&lt;int&gt;</th><th scope=col>&lt;int&gt;</th><th scope=col>&lt;int&gt;</th><th scope=col>&lt;chr&gt;</th><th scope=col>&lt;chr&gt;</th><th scope=col>&lt;chr&gt;</th><th scope=col>&lt;dbl&gt;</th></tr>\n",
       "</thead>\n",
       "<tbody>\n",
       "\t<tr><th scope=row>1</th><td>CA</td><td>17484</td><td>17158579</td><td> 787425</td><td>43420</td><td>125882</td><td>False</td><td>False</td><td>False</td><td>1</td></tr>\n",
       "\t<tr><th scope=row>2</th><td>CA</td><td>17484</td><td> 1014651</td><td> 127794</td><td> 1688</td><td> 13030</td><td>False</td><td>False</td><td>False</td><td>1</td></tr>\n",
       "\t<tr><th scope=row>3</th><td>CA</td><td>17484</td><td> 3191434</td><td> 146035</td><td> 5339</td><td>  8181</td><td>False</td><td>False</td><td>False</td><td>1</td></tr>\n",
       "\t<tr><th scope=row>4</th><td>CA</td><td>17484</td><td> 2095828</td><td> 132239</td><td> 1989</td><td> 17518</td><td>False</td><td>False</td><td>False</td><td>1</td></tr>\n",
       "\t<tr><th scope=row>5</th><td>CA</td><td>17484</td><td>33523622</td><td>1634130</td><td>21082</td><td> 85067</td><td>False</td><td>False</td><td>False</td><td>1</td></tr>\n",
       "\t<tr><th scope=row>6</th><td>CA</td><td>17484</td><td> 1309699</td><td> 103755</td><td> 4613</td><td> 12143</td><td>False</td><td>False</td><td>False</td><td>1</td></tr>\n",
       "</tbody>\n",
       "</table>\n"
      ],
      "text/latex": [
       "A data.frame: 6 × 10\n",
       "\\begin{tabular}{r|llllllllll}\n",
       "  & Language & trending\\_date & views & likes & dislikes & comment\\_count & comments\\_disabled & ratings\\_disabled & video\\_error\\_or\\_removed & comment\\_count\\_binary\\\\\n",
       "  & <chr> & <dbl> & <int> & <int> & <int> & <int> & <chr> & <chr> & <chr> & <dbl>\\\\\n",
       "\\hline\n",
       "\t1 & CA & 17484 & 17158579 &  787425 & 43420 & 125882 & False & False & False & 1\\\\\n",
       "\t2 & CA & 17484 &  1014651 &  127794 &  1688 &  13030 & False & False & False & 1\\\\\n",
       "\t3 & CA & 17484 &  3191434 &  146035 &  5339 &   8181 & False & False & False & 1\\\\\n",
       "\t4 & CA & 17484 &  2095828 &  132239 &  1989 &  17518 & False & False & False & 1\\\\\n",
       "\t5 & CA & 17484 & 33523622 & 1634130 & 21082 &  85067 & False & False & False & 1\\\\\n",
       "\t6 & CA & 17484 &  1309699 &  103755 &  4613 &  12143 & False & False & False & 1\\\\\n",
       "\\end{tabular}\n"
      ],
      "text/markdown": [
       "\n",
       "A data.frame: 6 × 10\n",
       "\n",
       "| <!--/--> | Language &lt;chr&gt; | trending_date &lt;dbl&gt; | views &lt;int&gt; | likes &lt;int&gt; | dislikes &lt;int&gt; | comment_count &lt;int&gt; | comments_disabled &lt;chr&gt; | ratings_disabled &lt;chr&gt; | video_error_or_removed &lt;chr&gt; | comment_count_binary &lt;dbl&gt; |\n",
       "|---|---|---|---|---|---|---|---|---|---|---|\n",
       "| 1 | CA | 17484 | 17158579 |  787425 | 43420 | 125882 | False | False | False | 1 |\n",
       "| 2 | CA | 17484 |  1014651 |  127794 |  1688 |  13030 | False | False | False | 1 |\n",
       "| 3 | CA | 17484 |  3191434 |  146035 |  5339 |   8181 | False | False | False | 1 |\n",
       "| 4 | CA | 17484 |  2095828 |  132239 |  1989 |  17518 | False | False | False | 1 |\n",
       "| 5 | CA | 17484 | 33523622 | 1634130 | 21082 |  85067 | False | False | False | 1 |\n",
       "| 6 | CA | 17484 |  1309699 |  103755 |  4613 |  12143 | False | False | False | 1 |\n",
       "\n"
      ],
      "text/plain": [
       "  Language trending_date views    likes   dislikes comment_count\n",
       "1 CA       17484         17158579  787425 43420    125882       \n",
       "2 CA       17484          1014651  127794  1688     13030       \n",
       "3 CA       17484          3191434  146035  5339      8181       \n",
       "4 CA       17484          2095828  132239  1989     17518       \n",
       "5 CA       17484         33523622 1634130 21082     85067       \n",
       "6 CA       17484          1309699  103755  4613     12143       \n",
       "  comments_disabled ratings_disabled video_error_or_removed\n",
       "1 False             False            False                 \n",
       "2 False             False            False                 \n",
       "3 False             False            False                 \n",
       "4 False             False            False                 \n",
       "5 False             False            False                 \n",
       "6 False             False            False                 \n",
       "  comment_count_binary\n",
       "1 1                   \n",
       "2 1                   \n",
       "3 1                   \n",
       "4 1                   \n",
       "5 1                   \n",
       "6 1                   "
      ]
     },
     "metadata": {},
     "output_type": "display_data"
    }
   ],
   "source": [
    "Data11$comment_count_binary <- ifelse(Data11$comment_count == \"0\", 0, 1)\n",
    "head(Data11)"
   ]
  },
  {
   "cell_type": "markdown",
   "id": "elementary-roulette",
   "metadata": {},
   "source": [
    "## 8. References"
   ]
  },
  {
   "cell_type": "markdown",
   "id": "sunrise-banks",
   "metadata": {},
   "source": [
    "- Buhl, H. U., Röglinger, M., Moser, F., & Heidemann, J. (2013). Big data.\n",
    "- Columbus, S. (2018), 10 Charts That Will Change Your Perspective Of Big Data's Growth, www.forbes.com\n",
    "- Geipel, A. (2018). Wissenschaft@ YouTube. In Knowledge in action (pp. 137-163). Springer VS, Wiesbaden.\n",
    "- Jagongo, A., & Kinyua, C. (2013). The social media and entrepreneurship growth. International journal of humanities and social science, 3(10), 213-227.\n",
    "- Klein, D., Tran-Gia, P., & Hartmann, M. (2013). Big data. Informatik-Spektrum, 36(3), 319-323."
   ]
  },
  {
   "cell_type": "code",
   "execution_count": null,
   "id": "mechanical-spice",
   "metadata": {},
   "outputs": [],
   "source": []
  }
 ],
 "metadata": {
  "kernelspec": {
   "display_name": "R",
   "language": "R",
   "name": "ir"
  },
  "language_info": {
   "codemirror_mode": "r",
   "file_extension": ".r",
   "mimetype": "text/x-r-source",
   "name": "R",
   "pygments_lexer": "r",
   "version": "4.0.2"
  }
 },
 "nbformat": 4,
 "nbformat_minor": 5
}
