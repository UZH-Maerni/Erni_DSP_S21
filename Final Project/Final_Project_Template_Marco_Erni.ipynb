{
 "cells": [
  {
   "cell_type": "markdown",
   "id": "advisory-printing",
   "metadata": {},
   "source": [
    "## Final Project Proposal"
   ]
  },
  {
   "cell_type": "markdown",
   "id": "swedish-initial",
   "metadata": {},
   "source": [
    "#### Name:"
   ]
  },
  {
   "cell_type": "markdown",
   "id": "occupied-marshall",
   "metadata": {},
   "source": [
    "#### Brief description of the dataset:\n",
    "\n",
    "The dataset is a daily record of top trending YouTube videos. It contains several months of data on daily trending YouTube videos from the US, GB, DE, CA and FR regions (up to 200 videos per day). Each region is a represented in a different data file. The data includes video title, channel title, publish time, tags, views, likes, disklikes, description and comment count."
   ]
  },
  {
   "cell_type": "markdown",
   "id": "aggregate-parameter",
   "metadata": {},
   "source": [
    "#### Dataset questions:\n",
    "-\tWhere did you obtain the dataset from?\n",
    "\n",
    ">I found the data via a github repository, that offers free to use/ public datasets to train data science skills. \n",
    "\n",
    "-\tHow many observations are there?\n",
    "\n",
    ">~400'000\n",
    "\n",
    "-\tHow many variables are there?\n",
    "\n",
    ">6 (language, publish time, views, likes, disklikes and comment count)\n",
    "\n",
    "-\tAre there multiple observations for the same units (e.g. multiple measurements of RTs per participant? Multiple evaluations per employee? etc)\n",
    "\n",
    ">Not directly. The videos might reappear in the top trending videos again, but specific videos are not tracked. "
   ]
  },
  {
   "cell_type": "markdown",
   "id": "entire-shopper",
   "metadata": {},
   "source": [
    "#### Project goals:\n",
    "\n",
    "1. Is there a correlation between the amount of likes/ dislikes and the possibility to comment on a video?\n",
    "2. Do the amount of comments vary between different languages in relation to views? \n",
    "3. Does the amount of comments have an influence on the popularity of videos over time?\n",
    "4. Does the amount of views per video increase/ decrease in relation to the language over time?"
   ]
  },
  {
   "cell_type": "markdown",
   "id": "unable-relationship",
   "metadata": {},
   "source": [
    "#### Project methods:\n",
    "> Briefly describe what methods you plan to use to answer the project goals. These have to be based on the syllabus for the remaining of the course and/or the main textbook we are using. This is not a final commitment and you can change your plan as you progress, but describe here your current ideas and plans (briefly!)\n",
    "\n",
    "1. Combine datasets and make them tidy. Create an overview and a correlation matrix. \n",
    "2. Create graphical overviews for the development of the data over time. \n",
    "3. Linear/ Multiple linear regression to understand the relationship between the chosen variables represented in the project goals. Potential Cross-validation to further solidify results. \n",
    "\n",
    "\n"
   ]
  },
  {
   "cell_type": "markdown",
   "id": "flying-polyester",
   "metadata": {},
   "source": [
    "#### Evaluation\n",
    "> [VP] - approved"
   ]
  }
 ],
 "metadata": {
  "kernelspec": {
   "display_name": "R",
   "language": "R",
   "name": "ir"
  },
  "language_info": {
   "codemirror_mode": "r",
   "file_extension": ".r",
   "mimetype": "text/x-r-source",
   "name": "R",
   "pygments_lexer": "r",
   "version": "4.0.2"
  }
 },
 "nbformat": 4,
 "nbformat_minor": 5
}
