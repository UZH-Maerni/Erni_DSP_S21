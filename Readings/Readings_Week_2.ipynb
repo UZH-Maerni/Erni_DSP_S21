{
 "cells": [
  {
   "cell_type": "markdown",
   "metadata": {},
   "source": [
    "**Readings Week 2**\n",
    "\n",
    "<span class=\"underline\">Goodman</span>\n",
    "\n",
    "-   Given the almost overwhelming task of reporting all relevant aspects\n",
    "    of scientific research to guarantee reproducibility, how can\n",
    "    researchers be motivated to publish all this information? Besides\n",
    "    personal gains, what could their employers gain?\n",
    "\n",
    "<span class=\"underline\">Sandve</span>\n",
    "\n",
    "-   In what way could researchers show that they actually tried to make\n",
    "    their study as reproducible as possible? Should those that refuse to\n",
    "    follow the rules of reproducibility or lie about the correct usage\n",
    "    be punished?"
   ]
  }
 ],
 "nbformat": 4,
 "nbformat_minor": 5,
 "metadata": {}
}
